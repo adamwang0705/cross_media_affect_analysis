{
 "cells": [
  {
   "cell_type": "markdown",
   "metadata": {
    "run_control": {
     "frozen": false,
     "read_only": false
    }
   },
   "source": [
    "# Check basic statistics of manually selected topics\n",
    "**Objective**: make sure manually selected topics have high quality.  \n",
    " - Characteristic keywords: easy to regonize associated news.\n",
    " - Amout of disscussion: reasonable size of associated news and tweets\n",
    " - Evolution of event: reasonable time-span of associated news.\n",
    " - Consistent in meaning: no drift/disperse in content."
   ]
  },
  {
   "cell_type": "markdown",
   "metadata": {
    "run_control": {
     "frozen": false,
     "read_only": false
    }
   },
   "source": [
    "# Roadmap\n",
    "1. Manually compile a list of topics with keywords\n",
    "2. Check number of associated news and tweets for each topic\n",
    "3. Check time-span of each topic\n",
    "4. Check news titles of each topic"
   ]
  },
  {
   "cell_type": "markdown",
   "metadata": {
    "run_control": {
     "frozen": false,
     "read_only": false
    }
   },
   "source": [
    "# Steps"
   ]
  },
  {
   "cell_type": "code",
   "execution_count": 1,
   "metadata": {
    "collapsed": true,
    "run_control": {
     "frozen": false,
     "read_only": false
    }
   },
   "outputs": [],
   "source": [
    "\"\"\"\n",
    "Initialization\n",
    "\"\"\"\n",
    "\n",
    "'''\n",
    "Standard modules\n",
    "'''\n",
    "import os\n",
    "import pickle\n",
    "from pprint import pprint\n",
    "\n",
    "'''\n",
    "Analysis modules\n",
    "'''\n",
    "import pandas as pd\n",
    "\n",
    "\n",
    "'''\n",
    "Custom modules\n",
    "'''\n",
    "import config\n",
    "import utilities\n",
    "\n",
    "'''\n",
    "Misc\n",
    "'''\n",
    "nb_name = '20171011-check_topics_basic_statistics'"
   ]
  },
  {
   "cell_type": "markdown",
   "metadata": {
    "run_control": {
     "frozen": false,
     "read_only": false
    }
   },
   "source": [
    "## Manually compile a list of topics with keywords\n",
    "Topics information (category, name, keywords_lst) are summarized into config.MANUALLY_SELECTED_TOPICS_LST"
   ]
  },
  {
   "cell_type": "code",
   "execution_count": 2,
   "metadata": {
    "run_control": {
     "frozen": false,
     "read_only": false
    }
   },
   "outputs": [
    {
     "name": "stdout",
     "output_type": "stream",
     "text": [
      "{'category': 'politics', 'name': 'Hillary_Clinton_email_controversy', 'keywords_lst': [('email', 'e-mail'), ('Hillary', 'Clinton')]}\n",
      "{'category': 'politics', 'name': 'Iran_nuclear_deal', 'keywords_lst': ['Iran', 'nuclear']}\n",
      "{'category': 'politics', 'name': 'Jihadi_John_identity_reveled', 'keywords_lst': ['Jihadi John']}\n",
      "{'category': 'social', 'name': 'Ferguson_unrest', 'keywords_lst': ['Ferguson']}\n",
      "{'category': 'social', 'name': 'Hong_Kong_protests', 'keywords_lst': ['Hong Kong']}\n",
      "{'category': 'social', 'name': 'Sony_cyberattack', 'keywords_lst': ['Sony']}\n",
      "{'category': 'social', 'name': 'Bill_Cosby_sexual_assault_allegations ', 'keywords_lst': ['Bill Cosby']}\n",
      "{'category': 'social', 'name': 'SpaceX_fails_rocket_landing', 'keywords_lst': ['SpaceX']}\n",
      "{'category': 'social', 'name': 'Brian_Williams_fake_war_story  ', 'keywords_lst': ['Brian Williams']}\n",
      "{'category': 'entertainment', 'name': 'Oscar', 'keywords_lst': ['Oscar']}\n",
      "{'category': 'entertainment', 'name': 'Super_Bowl', 'keywords_lst': ['Super Bowl']}\n",
      "{'category': 'entertainment', 'name': 'Grammy', 'keywords_lst': ['Grammy']}\n",
      "{'category': 'entertainment', 'name': 'Golden_Globe', 'keywords_lst': ['Golden Globe']}\n",
      "{'category': 'entertainment', 'name': '500_million_Powerball', 'keywords_lst': ['Powerball']}\n",
      "{'category': 'disaster', 'name': 'Ebola_virus', 'keywords_lst': ['Ebola']}\n",
      "{'category': 'disaster', 'name': 'Indonesia_AirAsia_Flight_QZ8501', 'keywords_lst': [('AirAsia', '8501')]}\n",
      "{'category': 'disaster', 'name': 'Paris_attacks', 'keywords_lst': ['Paris']}\n",
      "{'category': 'disaster', 'name': 'Vanuatu_Cyclone_Pam', 'keywords_lst': ['Vanuatu', 'Cyclone']}\n",
      "{'category': 'disaster', 'name': 'Malaysia_Airlines_Flight_MH370', 'keywords_lst': ['370']}\n",
      "{'category': 'holiday', 'name': 'Thanksgiving', 'keywords_lst': ['Thanksgiving']}\n",
      "{'category': 'holiday', 'name': 'Black_Friday_and_Cyber_Monday', 'keywords_lst': [('Black Friday', 'Cyber Monday')]}\n",
      "{'category': 'holiday', 'name': 'Christmas', 'keywords_lst': ['Christmas']}\n",
      "{'category': 'holiday', 'name': 'New_Year', 'keywords_lst': ['New Year']}\n"
     ]
    }
   ],
   "source": [
    "\"\"\"\n",
    "Print out manually selected topics information\n",
    "\"\"\"\n",
    "for topic in config.MANUALLY_SELECTED_TOPICS_LST:\n",
    "    print(topic)"
   ]
  },
  {
   "cell_type": "markdown",
   "metadata": {
    "run_control": {
     "frozen": false,
     "read_only": false
    }
   },
   "source": [
    "## Check number of associated news and tweets for each topic"
   ]
  },
  {
   "cell_type": "markdown",
   "metadata": {
    "run_control": {
     "frozen": false,
     "read_only": false
    }
   },
   "source": [
    "### Build pickle for news and tweets native_id associated with each topic"
   ]
  },
  {
   "cell_type": "code",
   "execution_count": null,
   "metadata": {
    "run_control": {
     "frozen": false,
     "read_only": false
    }
   },
   "outputs": [],
   "source": [
    "%%time\n",
    "\"\"\"\n",
    "Register\n",
    "    TOPICS_LST_PKL = os.path.join(DATA_DIR, 'topics.lst.pkl')\n",
    "in config.\n",
    "\"\"\"\n",
    "if 1 == 1:\n",
    "    new_topics_lst = []\n",
    "    \n",
    "    for topic in config.MANUALLY_SELECTED_TOPICS_LST:\n",
    "        '''\n",
    "        Load in pickle for news data over selected period.\n",
    "        '''\n",
    "        news_period_df = pd.read_pickle(config.NEWS_PERIOD_DF_PKL)\n",
    "        \n",
    "        '''\n",
    "        Match out associated news titles.\n",
    "        '''\n",
    "        test_df = news_period_df\n",
    "        asso_news_native_id_lst = []\n",
    "        for ind, row in test_df.iterrows():\n",
    "            if utilities.news_title_match(row['news_title'], topic['keywords_lst'], verbose=False):\n",
    "                asso_news_native_id_lst.append(row['news_native_id'])\n",
    "        \n",
    "        topic['news_native_ids_lst'] = asso_news_native_id_lst\n",
    "        \n",
    "        '''\n",
    "        Query associated tweets\n",
    "        '''\n",
    "        asso_tweets_native_id_lst = []\n",
    "        # TODO\n",
    "        topic['tweets_native_ids_lst'] = asso_tweets_native_id_lst\n",
    "        \n",
    "        new_topics_lst.append(topic)\n",
    "    \n",
    "    '''\n",
    "    Make pickle\n",
    "    '''\n",
    "    with open(config.TOPICS_LST_PKL, 'wb') as f:\n",
    "        pickle.dump(new_topics_lst, f)"
   ]
  },
  {
   "cell_type": "code",
   "execution_count": null,
   "metadata": {
    "run_control": {
     "frozen": false,
     "read_only": false
    }
   },
   "outputs": [],
   "source": [
    "\"\"\"\n",
    "Test recover topics lst pkl\n",
    "\"\"\"\n",
    "if 1 == 1:\n",
    "    with open(config.TOPICS_LST_PKL, 'rb') as f:\n",
    "        topics_lst = pickle.load(f)\n",
    "    \n",
    "    for topic in topics_lst:\n",
    "        print('Topic_name: {}; news_num: {}; tweets_num: {}'.format(topic['name'], len(topic['news_native_ids_lst']), len(topic['tweets_native_ids_lst'])))"
   ]
  }
 ],
 "metadata": {
  "kernelspec": {
   "display_name": "Python 3",
   "language": "python",
   "name": "python3"
  },
  "language_info": {
   "codemirror_mode": {
    "name": "ipython",
    "version": 3
   },
   "file_extension": ".py",
   "mimetype": "text/x-python",
   "name": "python",
   "nbconvert_exporter": "python",
   "pygments_lexer": "ipython3",
   "version": "3.6.2"
  },
  "toc": {
   "colors": {
    "hover_highlight": "#DAA520",
    "running_highlight": "#FF0000",
    "selected_highlight": "#FFD700"
   },
   "moveMenuLeft": true,
   "nav_menu": {
    "height": "12px",
    "width": "252px"
   },
   "navigate_menu": true,
   "number_sections": true,
   "sideBar": true,
   "threshold": "3",
   "toc_cell": false,
   "toc_section_display": "block",
   "toc_window_display": false,
   "widenNotebook": true
  }
 },
 "nbformat": 4,
 "nbformat_minor": 2
}
