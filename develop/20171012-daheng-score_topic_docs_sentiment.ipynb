{
 "cells": [
  {
   "cell_type": "markdown",
   "metadata": {
    "run_control": {
     "frozen": false,
     "read_only": false
    }
   },
   "source": [
    "# Score sentiments of each topic on news and tweets side\n",
    "**Objective**: produce sentiment scores for each topic on news side and tweets side"
   ]
  },
  {
   "cell_type": "markdown",
   "metadata": {
    "run_control": {
     "frozen": false,
     "read_only": false
    }
   },
   "source": [
    "# Roadmap\n",
    "1. Build topic_news and topic_tweets docs."
   ]
  },
  {
   "cell_type": "markdown",
   "metadata": {
    "run_control": {
     "frozen": false,
     "read_only": false
    }
   },
   "source": [
    "# Steps"
   ]
  },
  {
   "cell_type": "code",
   "execution_count": 1,
   "metadata": {
    "collapsed": true,
    "run_control": {
     "frozen": false,
     "read_only": false
    }
   },
   "outputs": [],
   "source": [
    "\"\"\"\n",
    "Initialization\n",
    "\"\"\"\n",
    "\n",
    "'''\n",
    "Standard modules\n",
    "'''\n",
    "import os\n",
    "import pickle\n",
    "import sqlite3\n",
    "import time\n",
    "import codecs\n",
    "import csv\n",
    "from pprint import pprint\n",
    "\n",
    "'''\n",
    "Analysis modules\n",
    "'''\n",
    "import pandas as pd\n",
    "\n",
    "\n",
    "'''\n",
    "Custom modules\n",
    "'''\n",
    "import config\n",
    "import utilities\n",
    "\n",
    "'''\n",
    "Misc\n",
    "'''\n",
    "nb_name = '20171012-daheng-score_topic_docs_sentiment'"
   ]
  },
  {
   "cell_type": "markdown",
   "metadata": {
    "run_control": {
     "frozen": false,
     "read_only": false
    }
   },
   "source": [
    "## Build topic_news and topic_tweets docs"
   ]
  },
  {
   "cell_type": "code",
   "execution_count": 2,
   "metadata": {},
   "outputs": [
    {
     "name": "stdout",
     "output_type": "stream",
     "text": [
      "CPU times: user 2.89 s, sys: 1.04 s, total: 3.92 s\n",
      "Wall time: 3.92 s\n"
     ]
    }
   ],
   "source": [
    "%%time\n",
    "'''\n",
    "Load in topics information pkl\n",
    "'''\n",
    "if 1 == 1:\n",
    "    with open(config.TOPICS_LST_PKL, 'rb') as f:\n",
    "        topics_lst = pickle.load(f)"
   ]
  },
  {
   "cell_type": "code",
   "execution_count": 4,
   "metadata": {},
   "outputs": [
    {
     "name": "stdout",
     "output_type": "stream",
     "text": [
      "0 Topic_name: Hillary_Clinton_email_controversy; news_num: 228; tweets_num: 860564\n",
      "\tWriting topic_news doc ...\n",
      "CPU times: user 16 ms, sys: 0 ns, total: 16 ms\n",
      "Wall time: 18.7 ms\n"
     ]
    }
   ],
   "source": [
    "%%time\n",
    "\"\"\"\n",
    "For each topic, query db\n",
    " - write news_doc into topic_news doc\n",
    " - write tweet_text into topic_tweets doc\n",
    " \n",
    "All docs are placed inside config.TOPICS_DOCS_DIR\n",
    " - topic_news doc follows name convention: [topic_ind]-[topic_name].news.csv\n",
    " - topic_tweets doc follows name convention: [topic_ind]-[topic_name].tweets.csv\n",
    "\"\"\"\n",
    "\n",
    "if 1 == 1:\n",
    "    '''\n",
    "    Define topic_news and topic_tweets doc format\n",
    "    '''\n",
    "    csv.register_dialect('topics_docs_line', delimiter='\\t', doublequote=True, quoting=csv.QUOTE_ALL)\n",
    "    \n",
    "    for topic_ind, topic in enumerate(topics_lst[:1]):\n",
    "        topic_name = topic['name']\n",
    "        news_native_ids_lst = topic['news_native_ids_lst']\n",
    "        tweets_native_ids_lst = topic['tweets_native_ids_lst']\n",
    "        \n",
    "        print('{} Topic_name: {}; news_num: {}; tweets_num: {}'.format(topic_ind, topic_name, len(news_native_ids_lst), len(tweets_native_ids_lst)))\n",
    "        \n",
    "        with sqlite3.connect(config.NEWS_TWEETS_DB_FILE) as conn:\n",
    "            conn.row_factory = sqlite3.Row\n",
    "            cursor = conn.cursor()\n",
    "            \n",
    "            '''\n",
    "            Write topic_news doc\n",
    "            '''\n",
    "            query_news = '''\n",
    "            select news_title, news_collected_time, news_native_id, news_doc from news\n",
    "            where news_native_id = :news_native_id;'''\n",
    "            \n",
    "            output_file = os.path.join(config.TOPICS_DOCS_DIR, '{}-{}.news.csv'.format(topic_ind, topic_name))\n",
    "            with open(output_file, 'w') as f:\n",
    "                print('\\tWriting topic_news doc ...')\n",
    "                fieldnames = ('news_native_id', 'news_collected_time', 'news_title', 'news_doc')\n",
    "                writer = csv.DictWriter(f, fieldnames=fieldnames, dialect='topics_docs_line')\n",
    "                writer.writeheader()\n",
    "\n",
    "                for news_native_id in topic['news_native_ids_lst']:\n",
    "                    cursor.execute(query_news, {'news_native_id': news_native_id})\n",
    "                    for row in cursor.fetchall():\n",
    "                        writer.writerow({'news_native_id': row['news_native_id'],\n",
    "                                         'news_collected_time': row['news_collected_time'],\n",
    "                                         'news_title': row['news_title'],\n",
    "                                         'news_doc': row['news_doc']})\n",
    "                    \n",
    "            \n",
    "            '''\n",
    "            Write topic_tweets doc\n",
    "            '''\n",
    "            "
   ]
  },
  {
   "cell_type": "code",
   "execution_count": 23,
   "metadata": {},
   "outputs": [
    {
     "name": "stdout",
     "output_type": "stream",
     "text": [
      "Emails sent by Clinton from her personal account weren't archived in official government records. By Josh Gerstein. 3/2/15 11:04 PM EST. Thousands of emails Hillary Clinton generated as secretary of state were not archived as official government records ...\n"
     ]
    }
   ],
   "source": [
    "query_news = '''\n",
    "select news_title, news_collected_time, news_native_id, news_doc from news\n",
    "where news_native_id = :news_native_id;'''\n",
    "\n",
    "news_native_id = '30275'\n",
    "\n",
    "with sqlite3.connect(config.NEWS_TWEETS_DB_FILE) as conn:\n",
    "    conn.row_factory = sqlite3.Row\n",
    "    cursor = conn.cursor()\n",
    "    cursor.execute(query_news, {'news_native_id': news_native_id})\n",
    "    for row in cursor.fetchall():\n",
    "        print(row['news_doc'])"
   ]
  }
 ],
 "metadata": {
  "kernelspec": {
   "display_name": "Python 3",
   "language": "python",
   "name": "python3"
  },
  "language_info": {
   "codemirror_mode": {
    "name": "ipython",
    "version": 3
   },
   "file_extension": ".py",
   "mimetype": "text/x-python",
   "name": "python",
   "nbconvert_exporter": "python",
   "pygments_lexer": "ipython3",
   "version": "3.6.2"
  },
  "toc": {
   "colors": {
    "hover_highlight": "#DAA520",
    "running_highlight": "#FF0000",
    "selected_highlight": "#FFD700"
   },
   "moveMenuLeft": true,
   "nav_menu": {
    "height": "12px",
    "width": "252px"
   },
   "navigate_menu": true,
   "number_sections": true,
   "sideBar": true,
   "threshold": "3",
   "toc_cell": false,
   "toc_section_display": "block",
   "toc_window_display": false,
   "widenNotebook": true
  }
 },
 "nbformat": 4,
 "nbformat_minor": 2
}
