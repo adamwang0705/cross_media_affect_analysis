{
 "cells": [
  {
   "cell_type": "markdown",
   "metadata": {
    "run_control": {
     "frozen": false,
     "read_only": false
    }
   },
   "source": [
    "# Exploratory data analysis on happiness scores of topic_news and topic_tweets docs\n",
    "Last modified: 2017-10-22"
   ]
  },
  {
   "cell_type": "markdown",
   "metadata": {
    "run_control": {
     "frozen": false,
     "read_only": false
    }
   },
   "source": [
    "# Roadmap\n",
    "1. Check happiness scores of topic_news and topic_tweets docs\n",
    "2. Check word coverage of shed words on topic_news and topic_tweets docs\n",
    "3. Check any special topic"
   ]
  },
  {
   "cell_type": "markdown",
   "metadata": {
    "run_control": {
     "frozen": false,
     "read_only": false
    }
   },
   "source": [
    "# Steps"
   ]
  },
  {
   "cell_type": "code",
   "execution_count": 1,
   "metadata": {
    "collapsed": true,
    "run_control": {
     "frozen": false,
     "read_only": false
    }
   },
   "outputs": [],
   "source": [
    "\"\"\"\n",
    "Initialization\n",
    "\"\"\"\n",
    "\n",
    "'''\n",
    "Standard modules\n",
    "'''\n",
    "import os\n",
    "import pickle\n",
    "import csv\n",
    "import time\n",
    "from pprint import pprint\n",
    "\n",
    "'''\n",
    "Analysis modules\n",
    "'''\n",
    "import pandas as pd\n",
    "\n",
    "\n",
    "'''\n",
    "Custom modules\n",
    "'''\n",
    "import config\n",
    "import utilities\n",
    "\n",
    "'''\n",
    "Misc\n",
    "'''\n",
    "nb_name = '20171021-daheng-eda_topic_news_tweets_happiness'"
   ]
  },
  {
   "cell_type": "markdown",
   "metadata": {
    "run_control": {
     "frozen": false,
     "read_only": false
    }
   },
   "source": [
    "## Check happiness scores of topic_news and topic_tweets docs"
   ]
  },
  {
   "cell_type": "markdown",
   "metadata": {
    "run_control": {
     "frozen": false,
     "read_only": false
    }
   },
   "source": [
    "### Avg. happiness scores"
   ]
  },
  {
   "cell_type": "code",
   "execution_count": 2,
   "metadata": {
    "run_control": {
     "frozen": true,
     "read_only": true
    },
    "scrolled": true
   },
   "outputs": [
    {
     "name": "stdout",
     "output_type": "stream",
     "text": [
      "(1/51) processing topic: Hillary_Clinton_email_controversy ... Sun Oct 22 22:10:50 2017\n",
      "(2/51) processing topic: Iran_nuclear_deal ... Sun Oct 22 22:11:09 2017\n",
      "(3/51) processing topic: ISIS_Jihadi_John_identity_reveal ... Sun Oct 22 22:12:01 2017\n",
      "(4/51) processing topic: Ukraine_cease_fire ... Sun Oct 22 22:12:15 2017\n",
      "(5/51) processing topic: Egypt_free_Al_Jazeera_journalist ... Sun Oct 22 22:12:28 2017\n",
      "(6/51) processing topic: Keystone_XL_Pipeline_bill ... Sun Oct 22 22:12:31 2017\n",
      "(7/51) processing topic: CIA_Torture_Report ... Sun Oct 22 22:12:33 2017\n",
      "(8/51) processing topic: Obama_cybersecurity_plan ... Sun Oct 22 22:12:37 2017\n",
      "(9/51) processing topic: DHS_funding_issue ... Sun Oct 22 22:12:47 2017\n",
      "(10/51) processing topic: US_Cuba_relationship ... Sun Oct 22 22:12:49 2017\n",
      "(11/51) processing topic: 2015_CPAC ... Sun Oct 22 22:13:15 2017\n",
      "(12/51) processing topic: Iraq_free_ISIS_Tikrit ... Sun Oct 22 22:13:21 2017\n",
      "(13/51) processing topic: Nigeria_Boko_Haram_terrorists ... Sun Oct 22 22:13:33 2017\n",
      "(14/51) processing topic: Ferguson_unrest ... Sun Oct 22 22:13:53 2017\n",
      "(15/51) processing topic: Hong_Kong_protest ... Sun Oct 22 22:15:07 2017\n",
      "(16/51) processing topic: Sony_cyberattack ... Sun Oct 22 22:15:20 2017\n",
      "(17/51) processing topic: Bill_Cosby_sexual_assault_allegation ... Sun Oct 22 22:16:02 2017\n",
      "(18/51) processing topic: SpaceX_rocket_landing ... Sun Oct 22 22:16:16 2017\n",
      "(19/51) processing topic: Brian_Williams_fake_story ... Sun Oct 22 22:16:24 2017\n",
      "(20/51) processing topic: HSBC_tax_scandal ... Sun Oct 22 22:16:34 2017\n",
      "(21/51) processing topic: David_Carr_death ... Sun Oct 22 22:16:36 2017\n",
      "(22/51) processing topic: Patriots_Deflategate ... Sun Oct 22 22:16:39 2017\n",
      "(23/51) processing topic: Delhi_Uber_driver_rape ... Sun Oct 22 22:16:45 2017\n",
      "(24/51) processing topic: Superbug_spread ... Sun Oct 22 22:16:53 2017\n",
      "(25/51) processing topic: Rudy_Giuliani_Obama_critique ... Sun Oct 22 22:16:59 2017\n",
      "(26/51) processing topic: Oscar ... Sun Oct 22 22:17:05 2017\n",
      "(27/51) processing topic: Super_Bowl ... Sun Oct 22 22:17:46 2017\n",
      "(28/51) processing topic: Grammy ... Sun Oct 22 22:18:22 2017\n",
      "(29/51) processing topic: Golden_Globe ... Sun Oct 22 22:18:36 2017\n",
      "(30/51) processing topic: 500_million_Powerball ... Sun Oct 22 22:18:54 2017\n",
      "(31/51) processing topic: Thanksgiving ... Sun Oct 22 22:19:06 2017\n",
      "(32/51) processing topic: Black_Friday_and_Cyber_Monday ... Sun Oct 22 22:19:50 2017\n",
      "(33/51) processing topic: Christmas ... Sun Oct 22 22:20:24 2017\n",
      "(34/51) processing topic: New_Year ... Sun Oct 22 22:21:25 2017\n",
      "(35/51) processing topic: Apple_Watch ... Sun Oct 22 22:21:49 2017\n",
      "(36/51) processing topic: Yosemite_historic_climb ... Sun Oct 22 22:22:03 2017\n",
      "(37/51) processing topic: Jon_Stewart_Daily_Show ... Sun Oct 22 22:22:05 2017\n",
      "(38/51) processing topic: success_of_American_Sniper ... Sun Oct 22 22:22:10 2017\n",
      "(39/51) processing topic: Ebola_virus_spread ... Sun Oct 22 22:22:27 2017\n",
      "(40/51) processing topic: Indonesia_AirAsia_Flight_QZ8501_crash ... Sun Oct 22 22:22:46 2017\n",
      "(41/51) processing topic: Paris_attacks ... Sun Oct 22 22:23:12 2017\n",
      "(42/51) processing topic: Vanuatu_Cyclone_Pam ... Sun Oct 22 22:23:41 2017\n",
      "(43/51) processing topic: Malaysia_Airlines_Flight_MH370_crash ... Sun Oct 22 22:23:49 2017\n",
      "(44/51) processing topic: Colorado_NAACP_bombing ... Sun Oct 22 22:24:01 2017\n",
      "(45/51) processing topic: FSU_shooting ... Sun Oct 22 22:24:08 2017\n",
      "(46/51) processing topic: Chapel_Hill_shooting ... Sun Oct 22 22:24:12 2017\n",
      "(47/51) processing topic: Bobbi_Kristina_Brown_death ... Sun Oct 22 22:24:14 2017\n",
      "(48/51) processing topic: Taliban_Pakistan_school_massacre ... Sun Oct 22 22:24:17 2017\n",
      "(49/51) processing topic: American_ISIS_Hostage_Kayla_Mueller ... Sun Oct 22 22:24:23 2017\n",
      "(50/51) processing topic: TransAsia_Airways_Flight_GE235_crash ... Sun Oct 22 22:24:25 2017\n",
      "(51/51) processing topic: Germanwings_Flight_9525_crash ... Sun Oct 22 22:24:30 2017\n",
      "Done\n",
      "CPU times: user 13min 10s, sys: 31.8 s, total: 13min 42s\n",
      "Wall time: 13min 46s\n"
     ]
    }
   ],
   "source": [
    "%%time\n",
    "\"\"\"\n",
    "Compute h_avg scores for each topic_news and topic_tweets doc\n",
    "\"\"\"\n",
    "\n",
    "topics_h_avg_csv_file = os.path.join(config.FIG_DIR, 'topics_h_avg.csv')\n",
    "\n",
    "if 0 == 1:\n",
    "    topics_h_avg_lst = []\n",
    "    \n",
    "    '''\n",
    "    Recover pkl info\n",
    "    '''\n",
    "    with open(config.TOPICS_NEWS_SHED_WORDS_FREQ_DICT_PKL, 'rb') as f:\n",
    "        topics_news_shed_words_freq_dict = pickle.load(f)\n",
    "    \n",
    "    with open(config.IND_HAPPS_DICT_PKL, 'rb') as f:\n",
    "        ind_happs_dict = pickle.load(f)\n",
    "    \n",
    "    for topic_ind, topic in enumerate(config.MANUALLY_SELECTED_TOPICS_LST):\n",
    "        topic_dict = {'topic_ind': topic_ind, 'topic_name': topic['name']}\n",
    "        localtime = time.asctime(time.localtime(time.time()))\n",
    "        print('({}/{}) processing topic: {} ... {}'.format(topic_ind+1,\n",
    "                                                           len(config.MANUALLY_SELECTED_TOPICS_LST),\n",
    "                                                           topic['name'],\n",
    "                                                           localtime))\n",
    "        \n",
    "        '''\n",
    "        Compute h_avg score for topic_news doc\n",
    "        '''\n",
    "        topic_news_shed_words_freq_dict = topics_news_shed_words_freq_dict[topic_ind]\n",
    "        \n",
    "        topic_dict['news_num'] = len(topic_news_shed_words_freq_dict.keys())\n",
    "        \n",
    "        topic_news_merged_freq_dict = utilities.merge_shed_words_freq_dicts(topic_news_shed_words_freq_dict.values())\n",
    "        topic_news_h_avg = utilities.compute_h_score(topic_news_merged_freq_dict, ind_happs_dict)\n",
    "        \n",
    "        topic_dict['news_h_avg'] = topic_news_h_avg\n",
    "        \n",
    "        '''\n",
    "        Compute h_avg score for topic_tweets doc\n",
    "        '''\n",
    "        topic_tweets_shed_words_freq_dict_pkl_file = os.path.join(config.TOPICS_TWEETS_SHED_WORDS_FREQ_DICT_PKLS_DIR, '{}.dict.pkl'.format(topic_ind))\n",
    "        with open(topic_tweets_shed_words_freq_dict_pkl_file, 'rb') as f:\n",
    "            topic_tweets_shed_words_freq_dict = pickle.load(f)\n",
    "        \n",
    "        topic_dict['tweets_num'] = len(topic_tweets_shed_words_freq_dict.keys())\n",
    "        \n",
    "        topic_tweets_merged_freq_dict = utilities.merge_shed_words_freq_dicts(topic_tweets_shed_words_freq_dict.values())\n",
    "        topic_tweets_h_avg = utilities.compute_h_score(topic_tweets_merged_freq_dict, ind_happs_dict)\n",
    "        \n",
    "        topic_dict['tweets_h_avg'] = topic_tweets_h_avg\n",
    "        \n",
    "        topics_h_avg_lst.append(topic_dict)\n",
    "    \n",
    "    topics_h_avg_df = pd.DataFrame(topics_h_avg_lst)\n",
    "    topics_h_avg_df.to_csv(path_or_buf=topics_h_avg_csv_file,\n",
    "                           columns=['topic_ind', 'topic_name', 'news_num', 'news_h_avg', 'tweets_num', 'tweets_h_avg'],\n",
    "                           sep='\\t',\n",
    "                           quoting=csv.QUOTE_MINIMAL,\n",
    "                           header=True,\n",
    "                           index=False)\n",
    "    print('Done')"
   ]
  }
 ],
 "metadata": {
  "kernelspec": {
   "display_name": "Python 3",
   "language": "python",
   "name": "python3"
  },
  "language_info": {
   "codemirror_mode": {
    "name": "ipython",
    "version": 3
   },
   "file_extension": ".py",
   "mimetype": "text/x-python",
   "name": "python",
   "nbconvert_exporter": "python",
   "pygments_lexer": "ipython3",
   "version": "3.6.2"
  },
  "toc": {
   "colors": {
    "hover_highlight": "#DAA520",
    "running_highlight": "#FF0000",
    "selected_highlight": "#FFD700"
   },
   "moveMenuLeft": true,
   "nav_menu": {
    "height": "12px",
    "width": "252px"
   },
   "navigate_menu": true,
   "number_sections": true,
   "sideBar": true,
   "threshold": "3",
   "toc_cell": false,
   "toc_section_display": "block",
   "toc_window_display": false,
   "widenNotebook": true
  }
 },
 "nbformat": 4,
 "nbformat_minor": 2
}
