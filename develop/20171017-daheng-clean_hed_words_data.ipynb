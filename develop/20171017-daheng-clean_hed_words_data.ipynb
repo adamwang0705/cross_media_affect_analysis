{
 "cells": [
  {
   "cell_type": "markdown",
   "metadata": {
    "run_control": {
     "frozen": false,
     "read_only": false
    }
   },
   "source": [
    "# Clean Hedonometer happiness words data\n",
    "\n",
    "Last modified: 2017-10-22"
   ]
  },
  {
   "cell_type": "markdown",
   "metadata": {
    "run_control": {
     "frozen": false,
     "read_only": false
    }
   },
   "source": [
    "# Roadmap\n",
    "\n",
    "1. Download Hedonometer happiness words and upload into config.HED_DATA_DIR\n",
    "2. Readin raw JSON file and parse to standard df\n",
    "3. Filter out words (with delta of happs_avg less than 1)"
   ]
  },
  {
   "cell_type": "markdown",
   "metadata": {
    "run_control": {
     "frozen": false,
     "read_only": false
    }
   },
   "source": [
    "# Steps"
   ]
  },
  {
   "cell_type": "code",
   "execution_count": 1,
   "metadata": {
    "collapsed": true,
    "run_control": {
     "frozen": false,
     "read_only": false
    }
   },
   "outputs": [],
   "source": [
    "\"\"\"\n",
    "Initialization\n",
    "\"\"\"\n",
    "\n",
    "'''\n",
    "Standard modules\n",
    "'''\n",
    "import os\n",
    "import pickle\n",
    "import json\n",
    "import csv\n",
    "from pprint import pprint\n",
    "\n",
    "'''\n",
    "Analysis modules\n",
    "'''\n",
    "import pandas as pd\n",
    "\n",
    "\n",
    "'''\n",
    "Custom modules\n",
    "'''\n",
    "import config\n",
    "import utilities\n",
    "\n",
    "'''\n",
    "Misc\n",
    "'''\n",
    "nb_name = '20171017-daheng-clean_hed_words_data'"
   ]
  },
  {
   "cell_type": "markdown",
   "metadata": {
    "run_control": {
     "frozen": false,
     "read_only": false
    }
   },
   "source": [
    "## Download Hedonometer happiness words and upload into config.HED_DATA_DIR"
   ]
  },
  {
   "cell_type": "markdown",
   "metadata": {
    "run_control": {
     "frozen": false,
     "read_only": false
    }
   },
   "source": [
    " - Project home page: http://hedonometer.org/index.html  \n",
    " - Visualized words table: http://hedonometer.org/words.html  \n",
    " - Download link: http://hedonometer.org/api/v1/timeseries/?format=json"
   ]
  },
  {
   "cell_type": "markdown",
   "metadata": {
    "run_control": {
     "frozen": false,
     "read_only": false
    }
   },
   "source": [
    "## Readin raw JSON file and parse to standard df"
   ]
  },
  {
   "cell_type": "code",
   "execution_count": 2,
   "metadata": {
    "collapsed": true,
    "run_control": {
     "frozen": true,
     "read_only": true
    }
   },
   "outputs": [],
   "source": [
    "\"\"\"\n",
    "Register\n",
    "    HED_WORDS_DF_PKL = os.path.join(DATA_DIR, 'hed_words.df.pkl')\n",
    "in config\n",
    "\"\"\"\n",
    "if 0 == 1:\n",
    "    with open(config.HED_WORDS_JSON_FILE, 'r') as f:\n",
    "        hed_words_json = json.load(f)\n",
    "    \n",
    "    # words are complied as list of dict inside 'objects' field\n",
    "    hed_words_df = pd.DataFrame(hed_words_json['objects'])\n",
    "    \n",
    "    hed_words_df = hed_words_df[['rank', 'word', 'text', 'happs', 'stdDev']]\n",
    "    \n",
    "    hed_words_df.to_pickle(config.HED_WORDS_DF_PKL)"
   ]
  },
  {
   "cell_type": "code",
   "execution_count": 5,
   "metadata": {
    "run_control": {
     "frozen": false,
     "read_only": false
    },
    "scrolled": true
   },
   "outputs": [
    {
     "name": "stdout",
     "output_type": "stream",
     "text": [
      "        rank             word             text  happs  stdDev\n",
      "0          1         laughter         laughter   8.50  0.9313\n",
      "1          2        happiness        happiness   8.44  0.9723\n",
      "2          3             love             love   8.42  1.1082\n",
      "3          4            happy            happy   8.30  0.9949\n",
      "4          5          laughed          laughed   8.26  1.1572\n",
      "5          6            laugh            laugh   8.22  1.3746\n",
      "6          7         laughing         laughing   8.20  1.1066\n",
      "7          8        excellent        excellent   8.18  1.1008\n",
      "8          9           laughs           laughs   8.18  1.1551\n",
      "9         10              joy              joy   8.16  1.0568\n",
      "10        11       successful       successful   8.16  1.0759\n",
      "11        12              win              win   8.12  1.0812\n",
      "12        13          rainbow          rainbow   8.10  0.9949\n",
      "13        14            smile            smile   8.10  1.0152\n",
      "14        15              won              won   8.10  1.2164\n",
      "15        16         pleasure         pleasure   8.08  0.9655\n",
      "16        17           smiled           smiled   8.08  1.0660\n",
      "17        18         rainbows         rainbows   8.06  1.3603\n",
      "18        19          winning          winning   8.04  1.0490\n",
      "19        20      celebration      celebration   8.02  1.5318\n",
      "20        21          enjoyed          enjoyed   8.02  1.5318\n",
      "21        22          healthy          healthy   8.02  1.0593\n",
      "22        23            music            music   8.02  1.1156\n",
      "23        24      celebrating      celebrating   8.00  1.1429\n",
      "24        25  congratulations  congratulations   8.00  1.6288\n",
      "25        26          weekend          weekend   8.00  1.2936\n",
      "26        27        celebrate        celebrate   7.98  1.1516\n",
      "27        28           comedy           comedy   7.98  1.1516\n",
      "28        29            jokes            jokes   7.98  0.9792\n",
      "29        30             rich             rich   7.98  1.3169\n",
      "...      ...              ...              ...    ...     ...\n",
      "10192  10193         violence         violence   1.86  1.0500\n",
      "10193  10194            cruel            cruel   1.84  1.1493\n",
      "10194  10195              cry              cry   1.84  1.2835\n",
      "10195  10196           failed           failed   1.84  0.9971\n",
      "10196  10197         sickness         sickness   1.84  1.1843\n",
      "10197  10198           abused           abused   1.83  1.3101\n",
      "10198  10199         tortured         tortured   1.82  1.4241\n",
      "10199  10200            fatal            fatal   1.80  1.5253\n",
      "10200  10201         killings         killings   1.80  1.5386\n",
      "10201  10202         murdered         murdered   1.80  1.6288\n",
      "10202  10203              war              war   1.80  1.4142\n",
      "10203  10204            kills            kills   1.78  1.2337\n",
      "10204  10205             jail             jail   1.76  1.0214\n",
      "10205  10206           terror           terror   1.76  1.0012\n",
      "10206  10207              die              die   1.74  1.1920\n",
      "10207  10208          killing          killing   1.70  1.3590\n",
      "10208  10209         arrested         arrested   1.64  1.0053\n",
      "10209  10210           deaths           deaths   1.64  1.1386\n",
      "10210  10211            raped            raped   1.64  1.4251\n",
      "10211  10212          torture          torture   1.58  1.0515\n",
      "10212  10213             died             died   1.56  1.1980\n",
      "10213  10214             kill             kill   1.56  1.0529\n",
      "10214  10215           killed           killed   1.56  1.2316\n",
      "10215  10216           cancer           cancer   1.54  1.0730\n",
      "10216  10217            death            death   1.54  1.2811\n",
      "10217  10218           murder           murder   1.48  1.0150\n",
      "10218  10219        terrorism        terrorism   1.48  0.9089\n",
      "10219  10220             rape             rape   1.44  0.7866\n",
      "10220  10221          suicide          suicide   1.30  0.8391\n",
      "10221  10222        terrorist        terrorist   1.30  0.9091\n",
      "\n",
      "[10222 rows x 5 columns]\n"
     ]
    }
   ],
   "source": [
    "\"\"\"\n",
    "Test recover df pkl and check basic statistics\n",
    "\"\"\"\n",
    "if 0 == 1:\n",
    "    hed_words_df = pd.read_pickle(config.HED_WORDS_DF_PKL)\n",
    "    \n",
    "    print(hed_words_df)"
   ]
  },
  {
   "cell_type": "code",
   "execution_count": 7,
   "metadata": {
    "run_control": {
     "frozen": false,
     "read_only": false
    }
   },
   "outputs": [
    {
     "name": "stdout",
     "output_type": "stream",
     "text": [
      "              rank         happs        stdDev\n",
      "count  10222.00000  10222.000000  10222.000000\n",
      "mean    5111.50000      5.375240      1.380979\n",
      "std     2950.98156      1.084905      0.294834\n",
      "min        1.00000      1.300000      0.395900\n",
      "25%     2556.25000      4.900000      1.178700\n",
      "50%     5111.50000      5.440000      1.361400\n",
      "75%     7666.75000      6.020000      1.562400\n",
      "max    10222.00000      8.500000      2.926000\n"
     ]
    }
   ],
   "source": [
    "if 0 == 1:\n",
    "    print(hed_words_df.describe())"
   ]
  },
  {
   "cell_type": "markdown",
   "metadata": {
    "run_control": {
     "frozen": false,
     "read_only": false
    }
   },
   "source": [
    "## Filter out words (with delta of happs_avg less than 1)"
   ]
  },
  {
   "cell_type": "code",
   "execution_count": 8,
   "metadata": {
    "collapsed": true,
    "run_control": {
     "frozen": true,
     "read_only": true
    }
   },
   "outputs": [],
   "source": [
    "\"\"\"\n",
    "Follow the recommendation by original author, filter out only words with happs inside [1, 4] and [6, 9]\n",
    "\n",
    "Ref:\n",
    " - 'Here, we exclude words whose average happiness h_avg lies within del_h_avg of the neutral score of 5, i.e. 5-del_h_avg<h_avg<5+del_h_avg.'\n",
    " - 'For del_h_avg=1, 3,686 unique words of the original 10,222 remain.'\n",
    "\n",
    "NOTE:\n",
    "    The number of selected words is slightly different from reported in the paper.\n",
    "    We get 3731 words instead of 3,686 words.\n",
    "\"\"\"\n",
    "if 0 == 1:\n",
    "    hed_words_df = pd.read_pickle(config.HED_WORDS_DF_PKL)\n",
    "    \n",
    "    select_cond = (hed_words_df['happs'] <= 4) | (hed_words_df['happs'] >= 6)\n",
    "    \n",
    "    selected_hed_words_df = hed_words_df[select_cond]\n",
    "    \n",
    "    # reset index for selected words\n",
    "    selected_hed_words_df = selected_hed_words_df.reset_index(drop=True)\n",
    "    \n",
    "    selected_hed_words_df.to_pickle(config.SHED_WORDS_DF_PKL)"
   ]
  },
  {
   "cell_type": "code",
   "execution_count": 2,
   "metadata": {
    "run_control": {
     "frozen": false,
     "read_only": false
    },
    "scrolled": true
   },
   "outputs": [
    {
     "name": "stdout",
     "output_type": "stream",
     "text": [
      "       rank             word             text  happs  stdDev\n",
      "0         1         laughter         laughter   8.50  0.9313\n",
      "1         2        happiness        happiness   8.44  0.9723\n",
      "2         3             love             love   8.42  1.1082\n",
      "3         4            happy            happy   8.30  0.9949\n",
      "4         5          laughed          laughed   8.26  1.1572\n",
      "5         6            laugh            laugh   8.22  1.3746\n",
      "6         7         laughing         laughing   8.20  1.1066\n",
      "7         8        excellent        excellent   8.18  1.1008\n",
      "8         9           laughs           laughs   8.18  1.1551\n",
      "9        10              joy              joy   8.16  1.0568\n",
      "10       11       successful       successful   8.16  1.0759\n",
      "11       12              win              win   8.12  1.0812\n",
      "12       13          rainbow          rainbow   8.10  0.9949\n",
      "13       14            smile            smile   8.10  1.0152\n",
      "14       15              won              won   8.10  1.2164\n",
      "15       16         pleasure         pleasure   8.08  0.9655\n",
      "16       17           smiled           smiled   8.08  1.0660\n",
      "17       18         rainbows         rainbows   8.06  1.3603\n",
      "18       19          winning          winning   8.04  1.0490\n",
      "19       20      celebration      celebration   8.02  1.5318\n",
      "20       21          enjoyed          enjoyed   8.02  1.5318\n",
      "21       22          healthy          healthy   8.02  1.0593\n",
      "22       23            music            music   8.02  1.1156\n",
      "23       24      celebrating      celebrating   8.00  1.1429\n",
      "24       25  congratulations  congratulations   8.00  1.6288\n",
      "25       26          weekend          weekend   8.00  1.2936\n",
      "26       27        celebrate        celebrate   7.98  1.1516\n",
      "27       28           comedy           comedy   7.98  1.1516\n",
      "28       29            jokes            jokes   7.98  0.9792\n",
      "29       30             rich             rich   7.98  1.3169\n",
      "...     ...              ...              ...    ...     ...\n",
      "3701  10193         violence         violence   1.86  1.0500\n",
      "3702  10194            cruel            cruel   1.84  1.1493\n",
      "3703  10195              cry              cry   1.84  1.2835\n",
      "3704  10196           failed           failed   1.84  0.9971\n",
      "3705  10197         sickness         sickness   1.84  1.1843\n",
      "3706  10198           abused           abused   1.83  1.3101\n",
      "3707  10199         tortured         tortured   1.82  1.4241\n",
      "3708  10200            fatal            fatal   1.80  1.5253\n",
      "3709  10201         killings         killings   1.80  1.5386\n",
      "3710  10202         murdered         murdered   1.80  1.6288\n",
      "3711  10203              war              war   1.80  1.4142\n",
      "3712  10204            kills            kills   1.78  1.2337\n",
      "3713  10205             jail             jail   1.76  1.0214\n",
      "3714  10206           terror           terror   1.76  1.0012\n",
      "3715  10207              die              die   1.74  1.1920\n",
      "3716  10208          killing          killing   1.70  1.3590\n",
      "3717  10209         arrested         arrested   1.64  1.0053\n",
      "3718  10210           deaths           deaths   1.64  1.1386\n",
      "3719  10211            raped            raped   1.64  1.4251\n",
      "3720  10212          torture          torture   1.58  1.0515\n",
      "3721  10213             died             died   1.56  1.1980\n",
      "3722  10214             kill             kill   1.56  1.0529\n",
      "3723  10215           killed           killed   1.56  1.2316\n",
      "3724  10216           cancer           cancer   1.54  1.0730\n",
      "3725  10217            death            death   1.54  1.2811\n",
      "3726  10218           murder           murder   1.48  1.0150\n",
      "3727  10219        terrorism        terrorism   1.48  0.9089\n",
      "3728  10220             rape             rape   1.44  0.7866\n",
      "3729  10221          suicide          suicide   1.30  0.8391\n",
      "3730  10222        terrorist        terrorist   1.30  0.9091\n",
      "\n",
      "[3731 rows x 5 columns]\n"
     ]
    }
   ],
   "source": [
    "if 1 == 1:\n",
    "    shed_words_df = pd.read_pickle(config.SHED_WORDS_DF_PKL)\n",
    "    print(shed_words_df)"
   ]
  },
  {
   "cell_type": "markdown",
   "metadata": {
    "run_control": {
     "frozen": false,
     "read_only": false
    }
   },
   "source": [
    "### Make word-index and index-word mapping dict pickle"
   ]
  },
  {
   "cell_type": "code",
   "execution_count": 4,
   "metadata": {
    "collapsed": true,
    "run_control": {
     "frozen": true,
     "read_only": true
    }
   },
   "outputs": [],
   "source": [
    "\"\"\"\n",
    "Register\n",
    "    SHED_WORD_IND_DICT_PKL = (DATA_DIR, 'shed_word-ind.dict.pkl')\n",
    "    IND_SHED_WORD_DICT_PKL = (DATA_DIR, 'ind-shed_word.dict.pkl')\n",
    "in config\n",
    "\"\"\"\n",
    "if 0 == 1:\n",
    "    '''\n",
    "    Make pkl for word to index mapping\n",
    "    '''\n",
    "    ind_shed_word_dict = shed_words_df['word'].to_dict()\n",
    "    \n",
    "    '''\n",
    "    Make pkl for index to word mapping\n",
    "    '''\n",
    "    shed_word_ind_dict = {shed_word: ind for ind, shed_word in ind_shed_word_dict.items()}\n",
    "    \n",
    "    with open(config.IND_SHED_WORD_DICT_PKL, 'wb') as f:\n",
    "        pickle.dump(ind_shed_word_dict, f)\n",
    "        \n",
    "    with open(config.SHED_WORD_IND_DICT_PKL, 'wb') as f:\n",
    "        pickle.dump(shed_word_ind_dict, f)"
   ]
  },
  {
   "cell_type": "code",
   "execution_count": 2,
   "metadata": {
    "run_control": {
     "frozen": false,
     "read_only": false
    }
   },
   "outputs": [
    {
     "name": "stdout",
     "output_type": "stream",
     "text": [
      "word: necklace\n",
      "ind: 688\n"
     ]
    }
   ],
   "source": [
    "\"\"\"\n",
    "Test recover df pkls and check correct\n",
    "\"\"\"\n",
    "if 1 == 1:\n",
    "    with open(config.IND_SHED_WORD_DICT_PKL, 'rb') as f:\n",
    "        ind_shed_word_dict = pickle.load(f)\n",
    "        \n",
    "    with open(config.SHED_WORD_IND_DICT_PKL, 'rb') as f:\n",
    "        shed_word_ind_dict = pickle.load(f)\n",
    "    \n",
    "    random_ind = 688\n",
    "    print('word: {}'.format(ind_shed_word_dict[random_ind]))\n",
    "    print('ind: {}'.format(shed_word_ind_dict[ind_shed_word_dict[random_ind]]))"
   ]
  },
  {
   "cell_type": "markdown",
   "metadata": {
    "run_control": {
     "frozen": false,
     "read_only": false
    }
   },
   "source": [
    "### Make index-happs mapping dict pickle"
   ]
  },
  {
   "cell_type": "code",
   "execution_count": 3,
   "metadata": {
    "run_control": {
     "frozen": true,
     "read_only": true
    }
   },
   "outputs": [],
   "source": [
    "\"\"\"\n",
    "Register\n",
    "    IND_HAPPS_DICT_PKL = (DATA_DIR, 'ind-happs.dict.pkl')\n",
    "in config\n",
    "\"\"\"\n",
    "if 0 == 1:\n",
    "    '''\n",
    "    Make pkl for index to happs score mapping\n",
    "    '''\n",
    "    ind_happs_dict = shed_words_df['happs'].to_dict()\n",
    "    \n",
    "    with open(config.IND_HAPPS_DICT_PKL, 'wb') as f:\n",
    "        pickle.dump(ind_happs_dict, f)"
   ]
  },
  {
   "cell_type": "code",
   "execution_count": 4,
   "metadata": {},
   "outputs": [
    {
     "name": "stdout",
     "output_type": "stream",
     "text": [
      "3731\n",
      "happs: 1.54\n"
     ]
    }
   ],
   "source": [
    "\"\"\"\n",
    "Test recover df pkls and check correct\n",
    "\"\"\"\n",
    "if 1 == 1:\n",
    "    with open(config.IND_HAPPS_DICT_PKL, 'rb') as f:\n",
    "        ind_happs_dict = pickle.load(f)\n",
    "    \n",
    "    random_ind = 3725\n",
    "    print(len(list(ind_happs_dict.keys())))\n",
    "    print('happs: {}'.format(ind_happs_dict[random_ind]))"
   ]
  },
  {
   "cell_type": "markdown",
   "metadata": {
    "run_control": {
     "frozen": false,
     "read_only": false
    }
   },
   "source": [
    "### Write out csv file to config.HR_DIR"
   ]
  },
  {
   "cell_type": "code",
   "execution_count": 3,
   "metadata": {
    "run_control": {
     "frozen": true,
     "read_only": true
    }
   },
   "outputs": [
    {
     "name": "stdout",
     "output_type": "stream",
     "text": [
      "Done\n"
     ]
    }
   ],
   "source": [
    "\"\"\"\n",
    "Write out to csv file for manually inspection\n",
    "\"\"\"\n",
    "shed_words_csv_file = os.path.join(config.HR_DIR, 'shed_words.csv')\n",
    "\n",
    "if 0 == 1:\n",
    "    shed_words_df = pd.read_pickle(config.SHED_WORDS_DF_PKL)\n",
    "    \n",
    "    shed_words_df.to_csv(path_or_buf=shed_words_csv_file,\n",
    "                         columns=['rank', 'word', 'text', 'happs', 'stdDev'],\n",
    "                         sep='\\t',\n",
    "                         quoting=csv.QUOTE_MINIMAL,\n",
    "                         header=True,\n",
    "                         index=True)\n",
    "    print('Done')"
   ]
  }
 ],
 "metadata": {
  "kernelspec": {
   "display_name": "Python 3",
   "language": "python",
   "name": "python3"
  },
  "language_info": {
   "codemirror_mode": {
    "name": "ipython",
    "version": 3
   },
   "file_extension": ".py",
   "mimetype": "text/x-python",
   "name": "python",
   "nbconvert_exporter": "python",
   "pygments_lexer": "ipython3",
   "version": "3.6.2"
  },
  "toc": {
   "colors": {
    "hover_highlight": "#DAA520",
    "running_highlight": "#FF0000",
    "selected_highlight": "#FFD700"
   },
   "moveMenuLeft": true,
   "nav_menu": {
    "height": "12px",
    "width": "252px"
   },
   "navigate_menu": true,
   "number_sections": true,
   "sideBar": true,
   "threshold": "3",
   "toc_cell": false,
   "toc_section_display": "block",
   "toc_window_display": false,
   "widenNotebook": true
  }
 },
 "nbformat": 4,
 "nbformat_minor": 2
}
