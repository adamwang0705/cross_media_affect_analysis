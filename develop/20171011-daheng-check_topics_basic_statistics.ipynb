{
 "cells": [
  {
   "cell_type": "markdown",
   "metadata": {
    "run_control": {
     "frozen": false,
     "read_only": false
    }
   },
   "source": [
    "# Check basic statistics of manually selected topics\n",
    "**Objective**: make sure manually selected topics have high quality.  \n",
    " - Characteristic keywords: easy to regonize associated news.\n",
    " - Amout of disscussion: reasonable size of associated news and tweets\n",
    " - Consistent in meaning: no drift/disperse in content.\n",
    " - Evolution of event: reasonable time-span of associated news."
   ]
  },
  {
   "cell_type": "markdown",
   "metadata": {
    "run_control": {
     "frozen": false,
     "read_only": false
    }
   },
   "source": [
    "# Roadmap\n",
    "1. Manually compile a list of topics with keywords\n",
    "2. Check number of associated news and tweets for each topic\n",
    "3. Check news titles and sample tweets of each topic\n",
    "4. Check time-span of each topic"
   ]
  },
  {
   "cell_type": "markdown",
   "metadata": {
    "run_control": {
     "frozen": false,
     "read_only": false
    }
   },
   "source": [
    "# Steps"
   ]
  },
  {
   "cell_type": "code",
   "execution_count": 1,
   "metadata": {
    "collapsed": true,
    "run_control": {
     "frozen": false,
     "read_only": false
    }
   },
   "outputs": [],
   "source": [
    "\"\"\"\n",
    "Initialization\n",
    "\"\"\"\n",
    "\n",
    "'''\n",
    "Standard modules\n",
    "'''\n",
    "import os\n",
    "import pickle\n",
    "import sqlite3\n",
    "import time\n",
    "from pprint import pprint\n",
    "\n",
    "'''\n",
    "Analysis modules\n",
    "'''\n",
    "import pandas as pd\n",
    "\n",
    "\n",
    "'''\n",
    "Custom modules\n",
    "'''\n",
    "import config\n",
    "import utilities\n",
    "\n",
    "'''\n",
    "Misc\n",
    "'''\n",
    "nb_name = '20171011-daheng-check_topics_basic_statistics'"
   ]
  },
  {
   "cell_type": "markdown",
   "metadata": {
    "run_control": {
     "frozen": false,
     "read_only": false
    }
   },
   "source": [
    "## Manually compile a list of topics with keywords\n",
    "Topics information (category, name, keywords_lst) are manually compiled into config.MANUALLY_SELECTED_TOPICS_LST"
   ]
  },
  {
   "cell_type": "code",
   "execution_count": 2,
   "metadata": {
    "run_control": {
     "frozen": false,
     "read_only": false
    }
   },
   "outputs": [
    {
     "name": "stdout",
     "output_type": "stream",
     "text": [
      "{'category': 'politics', 'name': 'Hillary_Clinton_email_controversy', 'keywords_lst': [('email', 'e-mail'), ('Hillary', 'Clinton')]}\n",
      "{'category': 'politics', 'name': 'Iran_nuclear_deal', 'keywords_lst': ['Iran', 'nuclear']}\n",
      "{'category': 'politics', 'name': 'Jihadi_John_identity_reveled', 'keywords_lst': ['Jihadi John']}\n",
      "{'category': 'social', 'name': 'Ferguson_unrest', 'keywords_lst': ['Ferguson']}\n",
      "{'category': 'social', 'name': 'Hong_Kong_protests', 'keywords_lst': ['Hong Kong']}\n",
      "{'category': 'social', 'name': 'Sony_cyberattack', 'keywords_lst': ['Sony']}\n",
      "{'category': 'social', 'name': 'Bill_Cosby_sexual_assault_allegations ', 'keywords_lst': ['Bill Cosby']}\n",
      "{'category': 'social', 'name': 'SpaceX_fails_rocket_landing', 'keywords_lst': ['SpaceX']}\n",
      "{'category': 'social', 'name': 'Brian_Williams_fake_war_story  ', 'keywords_lst': ['Brian Williams']}\n",
      "{'category': 'entertainment', 'name': 'Oscar', 'keywords_lst': ['Oscar']}\n",
      "{'category': 'entertainment', 'name': 'Super_Bowl', 'keywords_lst': ['Super Bowl']}\n",
      "{'category': 'entertainment', 'name': 'Grammy', 'keywords_lst': ['Grammy']}\n",
      "{'category': 'entertainment', 'name': 'Golden_Globe', 'keywords_lst': ['Golden Globe']}\n",
      "{'category': 'entertainment', 'name': '500_million_Powerball', 'keywords_lst': ['Powerball']}\n",
      "{'category': 'disaster', 'name': 'Ebola_virus', 'keywords_lst': ['Ebola']}\n",
      "{'category': 'disaster', 'name': 'Indonesia_AirAsia_Flight_QZ8501', 'keywords_lst': [('AirAsia', '8501')]}\n",
      "{'category': 'disaster', 'name': 'Paris_attacks', 'keywords_lst': ['Paris']}\n",
      "{'category': 'disaster', 'name': 'Vanuatu_Cyclone_Pam', 'keywords_lst': ['Vanuatu', 'Cyclone']}\n",
      "{'category': 'disaster', 'name': 'Malaysia_Airlines_Flight_MH370', 'keywords_lst': ['370']}\n",
      "{'category': 'holiday', 'name': 'Thanksgiving', 'keywords_lst': ['Thanksgiving']}\n",
      "{'category': 'holiday', 'name': 'Black_Friday_and_Cyber_Monday', 'keywords_lst': [('Black Friday', 'Cyber Monday')]}\n",
      "{'category': 'holiday', 'name': 'Christmas', 'keywords_lst': ['Christmas']}\n",
      "{'category': 'holiday', 'name': 'New_Year', 'keywords_lst': ['New Year']}\n"
     ]
    }
   ],
   "source": [
    "\"\"\"\n",
    "Print out manually selected topics information\n",
    "\"\"\"\n",
    "for topic in config.MANUALLY_SELECTED_TOPICS_LST:\n",
    "    print(topic)"
   ]
  },
  {
   "cell_type": "markdown",
   "metadata": {
    "run_control": {
     "frozen": false,
     "read_only": false
    }
   },
   "source": [
    "## Check number of associated news and tweets for each topic"
   ]
  },
  {
   "cell_type": "markdown",
   "metadata": {
    "run_control": {
     "frozen": false,
     "read_only": false
    }
   },
   "source": [
    "### Build pickle for news and tweets native_id associated with each topic"
   ]
  },
  {
   "cell_type": "code",
   "execution_count": 4,
   "metadata": {
    "run_control": {
     "frozen": true,
     "read_only": true
    }
   },
   "outputs": [
    {
     "name": "stdout",
     "output_type": "stream",
     "text": [
      "(1/23) processing topic: Hillary_Clinton_email_controversy ... Thu Oct 12 12:56:00 2017\n",
      "(2/23) processing topic: Iran_nuclear_deal ... Thu Oct 12 12:56:10 2017\n",
      "(3/23) processing topic: Jihadi_John_identity_reveled ... Thu Oct 12 12:56:38 2017\n",
      "(4/23) processing topic: Ferguson_unrest ... Thu Oct 12 12:56:50 2017\n",
      "(5/23) processing topic: Hong_Kong_protests ... Thu Oct 12 12:57:25 2017\n",
      "(6/23) processing topic: Sony_cyberattack ... Thu Oct 12 12:57:38 2017\n",
      "(7/23) processing topic: Bill_Cosby_sexual_assault_allegations  ... Thu Oct 12 12:58:01 2017\n",
      "(8/23) processing topic: SpaceX_fails_rocket_landing ... Thu Oct 12 12:58:15 2017\n",
      "(9/23) processing topic: Brian_Williams_fake_war_story   ... Thu Oct 12 12:58:26 2017\n",
      "(10/23) processing topic: Oscar ... Thu Oct 12 12:58:38 2017\n",
      "(11/23) processing topic: Super_Bowl ... Thu Oct 12 12:58:58 2017\n",
      "(12/23) processing topic: Grammy ... Thu Oct 12 12:59:16 2017\n",
      "(13/23) processing topic: Golden_Globe ... Thu Oct 12 12:59:28 2017\n",
      "(14/23) processing topic: 500_million_Powerball ... Thu Oct 12 12:59:41 2017\n",
      "(15/23) processing topic: Ebola_virus ... Thu Oct 12 12:59:53 2017\n",
      "(16/23) processing topic: Indonesia_AirAsia_Flight_QZ8501 ... Thu Oct 12 13:00:09 2017\n",
      "(17/23) processing topic: Paris_attacks ... Thu Oct 12 13:00:28 2017\n",
      "(18/23) processing topic: Vanuatu_Cyclone_Pam ... Thu Oct 12 13:00:45 2017\n",
      "(19/23) processing topic: Malaysia_Airlines_Flight_MH370 ... Thu Oct 12 13:00:56 2017\n",
      "(20/23) processing topic: Thanksgiving ... Thu Oct 12 13:01:08 2017\n",
      "(21/23) processing topic: Black_Friday_and_Cyber_Monday ... Thu Oct 12 13:01:26 2017\n",
      "(22/23) processing topic: Christmas ... Thu Oct 12 13:01:42 2017\n",
      "(23/23) processing topic: New_Year ... Thu Oct 12 13:02:05 2017\n",
      "CPU times: user 4min 15s, sys: 16.7 s, total: 4min 32s\n",
      "Wall time: 6min 25s\n"
     ]
    }
   ],
   "source": [
    "%%time\n",
    "\"\"\"\n",
    "Register\n",
    "    TOPICS_LST_PKL = os.path.join(DATA_DIR, 'topics.lst.pkl')\n",
    "in config.\n",
    "\"\"\"\n",
    "if 0 == 1:\n",
    "    supplement_topics_lst = []\n",
    "    \n",
    "    '''\n",
    "    Load in pickle for news data over selected period.\n",
    "    '''\n",
    "    news_period_df = pd.read_pickle(config.NEWS_PERIOD_DF_PKL)\n",
    " \n",
    "    for topic_ind, topic in enumerate(config.MANUALLY_SELECTED_TOPICS_LST):\n",
    "        localtime = time.asctime(time.localtime(time.time()))\n",
    "        print('({}/{}) processing topic: {} ... {}'.format(topic_ind+1,\n",
    "                                                           len(config.MANUALLY_SELECTED_TOPICS_LST),\n",
    "                                                           topic['name'],\n",
    "                                                           localtime))\n",
    "        '''\n",
    "        Match out associated news titles.\n",
    "        '''\n",
    "        asso_news_native_ids_lst = []\n",
    "        for ind, row in news_period_df.iterrows():\n",
    "            if utilities.news_title_match(row['news_title'], topic['keywords_lst'], verbose=False):\n",
    "                asso_news_native_ids_lst.append(row['news_native_id'])\n",
    "        \n",
    "        topic['news_native_ids_lst'] = asso_news_native_ids_lst\n",
    "        \n",
    "        '''\n",
    "        Query associated tweets\n",
    "        '''\n",
    "        asso_tweets_native_ids_lst = []\n",
    "        \n",
    "        query_news_tweets = '''\n",
    "        select tweet_native_id from tweets\n",
    "        where news_native_id = :news_native_id\n",
    "        order by tweet_native_id asc;'''\n",
    "        \n",
    "        with sqlite3.connect(config.NEWS_TWEETS_DB_FILE) as conn:\n",
    "            cursor = conn.cursor()\n",
    "            for news_native_id in topic['news_native_ids_lst']:\n",
    "                cursor.execute(query_news_tweets, {'news_native_id': news_native_id})\n",
    "                tweets_native_ids_lst = [item[0] for item in cursor.fetchall()]\n",
    "                asso_tweets_native_ids_lst.extend(tweets_native_ids_lst)\n",
    "                \n",
    "        topic['tweets_native_ids_lst'] = asso_tweets_native_ids_lst\n",
    "        \n",
    "        supplement_topics_lst.append(topic)\n",
    "    \n",
    "    '''\n",
    "    Make pickle\n",
    "    '''\n",
    "    with open(config.TOPICS_LST_PKL, 'wb') as f:\n",
    "        pickle.dump(supplement_topics_lst, f)"
   ]
  },
  {
   "cell_type": "markdown",
   "metadata": {
    "run_control": {
     "frozen": false,
     "read_only": false
    }
   },
   "source": [
    "### Recover pickle and print number of news and tweets for each topic"
   ]
  },
  {
   "cell_type": "code",
   "execution_count": 6,
   "metadata": {
    "run_control": {
     "frozen": true,
     "read_only": true
    }
   },
   "outputs": [
    {
     "name": "stdout",
     "output_type": "stream",
     "text": [
      "0 Topic_name: Hillary_Clinton_email_controversy; news_num: 228; tweets_num: 860564\n",
      "1 Topic_name: Iran_nuclear_deal; news_num: 412; tweets_num: 2468540\n",
      "2 Topic_name: Jihadi_John_identity_reveled; news_num: 101; tweets_num: 620121\n",
      "3 Topic_name: Ferguson_unrest; news_num: 630; tweets_num: 3507025\n",
      "4 Topic_name: Hong_Kong_protests; news_num: 161; tweets_num: 572997\n",
      "5 Topic_name: Sony_cyberattack; news_num: 279; tweets_num: 1954894\n",
      "6 Topic_name: Bill_Cosby_sexual_assault_allegations ; news_num: 172; tweets_num: 681065\n",
      "7 Topic_name: SpaceX_fails_rocket_landing; news_num: 89; tweets_num: 397246\n",
      "8 Topic_name: Brian_Williams_fake_war_story  ; news_num: 69; tweets_num: 475319\n",
      "9 Topic_name: Oscar; news_num: 249; tweets_num: 1951701\n",
      "10 Topic_name: Super_Bowl; news_num: 213; tweets_num: 1633463\n",
      "11 Topic_name: Grammy; news_num: 101; tweets_num: 686425\n",
      "12 Topic_name: Golden_Globe; news_num: 81; tweets_num: 859308\n",
      "13 Topic_name: 500_million_Powerball; news_num: 80; tweets_num: 532111\n",
      "14 Topic_name: Ebola_virus; news_num: 178; tweets_num: 901969\n",
      "15 Topic_name: Indonesia_AirAsia_Flight_QZ8501; news_num: 263; tweets_num: 1214174\n",
      "16 Topic_name: Paris_attacks; news_num: 232; tweets_num: 1268622\n",
      "17 Topic_name: Vanuatu_Cyclone_Pam; news_num: 89; tweets_num: 409029\n",
      "18 Topic_name: Malaysia_Airlines_Flight_MH370; news_num: 59; tweets_num: 544549\n",
      "19 Topic_name: Thanksgiving; news_num: 150; tweets_num: 1946168\n",
      "20 Topic_name: Black_Friday_and_Cyber_Monday; news_num: 122; tweets_num: 1556165\n",
      "21 Topic_name: Christmas; news_num: 242; tweets_num: 2684136\n",
      "22 Topic_name: New_Year; news_num: 71; tweets_num: 1054650\n"
     ]
    }
   ],
   "source": [
    "\"\"\"\n",
    "Test recover topics lst pkl\n",
    "\"\"\"\n",
    "if 0 == 1:\n",
    "    with open(config.TOPICS_LST_PKL, 'rb') as f:\n",
    "        topics_lst = pickle.load(f)\n",
    "    \n",
    "    for topic_ind, topic in enumerate(topics_lst):\n",
    "        print('{} Topic_name: {}; news_num: {}; tweets_num: {}'.format(topic_ind,\n",
    "                                                                       topic['name'],\n",
    "                                                                       len(topic['news_native_ids_lst']),\n",
    "                                                                       len(topic['tweets_native_ids_lst'])))"
   ]
  },
  {
   "cell_type": "markdown",
   "metadata": {
    "run_control": {
     "frozen": false,
     "read_only": false
    }
   },
   "source": [
    "## Check news titles and sample tweets of each topic"
   ]
  },
  {
   "cell_type": "code",
   "execution_count": 3,
   "metadata": {
    "collapsed": true,
    "run_control": {
     "frozen": false,
     "read_only": false
    }
   },
   "outputs": [],
   "source": [
    "\"\"\"\n",
    "Select a topic, print out name of topic\n",
    "\"\"\"\n",
    "if 1 == 1:\n",
    "    with open(config.TOPICS_LST_PKL, 'rb') as f:\n",
    "        topics_lst = pickle.load(f)\n",
    "    \n",
    "    topic = topics_lst[1]"
   ]
  },
  {
   "cell_type": "code",
   "execution_count": 4,
   "metadata": {
    "run_control": {
     "frozen": false,
     "read_only": false
    },
    "scrolled": true
   },
   "outputs": [
    {
     "name": "stdout",
     "output_type": "stream",
     "text": [
      "TOPIC: Iran_nuclear_deal; KEYWORDS: ['Iran', 'nuclear']\n",
      "2014-11-19: Britain 'not optimistic' on Iran nuclear talks\n",
      "2014-11-19: Britain says not optimistic about Iran nuclear deal by deadline\n",
      "2014-11-20: Mideast Updates / Kerry in Paris to continue Iran nuclear meetings - Middle East Updates Israel News\n",
      "2014-11-20: UK 'not optimistic' about Iran nuclear deal by deadline\n",
      "2014-11-20: Kerry to Join Iran Nuclear Talks in Vienna\n",
      "2014-11-20: Kerry to travel to Vienna for Iran nuclear talks\n",
      "2014-11-20: Iran not providing explanations on nuclear claims: watchdog\n",
      "2014-11-20: For many Iranians, nuclear talks aren't about the sanctions\n",
      "2014-11-20: Iranians Count Sanctions Cost as Nuclear Accord Deadline Nears\n",
      "2014-11-20: Iran nuclear talks deadline may be extended to March: officials\n",
      "2014-11-20: Iran nuclear talks stuck, deadline may be extended officials\n",
      "2014-11-20: Kerry: Iran nuclear talks seek agreements not extension in upcoming deadline\n",
      "2014-11-20: Kerry Meets French Counterpart Ahead of Iran Nuclear Talks in Vienna\n",
      "2014-11-20: Iran nuclear talks stuck, deadline may be extended officials\n",
      "2014-11-20: Iran nuclear deal? Maybe with a small \"d\"\n",
      "2014-11-20: John Kerry Heads to Vienna for Iran Nuclear Talks\n",
      "2014-11-20: Middle East|US Lays Out Limits It Seeks in Iran Nuclear Talks\n",
      "2014-11-21: Iran nuclear talks stuck officials\n",
      "2014-11-21: UN chief urges 'flexibility' in jammed Iran nuclear talks\n",
      "2014-11-21: Iranian views on what nuclear deal might bring\n",
      "2014-11-21: The four key hurdles in the way of a nuclear deal with Iran\n",
      "2014-11-21: France tempers Iran nuclear stance in nod to wider diplomatic needs\n",
      "2014-11-21: Iran Nuclear Talks Enter 4th Day\n",
      "2014-11-21: Iran Nuclear Talks Extension Would Be Tougher Sell Second Time\n",
      "2014-11-21: John Kerry Joins Iran Nuclear Talks in Vienna\n",
      "2014-11-21: Kerry Meets Iranian FM as Nuclear Deadline Looms\n",
      "2014-11-21: John Kerry and Iranian Counterpart to Leave Nuclear Talks\n",
      "2014-11-21: Israeli intel: Iran nuclear deal unlikely by deadline; talks will be extended - Diplomacy and Defense Israel News\n",
      "2014-11-21: Iran, US, French officials to leave nuclear talks as deadline looms\n",
      "2014-11-21: UN nuclear agency says to discuss site access offer with Iran\n",
      "2014-11-21: Why the West will strike a nuclear deal with Iran\n",
      "2014-11-21: Q. and A.: The Difficulties in Reaching a Nuclear Agreement With Iran\n",
      "2014-11-21: John Kerry prolongs stay in Vienna to thrash out Iran nuclear deal\n",
      "2014-11-21: As deadline nears for Iran nuclear talks, how will opponents of a deal react?\n",
      "2014-11-21: US, Iran in last-ditch bid to clinch historic nuclear deal\n",
      "2014-11-21: Iran's nuclear negotiations\n",
      "2014-11-22: Kerry Intensifies Nuclear Talks With Iran\n",
      "2014-11-22: Iran nuclear talks may be extended as US sees 'big gaps'\n",
      "2014-11-22: Little Optimism as Iran Nuclear Talks Head Down to Wire\n",
      "2014-11-22: Iran nuclear talks: The narcissism of minor differences the EU and US\n",
      "2014-11-22: Iran Nuclear Talks Count Down to Deadline With No Deal in Sight\n",
      "2014-11-22: Iran nuclear talks may be extended as US sees \"big gaps\"\n",
      "2014-11-22: Iran nuclear talks: Doubts over deal as deadline looms\n",
      "2014-11-23: Iran says final nuclear deal with major powers 'impossible' by November 24: ISNA\n",
      "2014-11-23: Few signs of movement as deadline for Iran nuclear agreement nears\n",
      "2014-11-23: Iran Nuclear Deal Compromise Sought as Tomorrow's Deadline Looms\n",
      "2014-11-23: Deadline for Iran nuclear deal looms; Russia, China could join talks\n",
      "2014-11-23: Iranians Ponder Economic Future as Nuclear Talks Near Deadline\n",
      "2014-11-23: Russian, Chinese Foreign Ministers to Go to Vienna for Iran Nuclear Talks\n",
      "2014-11-23: One Day Left to End 11-Year Nuclear Standoff With Iran; Lesser Pact Sought\n",
      "2014-11-23: Iran nuclear talks inch ahead as Monday deadline looms\n",
      "2014-11-23: Iran Nuclear Negotiators, Facing Deadline and Differences, Weigh Extending Talks\n",
      "2014-11-23: US tells Iran to consider nuclear talks extension\n",
      "2014-11-23: Iran nuclear deadline: Glimmer of hope amid doubts Tehran, world powers can negotiate deal\n",
      "2014-11-23: Iran nuclear talks: Diplomats ponder extending deadline\n",
      "2014-11-24: Iran nuclear deal: Deadline day brings talk of extension\n",
      "2014-11-24: Iran's nuclear D-Day\n",
      "2014-11-24: Iran and powers set to extend nuclear talks if final push fails\n",
      "2014-11-24: World Powers, Iran Make Final Push at Nuclear Talks Deadline\n",
      "2014-11-24: Iran and powers set to extend nuclear talks if final push fails\n",
      "2014-11-24: Iran nuclear talks expected to reconvene next month\n",
      "2014-11-24: Negotiators Plan to Extend Talks on Iran's Nuclear Program\n",
      "2014-11-24: Iran nuclear talks extended for 7 months amid impasse ahead of deadline\n",
      "2014-11-24: Iran nuclear talks: why the diplomats deserve a little more time\n",
      "2014-11-24: Will extension of Iran nuclear talks give opening to hardliners?\n",
      "2014-11-24: Iran nuclear talks extended, so Congress might turn up the heat\n",
      "2014-11-24: Kerry: Iran nuclear deadline extended seven months\n",
      "2014-11-24: Iran Nuclear Talks Extended Through June 30\n",
      "2014-11-24: Wary US Lawmakers Weigh Iran Nuclear-Talks Extension\n",
      "2014-11-24: Iran terms recent nuclear talks \"steps forward\" - Xinhua\n",
      "2014-11-24: Where do the Iran nuclear talks go from here?\n",
      "2014-11-24: Iran nuclear talks extended seven months after failing to meet deadline\n",
      "2014-11-24: Iran nuclear talks extended after deadline brings no deal\n",
      "2014-11-24: Iran nuclear talks: Optimism as deadline is extended\n",
      "2014-11-24: In nuclear talks, Iran isn't the only one being tested - Diplomacy and Defense Israel News\n",
      "2014-11-24: Middle East|Nuclear Deal Again Eludes US and Iran\n",
      "2014-11-25: France says Iran nuclear talks progressed on key issues including enrichment\n",
      "2014-11-25: France Senses Momentum In Iran Nuclear Talks\n",
      "2014-11-25: Iran's Supreme Leader Denounces West Over Extension of Nuclear Talks\n",
      "2014-11-25: Iran hardliners round on Rouhani but supreme leader backs more nuclear talks\n",
      "2014-11-25: Iran Leader Approves Further Nuclear Negotiations\n",
      "2014-11-25: Leaders Defend 'Progress' in Iran Nuclear Talks After Deadline Is Extended by Seven Months\n",
      "2014-11-25: Here's how Iran is responding to the failure of the nuclear talks\n",
      "2014-11-25: Iran leader approves further nuclear negotiations\n",
      "2014-11-25: Domestic Pressures in US, Iran Threaten Slow-Moving Nuclear Talks\n",
      "2014-11-26: Iran nuclear talks – victory for Tehran?\n",
      "2014-11-26: Republicans' clash with Barack Obama on Iran nuclear talks\n",
      "2014-11-27: Iran's leader doesn't oppose more nuclear talks\n",
      "2014-11-27: Iran's leader doesn't oppose more nuclear talks\n",
      "2014-11-27: Iran Supreme Leader says not opposed to extension of nuclear talks\n",
      "2014-11-27: Middle East|Iran's Supreme Leader Backs Extension of Nuclear Talks\n",
      "2014-11-27: Iran supreme leader backs nuclear talks extension\n",
      "2014-11-27: Iran's Supreme Leader Supports Extension of Nuclear Talks\n",
      "2014-11-27: A welcome extension on nuclear talks with Iran\n",
      "2014-11-28: Iran's leader says he's not opposed to more nuclear talks.\n",
      "2014-12-06: Biden: Chance of Nuclear Deal With Iran is Less Than 50-50\n",
      "2014-12-06: Biden sees 'less than even' chance of nuclear deal with Iran\n",
      "2015-01-17: War threat on Iran 'heightened' if nuclear talks fail, Obama warns\n",
      "2015-01-19: Nuclear talks will succeed only if pressure on Iran stops: Tehran\n",
      "2015-02-08: Netanyahu: Israel will do everything it can to halt Iran nuclear deal - Diplomacy and Defense - Israel News\n"
     ]
    }
   ],
   "source": [
    "'''\n",
    "Print associated news titles\n",
    "'''\n",
    "if 1 == 1:\n",
    "    print('TOPIC: {}; KEYWORDS: {}'.format(topic['name'], topic['keywords_lst']))\n",
    "    \n",
    "    # limit to first 100 news\n",
    "    news_native_ids_lst = topic['news_native_ids_lst'][:100]\n",
    "    \n",
    "    query_news = '''\n",
    "    select news_title, news_collected_time from news\n",
    "    where news_native_id = :news_native_id\n",
    "    order by news_native_id asc;'''\n",
    "\n",
    "    with sqlite3.connect(config.NEWS_TWEETS_DB_FILE) as conn:\n",
    "        conn.row_factory = sqlite3.Row\n",
    "        cursor = conn.cursor()\n",
    "        for news_native_id in news_native_ids_lst:\n",
    "            cursor.execute(query_news, {'news_native_id': news_native_id})\n",
    "            for row in cursor.fetchall():\n",
    "                print('{}: {}'.format(row['news_collected_time'], row['news_title']))"
   ]
  },
  {
   "cell_type": "code",
   "execution_count": 5,
   "metadata": {
    "run_control": {
     "frozen": false,
     "read_only": false
    },
    "scrolled": true
   },
   "outputs": [
    {
     "name": "stdout",
     "output_type": "stream",
     "text": [
      "TOPIC: Iran_nuclear_deal; KEYWORDS: ['Iran', 'nuclear']\n",
      "2014-11-19: Us congress,JudgeTedPoe to convene hrg entitled Iranian Nuclear Talks: Negotiating a Bad Deal? http://t.co/WPkUx1jGLk  #Iran #NoNuclearIran\n",
      "2014-11-19: #Iran U.S. Nov. 24 Nuclear Deal:  Love Me, Love me not, Love Meeeeeeee http://t.co/sz4BubPbCs http://t.co/RQ95bU3xx1\n",
      "2014-11-19: #Event Today at2PM ET US. #Congress suspicion about Iran Nuke deal!  #IranTalksVienna http://t.co/WPkUx1jGLk  #Iran #NoNuclearIran\n",
      "2014-11-19: U.K. Official Says Deadline for Iran Talks Unlikely to Be Met (WSJ) http://t.co/LEeTKDHSRW\n",
      "2014-11-19: State of Play as Iran Talks Enter Final Week - Early Warning http://t.co/pMwIgLjKSM\n",
      "2014-11-19: Talks between US and Iran haunted by difficult history http://t.co/VXbr4i3O6w\n",
      "2014-11-19: Doubts about a nuclear deal with #Iran as talks near end #irantalks #IranTalksvienna http://t.co/z37eZmfwiB\n",
      "2014-11-19: #UN Rebukes #Iran on Human Rights as #Nuclear Talks Near Deadline http://t.co/IxeWoD1L08\n",
      "2014-11-19: #UN Rebukes #Iran on Human Rights as #Nuclear Talks Near Deadline http://t.co/IxeWoD1L08\n",
      "2014-11-19: Iran Nuke Talks Open With the Potential to Change Everything http://t.co/rPiKtR8oFD\n",
      "2014-11-19: Iranian Nuclear Talks Resume - http://t.co/6WqMVVwO6x\n",
      "2014-11-19: \"Let Iran be the ones who escalate\" http://t.co/C0PyNEwsUU\n",
      "2014-11-19: U.K. Official Says Deadline for Iran Talks Unlikely to Be Met http://t.co/ySulhEoZTw\n",
      "2014-11-19: Sen Shaheen asks \"what signs do we need to see to agree to an [Iran talks] extension.\" Blinken doesn't want to get into details in public...\n",
      "2014-11-19: Britain 'not optimistic' on Iran nuclear talks - Bangkok Post: Bangkok PostBritain 'not optimistic' on Iran nu... http://t.co/njHkYqn0Cj\n",
      "2014-11-19: An interesting interpretation in same media: Iran,US go face-to-face in crunch nuclear talks,New round of #IranTalks http://t.co/C2byMBbekg\n",
      "2014-11-19: U.K. Official Says Deadline for Iran Talks Unlikely to Be Met http://t.co/0YdqzqLIYU\n",
      "2014-11-19: U.K. Official Says Deadline for Iran Talks Unlikely to Be Met http://t.co/PT53yqCZPK #wsj http://t.co/9Mo2Wc8PhU\n",
      "2014-11-19: DTN Iran: Iranian Nuclear Talks: Negotiating a Bad Deal?: In his testimony before the House Subcommittee on Te... http://t.co/zsn5AsYzjP\n",
      "2014-11-19: U.K. Official Says Deadline for Iran Talks Unlikely to Be Met http://t.co/shKvOVEb4V\n",
      "2014-11-19: World Kerry Meets Twice With Iran Talks’ Top… http://t.co/ocy2aGjcOn #Middle_East #US_News #Arab_mediator #Iran #Iran_nuclear_talks\n",
      "2014-11-19: World Kerry Meets Twice With Iran Talks’ Top Mediator; Nuke Deal Still Unlikely: LONDON—U.S. Secretary of State… http://t.co/WRtmWw4KNu\n",
      "2014-11-19: World Kerry Meets Twice With #Iran Talks’ Top Mediator; Nuke Deal Still Unlikely: LONDON—U.S. Secretary of State… http://t.co/8brchDKpzp\n",
      "2014-11-19: World Kerry Meets Twice With Iran Talks’ Top Mediator;… http://t.co/NY7LL7g7PO #MiddleEast #USNews #Arabmediator #Iran #Irannucleartalks\n",
      "2014-11-19: World #Middle_East #US_News #Arab_mediator #Iran #Iran_nuclear_talks Kerry Meets Twice With Iran Talks’ Top… http://t.co/XRjAKwweum\n",
      "2014-11-19: World Kerry Meets Twice With #Iran Talks’ Top Mediator; Nuke Deal Still Unlikely: LONDON—U.S. Secretary of State… http://t.co/6ZDZcKw6Sn\n",
      "2014-11-19: World #Middle_East #US_News #Arab_mediator #Iran #Iran_nuclear_talks Kerry Meets Twice With Iran Talks’ Top… http://t.co/AFvjlEFKoW\n",
      "2014-11-19: World Kerry Meets Twice With #Iran Talks’ Top Mediator; Nuke Deal Still Unlikely: LONDON—U.S. Secretary of State… http://t.co/8DNR4ZvKri\n",
      "2014-11-19: World #Middle_East #US_News #Arab_mediator #Iran #Iran_nuclear_talks Kerry Meets Twice With Iran Talks’ Top… http://t.co/S8NnfDrz8t\n",
      "2014-11-19: World Kerry Meets Twice With Iran Talks’ Top… http://t.co/Bb1VKmTX6e #Middle_East #US_News #Arab_mediator #Iran #Iran_nuclear_talks\n",
      "2014-11-20: World Kerry Meets Twice With Iran Talks’ Top… http://t.co/Bb1VKmTX6e #Middle_East #US_News #Arab_mediator #Iran #Iran_nuclear_talks\n",
      "2014-11-19: World Kerry Meets Twice With #Iran Talks’ Top Mediator; Nuke Deal Still Unlikely: LONDON—U.S. Secretary of State… http://t.co/PiZ5KW7jUB\n",
      "2014-11-20: World Kerry Meets Twice With #Iran Talks’ Top Mediator; Nuke Deal Still Unlikely: LONDON—U.S. Secretary of State… http://t.co/PiZ5KW7jUB\n",
      "2014-11-19: World #Middle_East #US_News #Arab_mediator #Iran #Iran_nuclear_talks Kerry Meets Twice With Iran Talks’ Top… http://t.co/gCirVP3tTO\n",
      "2014-11-20: World #Middle_East #US_News #Arab_mediator #Iran #Iran_nuclear_talks Kerry Meets Twice With Iran Talks’ Top… http://t.co/gCirVP3tTO\n",
      "2014-11-19: World #MiddleEast #USNews #Arabmediator #Iran #Irannucleartalks Kerry Meets Twice With Iran Talks’ Top Mediator;… http://t.co/dxM2Cb924B\n",
      "2014-11-20: World #MiddleEast #USNews #Arabmediator #Iran #Irannucleartalks Kerry Meets Twice With Iran Talks’ Top Mediator;… http://t.co/dxM2Cb924B\n",
      "2014-11-19: World Kerry Meets Twice With Iran Talks’ Top Mediator; Nuke Deal Still Unlikely http://t.co/UIODNCSa2H #Middle_East #US_News\n",
      "2014-11-20: World Kerry Meets Twice With Iran Talks’ Top Mediator; Nuke Deal Still Unlikely http://t.co/UIODNCSa2H #Middle_East #US_News\n",
      "2014-11-19: World #Middle_East #US_News #Arab_mediator #Iran #Iran_nuclear_talks Kerry Meets Twice With Iran Talks’ Top… http://t.co/Gyd51pL1ha\n",
      "2014-11-20: World #Middle_East #US_News #Arab_mediator #Iran #Iran_nuclear_talks Kerry Meets Twice With Iran Talks’ Top… http://t.co/Gyd51pL1ha\n",
      "2014-11-19: World #Middle_East #US_News #Arab_mediator #Iran #Iran_nuclear_talks Kerry Meets Twice With Iran Talks’ Top… http://t.co/7MuTGMKs2a\n",
      "2014-11-20: World #Middle_East #US_News #Arab_mediator #Iran #Iran_nuclear_talks Kerry Meets Twice With Iran Talks’ Top… http://t.co/7MuTGMKs2a\n",
      "2014-11-19: World Kerry Meets Twice With #Iran Talks’ Top Mediator; Nuke Deal Still Unlikely http://t.co/8H92YsNBZB\n",
      "2014-11-20: World Kerry Meets Twice With #Iran Talks’ Top Mediator; Nuke Deal Still Unlikely http://t.co/8H92YsNBZB\n",
      "2014-11-19: World Kerry Meets Twice With #Iran Talks’ Top Mediator; Nuke Deal Still Unlikely: LONDON—U.S. Secretary of State… http://t.co/mlz88CPzRB\n",
      "2014-11-20: World Kerry Meets Twice With #Iran Talks’ Top Mediator; Nuke Deal Still Unlikely: LONDON—U.S. Secretary of State… http://t.co/mlz88CPzRB\n",
      "2014-11-19: \"#World News: Britain 'not optimistic' on Iran nuclear talks\": http://t.co/LkWto90mSN\n",
      "2014-11-19: U.K. Official Says Deadline for Iran Talks Unlikely to Be Met http://t.co/30l5R5t708 [Sale http://t.co/pAwiBtvDty ] #news\n",
      "2014-11-19: U.K. Official Says Deadline for Iran Talks Unlikely to Be Met http://t.co/FKeZvdfWPR (via http://t.co/NwbE2dj6vH) #BreakingNews\n",
      "2014-11-19: Kerry Meets Twice With #Iran Talks’ Top Mediator; Nuke Deal Still Unlikely http://t.co/lX1blLTp7q | Epoch Times\n",
      "2014-11-20: Kerry Meets Twice With #Iran Talks’ Top Mediator; Nuke Deal Still Unlikely http://t.co/lX1blLTp7q | Epoch Times\n",
      "2014-11-19: Obama's unilateral immigration action will suck away some media attention from the Iran talks, which is probably constructive.\n",
      "2014-11-19: New post: \"U.K. Official Says Deadline for Iran Talks Unlikely to Be Met\" http://t.co/0YdqzqLIYU\n",
      "2014-11-19: Iran nuke talks nearing deadline &amp; continued P5+1/Iran diplomacy likely. Spoiler risk: Congress, anxious allies. http://t.co/DQFxXXOA0d\n",
      "2014-11-19: #TopStories Iran says Vienna talks \"serious, intensive\" - Xinhua http://t.co/UFeMj02g02\n",
      "2014-11-19: #TopStories Iran says Vienna talks \"serious, intensive\" - Xinhua http://t.co/WCLpKZVpRq\n",
      "2014-11-19: #TopStories Iran says Vienna talks \"serious, intensive\" - Xinhua http://t.co/90oz8vbfYB\n",
      "2014-11-19: #TopStories Iran says Vienna talks \"serious, intensive\" - Xinhua http://t.co/hVfiGT1uRJ\n",
      "2014-11-19: #TopStories Iran says Vienna talks \"serious, intensive\" - Xinhua http://t.co/Kv0BdW0T2l\n",
      "2014-11-19: #TopStories Iran says Vienna talks \"serious, intensive\" - Xinhua http://t.co/KkNfIsOg4B\n",
      "2014-11-19: #TopStories Iran says Vienna talks \"serious, intensive\" - Xinhua http://t.co/LGWtwrT0Uw\n",
      "2014-11-19: #TopStories Iran says Vienna talks \"serious, intensive\" - Xinhua http://t.co/tnP9nktKPc\n",
      "2014-11-19: #TopStories Iran says Vienna talks \"serious, intensive\" - Xinhua http://t.co/zbRG8c0RO0\n",
      "2014-11-19: #TopStories Iran says Vienna talks \"serious, intensive\" - Xinhua http://t.co/faZ2GNoGeg\n",
      "2014-11-19: #TopStories Iran says Vienna talks \"serious, intensive\" - Xinhua http://t.co/k8fZZj6qrc\n",
      "2014-11-19: #TopStories Iran says Vienna talks \"serious, intensive\" - Xinhua http://t.co/VEVwp1u99q\n",
      "2014-11-19: #TopStories Iran says Vienna talks \"serious, intensive\" - Xinhua http://t.co/HkyS035Pk8\n",
      "2014-11-18: Iran says Vienna talks \"serious, intensive\" - Xinhua http://t.co/MvCzeZT765\n",
      "2014-11-19: Iran says Vienna talks \"serious, intensive\" - Xinhua http://t.co/MvCzeZT765\n",
      "2014-11-19: Iran says Vienna talks \"serious, intensive\" - Xinhua http://t.co/yATHc7gZgP\n",
      "2014-11-19: #TopStories Iran says Vienna talks \"serious, intensive\" - Xinhua http://t.co/efEeVvyKQh\n",
      "2014-11-19: #TopStories Iran says Vienna talks \"serious, intensive\" - Xinhua http://t.co/pNY7dGzHxU\n",
      "2014-11-19: #TopStories Iran says Vienna talks \"serious, intensive\" - Xinhua http://t.co/v8atwvkbcX\n",
      "2014-11-19: #TopStories Iran says Vienna talks \"serious, intensive\" - Xinhua http://t.co/LSHIq5WH5Y\n",
      "2014-11-19: Iranian Nuclear Talks: Negotiating a Bad Deal? http://t.co/aWtt5m5sSR\n",
      "2014-11-19: #Britain 'not optimistic' on Iran nuclear talks - The Daily Star http://t.co/Awg8VfsUyo\n",
      "2014-11-19: John Kerry in diplomatic overdrive on Iran nuclear deal, report @APDiploWriter + @bklapperAP. http://t.co/mWcUAQ6q0w\n",
      "2014-11-19: Iran nuclear talks – the Guardian briefing http://t.co/fOxl5IUjx2\n",
      "2014-11-19: Us congress,JudgeTedPoe to convene hrg entitled Iranian Nuclear Talks: Negotiating a Bad Deal? http://t.co/WzMb2kfVpZ   #Iran #NoNuclearIran\n",
      "2014-11-19: Iranian Nuclear Talks: Negotiating a Bad Deal? http://t.co/URZq7YUiTd\n",
      "2014-11-19: #Iran nuclear talks: The final stretch - http://t.co/I7HbxFrk62 http://t.co/6kGbt2qIUX\n",
      "2014-11-19: Iranian website affiliated with #IRGC reveals list of US demands from #Iran in Oman talks http://t.co/zyRxsgFPo2\n",
      "2014-11-19: Iran, US Go Face-to-face in Crunch Nuclear Talks http://t.co/0yJak5pgW4 http://t.co/nocryJv1Cw\n",
      "2014-11-19: Britain 'not optimistic' on Iran nuclear talks: VIENNA: Britain expressed doubts on Wednesday (Nov 19) that a ... http://t.co/QU1aKEqx5M\n",
      "2014-11-19: World Jailed Venezuelan Opposition Leader Leopoldo Lopez to… http://t.co/ZNpzvgieE3 #Americas #Arab_mediator #Iran #Iran_nuclear_talks\n",
      "2014-11-19: World #Americas #Arab_mediator #Iran #Iran_nuclear_talks Jailed Venezuelan Opposition Leader Leopoldo Lopez to Skip… http://t.co/VWRf2lWY5R\n",
      "2014-11-19: World #Americas #Arab_mediator #Iran #Iran_nuclear_talks Jailed Venezuelan Opposition Leader Leopoldo Lopez to Skip… http://t.co/BxPYd8AInN\n",
      "2014-11-19: World #Americas #Arab_mediator #Iran #Iran_nuclear_talks Jailed Venezuelan Opposition Leader Leopoldo Lopez to Skip… http://t.co/Hqw0h8x0hO\n",
      "2014-11-19: World #Americas #Arab_mediator #Iran #Iran_nuclear_talks Jailed Venezuelan Opposition Leader Leopoldo Lopez to Skip… http://t.co/wCzao6bG83\n",
      "2014-11-19: World Jailed Venezuelan Opposition Leader Leopoldo Lopez to… http://t.co/ZE3f366EY0 #Americas #Arab_mediator #Iran #Iran_nuclear_talks\n",
      "2014-11-19: World #Americas #Arab_mediator #Iran #Iran_nuclear_talks Jailed Venezuelan Opposition Leader Leopoldo Lopez to Skip… http://t.co/SwccAb2wA5\n",
      "2014-11-19: World #Americas #Arab_mediator #Iran #Iran_nuclear_talks Jailed Venezuelan Opposition Leader Leopoldo Lopez to Skip… http://t.co/0keEblj73r\n",
      "2014-11-19: Britain 'not optimistic' on Iran nuclear talks - Channel News Asia - http://t.co/EHXo3etKLT\n",
      "2014-11-19: Britain 'not optimistic' on Iran nuclear talks - Channel News Asia http://t.co/NdaH2L7iUV\n",
      "2014-11-19: Britain 'not optimistic' on Iran nuclear talks - Channel News Asia http://t.co/kfLfu9quVp\n",
      "2014-11-19: Britain 'not optimistic' on Iran nuclear talks - Channel News Asia http://t.co/23K5NjnzKB\n",
      "2014-11-19: #SuryaRay #Surya Britain 'not optimistic' on Iran nuclear talks - Channel News Asia http://t.co/lAaBFOeJul @suryaray @suryaray3\n",
      "2014-11-19: Britain 'not optimistic' on Iran nuclear talks - Channel News Asia http://t.co/RJgePrFFVk\n",
      "2014-11-19: Britain 'not optimistic' on Iran nuclear talks - Channel News Asia http://t.co/1NuvGHvxRw\n",
      "2014-11-19: Britain 'not optimistic' on Iran nuclear talks - Channel News Asia http://t.co/Ixpfv1TN6v\n",
      "2014-11-19: Britain 'not optimistic' on Iran nuclear talks - Channel News Asia http://t.co/Ed8Xwnj7oS\n",
      "2014-11-19: News: Britain 'not optimistic' on Iran nuclear talks - Channel News Asia http://t.co/OchjAgNcUq\n",
      "2014-11-19: Kerry in diplomatic overdrive on Iran nuclear deal http://t.co/NmN5qQKW0N\n",
      "2014-11-19: Britain 'not optimistic' on Iran nuclear talks - Channel News Asia http://t.co/SAFupcVpz3\n",
      "2014-11-19: Britain 'not optimistic' on Iran nuclear talks http://t.co/qmhg5aqgsa #civil_vision\n",
      "2014-11-19: Britain 'not optimistic' on Iran nuclear talks http://t.co/qmhg5aqgsa #Civil_Vision\n",
      "2014-11-19: \"You have a nice face\" Exclusive Leaked Transcript of the Iran Nuclear Talks: http://t.co/CkGPn0vyE8\n",
      "2014-11-19: Our Europe corr @SandraGathmann reporting live from Vienna on Iran talks from our live position @featurestory http://t.co/bZMmjnouQ6\n",
      "2014-11-19: Britain not optimistic on Iran nuclear talks - Channel News Asia..  #broadway\n",
      "2014-11-19: .@CASEnergy Coalition's Ron Kirk talks to @Morehouse physics students about value of #nuclear energy, future jobs. http://t.co/NJ6IRldWpW\n",
      "2014-11-19: Britain 'not optimistic' on Iran nuclear talks http://t.co/XcmZKnvL8O\n"
     ]
    }
   ],
   "source": [
    "'''\n",
    "Print associated tweets\n",
    "'''\n",
    "if 1 == 1:\n",
    "    print('TOPIC: {}; KEYWORDS: {}'.format(topic['name'], topic['keywords_lst']))\n",
    "    \n",
    "    # limit to first 100 tweets\n",
    "    tweets_native_ids_lst = topic['tweets_native_ids_lst'][:100]\n",
    "    \n",
    "    query_tweets = '''\n",
    "    select tweet_text, tweet_collected_time from tweets\n",
    "    where tweet_native_id = :tweet_native_id\n",
    "    order by tweet_native_id asc;'''\n",
    "\n",
    "    with sqlite3.connect(config.NEWS_TWEETS_DB_FILE) as conn:\n",
    "        conn.row_factory = sqlite3.Row\n",
    "        cursor = conn.cursor()\n",
    "        for tweet_native_id in tweets_native_ids_lst:\n",
    "            cursor.execute(query_tweets, {'tweet_native_id': tweet_native_id})\n",
    "            for row in cursor.fetchall():\n",
    "                print('{}: {}'.format(row['tweet_collected_time'], row['tweet_text']))"
   ]
  },
  {
   "cell_type": "code",
   "execution_count": null,
   "metadata": {
    "collapsed": true
   },
   "outputs": [],
   "source": []
  }
 ],
 "metadata": {
  "kernelspec": {
   "display_name": "Python 3",
   "language": "python",
   "name": "python3"
  },
  "language_info": {
   "codemirror_mode": {
    "name": "ipython",
    "version": 3
   },
   "file_extension": ".py",
   "mimetype": "text/x-python",
   "name": "python",
   "nbconvert_exporter": "python",
   "pygments_lexer": "ipython3",
   "version": "3.6.2"
  },
  "toc": {
   "colors": {
    "hover_highlight": "#DAA520",
    "running_highlight": "#FF0000",
    "selected_highlight": "#FFD700"
   },
   "moveMenuLeft": true,
   "nav_menu": {
    "height": "12px",
    "width": "252px"
   },
   "navigate_menu": true,
   "number_sections": true,
   "sideBar": true,
   "threshold": "3",
   "toc_cell": false,
   "toc_section_display": "block",
   "toc_window_display": false,
   "widenNotebook": true
  }
 },
 "nbformat": 4,
 "nbformat_minor": 2
}
