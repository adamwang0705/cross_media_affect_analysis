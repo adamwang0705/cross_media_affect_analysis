{
 "cells": [
  {
   "cell_type": "markdown",
   "metadata": {
    "run_control": {
     "frozen": false,
     "read_only": false
    }
   },
   "source": [
    "# Check basic statistics of manually selected topics\n",
    "**Objective**: make sure manually selected topics have high quality.  \n",
    " - Characteristic keywords: easy to regonize associated news.\n",
    " - Amout of disscussion: reasonable size of associated news and tweets\n",
    " - Consistent in meaning: no drift/disperse in content.\n",
    " - Evolution of event: reasonable time-span of associated news.\n",
    " \n",
    "Last modified: 2017-10-18"
   ]
  },
  {
   "cell_type": "markdown",
   "metadata": {
    "run_control": {
     "frozen": false,
     "read_only": false
    }
   },
   "source": [
    "# Roadmap\n",
    "1. Manually compile a list of topics with keywords\n",
    "2. Check number of associated news and tweets for each topic\n",
    "3. Check news titles and sample tweets of each topic\n",
    "4. Check time-span of each topic"
   ]
  },
  {
   "cell_type": "markdown",
   "metadata": {
    "run_control": {
     "frozen": false,
     "read_only": false
    }
   },
   "source": [
    "# Steps"
   ]
  },
  {
   "cell_type": "code",
   "execution_count": 2,
   "metadata": {
    "collapsed": true,
    "run_control": {
     "frozen": false,
     "read_only": false
    }
   },
   "outputs": [],
   "source": [
    "\"\"\"\n",
    "Initialization\n",
    "\"\"\"\n",
    "\n",
    "'''\n",
    "Standard modules\n",
    "'''\n",
    "import os\n",
    "import pickle\n",
    "import sqlite3\n",
    "import time\n",
    "from pprint import pprint\n",
    "\n",
    "'''\n",
    "Analysis modules\n",
    "'''\n",
    "import pandas as pd\n",
    "\n",
    "\n",
    "'''\n",
    "Custom modules\n",
    "'''\n",
    "import config\n",
    "import utilities\n",
    "\n",
    "'''\n",
    "Misc\n",
    "'''\n",
    "nb_name = '20171011-daheng-check_topics_basic_statistics'"
   ]
  },
  {
   "cell_type": "markdown",
   "metadata": {
    "run_control": {
     "frozen": false,
     "read_only": false
    }
   },
   "source": [
    "## Manually compile a list of topics with keywords\n",
    "Topics information (category, name, keywords_lst) are manually compiled into config.MANUALLY_SELECTED_TOPICS_LST"
   ]
  },
  {
   "cell_type": "code",
   "execution_count": 2,
   "metadata": {
    "run_control": {
     "frozen": false,
     "read_only": false
    },
    "scrolled": false
   },
   "outputs": [
    {
     "name": "stdout",
     "output_type": "stream",
     "text": [
      "(1/51) {'category': 'politics', 'name': 'Hillary_Clinton_email_controversy', 'keywords_lst': [('email', 'e-mail'), ('Hillary', 'Clinton')]}\n",
      "(2/51) {'category': 'politics', 'name': 'Iran_nuclear_deal', 'keywords_lst': ['Iran', 'nuclear']}\n",
      "(3/51) {'category': 'politics', 'name': 'ISIS_Jihadi_John_identity_reveal', 'keywords_lst': ['Jihadi John']}\n",
      "(4/51) {'category': 'politics', 'name': 'Ukraine_cease_fire', 'keywords_lst': [('cease-fire', 'ceasefire'), ('Ukraine', 'Russia')]}\n",
      "(5/51) {'category': 'politics', 'name': 'Egypt_free_Al_Jazeera_journalist', 'keywords_lst': [('Al Jazeera', 'Egypt'), ('Peter Greste', 'journalist')]}\n",
      "(6/51) {'category': 'politics', 'name': 'Keystone_XL_Pipeline_bill', 'keywords_lst': ['Keystone XL']}\n",
      "(7/51) {'category': 'politics', 'name': 'CIA_Torture_Report', 'keywords_lst': ['Torture Report']}\n",
      "(8/51) {'category': 'politics', 'name': 'Obama_cybersecurity_plan', 'keywords_lst': ['Obama', 'cyber']}\n",
      "(9/51) {'category': 'politics', 'name': 'DHS_funding_issue', 'keywords_lst': ['DHS', 'fund']}\n",
      "(10/51) {'category': 'politics', 'name': 'US_Cuba_relationship', 'keywords_lst': [('US', 'Obama'), ('Cuba', 'Castro')]}\n",
      "(11/51) {'category': 'politics', 'name': '2015_CPAC', 'keywords_lst': ['CPAC']}\n",
      "(12/51) {'category': 'politics', 'name': 'Iraq_free_ISIS_Tikrit', 'keywords_lst': ['Tikrit']}\n",
      "(13/51) {'category': 'politics', 'name': 'Nigeria_Boko_Haram_terrorists', 'keywords_lst': ['Boko Haram']}\n",
      "(14/51) {'category': 'social', 'name': 'Ferguson_unrest', 'keywords_lst': ['Ferguson']}\n",
      "(15/51) {'category': 'social', 'name': 'Hong_Kong_protest', 'keywords_lst': ['Hong Kong']}\n",
      "(16/51) {'category': 'social', 'name': 'Sony_cyberattack', 'keywords_lst': ['Sony']}\n",
      "(17/51) {'category': 'social', 'name': 'Bill_Cosby_sexual_assault_allegation', 'keywords_lst': ['Bill Cosby']}\n",
      "(18/51) {'category': 'social', 'name': 'SpaceX_rocket_landing', 'keywords_lst': ['SpaceX']}\n",
      "(19/51) {'category': 'social', 'name': 'Brian_Williams_fake_story', 'keywords_lst': ['Brian Williams']}\n",
      "(20/51) {'category': 'social', 'name': 'HSBC_tax_scandal', 'keywords_lst': ['HSBC']}\n",
      "(21/51) {'category': 'social', 'name': 'David_Carr_death', 'keywords_lst': ['David Carr']}\n",
      "(22/51) {'category': 'social', 'name': 'Patriots_Deflategate', 'keywords_lst': [('Deflategate', 'Deflate-gate')]}\n",
      "(23/51) {'category': 'social', 'name': 'Delhi_Uber_driver_rape', 'keywords_lst': ['Uber', ('rape', 'Delhi')]}\n",
      "(24/51) {'category': 'social', 'name': 'Superbug_spread', 'keywords_lst': ['Superbug']}\n",
      "(25/51) {'category': 'social', 'name': 'Rudy_Giuliani_Obama_critique', 'keywords_lst': ['Giuliani']}\n",
      "(26/51) {'category': 'entertainment', 'name': 'Oscar', 'keywords_lst': ['Oscar']}\n",
      "(27/51) {'category': 'entertainment', 'name': 'Super_Bowl', 'keywords_lst': ['Super Bowl']}\n",
      "(28/51) {'category': 'entertainment', 'name': 'Grammy', 'keywords_lst': ['Grammy']}\n",
      "(29/51) {'category': 'entertainment', 'name': 'Golden_Globe', 'keywords_lst': ['Golden Globe']}\n",
      "(30/51) {'category': 'entertainment', 'name': '500_million_Powerball', 'keywords_lst': ['Powerball']}\n",
      "(31/51) {'category': 'entertainment', 'name': 'Thanksgiving', 'keywords_lst': ['Thanksgiving']}\n",
      "(32/51) {'category': 'entertainment', 'name': 'Black_Friday_and_Cyber_Monday', 'keywords_lst': [('Black Friday', 'Cyber Monday')]}\n",
      "(33/51) {'category': 'entertainment', 'name': 'Christmas', 'keywords_lst': ['Christmas']}\n",
      "(34/51) {'category': 'entertainment', 'name': 'New_Year', 'keywords_lst': ['New Year']}\n",
      "(35/51) {'category': 'entertainment', 'name': 'Apple_Watch', 'keywords_lst': ['Apple Watch']}\n",
      "(36/51) {'category': 'entertainment', 'name': 'Yosemite_historic_climb', 'keywords_lst': [('Yosemite', 'El Capitan')]}\n",
      "(37/51) {'category': 'entertainment', 'name': 'Jon_Stewart_Daily_Show', 'keywords_lst': ['Jon Stewart']}\n",
      "(38/51) {'category': 'entertainment', 'name': 'success_of_American_Sniper', 'keywords_lst': ['American Sniper']}\n",
      "(39/51) {'category': 'tragedy', 'name': 'Ebola_virus_spread', 'keywords_lst': ['Ebola']}\n",
      "(40/51) {'category': 'tragedy', 'name': 'Indonesia_AirAsia_Flight_QZ8501_crash', 'keywords_lst': [('AirAsia', '8501')]}\n",
      "(41/51) {'category': 'tragedy', 'name': 'Paris_attacks', 'keywords_lst': ['Paris']}\n",
      "(42/51) {'category': 'tragedy', 'name': 'Vanuatu_Cyclone_Pam', 'keywords_lst': ['Vanuatu', 'Cyclone']}\n",
      "(43/51) {'category': 'tragedy', 'name': 'Malaysia_Airlines_Flight_MH370_crash', 'keywords_lst': ['370']}\n",
      "(44/51) {'category': 'tragedy', 'name': 'Colorado_NAACP_bombing', 'keywords_lst': ['NAACP']}\n",
      "(45/51) {'category': 'tragedy', 'name': 'FSU_shooting', 'keywords_lst': ['FSU']}\n",
      "(46/51) {'category': 'tragedy', 'name': 'Chapel_Hill_shooting', 'keywords_lst': ['Chapel Hill']}\n",
      "(47/51) {'category': 'tragedy', 'name': 'Bobbi_Kristina_Brown_death', 'keywords_lst': ['Bobbi Kristina Brown']}\n",
      "(48/51) {'category': 'tragedy', 'name': 'Taliban_Pakistan_school_massacre', 'keywords_lst': [('Pakistan', 'Taliban'), ('school', 'student', 'massacre')]}\n",
      "(49/51) {'category': 'tragedy', 'name': 'American_ISIS_Hostage_Kayla_Mueller', 'keywords_lst': ['Kayla Mueller']}\n",
      "(50/51) {'category': 'tragedy', 'name': 'TransAsia_Airways_Flight_GE235_crash', 'keywords_lst': [('TransAsia', 'Taiwan'), ('plane', 'crash', 'pilot', 'flight')]}\n",
      "(51/51) {'category': 'tragedy', 'name': 'Germanwings_Flight_9525_crash', 'keywords_lst': [('Germanwings', 'Lufthansa', '9525')]}\n"
     ]
    }
   ],
   "source": [
    "\"\"\"\n",
    "Print out manually selected topics information\n",
    "\"\"\"\n",
    "for topic_ind, topic in enumerate(config.MANUALLY_SELECTED_TOPICS_LST):\n",
    "    print('({}/{}) {}'.format(topic_ind+1, len(config.MANUALLY_SELECTED_TOPICS_LST), topic))"
   ]
  },
  {
   "cell_type": "markdown",
   "metadata": {
    "run_control": {
     "frozen": false,
     "read_only": false
    }
   },
   "source": [
    "## Check number of associated news and tweets for each topic"
   ]
  },
  {
   "cell_type": "markdown",
   "metadata": {
    "run_control": {
     "frozen": false,
     "read_only": false
    }
   },
   "source": [
    "### Build pickle for news_id and tweets_id associated with each topic"
   ]
  },
  {
   "cell_type": "code",
   "execution_count": 3,
   "metadata": {
    "run_control": {
     "frozen": true,
     "read_only": true
    },
    "scrolled": true
   },
   "outputs": [
    {
     "name": "stdout",
     "output_type": "stream",
     "text": [
      "(1/51) processing topic: Hillary_Clinton_email_controversy ... Wed Oct 18 17:01:55 2017\n",
      "(2/51) processing topic: Iran_nuclear_deal ... Wed Oct 18 17:02:03 2017\n",
      "(3/51) processing topic: ISIS_Jihadi_John_identity_reveal ... Wed Oct 18 17:02:14 2017\n",
      "(4/51) processing topic: Ukraine_cease_fire ... Wed Oct 18 17:02:22 2017\n",
      "(5/51) processing topic: Egypt_free_Al_Jazeera_journalist ... Wed Oct 18 17:02:30 2017\n",
      "(6/51) processing topic: Keystone_XL_Pipeline_bill ... Wed Oct 18 17:02:38 2017\n",
      "(7/51) processing topic: CIA_Torture_Report ... Wed Oct 18 17:02:45 2017\n",
      "(8/51) processing topic: Obama_cybersecurity_plan ... Wed Oct 18 17:02:53 2017\n",
      "(9/51) processing topic: DHS_funding_issue ... Wed Oct 18 17:03:01 2017\n",
      "(10/51) processing topic: US_Cuba_relationship ... Wed Oct 18 17:03:08 2017\n",
      "(11/51) processing topic: 2015_CPAC ... Wed Oct 18 17:03:17 2017\n",
      "(12/51) processing topic: Iraq_free_ISIS_Tikrit ... Wed Oct 18 17:03:25 2017\n",
      "(13/51) processing topic: Nigeria_Boko_Haram_terrorists ... Wed Oct 18 17:03:33 2017\n",
      "(14/51) processing topic: Ferguson_unrest ... Wed Oct 18 17:03:42 2017\n",
      "(15/51) processing topic: Hong_Kong_protest ... Wed Oct 18 17:03:54 2017\n",
      "(16/51) processing topic: Sony_cyberattack ... Wed Oct 18 17:04:03 2017\n",
      "(17/51) processing topic: Bill_Cosby_sexual_assault_allegation ... Wed Oct 18 17:04:13 2017\n",
      "(18/51) processing topic: SpaceX_rocket_landing ... Wed Oct 18 17:04:21 2017\n",
      "(19/51) processing topic: Brian_Williams_fake_story ... Wed Oct 18 17:04:29 2017\n",
      "(20/51) processing topic: HSBC_tax_scandal ... Wed Oct 18 17:04:37 2017\n",
      "(21/51) processing topic: David_Carr_death ... Wed Oct 18 17:04:45 2017\n",
      "(22/51) processing topic: Patriots_Deflategate ... Wed Oct 18 17:04:53 2017\n",
      "(23/51) processing topic: Delhi_Uber_driver_rape ... Wed Oct 18 17:05:01 2017\n",
      "(24/51) processing topic: Superbug_spread ... Wed Oct 18 17:05:09 2017\n",
      "(25/51) processing topic: Rudy_Giuliani_Obama_critique ... Wed Oct 18 17:05:17 2017\n",
      "(26/51) processing topic: Oscar ... Wed Oct 18 17:05:25 2017\n",
      "(27/51) processing topic: Super_Bowl ... Wed Oct 18 17:05:35 2017\n",
      "(28/51) processing topic: Grammy ... Wed Oct 18 17:05:45 2017\n",
      "(29/51) processing topic: Golden_Globe ... Wed Oct 18 17:05:55 2017\n",
      "(30/51) processing topic: 500_million_Powerball ... Wed Oct 18 17:06:03 2017\n",
      "(31/51) processing topic: Thanksgiving ... Wed Oct 18 17:06:12 2017\n",
      "(32/51) processing topic: Black_Friday_and_Cyber_Monday ... Wed Oct 18 17:06:23 2017\n",
      "(33/51) processing topic: Christmas ... Wed Oct 18 17:06:33 2017\n",
      "(34/51) processing topic: New_Year ... Wed Oct 18 17:06:44 2017\n",
      "(35/51) processing topic: Apple_Watch ... Wed Oct 18 17:06:55 2017\n",
      "(36/51) processing topic: Yosemite_historic_climb ... Wed Oct 18 17:07:04 2017\n",
      "(37/51) processing topic: Jon_Stewart_Daily_Show ... Wed Oct 18 17:07:12 2017\n",
      "(38/51) processing topic: success_of_American_Sniper ... Wed Oct 18 17:07:20 2017\n",
      "(39/51) processing topic: Ebola_virus_spread ... Wed Oct 18 17:07:30 2017\n",
      "(40/51) processing topic: Indonesia_AirAsia_Flight_QZ8501_crash ... Wed Oct 18 17:07:39 2017\n",
      "(41/51) processing topic: Paris_attacks ... Wed Oct 18 17:07:49 2017\n",
      "(42/51) processing topic: Vanuatu_Cyclone_Pam ... Wed Oct 18 17:07:59 2017\n",
      "(43/51) processing topic: Malaysia_Airlines_Flight_MH370_crash ... Wed Oct 18 17:08:08 2017\n",
      "(44/51) processing topic: Colorado_NAACP_bombing ... Wed Oct 18 17:08:16 2017\n",
      "(45/51) processing topic: FSU_shooting ... Wed Oct 18 17:08:27 2017\n",
      "(46/51) processing topic: Chapel_Hill_shooting ... Wed Oct 18 17:08:35 2017\n",
      "(47/51) processing topic: Bobbi_Kristina_Brown_death ... Wed Oct 18 17:08:43 2017\n",
      "(48/51) processing topic: Taliban_Pakistan_school_massacre ... Wed Oct 18 17:08:53 2017\n",
      "(49/51) processing topic: American_ISIS_Hostage_Kayla_Mueller ... Wed Oct 18 17:09:01 2017\n",
      "(50/51) processing topic: TransAsia_Airways_Flight_GE235_crash ... Wed Oct 18 17:09:09 2017\n",
      "(51/51) processing topic: Germanwings_Flight_9525_crash ... Wed Oct 18 17:09:19 2017\n",
      "CPU times: user 7min 28s, sys: 6.6 s, total: 7min 35s\n",
      "Wall time: 7min 36s\n"
     ]
    }
   ],
   "source": [
    "%%time\n",
    "\"\"\"\n",
    "Register\n",
    "    TOPICS_LST_PKL = os.path.join(DATA_DIR, 'topics.lst.pkl')\n",
    "in config.\n",
    "\"\"\"\n",
    "if 0 == 1:\n",
    "    supplement_topics_lst = []\n",
    "    \n",
    "    '''\n",
    "    Load in pickle for news data over selected period.\n",
    "    '''\n",
    "    news_period_df = pd.read_pickle(config.NEWS_PERIOD_DF_PKL)\n",
    " \n",
    "    for topic_ind, topic in enumerate(config.MANUALLY_SELECTED_TOPICS_LST):\n",
    "        localtime = time.asctime(time.localtime(time.time()))\n",
    "        print('({}/{}) processing topic: {} ... {}'.format(topic_ind+1,\n",
    "                                                           len(config.MANUALLY_SELECTED_TOPICS_LST),\n",
    "                                                           topic['name'],\n",
    "                                                           localtime))\n",
    "        '''\n",
    "        Match out associated news titles.\n",
    "        '''\n",
    "        asso_news_native_ids_lst = []\n",
    "        for ind, row in news_period_df.iterrows():\n",
    "            if utilities.news_title_match(row['news_title'], topic['keywords_lst'], verbose=False):\n",
    "                asso_news_native_ids_lst.append(row['news_native_id'])\n",
    "        \n",
    "        topic['news_native_ids_lst'] = asso_news_native_ids_lst\n",
    "        \n",
    "        '''\n",
    "        Query associated tweets\n",
    "        '''\n",
    "        asso_tweets_ids_lst = []\n",
    "        \n",
    "        query_news_tweets = '''\n",
    "        select tweet_id from tweets\n",
    "        where news_native_id = :news_native_id\n",
    "        order by tweet_id asc;'''\n",
    "        \n",
    "        with sqlite3.connect(config.NEWS_TWEETS_DB_FILE) as conn:\n",
    "            cursor = conn.cursor()\n",
    "            for news_native_id in topic['news_native_ids_lst']:\n",
    "                cursor.execute(query_news_tweets, {'news_native_id': news_native_id})\n",
    "                tweets_ids_lst = [item[0] for item in cursor.fetchall()]\n",
    "                asso_tweets_ids_lst.extend(tweets_ids_lst)\n",
    "                \n",
    "        topic['tweets_ids_lst'] = asso_tweets_ids_lst\n",
    "        \n",
    "        supplement_topics_lst.append(topic)\n",
    "    \n",
    "    '''\n",
    "    Make pickle\n",
    "    '''\n",
    "    with open(config.TOPICS_LST_PKL, 'wb') as f:\n",
    "        pickle.dump(supplement_topics_lst, f)"
   ]
  },
  {
   "cell_type": "markdown",
   "metadata": {
    "run_control": {
     "frozen": false,
     "read_only": false
    }
   },
   "source": [
    "### Recover pickle and print number of news and tweets for each topic"
   ]
  },
  {
   "cell_type": "code",
   "execution_count": 4,
   "metadata": {
    "run_control": {
     "frozen": true,
     "read_only": true
    },
    "scrolled": false
   },
   "outputs": [
    {
     "name": "stdout",
     "output_type": "stream",
     "text": [
      "0 Topic_name: Hillary_Clinton_email_controversy; news_num: 228; tweets_num: 860564\n",
      "1 Topic_name: Iran_nuclear_deal; news_num: 406; tweets_num: 2412264\n",
      "2 Topic_name: ISIS_Jihadi_John_identity_reveal; news_num: 101; tweets_num: 620121\n",
      "3 Topic_name: Ukraine_cease_fire; news_num: 84; tweets_num: 603709\n",
      "4 Topic_name: Egypt_free_Al_Jazeera_journalist; news_num: 50; tweets_num: 129120\n",
      "5 Topic_name: Keystone_XL_Pipeline_bill; news_num: 55; tweets_num: 117692\n",
      "6 Topic_name: CIA_Torture_Report; news_num: 41; tweets_num: 167362\n",
      "7 Topic_name: Obama_cybersecurity_plan; news_num: 73; tweets_num: 495576\n",
      "8 Topic_name: DHS_funding_issue; news_num: 45; tweets_num: 104911\n",
      "9 Topic_name: US_Cuba_relationship; news_num: 235; tweets_num: 1213314\n",
      "10 Topic_name: 2015_CPAC; news_num: 68; tweets_num: 289774\n",
      "11 Topic_name: Iraq_free_ISIS_Tikrit; news_num: 94; tweets_num: 567544\n",
      "12 Topic_name: Nigeria_Boko_Haram_terrorists; news_num: 243; tweets_num: 954810\n",
      "13 Topic_name: Ferguson_unrest; news_num: 611; tweets_num: 3406303\n",
      "14 Topic_name: Hong_Kong_protest; news_num: 157; tweets_num: 559130\n",
      "15 Topic_name: Sony_cyberattack; news_num: 275; tweets_num: 1890966\n",
      "16 Topic_name: Bill_Cosby_sexual_assault_allegation; news_num: 168; tweets_num: 636409\n",
      "17 Topic_name: SpaceX_rocket_landing; news_num: 86; tweets_num: 367488\n",
      "18 Topic_name: Brian_Williams_fake_story; news_num: 69; tweets_num: 475319\n",
      "19 Topic_name: HSBC_tax_scandal; news_num: 28; tweets_num: 78053\n",
      "20 Topic_name: David_Carr_death; news_num: 36; tweets_num: 133630\n",
      "21 Topic_name: Patriots_Deflategate; news_num: 44; tweets_num: 268590\n",
      "22 Topic_name: Delhi_Uber_driver_rape; news_num: 36; tweets_num: 381997\n",
      "23 Topic_name: Superbug_spread; news_num: 41; tweets_num: 240141\n",
      "24 Topic_name: Rudy_Giuliani_Obama_critique; news_num: 50; tweets_num: 284510\n",
      "25 Topic_name: Oscar; news_num: 241; tweets_num: 1902567\n",
      "26 Topic_name: Super_Bowl; news_num: 211; tweets_num: 1628441\n",
      "27 Topic_name: Grammy; news_num: 99; tweets_num: 674595\n",
      "28 Topic_name: Golden_Globe; news_num: 79; tweets_num: 826707\n",
      "29 Topic_name: 500_million_Powerball; news_num: 79; tweets_num: 515778\n",
      "30 Topic_name: Thanksgiving; news_num: 150; tweets_num: 1946168\n",
      "31 Topic_name: Black_Friday_and_Cyber_Monday; news_num: 121; tweets_num: 1511633\n",
      "32 Topic_name: Christmas; news_num: 237; tweets_num: 2628846\n",
      "33 Topic_name: New_Year; news_num: 69; tweets_num: 1053027\n",
      "34 Topic_name: Apple_Watch; news_num: 73; tweets_num: 608351\n",
      "35 Topic_name: Yosemite_historic_climb; news_num: 41; tweets_num: 107481\n",
      "36 Topic_name: Jon_Stewart_Daily_Show; news_num: 35; tweets_num: 246313\n",
      "37 Topic_name: success_of_American_Sniper; news_num: 155; tweets_num: 740376\n",
      "38 Topic_name: Ebola_virus_spread; news_num: 173; tweets_num: 888396\n",
      "39 Topic_name: Indonesia_AirAsia_Flight_QZ8501_crash; news_num: 258; tweets_num: 1213037\n",
      "40 Topic_name: Paris_attacks; news_num: 225; tweets_num: 1260586\n",
      "41 Topic_name: Vanuatu_Cyclone_Pam; news_num: 89; tweets_num: 409029\n",
      "42 Topic_name: Malaysia_Airlines_Flight_MH370_crash; news_num: 58; tweets_num: 529421\n",
      "43 Topic_name: Colorado_NAACP_bombing; news_num: 38; tweets_num: 345563\n",
      "44 Topic_name: FSU_shooting; news_num: 39; tweets_num: 171822\n",
      "45 Topic_name: Chapel_Hill_shooting; news_num: 37; tweets_num: 89304\n",
      "46 Topic_name: Bobbi_Kristina_Brown_death; news_num: 49; tweets_num: 129493\n",
      "47 Topic_name: Taliban_Pakistan_school_massacre; news_num: 80; tweets_num: 286289\n",
      "48 Topic_name: American_ISIS_Hostage_Kayla_Mueller; news_num: 38; tweets_num: 74058\n",
      "49 Topic_name: TransAsia_Airways_Flight_GE235_crash; news_num: 56; tweets_num: 220522\n",
      "50 Topic_name: Germanwings_Flight_9525_crash; news_num: 71; tweets_num: 341486\n"
     ]
    }
   ],
   "source": [
    "\"\"\"\n",
    "Test recover topics lst pkl\n",
    "\"\"\"\n",
    "if 0 == 1:\n",
    "    with open(config.TOPICS_LST_PKL, 'rb') as f:\n",
    "        topics_lst = pickle.load(f)\n",
    "    \n",
    "    for topic_ind, topic in enumerate(topics_lst):\n",
    "        print('{} Topic_name: {}; news_num: {}; tweets_num: {}'.format(topic_ind,\n",
    "                                                                       topic['name'],\n",
    "                                                                       len(topic['news_native_ids_lst']),\n",
    "                                                                       len(topic['tweets_ids_lst'])))"
   ]
  },
  {
   "cell_type": "markdown",
   "metadata": {
    "run_control": {
     "frozen": false,
     "read_only": false
    }
   },
   "source": [
    "## Check news titles and sample tweets of each topic"
   ]
  },
  {
   "cell_type": "code",
   "execution_count": 3,
   "metadata": {
    "collapsed": true,
    "run_control": {
     "frozen": false,
     "read_only": false
    }
   },
   "outputs": [],
   "source": [
    "\"\"\"\n",
    "Recover pkl\n",
    "\"\"\"\n",
    "if 1 == 1:\n",
    "    with open(config.TOPICS_LST_PKL, 'rb') as f:\n",
    "        topics_lst = pickle.load(f)"
   ]
  },
  {
   "cell_type": "code",
   "execution_count": 4,
   "metadata": {
    "collapsed": true,
    "run_control": {
     "frozen": false,
     "read_only": false
    }
   },
   "outputs": [],
   "source": [
    "\"\"\"\n",
    "Select topic\n",
    "\"\"\"\n",
    "if 1 == 1:\n",
    "    target_topic_ind = 26\n",
    "    topic = topics_lst[target_topic_ind]"
   ]
  },
  {
   "cell_type": "code",
   "execution_count": 9,
   "metadata": {
    "run_control": {
     "frozen": false,
     "read_only": false
    },
    "scrolled": true
   },
   "outputs": [
    {
     "name": "stdout",
     "output_type": "stream",
     "text": [
      "TOPIC: Hillary_Clinton_email_controversy; KEYWORDS: [('email', 'e-mail'), ('Hillary', 'Clinton')]\n",
      "2015-03-02: Hillary Clinton used private email account for State Department business\n",
      "2015-03-02: Hillary Clinton used personal email as Secretary of State\n",
      "2015-03-02: Hillary Clinton used private email account for State Department business\n",
      "2015-03-03: Hillary Clinton's Personal Email Use May Have Violated Federal Requirements ...\n",
      "2015-03-03: Report: Clinton only used personal e-mail at State\n",
      "2015-03-03: Hillary Clinton's use of private email address while Secretary of State draws scrutiny\n",
      "2015-03-03: Hillary Clinton Used Personal Email Account at State Dept., Possibly Breaking Rules\n",
      "2015-03-03: Clinton had no official State Dept. email address\n",
      "2015-03-03: Clinton aide: State Department e-mails preserved\n",
      "2015-03-03: Hillary Clinton illegally used a private email account, reports NYTimes (+video)\n",
      "2015-03-03: Hillary Clinton used private e-mail for government business at State Dept.\n",
      "2015-03-03: Hillary Clinton's State Department Email: What We Know About Her Use of a ...\n",
      "2015-03-03: Hillary Clinton Email: What the White House Said in 2011 That May Not Look ...\n",
      "2015-03-03: Clinton's Private E-Mail Use Ran Counter to Obama's Records Push\n",
      "2015-03-03: Hillary Clinton's Personal Email Use Differed from Other Top Officials\n",
      "2015-03-03: White House Won't Say if Hillary Clinton Broke Law by Using Personal Email at ...\n",
      "2015-03-03: Hillary Clinton Supporters Defend Her Use of Private Email Account\n",
      "2015-03-03: Hillary Clinton hidden emails taint Obama transparency vow, boost Benghazi probe\n",
      "2015-03-03: Hillary Clinton's experience with private e-mail account not unique\n",
      "2015-03-03: Clinton's e-mail practices contrary to official guidance\n",
      "2015-03-03: Hillary Clinton's team defends her email usage during her tenure at State\n",
      "2015-03-03: Democrats, State Department defend Hillary Clinton over email flap\n",
      "2015-03-03: Using Private Email, Hillary Clinton Thwarted Record Requests\n",
      "2015-03-03: Clinton avoids e-mail flap during EMILY's List speech\n",
      "2015-03-04: Hillary Clinton's use of private email not unusual, but still raises questions\n",
      "2015-03-04: Obama admin. fails to defend Hillary Clinton's email use\n",
      "2015-03-04: Hillary Clinton Teases Presidential Run, Avoids Email Scandal at Emily's List Gala\n",
      "2015-03-04: Hillary Clinton's email server traced to Internet service registered to NY home\n",
      "2015-03-04: Hillary Clinton ran own computer system for her official emails, tracing back to NY estate\n",
      "2015-03-04: No entitlement reform: Hillary email scandal reveals core weakness\n",
      "2015-03-04: Hillary Clinton ran her own email servers as Secretary of State\n",
      "2015-03-04: Hillary Clinton's E-Mail Woes Aren't Going Away Soon\n",
      "2015-03-04: Hillary Clinton e-mail uproar: Who is the mysterious 'Eric Hoteham'?\n",
      "2015-03-04: House committee to subpoena e-mails from Clinton's personal account\n",
      "2015-03-04: Hillary Clinton Had Own Computer Server for Official Emails\n",
      "2015-03-04: Why did Hillary Clinton rely on 'home-brew' e-mail server?\n",
      "2015-03-04: Everything We Know About Hillary Clinton's Email\n",
      "2015-03-04: Clinton facing mounting questions over efforts to stay off gov't email system\n",
      "2015-03-04: House Benghazi Committee Subpoenas Clinton's Personal Emails\n",
      "2015-03-04: House panel issues subpoenas for Clinton e-mails\n",
      "2015-03-04: Private email questions emerge as Clinton nears 2016 bid\n",
      "2015-03-04: GOP subpoenas Hillary Clinton for emails on her server\n",
      "2015-03-04: Membership in Clinton's Email Domain Is Remembered as a Mark of Status\n",
      "2015-03-05: Embattled Hillary Clinton urges State Department to release emails\n",
      "2015-03-05: Hillary Clinton asks State Dept. to release her e-mails\n",
      "2015-03-05: Hillary Clinton Asks State Dept. to Review Emails for Public Release\n",
      "2015-03-05: Hillary Clinton: 'I Want the Public to See My Email'\n",
      "2015-03-05: Hillary Clinton says she's asked State Department to make emails public\n",
      "2015-03-05: Hillary Clinton's Custom Email Based on Server Near Her Home\n",
      "2015-03-05: Under Scrutiny, Hillary Clinton Asks for State Department Emails to be Released\n",
      "2015-03-05: Hillary Clinton Responds To Email Controversy: 'I Want The Public To See My ...\n",
      "2015-03-05: Hillary Clinton Email Mystery Man: What We Know About Eric Hoteham\n",
      "2015-03-05: Clinton used personal email – but ousted ambassador was chastised for doing the same\n",
      "2015-03-05: Hillary Clinton asks State to release emails: What you need to know\n",
      "2015-03-05: Clinton private email violated 'clear-cut' State Dept. rules\n",
      "2015-03-05: Aide tied to past Clinton scandals surfaces in controversy over emails\n",
      "2015-03-05: Exclusive: Internal cable from Clinton State Department office barred use of personal email\n",
      "2015-03-05: Hillary's Email Escapade\n",
      "2015-03-05: Review of Hillary Clinton emails to take months: official\n",
      "2015-03-05: Lupica: Emails show Hillary Clinton can self-inflict woes\n",
      "2015-03-05: Exclusive: Internal cable from Clinton State Department office barred use of personal email\n",
      "2015-03-06: Review of Hillary Clinton emails to take months -US official\n",
      "2015-03-06: Hillary Clinton: 'I want the public to see my email'\n",
      "2015-03-06: It could be very long time before Hillary Clinton's State Department e-mails see ...\n",
      "2015-03-06: Ousted ambassador sounds off on Hillary email flap\n",
      "2015-03-06: Email Controversy Creates Two Lasting Issues for Hillary Clinton\n",
      "2015-03-06: Clinton's personal email use – despite clear rules – raises double-standard ...\n",
      "2015-03-06: Hillary Clinton emails: What's a 'homebrew' email server?\n",
      "2015-03-06: Clinton Email Flap Could Signal Political Trouble Ahead\n",
      "2015-03-06: Former ambassador under fire for private email use 'Very surprised' to learn that Clinton was doing same thing\n",
      "2015-03-06: Hillary Clinton Emails: A Timeline of What Rules Were Allegedly Ignored\n",
      "2015-03-06: 'How secure could it have been?' IT crowd questions if Hillary email could have ...\n",
      "2015-03-06: State Department Warned Against Private E-Mail Such as Clinton's\n",
      "2015-03-06: Clinton's emails: Secrets, security and the law\n",
      "2015-03-06: White House scrambles to answer when they learned of Clinton email habits\n",
      "2015-03-06: Clinton's emails: Secrets, security and the law\n",
      "2015-03-06: Bush finds Hillary Clinton's e-mail practice 'baffling'\n",
      "2015-03-06: White House defers questions on Hillary Clinton's private email use\n",
      "2015-03-07: White House scrambles to answer when they learned of Clinton email habits\n",
      "2015-03-07: Emails show Clinton aides running interference during Benghazi attack\n",
      "2015-03-07: What we know about Hillary Clinton's private email account\n",
      "2015-03-07: What we know about Hillary Clinton's private email account\n",
      "2015-03-07: Hillary?s Secret Email Was a Cyberspy?s Dream Weapon\n",
      "2015-03-07: Are Clinton's e-mails scandal or mere controversy? New evidence.\n",
      "2015-03-07: Are Hillary Clinton's e-mails scandal or mere controversy? New evidence.\n",
      "2015-03-07: Beyond Clinton, many 2016 hopefuls have used private email\n",
      "2015-03-07: Beyond Clinton, many 2016 hopefuls have used private email\n",
      "2015-03-07: Clinton's Private Email Account at Odds With State Department Policy\n",
      "2015-03-07: Best of the worst of exposed e-mails: Clinton, Ferguson and more\n",
      "2015-03-07: Obama Says Hillary's Private Email Account Was News To Him\n",
      "2015-03-07: Are Hillary Clinton's e-mails scandal or mere controversy? New evidence. (+video)\n",
      "2015-03-07: Hillary Clinton's email scandal sure fits the 'Bill'\n",
      "2015-03-08: Obama says he was not aware Clinton used private email\n",
      "2015-03-08: Hillary Clinton's email scandal certainly fits the 'Bill'\n",
      "2015-03-08: Obama praises Clinton for asking State Department to disclose emails\n",
      "2015-03-08: Obama Says He's 'Glad' Hillary Clinton Asked for Release of Emails\n",
      "2015-03-08: Obama says he learned of Clinton using private email through news reports\n",
      "2015-03-08: Top Clinton White House lawyer defends Hillary emails, but says probe OK\n",
      "2015-03-08: How Obama learned about Hillary Rodham Clinton's peculiar e-mail\n",
      "2015-03-08: Clinton possibly broke laws with personal email account: pol\n"
     ]
    }
   ],
   "source": [
    "'''\n",
    "Print associated news titles\n",
    "'''\n",
    "if 1 == 1:\n",
    "    print('TOPIC: {}; KEYWORDS: {}'.format(topic['name'], topic['keywords_lst']))\n",
    "    \n",
    "    # limit to first 100 news\n",
    "    news_native_ids_lst = topic['news_native_ids_lst'][:100]\n",
    "    \n",
    "    query_news = '''\n",
    "    select news_title, news_collected_time from news\n",
    "    where news_native_id = :news_native_id\n",
    "    order by news_native_id asc;'''\n",
    "\n",
    "    with sqlite3.connect(config.NEWS_TWEETS_DB_FILE) as conn:\n",
    "        conn.row_factory = sqlite3.Row\n",
    "        cursor = conn.cursor()\n",
    "        for news_native_id in news_native_ids_lst:\n",
    "            cursor.execute(query_news, {'news_native_id': news_native_id})\n",
    "            for row in cursor.fetchall():\n",
    "                print('{}: {}'.format(row['news_collected_time'], row['news_title']))"
   ]
  },
  {
   "cell_type": "code",
   "execution_count": 5,
   "metadata": {
    "run_control": {
     "frozen": false,
     "read_only": false
    },
    "scrolled": false
   },
   "outputs": [
    {
     "name": "stdout",
     "output_type": "stream",
     "text": [
      "TOPIC: Super_Bowl; KEYWORDS: ['Super Bowl']\n",
      "2014-11-23: Katy Perry to headline NFL's 2015 Super Bowl halftime show: NFL http://t.co/es7YFYORsj\n",
      "2014-11-23: Katy Perry to perform at #SuperBowlHalftimeShow  @katyperry http://t.co/fJWgC1ihZB\n",
      "2014-11-23: \"@pepsi: It's official! @katyperry will perform at the Pepsi Super Bowl XLIX #Halftime Show: http://t.co/w7tIYHMW6M http://t.co/uTpO5bjvPm\"\n",
      "2014-11-23: Katy Perry Hyped for Super Bowl Halftime Show, Watch Her Sneak Peek Promo Video http://t.co/BMLq88gMyj\n",
      "2014-11-23: “@nfl: .@katyperry will headline @pepsi @superbowl #halftime show: http://t.co/LpHf78vPSz http://t.co/8nLt3tv7aw” 😍😁 yaaa\n",
      "2014-11-23: Katy Perry ‘Testing Out Ideas’ For 2015 Super Bowl Halftime Show Performance: Rumors about… http://t.co/jIS7yM9JAT\n",
      "2014-11-23: #NFL finally announces #KatyPerry as next #SuperBowl halftime performer: Katy Perry, as long rumored, will headline… http://t.co/CosnhXgri5\n",
      "2014-11-23: http://t.co/cVWnDmsz82 NFL Announces Katy Perry Will Be Super Bowl Halftime Show Performer #SportsTap\n",
      "2014-11-23: Good Pick??????.....Katy Perry Will Officially Headline The Super Bowl Halftime Show...... http://t.co/h9jNoaUUt5\n",
      "2014-11-23: Super Bowl come faster ☺️😍 http://t.co/ni4iFWiorh\n",
      "2014-11-23: http://t.co/f4ZpVRVTP7 Katy Perry Hyped for Super Bowl Halftime Show, Watch Her Sneak Peek Promo Video #SoapCrush\n",
      "2014-11-23: Katy Perry Hyped for Super Bowl Halftime Show, Watch Her Sneak Peek Promo Video http://t.co/7BMMmFkfos\n",
      "2014-11-23: 1 less reason to have TV: MT @FOX17: #KatyPerry confirmed for this year's Super Bowl halftime: http://t.co/pG0cu9SLN3 http://t.co/z2AwZI3KwR\n",
      "2014-11-23: Katy Perry Hyped for Super Bowl Halftime Show, Watch Her Sneak Peek Promo Video: Katy Perry has been officially… http://t.co/GbCfulmTa5\n",
      "2014-11-23: Katy Perry Hyped for Super Bowl Halftime Show, Watch Her Sneak Peek Promo Video http://t.co/BUnBdb0jVx\n",
      "2014-11-23: Katy Perry Hyped for Super Bowl Halftime Show, Watch Her Sneak Peek Promo Video http://t.co/4DfE3RD5M3\n",
      "2014-11-23: Katy Perry Hyped for Super Bowl Halftime Show, Watch Her Sneak Peek Promo Video http://t.co/iFdhDsBtUL\n",
      "2014-11-23: Katy Perry Hyped for Super Bowl Halftime Show, Watch Her Sneak Peek Promo Video http://t.co/B4FOWSrolZ\n",
      "2014-11-23: Katy Perry Hyped for Super Bowl Halftime Show, Watch Her Sneak Peek Promo Video http://t.co/2zVIzZJVSf\n",
      "2014-11-23: Katy Perry to perform at 2015 Super Bowl halftime show - KARE http://t.co/FECFLGnIXE\n",
      "2014-11-23: Katy Perry to Perform at Super Bowl Halftime Show - ABC News http://t.co/dPVbGRwfnn\n",
      "2014-11-23: \"@NBCNews: You're gonna hear her roar: Katy Perry to headline NFL Super Bowl halftime show http://t.co/pAProiJ0Bx http://t.co/tbznAIsR9n\"\n",
      "2014-11-23: Why Katy Perry would win the Super Bowl halftime show - CNN - http://t.co/NMDicjxXiG\n",
      "2014-11-23: Katy Perry To Headline Super Bowl XLIX Halftime Show http://t.co/IYc3fW6Mjo\n",
      "2014-11-23: Katy perry's going do the superbowl halftime show this year\n",
      "2014-11-23: Huuumm “@pepsi: It's official! @KatyPerry will perform at the Super Bowl XLIX #Halftime Show: http://t.co/LsnLMuPu4w http://t.co/aPVlTn11NW”\n",
      "2014-11-23: Katy Perry To Headline Super Bowl Halftime Show http://t.co/GCTxwDWRw1 http://t.co/5nHH1Px05N\n",
      "2014-11-23: Why Katy Perry Would Win The Super Bowl Halftime Show: Why Katy Perry Would Win The Super Bowl Halftime Show G... http://t.co/IR9t0cLFs9\n",
      "2014-11-23: Katy Perry will headline Super Bowl halftime show: New York, NY (http://t.co/7OyfifuMPm) - Pop superstar Katy P... http://t.co/O3IG27sZ2T\n",
      "2014-11-23: It's official: Katy Perry to perform at Super Bowl halftime show: Katy Perry performs on stage at \"The Prismat... http://t.co/0aT7Er3UPG\n",
      "2014-11-23: Katy Perry teases Super Bowl halftime show: The worst kept secret in the NFL is finally out; Katy Perry is to ... http://t.co/cvY9UfoXDk\n",
      "2014-11-23: “@pepsi: It's official! @KatyPerry will perform at the Pepsi Super Bowl XLIX #Halftime Show: http://t.co/IjFf2vTVTI http://t.co/850devHpXj”😐\n",
      "2014-11-23: Katy Perry tapped to perform Super Bowl halftime show: Will Katy Perry be a firework at the Super Bowl? http://t.co/LXVA9rOdVd\n",
      "2014-11-23: Katy Perry to headline Super Bowl XLIX Halftime Show on NBC http://t.co/CmWPdHu3xa\n",
      "2014-11-23: Katy Perry Hyped for Super Bowl Halftime Show, Watch Her Sneak Peek Promo Video http://t.co/1BtnQDg5Qm #celebrity\n",
      "2014-11-23: USA: You're gonna hear her roar: Katy Perry to headline NFL Super Bowl halftime show http://t.co/HJO7X6MKXh http://t.co/iP5sa0ZVmz\n",
      "2014-11-23: Katy Perry tapped to perform Super Bowl halftime show - Fox News..  #amazingrace\n",
      "2014-11-23: NFL finally announces Katy Perry as next Super Bowl halftime performer http://t.co/ICVLBKIKrS #need2know\n",
      "2014-11-23: News: Why Katy Perry would win the Super Bowl halftime show - CNN http://t.co/X3mAvQYIlz\n",
      "2014-11-23: http://t.co/sBJ5NuEJIX Katy Perry Hyped for Super Bowl Halftime Show, Watch Her Sneak Peek Promo Video #Fanuendo http://t.co/njmNenrpZj\n",
      "2014-11-23: Katy Perry for SB halftime show. Did the NFL forget the Bengals fans? http://t.co/7MWD5DpwTL\n",
      "2014-11-23: Katy Perry Will Officially Headline The Super Bowl XLIX Halftime Show, And She Made A Video To Prove It http://t.co/uIZxvP70gp #sport\n",
      "2014-11-23: Katy Perry to perform at Super Bowl halftime show: Singer Katy Perry has been confirmed to headline... http://t.co/m6sXq1WPEX #SuperBowl\n",
      "2014-11-23: Katy Perry Hyped for Super Bowl Halftime Show, Watch Her Sneak Peek Promo Video: The \"Firework\" sin... http://t.co/tztGUPASgL #SuperBowl\n",
      "2014-11-23: From @NBCNews: Katy Perry to headline NFL Super Bowl halftime show http://t.co/7tzfIZZV0R http://t.co/fNd1EvBxZ7\n",
      "2014-11-23: Can you wrap me in bacon? “@katyperry: @SNFonNBC @NFL Yeppers! And I've already started testing out ideas! http://t.co/vnWwrZ8fHI #halftime”\n",
      "2014-11-23: Katy Perry to headline Super Bowl halftime show. Amazing entertainer: http://t.co/CEbTXkikAq\n",
      "2014-11-23: Katy Perry confirms she will rock the Super Bowl halftime show this year in Glendale, AZ. Super Bowl 49 is on WSFA 12 this year.\n",
      "2014-11-23: Katy Perry Hyped for Super Bowl Halftime Show, Watch Her Sneak Peek Promo Video http://t.co/oU0BR2zhiG\n",
      "2014-11-23: Can you wrap me in bacon? “@katyperry: @SNFonNBC @NFL Yeppers! And I've already started testing out ideas! http://t.co/i3KxJ5eoMA #halftime”\n",
      "2014-11-23: #Katy Perry Hyped for Super Bowl Halftime Show, Watch Her Sneak Peek Promo Video http://t.co/Eq2q8RQRk5\n",
      "2014-11-23: #Katy Perry Hyped for Super Bowl Halftime Show, Watch Her Sneak Peek Promo ... - Us Magazine http://t.co/xlEiDztF9V\n",
      "2014-11-23: Since Katy Perry is the Super Bowl Halftime show, I kinda wish it was being sponsored by Viagra.\n",
      "2014-11-23: NFL Announces Katy Perry Will Be Super Bowl Halftime Show Performer http://t.co/gIyxc15aeK\n",
      "2014-11-23: Katy Perry Hyped for Super Bowl Halftime Show, Watch Her Sneak Peek Promo ... - Us Magazine http://t.co/l6srHO0sx7\n",
      "2014-11-23: \"@WFAN660: It's official: @katyperry to headline Super Bowl halftime show | http://t.co/Rmp18N0SvA\" @mullrainee #wardrobemalfunction\n",
      "2014-11-23: Why Katy Perry would win the Super Bowl halftime show - CNN..  #PLL\n",
      "2014-11-23: Katy Perry: Super Bowl Halftime Show | Hyped for Halftime | Pepsi: http://t.co/xOuylk2vug via @YouTube\n",
      "2014-11-23: @T3mpu5_Fug1t \"@CBSNewYork: Katy Perry To Headline Super Bowl Halftime Show http://t.co/Rm46pfqQPI”\n",
      "2014-11-23: It's Official: Katy Perry Lands Super Bowl Halftime Show Gig http://t.co/Lx51axh2fq via @tcpalm\n",
      "2014-11-23: Katy Perry will be performing the Superbowl halftime show in February!  Watch her adorable promo video here: http://t.co/uHC5KJ2Gt7\n",
      "2014-11-23: Katy Perry will be performing the Superbowl halftime show in February!  Watch her adorable promo video here: http://t.co/R9cIvNuc5F\n",
      "2014-11-23: Katy Perry Hyped for Super Bowl Halfti... http://t.co/V85CblPXOH #katyperry #kpoverload | https://t.co/b8VxKuyNjG http://t.co/D0GjNxwqi2\n",
      "2014-11-23: Katie Perry 1/2 time show! The only thing that could make this year’s #SuperBowl gayer is if #MichaelSam gets to play http://t.co/Ij4lRdapHf\n",
      "2014-11-23: You're gonna hear her roar: Katy Perry to headline NFL Super Bowl halftime show http://t.co/wzeOAf7L6z http://t.co/k49gQZJWv9\n",
      "2014-11-23: If you want @CamKrohn to attend your Super Bowl party, refer to it as a Katy Perry Halftime Show party.\n",
      "2014-11-23: It's no longer a rumour, Katy Perry WILL perform the halftime show for the Superbowl in Feb. Will you watch? http://t.co/boBONzhlMv\n",
      "2014-11-23: .@katyperry to perform at Super Bowl halftime show http://t.co/ycRJIZNeCT\n",
      "2014-11-23: #Gossip #Celebrity Will Katy Perry's Super Bowl halftime show involve a fire-breathing shark? #Celebs http://t.co/K9X5uRWQDR\n",
      "2014-11-23: It's official: @katyperry to headline Super Bowl halftime show | http://t.co/VcUmRqZWXR\n",
      "2014-11-23: Katy Perry To Headline Super Bowl Halftime Show http://t.co/Wnt95K8gq3\n",
      "2014-11-23: Katy Perry To Headline Super Bowl Halftime Show http://t.co/zMxxIokfC2\n",
      "2014-11-23: Katy Perry tapped to perform Super Bowl halftime show - Fox News..  #PLL\n",
      "2014-11-23: \"It's official: @KatyPerry will be performing at the Super Bowl XLIX halftime show: http://t.co/CQgQqC8dYI\" V @billboard\n",
      "2014-11-23: NFL announces Super Bowl headliner after weeks of speculation: http://t.co/b8sVlB8VSl\n",
      "2014-11-23: Katy Perry to Headline the Super Bowl Halftime Show Sunday, February 1 on NBC http://t.co/pLkOlidXQh\n",
      "2014-11-23: Katy Perry to headline NFL\\'s 2015 Super Bowl halftime show: NFL(Orlando news) http://t.co/CyNCqAUA8z\n",
      "2014-11-23: Sexy #Style #Fashion Katy Perry to headline NFL's 2015 Super Bowl halftime show: NFL http://t.co/FbypgsCqTA #Pretty\n",
      "2014-11-23: Sexy #Style #Fashion Katy Perry gets the nod for Super Bowl XLIX halftime show http://t.co/a5j6w8E3Gd #Pretty\n",
      "2014-11-23: Katy Perry to headline NFL\\'s 2015 Super Bowl halftime show: NFL(Orlando news) http://t.co/gR7CV5zZqc\n",
      "2014-11-23: #Show #Entertainment Katy Perry lands Super Bowl Halftime Show gig http://t.co/F7VbWUxh9a #Beauty\n",
      "2014-11-23: #Show #Entertainment Katy Perry gets the nod for Super Bowl XLIX halftime show http://t.co/R6wctx9gVf #Beauty\n",
      "2014-11-23: Katy Perry to headline NFL\\'s 2015 Super Bowl halftime show: NFL(Orlando news) http://t.co/ladZVs8K8o\n",
      "2014-11-23: Katy Perry to headline NFL\\'s 2015 Super Bowl halftime show: NFL(Orlando news) http://t.co/qc4NQ7oiLh\n",
      "2014-11-23: Katy Perry to headline NFL\\'s 2015 Super Bowl halftime show: NFL(Orlando news) http://t.co/GIcFYdPcHT\n",
      "2014-11-23: Katy Perry to headline NFL\\'s 2015 Super Bowl halftime show: NFL(Orlando news) http://t.co/WHiCcctBKN\n",
      "2014-11-23: Katy Perry to headline NFL\\'s 2015 Super Bowl halftime show: NFL(Orlando news) http://t.co/kwvyCXXA0X\n",
      "2014-11-23: Katy Perry to headline NFL\\'s 2015 Super Bowl halftime show: NFL(Orlando news) http://t.co/Hv1bPvjqBd\n",
      "2014-11-23: Katy Perry to headline NFL\\'s 2015 Super Bowl halftime show: NFL(Orlando news) http://t.co/Sm1BEeRBMi\n",
      "2014-11-23: Katy Perry to headline NFL\\'s 2015 Super Bowl halftime show: NFL(Orlando news) http://t.co/4rFU0uVnHa\n",
      "2014-11-23: Katy Perry to headline NFL\\'s 2015 Super Bowl halftime show: NFL(Orlando news) http://t.co/CAZZw1d3al\n",
      "2014-11-23: Katy Perry to headline NFL\\'s 2015 Super Bowl halftime show: NFL(Orlando news) http://t.co/TKlR2ELNdZ\n",
      "2014-11-23: Katy Perry to headline NFL\\'s 2015 Super Bowl halftime show: NFL(Orlando news) http://t.co/PLQBlYsZoo\n",
      "2014-11-23: Katy Perry to Perform at Super Bowl Halftime Show - ABC News http://t.co/UeEBQ8Ae02\n",
      "2014-11-23: Katy Perry to headline NFL\\'s 2015 Super Bowl halftime show: NFL(Orlando news) http://t.co/7Lu03TqFQJ\n",
      "2014-11-23: Katy Perry to headline NFL\\'s 2015 Super Bowl halftime show: NFL(Orlando news) http://t.co/C7XCC2HYKA\n",
      "2014-11-23: Katy Perry to headline NFL\\'s 2015 Super Bowl halftime show: NFL(Orlando news) http://t.co/3LV6AFSmf5\n",
      "2014-11-23: Katy Perry to headline NFL\\'s 2015 Super Bowl halftime show: NFL(Orlando news) http://t.co/Bt3czIZX6C\n",
      "2014-11-23: Katy Perry to headline NFL\\'s 2015 Super Bowl halftime show: NFL(Orlando news) http://t.co/dwMboBL3CU\n",
      "2014-11-23: Katy Perry confirmed to perform at Super Bowl halftime show http://t.co/870CQwEvXd\n",
      "2014-11-23: NFL confirms Katy Perry will headline Super Bowl XLIX's halftime show: http://t.co/yxLvrIvUvL http://t.co/TzjJaBZ8ux\n",
      "2014-11-23: Super Bowl 2015: Katy Perry confirmed for halftime show with possibility of 'edible glitter': Source: ww... http://t.co/WCadHBrzW3 #tcot\n",
      "2014-11-23: #Entertainment #News Katy Perry to headline NFL's 2015 Super Bowl halftime show: NFL http://t.co/m6xXN466x1 #Fashion\n",
      "2014-11-23: It's official: this mega-pop star will create a \"Firework\" for the Pepsi Super Bowl Halftime Show Feb. 1. http://t.co/u8eyIwyi2f\n",
      "2014-11-23: #Style #Celebrity Katy Perry to Perform at 2015 Super Bowl Halftime Show #Gossip http://t.co/LWLETbhHrO\n",
      "2014-11-23: ★ ET InTheD | Katy Perry lands Super Bowl Halftime Show gig: The 30-year-old pop star becomes… http://t.co/SZVk9gzPZV | via @WXYZDetroit\n",
      "2014-11-23: NFL confirms Katy Perry will headline Super Bowl XLIX's halftime show: http://t.co/p5aL8nlvMV http://t.co/gMII22yg96\n",
      "2014-11-23: Katy Perry: Super Bowl Halftime Show | Hyped for Halftime | Pepsi: http://t.co/94pfveS7sE vía @YouTube\n",
      "2014-11-23: #Washington, D.C. Katy Perry to perform at Super Bowl halftime show http://t.co/KQ7yMd61KC @ABC7News\n",
      "2014-11-23: Katy Perry Will Officially Headline The Super Bowl XLIX Halftime Show, And She Made A Video To Prove It: Great... http://t.co/VY6wJhNEJN\n",
      "2014-11-23: Why Katy Perry would win the Super Bowl halftime show - CNN http://t.co/gSx9OL3TiL #celebritynews #140C\n",
      "2014-11-23: Katy gets Super Bowl halftime http://t.co/XxxMylcGmL http://t.co/O89jaF8gRn\n",
      "2014-11-23: Katy Perry ‘Testing Out Ideas’ For 2015 Super Bowl Halftime Show Performance http://t.co/Xoum15cNJa\n",
      "2014-11-23: \"@FoxNews: NFL taps Katy Perry to headline Super Bowl halftime show http://t.co/7yIkJbUbYt\" @JOPs315 :)\n",
      "2014-11-23: Katy Perry to headline Pepsi Super Bowl XLIX Halftime Show http://t.co/to4Xpl0Vnl\n",
      "2014-11-23: #Gossip #Entertainment Katy Perry to Perform at 2015 Super Bowl Halftime Show http://t.co/K45diQx5NQ #Celebs\n",
      "2014-11-23: How could they choose Katy Perry for the super bowl halftime show over Coldplay?\n",
      "2014-11-23: Katy Perry tapped to perform Super Bowl halftime show - Fox News..  #PLL\n",
      "2014-11-23: Katy Perry to Perform at Super Bowl Halftime Show https://t.co/RD8bGpvZ9M via @YahooMusic\n",
      "2014-11-23: It's Official: Katy Perry Headlining Super Bowl XLIX Halftime Show http://t.co/co4HNLnZOb #SmartNews\n",
      "2014-11-23: It's Official: Katy Perry Lands Super Bowl Halftime Show Gig http://t.co/ilE96zAle3 #ptbo\n",
      "2014-11-23: Katy Perry tapped to perform Super Bowl halftime show - Fox News..  #stern #sternshow\n",
      "2014-11-23: Katy Perry to Perform at Super Bowl XLIX Halftime Show http://t.co/KhLpbhOlL3 | https://t.co/Fgre7fBe7M http://t.co/IroO0KO1Bu\n",
      "2014-11-23: Why Katy Perry would win the Super Bowl halftime show - CNN http://t.co/AkbKpaht4l\n",
      "2014-11-23: Why Katy Perry would win the Super Bowl halftime show - CNN: CNNWhy Katy Perry would win the Super Bowl halfti... http://t.co/vAEluaGEFE\n",
      "2014-11-23: *** Why Katy Perry would win the Super Bowl halftime show - CNN http://t.co/yp0O515nUG\n",
      "2014-11-23: Why Katy Perry would win the Super Bowl halftime show - CNN: CNNWhy Katy Perry would win the Super Bowl halfti... http://t.co/WIgsayiztB\n",
      "2014-11-23: How about a silent show..\"@katyperry: .@SNFonNBC @NFL Yeppers! And I've already started testing out ideas! http://t.co/a6eKWbpPKG #halftime\"\n",
      "2014-11-23: Katy Perry to perform at Super Bowl halftime show (via http://t.co/VKgiT4bqAr) http://t.co/xj7kGHNhfN\n",
      "2014-11-23: Katy Perry lands Super Bowl Halftime Show gig: The 30-year-old pop star becomes the third female artist in four… http://t.co/ApuLbU24ky\n",
      "2014-11-23: It's Official: Katy Perry Lands Super Bowl Halftime Show Gig http://t.co/2hrPXfsvVj #KatyPerry http://t.co/TauaMvolv5\n",
      "2014-11-23: Super bowl just got ruined, really? Katy Perry for halftime show? seriously?\n",
      "2014-11-23: “@katyperry: .@SNFonNBC @NFL Yeppers! And I've already started testing out ideas! http://t.co/sLMHDld6Ez #halftime” 😭😭😭IM SO EXCITED😁🎈❤️🎀👠🎉🎉\n",
      "2014-11-23: #Katy Perry to perform at Super Bowl halftime show: http://t.co/qofZQQsUuB via @AOL\n",
      "2014-11-23: Super Bowl 2015: Katy Perry confirmed for halftime show with possibility of 'edible glitter' http://t.co/ZKupfOf0Ua\n",
      "2014-11-23: Katy Perry is doing the super bowl halftime show 😂😂 great\n",
      "2014-11-23: Katy Perry Performing in Super Bowl Halftime Show - http://t.co/Tr70xsQSIO http://t.co/gGZgV02yEU\n",
      "2014-11-23: Katy Perry to play Super Bowl XLIX halftime show - http://t.co/PkM9hbHKp3 http://t.co/c8S7MdK17Y\n",
      "2014-11-23: Katy Perry confirmed for Super Bowl Halftime show http://t.co/htkcDqcM4c #brunomars\n",
      "2014-11-23: Katy Perry to perform at 2015 Super Bowl Halftime Show 👏😍\n",
      "2014-11-23: Katy Perry: Super Bowl Halftime Show | Hyped for Halftime | Pepsi: http://t.co/aPbiV4uemw via @YouTube\n",
      "2014-11-23: “@FoxNews: NFL taps Katy Perry to headline Super Bowl halftime show http://t.co/p3mxSahvBr” what nfl fan listens to katy perry?\n",
      "2014-11-23: @Katy Perry tapped to perform Super Bowl halftime show - Fox News http://t.co/6tvwfwytVI\n",
      "2014-11-23: JLo should've been chosen 4 the Super Bowl #Halftime Show. But Katy's label paid 4 her backing tracks to play while she stiffly moves around\n",
      "2014-11-23: Katy Perry to play Super Bowl XLIX halftime show - http://t.co/15xXd8KAbj http://t.co/ZeM2hCHJqc\n",
      "2014-11-23: Katy Perry tapped to perform Super Bowl halftime show - Fox News..  #NYG #Giants #NFL\n",
      "2014-11-23: I liked a @YouTube video http://t.co/BFaYvjcETb Katy Perry: Super Bowl Halftime Show | Hyped for Halftime | Pepsi\n",
      "2014-11-23: BREAKING: Katy Perry tapped to perform Super Bowl halftime show - Fox News: Fox NewsKaty Pe... http://t.co/IVxf1pWm8G #Khaatumo #Khatumo\n",
      "2014-11-23: Katy Perry Officially Confirmed For Super Bowl XLIX Halftime Show. Watch The First Video Promo!!! http://t.co/ez7cszMo7B\n",
      "2014-11-23: Katy Perry is doing the superbowl halftime show idk how I feel about that\n"
     ]
    }
   ],
   "source": [
    "'''\n",
    "Print associated tweets\n",
    "'''\n",
    "if 1 == 1:\n",
    "    print('TOPIC: {}; KEYWORDS: {}'.format(topic['name'], topic['keywords_lst']))\n",
    "    \n",
    "    # limit to first 150 tweets\n",
    "    tweets_ids_lst = topic['tweets_ids_lst'][:150]\n",
    "    \n",
    "    query_tweets = '''\n",
    "    select tweet_text, tweet_collected_time from tweets\n",
    "    where tweet_id = :tweet_id\n",
    "    order by tweet_native_id asc;'''\n",
    "\n",
    "    with sqlite3.connect(config.NEWS_TWEETS_DB_FILE) as conn:\n",
    "        conn.row_factory = sqlite3.Row\n",
    "        cursor = conn.cursor()\n",
    "        for tweet_id in tweets_ids_lst:\n",
    "            cursor.execute(query_tweets, {'tweet_id': tweet_id})\n",
    "            for row in cursor.fetchall():\n",
    "                print('{}: {}'.format(row['tweet_collected_time'], row['tweet_text']))"
   ]
  }
 ],
 "metadata": {
  "kernelspec": {
   "display_name": "Python 3",
   "language": "python",
   "name": "python3"
  },
  "language_info": {
   "codemirror_mode": {
    "name": "ipython",
    "version": 3
   },
   "file_extension": ".py",
   "mimetype": "text/x-python",
   "name": "python",
   "nbconvert_exporter": "python",
   "pygments_lexer": "ipython3",
   "version": "3.6.2"
  },
  "toc": {
   "colors": {
    "hover_highlight": "#DAA520",
    "running_highlight": "#FF0000",
    "selected_highlight": "#FFD700"
   },
   "moveMenuLeft": true,
   "nav_menu": {
    "height": "12px",
    "width": "252px"
   },
   "navigate_menu": true,
   "number_sections": true,
   "sideBar": true,
   "threshold": "3",
   "toc_cell": false,
   "toc_section_display": "block",
   "toc_window_display": false,
   "widenNotebook": true
  }
 },
 "nbformat": 4,
 "nbformat_minor": 2
}
