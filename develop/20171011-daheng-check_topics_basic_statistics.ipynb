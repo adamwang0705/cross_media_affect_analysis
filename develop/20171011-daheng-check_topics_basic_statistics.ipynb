{
 "cells": [
  {
   "cell_type": "markdown",
   "metadata": {
    "run_control": {
     "frozen": false,
     "read_only": false
    }
   },
   "source": [
    "# Check basic statistics of manually selected topics\n",
    "**Objective**: make sure manually selected topics have high quality.  \n",
    " - Characteristic keywords: easy to regonize associated news.\n",
    " - Amout of disscussion: reasonable size of associated news and tweets\n",
    " - Consistent in meaning: no drift/disperse in content.\n",
    " - Evolution of event: reasonable time-span of associated news.\n",
    " \n",
    "Last modified: 2017-10-18"
   ]
  },
  {
   "cell_type": "markdown",
   "metadata": {
    "run_control": {
     "frozen": false,
     "read_only": false
    }
   },
   "source": [
    "# Roadmap\n",
    "1. Manually compile a list of topics with keywords\n",
    "2. Check number of associated news and tweets for each topic\n",
    "3. Check news titles and sample tweets of each topic\n",
    "4. Check time-span of each topic"
   ]
  },
  {
   "cell_type": "markdown",
   "metadata": {
    "run_control": {
     "frozen": false,
     "read_only": false
    }
   },
   "source": [
    "# Steps"
   ]
  },
  {
   "cell_type": "code",
   "execution_count": 1,
   "metadata": {
    "collapsed": true,
    "run_control": {
     "frozen": false,
     "read_only": false
    }
   },
   "outputs": [],
   "source": [
    "\"\"\"\n",
    "Initialization\n",
    "\"\"\"\n",
    "\n",
    "'''\n",
    "Standard modules\n",
    "'''\n",
    "import os\n",
    "import pickle\n",
    "import sqlite3\n",
    "import time\n",
    "from pprint import pprint\n",
    "\n",
    "'''\n",
    "Analysis modules\n",
    "'''\n",
    "import pandas as pd\n",
    "\n",
    "\n",
    "'''\n",
    "Custom modules\n",
    "'''\n",
    "import config\n",
    "import utilities\n",
    "\n",
    "'''\n",
    "Misc\n",
    "'''\n",
    "nb_name = '20171011-daheng-check_topics_basic_statistics'"
   ]
  },
  {
   "cell_type": "markdown",
   "metadata": {
    "run_control": {
     "frozen": false,
     "read_only": false
    }
   },
   "source": [
    "## Manually compile a list of topics with keywords\n",
    "Topics information (category, name, keywords_lst) are manually compiled into config.MANUALLY_SELECTED_TOPICS_LST"
   ]
  },
  {
   "cell_type": "code",
   "execution_count": 2,
   "metadata": {
    "run_control": {
     "frozen": false,
     "read_only": false
    },
    "scrolled": true
   },
   "outputs": [
    {
     "name": "stdout",
     "output_type": "stream",
     "text": [
      "(1/51) {'category': 'politics', 'name': 'Hillary_Clinton_email_controversy', 'keywords_lst': [('email', 'e-mail'), ('Hillary', 'Clinton')]}\n",
      "(2/51) {'category': 'politics', 'name': 'Iran_nuclear_deal', 'keywords_lst': ['Iran', 'nuclear']}\n",
      "(3/51) {'category': 'politics', 'name': 'ISIS_Jihadi_John_identity_reveal', 'keywords_lst': ['Jihadi John']}\n",
      "(4/51) {'category': 'politics', 'name': 'Ukraine_cease_fire', 'keywords_lst': [('cease-fire', 'ceasefire'), ('Ukraine', 'Russia')]}\n",
      "(5/51) {'category': 'politics', 'name': 'Egypt_free_Al_Jazeera_journalist', 'keywords_lst': [('Al Jazeera', 'Egypt'), ('Peter Greste', 'journalist')]}\n",
      "(6/51) {'category': 'politics', 'name': 'Keystone_XL_Pipeline_bill', 'keywords_lst': ['Keystone XL']}\n",
      "(7/51) {'category': 'politics', 'name': 'CIA_Torture_Report', 'keywords_lst': ['Torture Report']}\n",
      "(8/51) {'category': 'politics', 'name': 'Obama_cybersecurity_plan', 'keywords_lst': ['Obama', 'cyber']}\n",
      "(9/51) {'category': 'politics', 'name': 'DHS_funding_issue', 'keywords_lst': ['DHS', 'fund']}\n",
      "(10/51) {'category': 'politics', 'name': 'US_Cuba_relationship', 'keywords_lst': [('US', 'Obama'), ('Cuba', 'Castro')]}\n",
      "(11/51) {'category': 'politics', 'name': '2015_CPAC', 'keywords_lst': ['CPAC']}\n",
      "(12/51) {'category': 'politics', 'name': 'Iraq_free_ISIS_Tikrit', 'keywords_lst': ['Tikrit']}\n",
      "(13/51) {'category': 'politics', 'name': 'Nigeria_Boko_Haram_terrorists', 'keywords_lst': ['Boko Haram']}\n",
      "(14/51) {'category': 'social', 'name': 'Ferguson_unrest', 'keywords_lst': ['Ferguson']}\n",
      "(15/51) {'category': 'social', 'name': 'Hong_Kong_protest', 'keywords_lst': ['Hong Kong']}\n",
      "(16/51) {'category': 'social', 'name': 'Sony_cyberattack', 'keywords_lst': ['Sony']}\n",
      "(17/51) {'category': 'social', 'name': 'Bill_Cosby_sexual_assault_allegation', 'keywords_lst': ['Bill Cosby']}\n",
      "(18/51) {'category': 'social', 'name': 'SpaceX_rocket_landing', 'keywords_lst': ['SpaceX']}\n",
      "(19/51) {'category': 'social', 'name': 'Brian_Williams_fake_story', 'keywords_lst': ['Brian Williams']}\n",
      "(20/51) {'category': 'social', 'name': 'HSBC_tax_scandal', 'keywords_lst': ['HSBC']}\n",
      "(21/51) {'category': 'social', 'name': 'David_Carr_death', 'keywords_lst': ['David Carr']}\n",
      "(22/51) {'category': 'social', 'name': 'Patriots_Deflategate', 'keywords_lst': [('Deflategate', 'Deflate-gate')]}\n",
      "(23/51) {'category': 'social', 'name': 'Delhi_Uber_driver_rape', 'keywords_lst': ['Uber', ('rape', 'Delhi')]}\n",
      "(24/51) {'category': 'social', 'name': 'Superbug_spread', 'keywords_lst': ['Superbug']}\n",
      "(25/51) {'category': 'social', 'name': 'Rudy_Giuliani_Obama_critique', 'keywords_lst': ['Giuliani']}\n",
      "(26/51) {'category': 'entertainment', 'name': 'Oscar', 'keywords_lst': ['Oscar']}\n",
      "(27/51) {'category': 'entertainment', 'name': 'Super_Bowl', 'keywords_lst': ['Super Bowl']}\n",
      "(28/51) {'category': 'entertainment', 'name': 'Grammy', 'keywords_lst': ['Grammy']}\n",
      "(29/51) {'category': 'entertainment', 'name': 'Golden_Globe', 'keywords_lst': ['Golden Globe']}\n",
      "(30/51) {'category': 'entertainment', 'name': '500_million_Powerball', 'keywords_lst': ['Powerball']}\n",
      "(31/51) {'category': 'entertainment', 'name': 'Thanksgiving', 'keywords_lst': ['Thanksgiving']}\n",
      "(32/51) {'category': 'entertainment', 'name': 'Black_Friday_and_Cyber_Monday', 'keywords_lst': [('Black Friday', 'Cyber Monday')]}\n",
      "(33/51) {'category': 'entertainment', 'name': 'Christmas', 'keywords_lst': ['Christmas']}\n",
      "(34/51) {'category': 'entertainment', 'name': 'New_Year', 'keywords_lst': ['New Year']}\n",
      "(35/51) {'category': 'entertainment', 'name': 'Apple_Watch', 'keywords_lst': ['Apple Watch']}\n",
      "(36/51) {'category': 'entertainment', 'name': 'Yosemite_historic_climb', 'keywords_lst': [('Yosemite', 'El Capitan')]}\n",
      "(37/51) {'category': 'entertainment', 'name': 'Jon_Stewart_Daily_Show', 'keywords_lst': ['Jon Stewart']}\n",
      "(38/51) {'category': 'entertainment', 'name': 'success_of_American_Sniper', 'keywords_lst': ['American Sniper']}\n",
      "(39/51) {'category': 'tragedy', 'name': 'Ebola_virus_spread', 'keywords_lst': ['Ebola']}\n",
      "(40/51) {'category': 'tragedy', 'name': 'Indonesia_AirAsia_Flight_QZ8501_crash', 'keywords_lst': [('AirAsia', '8501')]}\n",
      "(41/51) {'category': 'tragedy', 'name': 'Paris_attacks', 'keywords_lst': ['Paris']}\n",
      "(42/51) {'category': 'tragedy', 'name': 'Vanuatu_Cyclone_Pam', 'keywords_lst': ['Vanuatu', 'Cyclone']}\n",
      "(43/51) {'category': 'tragedy', 'name': 'Malaysia_Airlines_Flight_MH370_crash', 'keywords_lst': ['370']}\n",
      "(44/51) {'category': 'tragedy', 'name': 'Colorado_NAACP_bombing', 'keywords_lst': ['NAACP']}\n",
      "(45/51) {'category': 'tragedy', 'name': 'FSU_shooting', 'keywords_lst': ['FSU']}\n",
      "(46/51) {'category': 'tragedy', 'name': 'Chapel_Hill_shooting', 'keywords_lst': ['Chapel Hill']}\n",
      "(47/51) {'category': 'entertainment', 'name': 'Bobbi_Kristina_Brown_death', 'keywords_lst': ['Bobbi Kristina Brown']}\n",
      "(48/51) {'category': 'tragedy', 'name': 'Taliban_Pakistan_school_massacre', 'keywords_lst': [('Pakistan', 'Taliban'), ('school', 'student', 'massacre')]}\n",
      "(49/51) {'category': 'tragedy', 'name': 'American_ISIS_Hostage_Kayla_Mueller', 'keywords_lst': ['Kayla Mueller']}\n",
      "(50/51) {'category': 'tragedy', 'name': 'TransAsia_Airways_Flight_GE235_crash', 'keywords_lst': [('TransAsia', 'Taiwan'), ('plane', 'crash', 'pilot', 'flight')]}\n",
      "(51/51) {'category': 'tragedy', 'name': 'Germanwings_Flight_9525_crash', 'keywords_lst': [('Germanwings', 'Lufthansa', '9525')]}\n"
     ]
    }
   ],
   "source": [
    "\"\"\"\n",
    "Print out manually selected topics information\n",
    "\"\"\"\n",
    "for topic_ind, topic in enumerate(config.MANUALLY_SELECTED_TOPICS_LST):\n",
    "    print('({}/{}) {}'.format(topic_ind+1, len(config.MANUALLY_SELECTED_TOPICS_LST), topic))"
   ]
  },
  {
   "cell_type": "markdown",
   "metadata": {
    "run_control": {
     "frozen": false,
     "read_only": false
    }
   },
   "source": [
    "## Check number of associated news and tweets for each topic"
   ]
  },
  {
   "cell_type": "markdown",
   "metadata": {
    "run_control": {
     "frozen": false,
     "read_only": false
    }
   },
   "source": [
    "### Build pickle for news_id and tweets_id associated with each topic"
   ]
  },
  {
   "cell_type": "code",
   "execution_count": 3,
   "metadata": {
    "run_control": {
     "frozen": true,
     "read_only": true
    },
    "scrolled": true
   },
   "outputs": [
    {
     "name": "stdout",
     "output_type": "stream",
     "text": [
      "(1/51) processing topic: Hillary_Clinton_email_controversy ... Wed Oct 18 17:01:55 2017\n",
      "(2/51) processing topic: Iran_nuclear_deal ... Wed Oct 18 17:02:03 2017\n",
      "(3/51) processing topic: ISIS_Jihadi_John_identity_reveal ... Wed Oct 18 17:02:14 2017\n",
      "(4/51) processing topic: Ukraine_cease_fire ... Wed Oct 18 17:02:22 2017\n",
      "(5/51) processing topic: Egypt_free_Al_Jazeera_journalist ... Wed Oct 18 17:02:30 2017\n",
      "(6/51) processing topic: Keystone_XL_Pipeline_bill ... Wed Oct 18 17:02:38 2017\n",
      "(7/51) processing topic: CIA_Torture_Report ... Wed Oct 18 17:02:45 2017\n",
      "(8/51) processing topic: Obama_cybersecurity_plan ... Wed Oct 18 17:02:53 2017\n",
      "(9/51) processing topic: DHS_funding_issue ... Wed Oct 18 17:03:01 2017\n",
      "(10/51) processing topic: US_Cuba_relationship ... Wed Oct 18 17:03:08 2017\n",
      "(11/51) processing topic: 2015_CPAC ... Wed Oct 18 17:03:17 2017\n",
      "(12/51) processing topic: Iraq_free_ISIS_Tikrit ... Wed Oct 18 17:03:25 2017\n",
      "(13/51) processing topic: Nigeria_Boko_Haram_terrorists ... Wed Oct 18 17:03:33 2017\n",
      "(14/51) processing topic: Ferguson_unrest ... Wed Oct 18 17:03:42 2017\n",
      "(15/51) processing topic: Hong_Kong_protest ... Wed Oct 18 17:03:54 2017\n",
      "(16/51) processing topic: Sony_cyberattack ... Wed Oct 18 17:04:03 2017\n",
      "(17/51) processing topic: Bill_Cosby_sexual_assault_allegation ... Wed Oct 18 17:04:13 2017\n",
      "(18/51) processing topic: SpaceX_rocket_landing ... Wed Oct 18 17:04:21 2017\n",
      "(19/51) processing topic: Brian_Williams_fake_story ... Wed Oct 18 17:04:29 2017\n",
      "(20/51) processing topic: HSBC_tax_scandal ... Wed Oct 18 17:04:37 2017\n",
      "(21/51) processing topic: David_Carr_death ... Wed Oct 18 17:04:45 2017\n",
      "(22/51) processing topic: Patriots_Deflategate ... Wed Oct 18 17:04:53 2017\n",
      "(23/51) processing topic: Delhi_Uber_driver_rape ... Wed Oct 18 17:05:01 2017\n",
      "(24/51) processing topic: Superbug_spread ... Wed Oct 18 17:05:09 2017\n",
      "(25/51) processing topic: Rudy_Giuliani_Obama_critique ... Wed Oct 18 17:05:17 2017\n",
      "(26/51) processing topic: Oscar ... Wed Oct 18 17:05:25 2017\n",
      "(27/51) processing topic: Super_Bowl ... Wed Oct 18 17:05:35 2017\n",
      "(28/51) processing topic: Grammy ... Wed Oct 18 17:05:45 2017\n",
      "(29/51) processing topic: Golden_Globe ... Wed Oct 18 17:05:55 2017\n",
      "(30/51) processing topic: 500_million_Powerball ... Wed Oct 18 17:06:03 2017\n",
      "(31/51) processing topic: Thanksgiving ... Wed Oct 18 17:06:12 2017\n",
      "(32/51) processing topic: Black_Friday_and_Cyber_Monday ... Wed Oct 18 17:06:23 2017\n",
      "(33/51) processing topic: Christmas ... Wed Oct 18 17:06:33 2017\n",
      "(34/51) processing topic: New_Year ... Wed Oct 18 17:06:44 2017\n",
      "(35/51) processing topic: Apple_Watch ... Wed Oct 18 17:06:55 2017\n",
      "(36/51) processing topic: Yosemite_historic_climb ... Wed Oct 18 17:07:04 2017\n",
      "(37/51) processing topic: Jon_Stewart_Daily_Show ... Wed Oct 18 17:07:12 2017\n",
      "(38/51) processing topic: success_of_American_Sniper ... Wed Oct 18 17:07:20 2017\n",
      "(39/51) processing topic: Ebola_virus_spread ... Wed Oct 18 17:07:30 2017\n",
      "(40/51) processing topic: Indonesia_AirAsia_Flight_QZ8501_crash ... Wed Oct 18 17:07:39 2017\n",
      "(41/51) processing topic: Paris_attacks ... Wed Oct 18 17:07:49 2017\n",
      "(42/51) processing topic: Vanuatu_Cyclone_Pam ... Wed Oct 18 17:07:59 2017\n",
      "(43/51) processing topic: Malaysia_Airlines_Flight_MH370_crash ... Wed Oct 18 17:08:08 2017\n",
      "(44/51) processing topic: Colorado_NAACP_bombing ... Wed Oct 18 17:08:16 2017\n",
      "(45/51) processing topic: FSU_shooting ... Wed Oct 18 17:08:27 2017\n",
      "(46/51) processing topic: Chapel_Hill_shooting ... Wed Oct 18 17:08:35 2017\n",
      "(47/51) processing topic: Bobbi_Kristina_Brown_death ... Wed Oct 18 17:08:43 2017\n",
      "(48/51) processing topic: Taliban_Pakistan_school_massacre ... Wed Oct 18 17:08:53 2017\n",
      "(49/51) processing topic: American_ISIS_Hostage_Kayla_Mueller ... Wed Oct 18 17:09:01 2017\n",
      "(50/51) processing topic: TransAsia_Airways_Flight_GE235_crash ... Wed Oct 18 17:09:09 2017\n",
      "(51/51) processing topic: Germanwings_Flight_9525_crash ... Wed Oct 18 17:09:19 2017\n",
      "CPU times: user 7min 28s, sys: 6.6 s, total: 7min 35s\n",
      "Wall time: 7min 36s\n"
     ]
    }
   ],
   "source": [
    "%%time\n",
    "\"\"\"\n",
    "Register\n",
    "    TOPICS_LST_PKL = os.path.join(DATA_DIR, 'topics.lst.pkl')\n",
    "in config.\n",
    "\"\"\"\n",
    "if 0 == 1:\n",
    "    supplement_topics_lst = []\n",
    "    \n",
    "    '''\n",
    "    Load in pickle for news data over selected period.\n",
    "    '''\n",
    "    news_period_df = pd.read_pickle(config.NEWS_PERIOD_DF_PKL)\n",
    " \n",
    "    for topic_ind, topic in enumerate(config.MANUALLY_SELECTED_TOPICS_LST):\n",
    "        localtime = time.asctime(time.localtime(time.time()))\n",
    "        print('({}/{}) processing topic: {} ... {}'.format(topic_ind+1,\n",
    "                                                           len(config.MANUALLY_SELECTED_TOPICS_LST),\n",
    "                                                           topic['name'],\n",
    "                                                           localtime))\n",
    "        '''\n",
    "        Match out associated news titles.\n",
    "        '''\n",
    "        asso_news_native_ids_lst = []\n",
    "        for ind, row in news_period_df.iterrows():\n",
    "            if utilities.news_title_match(row['news_title'], topic['keywords_lst'], verbose=False):\n",
    "                asso_news_native_ids_lst.append(row['news_native_id'])\n",
    "        \n",
    "        topic['news_native_ids_lst'] = asso_news_native_ids_lst\n",
    "        \n",
    "        '''\n",
    "        Query associated tweets\n",
    "        '''\n",
    "        asso_tweets_ids_lst = []\n",
    "        \n",
    "        query_news_tweets = '''\n",
    "        select tweet_id from tweets\n",
    "        where news_native_id = :news_native_id\n",
    "        order by tweet_id asc;'''\n",
    "        \n",
    "        with sqlite3.connect(config.NEWS_TWEETS_DB_FILE) as conn:\n",
    "            cursor = conn.cursor()\n",
    "            for news_native_id in topic['news_native_ids_lst']:\n",
    "                cursor.execute(query_news_tweets, {'news_native_id': news_native_id})\n",
    "                tweets_ids_lst = [item[0] for item in cursor.fetchall()]\n",
    "                asso_tweets_ids_lst.extend(tweets_ids_lst)\n",
    "                \n",
    "        topic['tweets_ids_lst'] = asso_tweets_ids_lst\n",
    "        \n",
    "        supplement_topics_lst.append(topic)\n",
    "    \n",
    "    '''\n",
    "    Make pickle\n",
    "    '''\n",
    "    with open(config.TOPICS_LST_PKL, 'wb') as f:\n",
    "        pickle.dump(supplement_topics_lst, f)"
   ]
  },
  {
   "cell_type": "markdown",
   "metadata": {
    "run_control": {
     "frozen": false,
     "read_only": false
    }
   },
   "source": [
    "### Recover pickle and print number of news and tweets for each topic"
   ]
  },
  {
   "cell_type": "code",
   "execution_count": 4,
   "metadata": {
    "run_control": {
     "frozen": true,
     "read_only": true
    },
    "scrolled": true
   },
   "outputs": [
    {
     "name": "stdout",
     "output_type": "stream",
     "text": [
      "0 Topic_name: Hillary_Clinton_email_controversy; news_num: 228; tweets_num: 860564\n",
      "1 Topic_name: Iran_nuclear_deal; news_num: 406; tweets_num: 2412264\n",
      "2 Topic_name: ISIS_Jihadi_John_identity_reveal; news_num: 101; tweets_num: 620121\n",
      "3 Topic_name: Ukraine_cease_fire; news_num: 84; tweets_num: 603709\n",
      "4 Topic_name: Egypt_free_Al_Jazeera_journalist; news_num: 50; tweets_num: 129120\n",
      "5 Topic_name: Keystone_XL_Pipeline_bill; news_num: 55; tweets_num: 117692\n",
      "6 Topic_name: CIA_Torture_Report; news_num: 41; tweets_num: 167362\n",
      "7 Topic_name: Obama_cybersecurity_plan; news_num: 73; tweets_num: 495576\n",
      "8 Topic_name: DHS_funding_issue; news_num: 45; tweets_num: 104911\n",
      "9 Topic_name: US_Cuba_relationship; news_num: 235; tweets_num: 1213314\n",
      "10 Topic_name: 2015_CPAC; news_num: 68; tweets_num: 289774\n",
      "11 Topic_name: Iraq_free_ISIS_Tikrit; news_num: 94; tweets_num: 567544\n",
      "12 Topic_name: Nigeria_Boko_Haram_terrorists; news_num: 243; tweets_num: 954810\n",
      "13 Topic_name: Ferguson_unrest; news_num: 611; tweets_num: 3406303\n",
      "14 Topic_name: Hong_Kong_protest; news_num: 157; tweets_num: 559130\n",
      "15 Topic_name: Sony_cyberattack; news_num: 275; tweets_num: 1890966\n",
      "16 Topic_name: Bill_Cosby_sexual_assault_allegation; news_num: 168; tweets_num: 636409\n",
      "17 Topic_name: SpaceX_rocket_landing; news_num: 86; tweets_num: 367488\n",
      "18 Topic_name: Brian_Williams_fake_story; news_num: 69; tweets_num: 475319\n",
      "19 Topic_name: HSBC_tax_scandal; news_num: 28; tweets_num: 78053\n",
      "20 Topic_name: David_Carr_death; news_num: 36; tweets_num: 133630\n",
      "21 Topic_name: Patriots_Deflategate; news_num: 44; tweets_num: 268590\n",
      "22 Topic_name: Delhi_Uber_driver_rape; news_num: 36; tweets_num: 381997\n",
      "23 Topic_name: Superbug_spread; news_num: 41; tweets_num: 240141\n",
      "24 Topic_name: Rudy_Giuliani_Obama_critique; news_num: 50; tweets_num: 284510\n",
      "25 Topic_name: Oscar; news_num: 241; tweets_num: 1902567\n",
      "26 Topic_name: Super_Bowl; news_num: 211; tweets_num: 1628441\n",
      "27 Topic_name: Grammy; news_num: 99; tweets_num: 674595\n",
      "28 Topic_name: Golden_Globe; news_num: 79; tweets_num: 826707\n",
      "29 Topic_name: 500_million_Powerball; news_num: 79; tweets_num: 515778\n",
      "30 Topic_name: Thanksgiving; news_num: 150; tweets_num: 1946168\n",
      "31 Topic_name: Black_Friday_and_Cyber_Monday; news_num: 121; tweets_num: 1511633\n",
      "32 Topic_name: Christmas; news_num: 237; tweets_num: 2628846\n",
      "33 Topic_name: New_Year; news_num: 69; tweets_num: 1053027\n",
      "34 Topic_name: Apple_Watch; news_num: 73; tweets_num: 608351\n",
      "35 Topic_name: Yosemite_historic_climb; news_num: 41; tweets_num: 107481\n",
      "36 Topic_name: Jon_Stewart_Daily_Show; news_num: 35; tweets_num: 246313\n",
      "37 Topic_name: success_of_American_Sniper; news_num: 155; tweets_num: 740376\n",
      "38 Topic_name: Ebola_virus_spread; news_num: 173; tweets_num: 888396\n",
      "39 Topic_name: Indonesia_AirAsia_Flight_QZ8501_crash; news_num: 258; tweets_num: 1213037\n",
      "40 Topic_name: Paris_attacks; news_num: 225; tweets_num: 1260586\n",
      "41 Topic_name: Vanuatu_Cyclone_Pam; news_num: 89; tweets_num: 409029\n",
      "42 Topic_name: Malaysia_Airlines_Flight_MH370_crash; news_num: 58; tweets_num: 529421\n",
      "43 Topic_name: Colorado_NAACP_bombing; news_num: 38; tweets_num: 345563\n",
      "44 Topic_name: FSU_shooting; news_num: 39; tweets_num: 171822\n",
      "45 Topic_name: Chapel_Hill_shooting; news_num: 37; tweets_num: 89304\n",
      "46 Topic_name: Bobbi_Kristina_Brown_death; news_num: 49; tweets_num: 129493\n",
      "47 Topic_name: Taliban_Pakistan_school_massacre; news_num: 80; tweets_num: 286289\n",
      "48 Topic_name: American_ISIS_Hostage_Kayla_Mueller; news_num: 38; tweets_num: 74058\n",
      "49 Topic_name: TransAsia_Airways_Flight_GE235_crash; news_num: 56; tweets_num: 220522\n",
      "50 Topic_name: Germanwings_Flight_9525_crash; news_num: 71; tweets_num: 341486\n"
     ]
    }
   ],
   "source": [
    "\"\"\"\n",
    "Test recover topics lst pkl\n",
    "\"\"\"\n",
    "if 0 == 1:\n",
    "    with open(config.TOPICS_LST_PKL, 'rb') as f:\n",
    "        topics_lst = pickle.load(f)\n",
    "    \n",
    "    for topic_ind, topic in enumerate(topics_lst):\n",
    "        print('{} Topic_name: {}; news_num: {}; tweets_num: {}'.format(topic_ind,\n",
    "                                                                       topic['name'],\n",
    "                                                                       len(topic['news_native_ids_lst']),\n",
    "                                                                       len(topic['tweets_ids_lst'])))"
   ]
  },
  {
   "cell_type": "markdown",
   "metadata": {
    "run_control": {
     "frozen": false,
     "read_only": false
    }
   },
   "source": [
    "## Check news titles and sample tweets of each topic"
   ]
  },
  {
   "cell_type": "code",
   "execution_count": 5,
   "metadata": {
    "collapsed": true,
    "run_control": {
     "frozen": false,
     "read_only": false
    }
   },
   "outputs": [],
   "source": [
    "\"\"\"\n",
    "Select a topic, print out name of topic\n",
    "\"\"\"\n",
    "if 1 == 1:\n",
    "    with open(config.TOPICS_LST_PKL, 'rb') as f:\n",
    "        topics_lst = pickle.load(f)\n",
    "    \n",
    "    topic = topics_lst[1]"
   ]
  },
  {
   "cell_type": "code",
   "execution_count": 6,
   "metadata": {
    "run_control": {
     "frozen": false,
     "read_only": false
    },
    "scrolled": true
   },
   "outputs": [
    {
     "name": "stdout",
     "output_type": "stream",
     "text": [
      "TOPIC: Iran_nuclear_deal; KEYWORDS: ['Iran', 'nuclear']\n",
      "2014-11-19: Britain 'not optimistic' on Iran nuclear talks\n",
      "2014-11-20: Kerry to Join Iran Nuclear Talks in Vienna\n",
      "2014-11-20: Kerry to travel to Vienna for Iran nuclear talks\n",
      "2014-11-20: Iran not providing explanations on nuclear claims: watchdog\n",
      "2014-11-20: For many Iranians, nuclear talks aren't about the sanctions\n",
      "2014-11-20: Iranians Count Sanctions Cost as Nuclear Accord Deadline Nears\n",
      "2014-11-20: Iran nuclear talks deadline may be extended to March: officials\n",
      "2014-11-20: Iran nuclear talks stuck, deadline may be extended officials\n",
      "2014-11-20: Kerry: Iran nuclear talks seek agreements not extension in upcoming deadline\n",
      "2014-11-20: Kerry Meets French Counterpart Ahead of Iran Nuclear Talks in Vienna\n",
      "2014-11-20: Iran nuclear talks stuck, deadline may be extended officials\n",
      "2014-11-20: Iran nuclear deal? Maybe with a small \"d\"\n",
      "2014-11-20: John Kerry Heads to Vienna for Iran Nuclear Talks\n",
      "2014-11-20: Middle East|US Lays Out Limits It Seeks in Iran Nuclear Talks\n",
      "2014-11-21: Iran nuclear talks stuck officials\n",
      "2014-11-21: UN chief urges 'flexibility' in jammed Iran nuclear talks\n",
      "2014-11-21: Iranian views on what nuclear deal might bring\n",
      "2014-11-21: The four key hurdles in the way of a nuclear deal with Iran\n",
      "2014-11-21: France tempers Iran nuclear stance in nod to wider diplomatic needs\n",
      "2014-11-21: Iran Nuclear Talks Enter 4th Day\n",
      "2014-11-21: Iran Nuclear Talks Extension Would Be Tougher Sell Second Time\n",
      "2014-11-21: John Kerry Joins Iran Nuclear Talks in Vienna\n",
      "2014-11-21: Kerry Meets Iranian FM as Nuclear Deadline Looms\n",
      "2014-11-21: John Kerry and Iranian Counterpart to Leave Nuclear Talks\n",
      "2014-11-21: Israeli intel: Iran nuclear deal unlikely by deadline; talks will be extended - Diplomacy and Defense Israel News\n",
      "2014-11-21: Iran, US, French officials to leave nuclear talks as deadline looms\n",
      "2014-11-21: UN nuclear agency says to discuss site access offer with Iran\n",
      "2014-11-21: Why the West will strike a nuclear deal with Iran\n",
      "2014-11-21: Q. and A.: The Difficulties in Reaching a Nuclear Agreement With Iran\n",
      "2014-11-21: John Kerry prolongs stay in Vienna to thrash out Iran nuclear deal\n",
      "2014-11-21: As deadline nears for Iran nuclear talks, how will opponents of a deal react?\n",
      "2014-11-21: US, Iran in last-ditch bid to clinch historic nuclear deal\n",
      "2014-11-21: Iran's nuclear negotiations\n",
      "2014-11-22: Kerry Intensifies Nuclear Talks With Iran\n",
      "2014-11-22: Iran nuclear talks may be extended as US sees 'big gaps'\n",
      "2014-11-22: Iran nuclear talks: The narcissism of minor differences the EU and US\n",
      "2014-11-22: Iran Nuclear Talks Count Down to Deadline With No Deal in Sight\n",
      "2014-11-22: Iran nuclear talks may be extended as US sees \"big gaps\"\n",
      "2014-11-22: Iran nuclear talks: Doubts over deal as deadline looms\n",
      "2014-11-23: Iran says final nuclear deal with major powers 'impossible' by November 24: ISNA\n",
      "2014-11-23: Few signs of movement as deadline for Iran nuclear agreement nears\n",
      "2014-11-23: Iran Nuclear Deal Compromise Sought as Tomorrow's Deadline Looms\n",
      "2014-11-23: Deadline for Iran nuclear deal looms; Russia, China could join talks\n",
      "2014-11-23: Iranians Ponder Economic Future as Nuclear Talks Near Deadline\n",
      "2014-11-23: Russian, Chinese Foreign Ministers to Go to Vienna for Iran Nuclear Talks\n",
      "2014-11-23: One Day Left to End 11-Year Nuclear Standoff With Iran; Lesser Pact Sought\n",
      "2014-11-23: Iran nuclear talks inch ahead as Monday deadline looms\n",
      "2014-11-23: Iran Nuclear Negotiators, Facing Deadline and Differences, Weigh Extending Talks\n",
      "2014-11-23: US tells Iran to consider nuclear talks extension\n",
      "2014-11-23: Iran nuclear deadline: Glimmer of hope amid doubts Tehran, world powers can negotiate deal\n",
      "2014-11-23: Iran nuclear talks: Diplomats ponder extending deadline\n",
      "2014-11-24: Iran nuclear deal: Deadline day brings talk of extension\n",
      "2014-11-24: Iran's nuclear D-Day\n",
      "2014-11-24: Iran and powers set to extend nuclear talks if final push fails\n",
      "2014-11-24: World Powers, Iran Make Final Push at Nuclear Talks Deadline\n",
      "2014-11-24: Iran and powers set to extend nuclear talks if final push fails\n",
      "2014-11-24: Iran nuclear talks expected to reconvene next month\n",
      "2014-11-24: Negotiators Plan to Extend Talks on Iran's Nuclear Program\n",
      "2014-11-24: Iran nuclear talks extended for 7 months amid impasse ahead of deadline\n",
      "2014-11-24: Iran nuclear talks: why the diplomats deserve a little more time\n",
      "2014-11-24: Will extension of Iran nuclear talks give opening to hardliners?\n",
      "2014-11-24: Iran nuclear talks extended, so Congress might turn up the heat\n",
      "2014-11-24: Kerry: Iran nuclear deadline extended seven months\n",
      "2014-11-24: Iran Nuclear Talks Extended Through June 30\n",
      "2014-11-24: Wary US Lawmakers Weigh Iran Nuclear-Talks Extension\n",
      "2014-11-24: Iran terms recent nuclear talks \"steps forward\" - Xinhua\n",
      "2014-11-24: Where do the Iran nuclear talks go from here?\n",
      "2014-11-24: Iran nuclear talks extended seven months after failing to meet deadline\n",
      "2014-11-24: Iran nuclear talks extended after deadline brings no deal\n",
      "2014-11-24: Iran nuclear talks: Optimism as deadline is extended\n",
      "2014-11-24: In nuclear talks, Iran isn't the only one being tested - Diplomacy and Defense Israel News\n",
      "2014-11-24: Middle East|Nuclear Deal Again Eludes US and Iran\n",
      "2014-11-25: France says Iran nuclear talks progressed on key issues including enrichment\n",
      "2014-11-25: France Senses Momentum In Iran Nuclear Talks\n",
      "2014-11-25: Iran's Supreme Leader Denounces West Over Extension of Nuclear Talks\n",
      "2014-11-25: Iran hardliners round on Rouhani but supreme leader backs more nuclear talks\n",
      "2014-11-25: Iran Leader Approves Further Nuclear Negotiations\n",
      "2014-11-25: Leaders Defend 'Progress' in Iran Nuclear Talks After Deadline Is Extended by Seven Months\n",
      "2014-11-25: Here's how Iran is responding to the failure of the nuclear talks\n",
      "2014-11-25: Iran leader approves further nuclear negotiations\n",
      "2014-11-25: Domestic Pressures in US, Iran Threaten Slow-Moving Nuclear Talks\n",
      "2014-11-26: Iran nuclear talks – victory for Tehran?\n",
      "2014-11-26: Republicans' clash with Barack Obama on Iran nuclear talks\n",
      "2014-11-27: Iran's leader doesn't oppose more nuclear talks\n",
      "2014-11-27: Iran's leader doesn't oppose more nuclear talks\n",
      "2014-11-27: Iran Supreme Leader says not opposed to extension of nuclear talks\n",
      "2014-11-27: Middle East|Iran's Supreme Leader Backs Extension of Nuclear Talks\n",
      "2014-11-27: Iran supreme leader backs nuclear talks extension\n",
      "2014-11-27: Iran's Supreme Leader Supports Extension of Nuclear Talks\n",
      "2014-11-27: A welcome extension on nuclear talks with Iran\n",
      "2014-11-28: Iran's leader says he's not opposed to more nuclear talks.\n",
      "2014-12-06: Biden: Chance of Nuclear Deal With Iran is Less Than 50-50\n",
      "2014-12-06: Biden sees 'less than even' chance of nuclear deal with Iran\n",
      "2015-01-17: War threat on Iran 'heightened' if nuclear talks fail, Obama warns\n",
      "2015-01-19: Nuclear talks will succeed only if pressure on Iran stops: Tehran\n",
      "2015-02-08: Netanyahu: Israel will do everything it can to halt Iran nuclear deal - Diplomacy and Defense - Israel News\n",
      "2015-02-08: Iran's Khamenei suggests would back nuclear compromise with West\n",
      "2015-02-08: Iran Presses for Progress in Nuclear Negotiations\n",
      "2015-02-08: Iran's Khamenei hints ready to accept fair nuclear deal as talks proceed\n",
      "2015-02-08: Kerry rules out extension on Iran nuclear talks\n"
     ]
    }
   ],
   "source": [
    "'''\n",
    "Print associated news titles\n",
    "'''\n",
    "if 1 == 1:\n",
    "    print('TOPIC: {}; KEYWORDS: {}'.format(topic['name'], topic['keywords_lst']))\n",
    "    \n",
    "    # limit to first 100 news\n",
    "    news_native_ids_lst = topic['news_native_ids_lst'][:100]\n",
    "    \n",
    "    query_news = '''\n",
    "    select news_title, news_collected_time from news\n",
    "    where news_native_id = :news_native_id\n",
    "    order by news_native_id asc;'''\n",
    "\n",
    "    with sqlite3.connect(config.NEWS_TWEETS_DB_FILE) as conn:\n",
    "        conn.row_factory = sqlite3.Row\n",
    "        cursor = conn.cursor()\n",
    "        for news_native_id in news_native_ids_lst:\n",
    "            cursor.execute(query_news, {'news_native_id': news_native_id})\n",
    "            for row in cursor.fetchall():\n",
    "                print('{}: {}'.format(row['news_collected_time'], row['news_title']))"
   ]
  },
  {
   "cell_type": "code",
   "execution_count": 7,
   "metadata": {
    "run_control": {
     "frozen": false,
     "read_only": false
    },
    "scrolled": true
   },
   "outputs": [
    {
     "name": "stdout",
     "output_type": "stream",
     "text": [
      "TOPIC: Iran_nuclear_deal; KEYWORDS: ['Iran', 'nuclear']\n",
      "2014-11-19: Us congress,JudgeTedPoe to convene hrg entitled Iranian Nuclear Talks: Negotiating a Bad Deal? http://t.co/WPkUx1jGLk  #Iran #NoNuclearIran\n",
      "2014-11-19: #Iran U.S. Nov. 24 Nuclear Deal:  Love Me, Love me not, Love Meeeeeeee http://t.co/sz4BubPbCs http://t.co/RQ95bU3xx1\n",
      "2014-11-19: #Event Today at2PM ET US. #Congress suspicion about Iran Nuke deal!  #IranTalksVienna http://t.co/WPkUx1jGLk  #Iran #NoNuclearIran\n",
      "2014-11-19: U.K. Official Says Deadline for Iran Talks Unlikely to Be Met (WSJ) http://t.co/LEeTKDHSRW\n",
      "2014-11-19: State of Play as Iran Talks Enter Final Week - Early Warning http://t.co/pMwIgLjKSM\n",
      "2014-11-19: Talks between US and Iran haunted by difficult history http://t.co/VXbr4i3O6w\n",
      "2014-11-19: Doubts about a nuclear deal with #Iran as talks near end #irantalks #IranTalksvienna http://t.co/z37eZmfwiB\n",
      "2014-11-19: #UN Rebukes #Iran on Human Rights as #Nuclear Talks Near Deadline http://t.co/IxeWoD1L08\n",
      "2014-11-19: #UN Rebukes #Iran on Human Rights as #Nuclear Talks Near Deadline http://t.co/IxeWoD1L08\n",
      "2014-11-19: Iran Nuke Talks Open With the Potential to Change Everything http://t.co/rPiKtR8oFD\n",
      "2014-11-19: Iranian Nuclear Talks Resume - http://t.co/6WqMVVwO6x\n",
      "2014-11-19: \"Let Iran be the ones who escalate\" http://t.co/C0PyNEwsUU\n",
      "2014-11-19: U.K. Official Says Deadline for Iran Talks Unlikely to Be Met http://t.co/ySulhEoZTw\n",
      "2014-11-19: Sen Shaheen asks \"what signs do we need to see to agree to an [Iran talks] extension.\" Blinken doesn't want to get into details in public...\n",
      "2014-11-19: Britain 'not optimistic' on Iran nuclear talks - Bangkok Post: Bangkok PostBritain 'not optimistic' on Iran nu... http://t.co/njHkYqn0Cj\n",
      "2014-11-19: An interesting interpretation in same media: Iran,US go face-to-face in crunch nuclear talks,New round of #IranTalks http://t.co/C2byMBbekg\n",
      "2014-11-19: U.K. Official Says Deadline for Iran Talks Unlikely to Be Met http://t.co/0YdqzqLIYU\n",
      "2014-11-19: U.K. Official Says Deadline for Iran Talks Unlikely to Be Met http://t.co/PT53yqCZPK #wsj http://t.co/9Mo2Wc8PhU\n",
      "2014-11-19: DTN Iran: Iranian Nuclear Talks: Negotiating a Bad Deal?: In his testimony before the House Subcommittee on Te... http://t.co/zsn5AsYzjP\n",
      "2014-11-19: U.K. Official Says Deadline for Iran Talks Unlikely to Be Met http://t.co/shKvOVEb4V\n",
      "2014-11-19: World Kerry Meets Twice With Iran Talks’ Top… http://t.co/ocy2aGjcOn #Middle_East #US_News #Arab_mediator #Iran #Iran_nuclear_talks\n",
      "2014-11-19: World Kerry Meets Twice With Iran Talks’ Top Mediator; Nuke Deal Still Unlikely: LONDON—U.S. Secretary of State… http://t.co/WRtmWw4KNu\n",
      "2014-11-19: World Kerry Meets Twice With #Iran Talks’ Top Mediator; Nuke Deal Still Unlikely: LONDON—U.S. Secretary of State… http://t.co/8brchDKpzp\n",
      "2014-11-19: World Kerry Meets Twice With Iran Talks’ Top Mediator;… http://t.co/NY7LL7g7PO #MiddleEast #USNews #Arabmediator #Iran #Irannucleartalks\n",
      "2014-11-19: World #Middle_East #US_News #Arab_mediator #Iran #Iran_nuclear_talks Kerry Meets Twice With Iran Talks’ Top… http://t.co/XRjAKwweum\n",
      "2014-11-19: World Kerry Meets Twice With #Iran Talks’ Top Mediator; Nuke Deal Still Unlikely: LONDON—U.S. Secretary of State… http://t.co/6ZDZcKw6Sn\n",
      "2014-11-19: World #Middle_East #US_News #Arab_mediator #Iran #Iran_nuclear_talks Kerry Meets Twice With Iran Talks’ Top… http://t.co/AFvjlEFKoW\n",
      "2014-11-19: World Kerry Meets Twice With #Iran Talks’ Top Mediator; Nuke Deal Still Unlikely: LONDON—U.S. Secretary of State… http://t.co/8DNR4ZvKri\n",
      "2014-11-19: World #Middle_East #US_News #Arab_mediator #Iran #Iran_nuclear_talks Kerry Meets Twice With Iran Talks’ Top… http://t.co/S8NnfDrz8t\n",
      "2014-11-19: World Kerry Meets Twice With Iran Talks’ Top… http://t.co/Bb1VKmTX6e #Middle_East #US_News #Arab_mediator #Iran #Iran_nuclear_talks\n",
      "2014-11-20: World Kerry Meets Twice With Iran Talks’ Top… http://t.co/Bb1VKmTX6e #Middle_East #US_News #Arab_mediator #Iran #Iran_nuclear_talks\n",
      "2014-11-19: World Kerry Meets Twice With #Iran Talks’ Top Mediator; Nuke Deal Still Unlikely: LONDON—U.S. Secretary of State… http://t.co/PiZ5KW7jUB\n",
      "2014-11-20: World Kerry Meets Twice With #Iran Talks’ Top Mediator; Nuke Deal Still Unlikely: LONDON—U.S. Secretary of State… http://t.co/PiZ5KW7jUB\n",
      "2014-11-19: World #Middle_East #US_News #Arab_mediator #Iran #Iran_nuclear_talks Kerry Meets Twice With Iran Talks’ Top… http://t.co/gCirVP3tTO\n",
      "2014-11-20: World #Middle_East #US_News #Arab_mediator #Iran #Iran_nuclear_talks Kerry Meets Twice With Iran Talks’ Top… http://t.co/gCirVP3tTO\n",
      "2014-11-19: World #MiddleEast #USNews #Arabmediator #Iran #Irannucleartalks Kerry Meets Twice With Iran Talks’ Top Mediator;… http://t.co/dxM2Cb924B\n",
      "2014-11-20: World #MiddleEast #USNews #Arabmediator #Iran #Irannucleartalks Kerry Meets Twice With Iran Talks’ Top Mediator;… http://t.co/dxM2Cb924B\n",
      "2014-11-19: World Kerry Meets Twice With Iran Talks’ Top Mediator; Nuke Deal Still Unlikely http://t.co/UIODNCSa2H #Middle_East #US_News\n",
      "2014-11-20: World Kerry Meets Twice With Iran Talks’ Top Mediator; Nuke Deal Still Unlikely http://t.co/UIODNCSa2H #Middle_East #US_News\n",
      "2014-11-19: World #Middle_East #US_News #Arab_mediator #Iran #Iran_nuclear_talks Kerry Meets Twice With Iran Talks’ Top… http://t.co/Gyd51pL1ha\n",
      "2014-11-20: World #Middle_East #US_News #Arab_mediator #Iran #Iran_nuclear_talks Kerry Meets Twice With Iran Talks’ Top… http://t.co/Gyd51pL1ha\n",
      "2014-11-19: World #Middle_East #US_News #Arab_mediator #Iran #Iran_nuclear_talks Kerry Meets Twice With Iran Talks’ Top… http://t.co/7MuTGMKs2a\n",
      "2014-11-20: World #Middle_East #US_News #Arab_mediator #Iran #Iran_nuclear_talks Kerry Meets Twice With Iran Talks’ Top… http://t.co/7MuTGMKs2a\n",
      "2014-11-19: World Kerry Meets Twice With #Iran Talks’ Top Mediator; Nuke Deal Still Unlikely http://t.co/8H92YsNBZB\n",
      "2014-11-20: World Kerry Meets Twice With #Iran Talks’ Top Mediator; Nuke Deal Still Unlikely http://t.co/8H92YsNBZB\n",
      "2014-11-19: World Kerry Meets Twice With #Iran Talks’ Top Mediator; Nuke Deal Still Unlikely: LONDON—U.S. Secretary of State… http://t.co/mlz88CPzRB\n",
      "2014-11-20: World Kerry Meets Twice With #Iran Talks’ Top Mediator; Nuke Deal Still Unlikely: LONDON—U.S. Secretary of State… http://t.co/mlz88CPzRB\n",
      "2014-11-19: \"#World News: Britain 'not optimistic' on Iran nuclear talks\": http://t.co/LkWto90mSN\n",
      "2014-11-19: U.K. Official Says Deadline for Iran Talks Unlikely to Be Met http://t.co/30l5R5t708 [Sale http://t.co/pAwiBtvDty ] #news\n",
      "2014-11-19: U.K. Official Says Deadline for Iran Talks Unlikely to Be Met http://t.co/FKeZvdfWPR (via http://t.co/NwbE2dj6vH) #BreakingNews\n",
      "2014-11-19: Kerry Meets Twice With #Iran Talks’ Top Mediator; Nuke Deal Still Unlikely http://t.co/lX1blLTp7q | Epoch Times\n",
      "2014-11-20: Kerry Meets Twice With #Iran Talks’ Top Mediator; Nuke Deal Still Unlikely http://t.co/lX1blLTp7q | Epoch Times\n",
      "2014-11-19: Obama's unilateral immigration action will suck away some media attention from the Iran talks, which is probably constructive.\n",
      "2014-11-19: New post: \"U.K. Official Says Deadline for Iran Talks Unlikely to Be Met\" http://t.co/0YdqzqLIYU\n",
      "2014-11-19: Iran nuke talks nearing deadline &amp; continued P5+1/Iran diplomacy likely. Spoiler risk: Congress, anxious allies. http://t.co/DQFxXXOA0d\n",
      "2014-11-19: #TopStories Iran says Vienna talks \"serious, intensive\" - Xinhua http://t.co/UFeMj02g02\n",
      "2014-11-19: #TopStories Iran says Vienna talks \"serious, intensive\" - Xinhua http://t.co/WCLpKZVpRq\n",
      "2014-11-19: #TopStories Iran says Vienna talks \"serious, intensive\" - Xinhua http://t.co/90oz8vbfYB\n",
      "2014-11-19: #TopStories Iran says Vienna talks \"serious, intensive\" - Xinhua http://t.co/hVfiGT1uRJ\n",
      "2014-11-19: #TopStories Iran says Vienna talks \"serious, intensive\" - Xinhua http://t.co/Kv0BdW0T2l\n",
      "2014-11-19: #TopStories Iran says Vienna talks \"serious, intensive\" - Xinhua http://t.co/KkNfIsOg4B\n",
      "2014-11-19: #TopStories Iran says Vienna talks \"serious, intensive\" - Xinhua http://t.co/LGWtwrT0Uw\n",
      "2014-11-19: #TopStories Iran says Vienna talks \"serious, intensive\" - Xinhua http://t.co/tnP9nktKPc\n",
      "2014-11-19: #TopStories Iran says Vienna talks \"serious, intensive\" - Xinhua http://t.co/zbRG8c0RO0\n",
      "2014-11-19: #TopStories Iran says Vienna talks \"serious, intensive\" - Xinhua http://t.co/faZ2GNoGeg\n",
      "2014-11-19: #TopStories Iran says Vienna talks \"serious, intensive\" - Xinhua http://t.co/k8fZZj6qrc\n",
      "2014-11-19: #TopStories Iran says Vienna talks \"serious, intensive\" - Xinhua http://t.co/VEVwp1u99q\n",
      "2014-11-19: #TopStories Iran says Vienna talks \"serious, intensive\" - Xinhua http://t.co/HkyS035Pk8\n",
      "2014-11-18: Iran says Vienna talks \"serious, intensive\" - Xinhua http://t.co/MvCzeZT765\n",
      "2014-11-19: Iran says Vienna talks \"serious, intensive\" - Xinhua http://t.co/MvCzeZT765\n",
      "2014-11-19: Iran says Vienna talks \"serious, intensive\" - Xinhua http://t.co/yATHc7gZgP\n",
      "2014-11-19: #TopStories Iran says Vienna talks \"serious, intensive\" - Xinhua http://t.co/efEeVvyKQh\n",
      "2014-11-19: #TopStories Iran says Vienna talks \"serious, intensive\" - Xinhua http://t.co/pNY7dGzHxU\n",
      "2014-11-19: #TopStories Iran says Vienna talks \"serious, intensive\" - Xinhua http://t.co/v8atwvkbcX\n",
      "2014-11-19: #TopStories Iran says Vienna talks \"serious, intensive\" - Xinhua http://t.co/LSHIq5WH5Y\n",
      "2014-11-19: Iranian Nuclear Talks: Negotiating a Bad Deal? http://t.co/aWtt5m5sSR\n",
      "2014-11-19: #Britain 'not optimistic' on Iran nuclear talks - The Daily Star http://t.co/Awg8VfsUyo\n",
      "2014-11-19: John Kerry in diplomatic overdrive on Iran nuclear deal, report @APDiploWriter + @bklapperAP. http://t.co/mWcUAQ6q0w\n",
      "2014-11-19: Iran nuclear talks – the Guardian briefing http://t.co/fOxl5IUjx2\n",
      "2014-11-19: Us congress,JudgeTedPoe to convene hrg entitled Iranian Nuclear Talks: Negotiating a Bad Deal? http://t.co/WzMb2kfVpZ   #Iran #NoNuclearIran\n",
      "2014-11-19: Iranian Nuclear Talks: Negotiating a Bad Deal? http://t.co/URZq7YUiTd\n",
      "2014-11-19: #Iran nuclear talks: The final stretch - http://t.co/I7HbxFrk62 http://t.co/6kGbt2qIUX\n",
      "2014-11-19: Iranian website affiliated with #IRGC reveals list of US demands from #Iran in Oman talks http://t.co/zyRxsgFPo2\n",
      "2014-11-19: Iran, US Go Face-to-face in Crunch Nuclear Talks http://t.co/0yJak5pgW4 http://t.co/nocryJv1Cw\n",
      "2014-11-19: Britain 'not optimistic' on Iran nuclear talks: VIENNA: Britain expressed doubts on Wednesday (Nov 19) that a ... http://t.co/QU1aKEqx5M\n",
      "2014-11-19: World Jailed Venezuelan Opposition Leader Leopoldo Lopez to… http://t.co/ZNpzvgieE3 #Americas #Arab_mediator #Iran #Iran_nuclear_talks\n",
      "2014-11-19: World #Americas #Arab_mediator #Iran #Iran_nuclear_talks Jailed Venezuelan Opposition Leader Leopoldo Lopez to Skip… http://t.co/VWRf2lWY5R\n",
      "2014-11-19: World #Americas #Arab_mediator #Iran #Iran_nuclear_talks Jailed Venezuelan Opposition Leader Leopoldo Lopez to Skip… http://t.co/BxPYd8AInN\n",
      "2014-11-19: World #Americas #Arab_mediator #Iran #Iran_nuclear_talks Jailed Venezuelan Opposition Leader Leopoldo Lopez to Skip… http://t.co/Hqw0h8x0hO\n",
      "2014-11-19: World #Americas #Arab_mediator #Iran #Iran_nuclear_talks Jailed Venezuelan Opposition Leader Leopoldo Lopez to Skip… http://t.co/wCzao6bG83\n",
      "2014-11-19: World Jailed Venezuelan Opposition Leader Leopoldo Lopez to… http://t.co/ZE3f366EY0 #Americas #Arab_mediator #Iran #Iran_nuclear_talks\n",
      "2014-11-19: World #Americas #Arab_mediator #Iran #Iran_nuclear_talks Jailed Venezuelan Opposition Leader Leopoldo Lopez to Skip… http://t.co/SwccAb2wA5\n",
      "2014-11-19: World #Americas #Arab_mediator #Iran #Iran_nuclear_talks Jailed Venezuelan Opposition Leader Leopoldo Lopez to Skip… http://t.co/0keEblj73r\n",
      "2014-11-19: Britain 'not optimistic' on Iran nuclear talks - Channel News Asia - http://t.co/EHXo3etKLT\n",
      "2014-11-19: Britain 'not optimistic' on Iran nuclear talks - Channel News Asia http://t.co/NdaH2L7iUV\n",
      "2014-11-19: Britain 'not optimistic' on Iran nuclear talks - Channel News Asia http://t.co/kfLfu9quVp\n",
      "2014-11-19: Britain 'not optimistic' on Iran nuclear talks - Channel News Asia http://t.co/23K5NjnzKB\n",
      "2014-11-19: #SuryaRay #Surya Britain 'not optimistic' on Iran nuclear talks - Channel News Asia http://t.co/lAaBFOeJul @suryaray @suryaray3\n",
      "2014-11-19: Britain 'not optimistic' on Iran nuclear talks - Channel News Asia http://t.co/RJgePrFFVk\n",
      "2014-11-19: Britain 'not optimistic' on Iran nuclear talks - Channel News Asia http://t.co/1NuvGHvxRw\n",
      "2014-11-19: Britain 'not optimistic' on Iran nuclear talks - Channel News Asia http://t.co/Ixpfv1TN6v\n",
      "2014-11-19: Britain 'not optimistic' on Iran nuclear talks - Channel News Asia http://t.co/Ed8Xwnj7oS\n",
      "2014-11-19: News: Britain 'not optimistic' on Iran nuclear talks - Channel News Asia http://t.co/OchjAgNcUq\n",
      "2014-11-19: Kerry in diplomatic overdrive on Iran nuclear deal http://t.co/NmN5qQKW0N\n",
      "2014-11-19: Britain 'not optimistic' on Iran nuclear talks - Channel News Asia http://t.co/SAFupcVpz3\n",
      "2014-11-19: Britain 'not optimistic' on Iran nuclear talks http://t.co/qmhg5aqgsa #civil_vision\n",
      "2014-11-19: Britain 'not optimistic' on Iran nuclear talks http://t.co/qmhg5aqgsa #Civil_Vision\n",
      "2014-11-19: \"You have a nice face\" Exclusive Leaked Transcript of the Iran Nuclear Talks: http://t.co/CkGPn0vyE8\n",
      "2014-11-19: Our Europe corr @SandraGathmann reporting live from Vienna on Iran talks from our live position @featurestory http://t.co/bZMmjnouQ6\n",
      "2014-11-19: Britain not optimistic on Iran nuclear talks - Channel News Asia..  #broadway\n",
      "2014-11-19: .@CASEnergy Coalition's Ron Kirk talks to @Morehouse physics students about value of #nuclear energy, future jobs. http://t.co/NJ6IRldWpW\n",
      "2014-11-19: Britain 'not optimistic' on Iran nuclear talks http://t.co/XcmZKnvL8O\n"
     ]
    }
   ],
   "source": [
    "'''\n",
    "Print associated tweets\n",
    "'''\n",
    "if 1 == 1:\n",
    "    print('TOPIC: {}; KEYWORDS: {}'.format(topic['name'], topic['keywords_lst']))\n",
    "    \n",
    "    # limit to first 100 tweets\n",
    "    tweets_native_ids_lst = topic['tweets_native_ids_lst'][:100]\n",
    "    \n",
    "    query_tweets = '''\n",
    "    select tweet_text, tweet_collected_time from tweets\n",
    "    where tweet_native_id = :tweet_native_id\n",
    "    order by tweet_native_id asc;'''\n",
    "\n",
    "    with sqlite3.connect(config.NEWS_TWEETS_DB_FILE) as conn:\n",
    "        conn.row_factory = sqlite3.Row\n",
    "        cursor = conn.cursor()\n",
    "        for tweet_native_id in tweets_native_ids_lst:\n",
    "            cursor.execute(query_tweets, {'tweet_native_id': tweet_native_id})\n",
    "            for row in cursor.fetchall():\n",
    "                print('{}: {}'.format(row['tweet_collected_time'], row['tweet_text']))"
   ]
  }
 ],
 "metadata": {
  "kernelspec": {
   "display_name": "Python 3",
   "language": "python",
   "name": "python3"
  },
  "language_info": {
   "codemirror_mode": {
    "name": "ipython",
    "version": 3
   },
   "file_extension": ".py",
   "mimetype": "text/x-python",
   "name": "python",
   "nbconvert_exporter": "python",
   "pygments_lexer": "ipython3",
   "version": "3.6.2"
  },
  "toc": {
   "colors": {
    "hover_highlight": "#DAA520",
    "running_highlight": "#FF0000",
    "selected_highlight": "#FFD700"
   },
   "moveMenuLeft": true,
   "nav_menu": {
    "height": "12px",
    "width": "252px"
   },
   "navigate_menu": true,
   "number_sections": true,
   "sideBar": true,
   "threshold": "3",
   "toc_cell": false,
   "toc_section_display": "block",
   "toc_window_display": false,
   "widenNotebook": true
  }
 },
 "nbformat": 4,
 "nbformat_minor": 2
}
