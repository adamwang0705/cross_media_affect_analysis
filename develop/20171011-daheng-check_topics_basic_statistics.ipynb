{
 "cells": [
  {
   "cell_type": "markdown",
   "metadata": {
    "run_control": {
     "frozen": false,
     "read_only": false
    }
   },
   "source": [
    "# Check basic statistics of manually selected topics\n",
    "**Objective**: make sure manually selected topics have high quality.  \n",
    " - Characteristic keywords: easy to regonize associated news.\n",
    " - Amout of disscussion: reasonable size of associated news and tweets\n",
    " - Consistent in meaning: no drift/disperse in content.\n",
    " - Evolution of event: reasonable time-span of associated news."
   ]
  },
  {
   "cell_type": "markdown",
   "metadata": {
    "run_control": {
     "frozen": false,
     "read_only": false
    }
   },
   "source": [
    "# Roadmap\n",
    "1. Manually compile a list of topics with keywords\n",
    "2. Check number of associated news and tweets for each topic\n",
    "3. Check news titles and sample tweets of each topic\n",
    "4. Check time-span of each topic"
   ]
  },
  {
   "cell_type": "markdown",
   "metadata": {
    "run_control": {
     "frozen": false,
     "read_only": false
    }
   },
   "source": [
    "# Steps"
   ]
  },
  {
   "cell_type": "code",
   "execution_count": 2,
   "metadata": {
    "collapsed": true,
    "run_control": {
     "frozen": false,
     "read_only": false
    }
   },
   "outputs": [],
   "source": [
    "\"\"\"\n",
    "Initialization\n",
    "\"\"\"\n",
    "\n",
    "'''\n",
    "Standard modules\n",
    "'''\n",
    "import os\n",
    "import pickle\n",
    "import sqlite3\n",
    "import time\n",
    "from pprint import pprint\n",
    "\n",
    "'''\n",
    "Analysis modules\n",
    "'''\n",
    "import pandas as pd\n",
    "\n",
    "\n",
    "'''\n",
    "Custom modules\n",
    "'''\n",
    "import config\n",
    "import utilities\n",
    "\n",
    "'''\n",
    "Misc\n",
    "'''\n",
    "nb_name = '20171011-daheng-check_topics_basic_statistics'"
   ]
  },
  {
   "cell_type": "markdown",
   "metadata": {
    "run_control": {
     "frozen": false,
     "read_only": false
    }
   },
   "source": [
    "## Manually compile a list of topics with keywords\n",
    "Topics information (category, name, keywords_lst) are manually compiled into config.MANUALLY_SELECTED_TOPICS_LST"
   ]
  },
  {
   "cell_type": "code",
   "execution_count": 3,
   "metadata": {
    "run_control": {
     "frozen": false,
     "read_only": false
    }
   },
   "outputs": [
    {
     "name": "stdout",
     "output_type": "stream",
     "text": [
      "{'category': 'politics', 'name': 'Hillary_Clinton_email_controversy', 'keywords_lst': [('email', 'e-mail'), ('Hillary', 'Clinton')]}\n",
      "{'category': 'politics', 'name': 'Iran_nuclear_deal', 'keywords_lst': ['Iran', 'nuclear']}\n",
      "{'category': 'politics', 'name': 'Jihadi_John_identity_reveled', 'keywords_lst': ['Jihadi John']}\n",
      "{'category': 'social', 'name': 'Ferguson_unrest', 'keywords_lst': ['Ferguson']}\n",
      "{'category': 'social', 'name': 'Hong_Kong_protests', 'keywords_lst': ['Hong Kong']}\n",
      "{'category': 'social', 'name': 'Sony_cyberattack', 'keywords_lst': ['Sony']}\n",
      "{'category': 'social', 'name': 'Bill_Cosby_sexual_assault_allegations ', 'keywords_lst': ['Bill Cosby']}\n",
      "{'category': 'social', 'name': 'SpaceX_fails_rocket_landing', 'keywords_lst': ['SpaceX']}\n",
      "{'category': 'social', 'name': 'Brian_Williams_fake_war_story  ', 'keywords_lst': ['Brian Williams']}\n",
      "{'category': 'entertainment', 'name': 'Oscar', 'keywords_lst': ['Oscar']}\n",
      "{'category': 'entertainment', 'name': 'Super_Bowl', 'keywords_lst': ['Super Bowl']}\n",
      "{'category': 'entertainment', 'name': 'Grammy', 'keywords_lst': ['Grammy']}\n",
      "{'category': 'entertainment', 'name': 'Golden_Globe', 'keywords_lst': ['Golden Globe']}\n",
      "{'category': 'entertainment', 'name': '500_million_Powerball', 'keywords_lst': ['Powerball']}\n",
      "{'category': 'disaster', 'name': 'Ebola_virus', 'keywords_lst': ['Ebola']}\n",
      "{'category': 'disaster', 'name': 'Indonesia_AirAsia_Flight_QZ8501', 'keywords_lst': [('AirAsia', '8501')]}\n",
      "{'category': 'disaster', 'name': 'Paris_attacks', 'keywords_lst': ['Paris']}\n",
      "{'category': 'disaster', 'name': 'Vanuatu_Cyclone_Pam', 'keywords_lst': ['Vanuatu', 'Cyclone']}\n",
      "{'category': 'disaster', 'name': 'Malaysia_Airlines_Flight_MH370', 'keywords_lst': ['370']}\n",
      "{'category': 'holiday', 'name': 'Thanksgiving', 'keywords_lst': ['Thanksgiving']}\n",
      "{'category': 'holiday', 'name': 'Black_Friday_and_Cyber_Monday', 'keywords_lst': [('Black Friday', 'Cyber Monday')]}\n",
      "{'category': 'holiday', 'name': 'Christmas', 'keywords_lst': ['Christmas']}\n",
      "{'category': 'holiday', 'name': 'New_Year', 'keywords_lst': ['New Year']}\n"
     ]
    }
   ],
   "source": [
    "\"\"\"\n",
    "Print out manually selected topics information\n",
    "\"\"\"\n",
    "for topic in config.MANUALLY_SELECTED_TOPICS_LST:\n",
    "    print(topic)"
   ]
  },
  {
   "cell_type": "markdown",
   "metadata": {
    "run_control": {
     "frozen": false,
     "read_only": false
    }
   },
   "source": [
    "## Check number of associated news and tweets for each topic"
   ]
  },
  {
   "cell_type": "markdown",
   "metadata": {
    "run_control": {
     "frozen": false,
     "read_only": false
    }
   },
   "source": [
    "### Build pickle for news and tweets native_id associated with each topic"
   ]
  },
  {
   "cell_type": "code",
   "execution_count": 4,
   "metadata": {
    "run_control": {
     "frozen": true,
     "read_only": true
    }
   },
   "outputs": [
    {
     "name": "stdout",
     "output_type": "stream",
     "text": [
      "(1/23) processing topic: Hillary_Clinton_email_controversy ... Thu Oct 12 12:56:00 2017\n",
      "(2/23) processing topic: Iran_nuclear_deal ... Thu Oct 12 12:56:10 2017\n",
      "(3/23) processing topic: Jihadi_John_identity_reveled ... Thu Oct 12 12:56:38 2017\n",
      "(4/23) processing topic: Ferguson_unrest ... Thu Oct 12 12:56:50 2017\n",
      "(5/23) processing topic: Hong_Kong_protests ... Thu Oct 12 12:57:25 2017\n",
      "(6/23) processing topic: Sony_cyberattack ... Thu Oct 12 12:57:38 2017\n",
      "(7/23) processing topic: Bill_Cosby_sexual_assault_allegations  ... Thu Oct 12 12:58:01 2017\n",
      "(8/23) processing topic: SpaceX_fails_rocket_landing ... Thu Oct 12 12:58:15 2017\n",
      "(9/23) processing topic: Brian_Williams_fake_war_story   ... Thu Oct 12 12:58:26 2017\n",
      "(10/23) processing topic: Oscar ... Thu Oct 12 12:58:38 2017\n",
      "(11/23) processing topic: Super_Bowl ... Thu Oct 12 12:58:58 2017\n",
      "(12/23) processing topic: Grammy ... Thu Oct 12 12:59:16 2017\n",
      "(13/23) processing topic: Golden_Globe ... Thu Oct 12 12:59:28 2017\n",
      "(14/23) processing topic: 500_million_Powerball ... Thu Oct 12 12:59:41 2017\n",
      "(15/23) processing topic: Ebola_virus ... Thu Oct 12 12:59:53 2017\n",
      "(16/23) processing topic: Indonesia_AirAsia_Flight_QZ8501 ... Thu Oct 12 13:00:09 2017\n",
      "(17/23) processing topic: Paris_attacks ... Thu Oct 12 13:00:28 2017\n",
      "(18/23) processing topic: Vanuatu_Cyclone_Pam ... Thu Oct 12 13:00:45 2017\n",
      "(19/23) processing topic: Malaysia_Airlines_Flight_MH370 ... Thu Oct 12 13:00:56 2017\n",
      "(20/23) processing topic: Thanksgiving ... Thu Oct 12 13:01:08 2017\n",
      "(21/23) processing topic: Black_Friday_and_Cyber_Monday ... Thu Oct 12 13:01:26 2017\n",
      "(22/23) processing topic: Christmas ... Thu Oct 12 13:01:42 2017\n",
      "(23/23) processing topic: New_Year ... Thu Oct 12 13:02:05 2017\n",
      "CPU times: user 4min 15s, sys: 16.7 s, total: 4min 32s\n",
      "Wall time: 6min 25s\n"
     ]
    }
   ],
   "source": [
    "%%time\n",
    "\"\"\"\n",
    "Register\n",
    "    TOPICS_LST_PKL = os.path.join(DATA_DIR, 'topics.lst.pkl')\n",
    "in config.\n",
    "\"\"\"\n",
    "if 0 == 1:\n",
    "    supplement_topics_lst = []\n",
    "    \n",
    "    '''\n",
    "    Load in pickle for news data over selected period.\n",
    "    '''\n",
    "    news_period_df = pd.read_pickle(config.NEWS_PERIOD_DF_PKL)\n",
    " \n",
    "    for topic_ind, topic in enumerate(config.MANUALLY_SELECTED_TOPICS_LST):\n",
    "        localtime = time.asctime(time.localtime(time.time()))\n",
    "        print('({}/{}) processing topic: {} ... {}'.format(topic_ind+1,\n",
    "                                                           len(config.MANUALLY_SELECTED_TOPICS_LST),\n",
    "                                                           topic['name'],\n",
    "                                                           localtime))\n",
    "        '''\n",
    "        Match out associated news titles.\n",
    "        '''\n",
    "        asso_news_native_ids_lst = []\n",
    "        for ind, row in news_period_df.iterrows():\n",
    "            if utilities.news_title_match(row['news_title'], topic['keywords_lst'], verbose=False):\n",
    "                asso_news_native_ids_lst.append(row['news_native_id'])\n",
    "        \n",
    "        topic['news_native_ids_lst'] = asso_news_native_ids_lst\n",
    "        \n",
    "        '''\n",
    "        Query associated tweets\n",
    "        '''\n",
    "        asso_tweets_native_ids_lst = []\n",
    "        \n",
    "        query_news_tweets = '''\n",
    "        select tweet_native_id from tweets\n",
    "        where news_native_id = :news_native_id\n",
    "        order by tweet_native_id asc;'''\n",
    "        \n",
    "        with sqlite3.connect(config.NEWS_TWEETS_DB_FILE) as conn:\n",
    "            cursor = conn.cursor()\n",
    "            for news_native_id in topic['news_native_ids_lst']:\n",
    "                cursor.execute(query_news_tweets, {'news_native_id': news_native_id})\n",
    "                tweets_native_ids_lst = [item[0] for item in cursor.fetchall()]\n",
    "                asso_tweets_native_ids_lst.extend(tweets_native_ids_lst)\n",
    "                \n",
    "        topic['tweets_native_ids_lst'] = asso_tweets_native_ids_lst\n",
    "        \n",
    "        supplement_topics_lst.append(topic)\n",
    "    \n",
    "    '''\n",
    "    Make pickle\n",
    "    '''\n",
    "    with open(config.TOPICS_LST_PKL, 'wb') as f:\n",
    "        pickle.dump(supplement_topics_lst, f)"
   ]
  },
  {
   "cell_type": "markdown",
   "metadata": {
    "run_control": {
     "frozen": false,
     "read_only": false
    }
   },
   "source": [
    "### Recover pickle and print number of news and tweets for each topic"
   ]
  },
  {
   "cell_type": "code",
   "execution_count": 6,
   "metadata": {
    "run_control": {
     "frozen": true,
     "read_only": true
    }
   },
   "outputs": [
    {
     "name": "stdout",
     "output_type": "stream",
     "text": [
      "0 Topic_name: Hillary_Clinton_email_controversy; news_num: 228; tweets_num: 860564\n",
      "1 Topic_name: Iran_nuclear_deal; news_num: 412; tweets_num: 2468540\n",
      "2 Topic_name: Jihadi_John_identity_reveled; news_num: 101; tweets_num: 620121\n",
      "3 Topic_name: Ferguson_unrest; news_num: 630; tweets_num: 3507025\n",
      "4 Topic_name: Hong_Kong_protests; news_num: 161; tweets_num: 572997\n",
      "5 Topic_name: Sony_cyberattack; news_num: 279; tweets_num: 1954894\n",
      "6 Topic_name: Bill_Cosby_sexual_assault_allegations ; news_num: 172; tweets_num: 681065\n",
      "7 Topic_name: SpaceX_fails_rocket_landing; news_num: 89; tweets_num: 397246\n",
      "8 Topic_name: Brian_Williams_fake_war_story  ; news_num: 69; tweets_num: 475319\n",
      "9 Topic_name: Oscar; news_num: 249; tweets_num: 1951701\n",
      "10 Topic_name: Super_Bowl; news_num: 213; tweets_num: 1633463\n",
      "11 Topic_name: Grammy; news_num: 101; tweets_num: 686425\n",
      "12 Topic_name: Golden_Globe; news_num: 81; tweets_num: 859308\n",
      "13 Topic_name: 500_million_Powerball; news_num: 80; tweets_num: 532111\n",
      "14 Topic_name: Ebola_virus; news_num: 178; tweets_num: 901969\n",
      "15 Topic_name: Indonesia_AirAsia_Flight_QZ8501; news_num: 263; tweets_num: 1214174\n",
      "16 Topic_name: Paris_attacks; news_num: 232; tweets_num: 1268622\n",
      "17 Topic_name: Vanuatu_Cyclone_Pam; news_num: 89; tweets_num: 409029\n",
      "18 Topic_name: Malaysia_Airlines_Flight_MH370; news_num: 59; tweets_num: 544549\n",
      "19 Topic_name: Thanksgiving; news_num: 150; tweets_num: 1946168\n",
      "20 Topic_name: Black_Friday_and_Cyber_Monday; news_num: 122; tweets_num: 1556165\n",
      "21 Topic_name: Christmas; news_num: 242; tweets_num: 2684136\n",
      "22 Topic_name: New_Year; news_num: 71; tweets_num: 1054650\n"
     ]
    }
   ],
   "source": [
    "\"\"\"\n",
    "Test recover topics lst pkl\n",
    "\"\"\"\n",
    "if 0 == 1:\n",
    "    with open(config.TOPICS_LST_PKL, 'rb') as f:\n",
    "        topics_lst = pickle.load(f)\n",
    "    \n",
    "    for topic_ind, topic in enumerate(topics_lst):\n",
    "        print('{} Topic_name: {}; news_num: {}; tweets_num: {}'.format(topic_ind,\n",
    "                                                                       topic['name'],\n",
    "                                                                       len(topic['news_native_ids_lst']),\n",
    "                                                                       len(topic['tweets_native_ids_lst'])))"
   ]
  },
  {
   "cell_type": "markdown",
   "metadata": {
    "run_control": {
     "frozen": false,
     "read_only": false
    }
   },
   "source": [
    "## Check news titles and sample tweets of each topic"
   ]
  },
  {
   "cell_type": "code",
   "execution_count": 10,
   "metadata": {
    "collapsed": true,
    "run_control": {
     "frozen": false,
     "read_only": false
    }
   },
   "outputs": [],
   "source": [
    "\"\"\"\n",
    "Select a topic, print out name of topic\n",
    "\"\"\"\n",
    "if 1 == 1:\n",
    "    with open(config.TOPICS_LST_PKL, 'rb') as f:\n",
    "        topics_lst = pickle.load(f)\n",
    "    \n",
    "    topic = topics_lst[0]"
   ]
  },
  {
   "cell_type": "code",
   "execution_count": 11,
   "metadata": {
    "run_control": {
     "frozen": false,
     "read_only": false
    },
    "scrolled": true
   },
   "outputs": [
    {
     "name": "stdout",
     "output_type": "stream",
     "text": [
      "TOPIC: Hillary_Clinton_email_controversy; KEYWORDS: [('email', 'e-mail'), ('Hillary', 'Clinton')]\n",
      "2015-03-02: Hillary Clinton used private email account for State Department business\n",
      "2015-03-02: Hillary Clinton used personal email as Secretary of State\n",
      "2015-03-02: Hillary Clinton used private email account for State Department business\n",
      "2015-03-03: Hillary Clinton's Personal Email Use May Have Violated Federal Requirements ...\n",
      "2015-03-03: Report: Clinton only used personal e-mail at State\n",
      "2015-03-03: Hillary Clinton's use of private email address while Secretary of State draws scrutiny\n",
      "2015-03-03: Hillary Clinton Used Personal Email Account at State Dept., Possibly Breaking Rules\n",
      "2015-03-03: Clinton had no official State Dept. email address\n",
      "2015-03-03: Clinton aide: State Department e-mails preserved\n",
      "2015-03-03: Hillary Clinton illegally used a private email account, reports NYTimes (+video)\n",
      "2015-03-03: Hillary Clinton used private e-mail for government business at State Dept.\n",
      "2015-03-03: Hillary Clinton's State Department Email: What We Know About Her Use of a ...\n",
      "2015-03-03: Hillary Clinton Email: What the White House Said in 2011 That May Not Look ...\n",
      "2015-03-03: Clinton's Private E-Mail Use Ran Counter to Obama's Records Push\n",
      "2015-03-03: Hillary Clinton's Personal Email Use Differed from Other Top Officials\n",
      "2015-03-03: White House Won't Say if Hillary Clinton Broke Law by Using Personal Email at ...\n",
      "2015-03-03: Hillary Clinton Supporters Defend Her Use of Private Email Account\n",
      "2015-03-03: Hillary Clinton hidden emails taint Obama transparency vow, boost Benghazi probe\n",
      "2015-03-03: Hillary Clinton's experience with private e-mail account not unique\n",
      "2015-03-03: Clinton's e-mail practices contrary to official guidance\n",
      "2015-03-03: Hillary Clinton's team defends her email usage during her tenure at State\n",
      "2015-03-03: Democrats, State Department defend Hillary Clinton over email flap\n",
      "2015-03-03: Using Private Email, Hillary Clinton Thwarted Record Requests\n",
      "2015-03-03: Clinton avoids e-mail flap during EMILY's List speech\n",
      "2015-03-04: Hillary Clinton's use of private email not unusual, but still raises questions\n",
      "2015-03-04: Obama admin. fails to defend Hillary Clinton's email use\n",
      "2015-03-04: Hillary Clinton Teases Presidential Run, Avoids Email Scandal at Emily's List Gala\n",
      "2015-03-04: Hillary Clinton's email server traced to Internet service registered to NY home\n",
      "2015-03-04: Hillary Clinton ran own computer system for her official emails, tracing back to NY estate\n",
      "2015-03-04: No entitlement reform: Hillary email scandal reveals core weakness\n",
      "2015-03-04: Hillary Clinton ran her own email servers as Secretary of State\n",
      "2015-03-04: Hillary Clinton's E-Mail Woes Aren't Going Away Soon\n",
      "2015-03-04: Hillary Clinton e-mail uproar: Who is the mysterious 'Eric Hoteham'?\n",
      "2015-03-04: House committee to subpoena e-mails from Clinton's personal account\n",
      "2015-03-04: Hillary Clinton Had Own Computer Server for Official Emails\n",
      "2015-03-04: Why did Hillary Clinton rely on 'home-brew' e-mail server?\n",
      "2015-03-04: Everything We Know About Hillary Clinton's Email\n",
      "2015-03-04: Clinton facing mounting questions over efforts to stay off gov't email system\n",
      "2015-03-04: House Benghazi Committee Subpoenas Clinton's Personal Emails\n",
      "2015-03-04: House panel issues subpoenas for Clinton e-mails\n",
      "2015-03-04: Private email questions emerge as Clinton nears 2016 bid\n",
      "2015-03-04: GOP subpoenas Hillary Clinton for emails on her server\n",
      "2015-03-04: Membership in Clinton's Email Domain Is Remembered as a Mark of Status\n",
      "2015-03-05: Embattled Hillary Clinton urges State Department to release emails\n",
      "2015-03-05: Hillary Clinton asks State Dept. to release her e-mails\n",
      "2015-03-05: Hillary Clinton Asks State Dept. to Review Emails for Public Release\n",
      "2015-03-05: Hillary Clinton: 'I Want the Public to See My Email'\n",
      "2015-03-05: Hillary Clinton says she's asked State Department to make emails public\n",
      "2015-03-05: Hillary Clinton's Custom Email Based on Server Near Her Home\n",
      "2015-03-05: Under Scrutiny, Hillary Clinton Asks for State Department Emails to be Released\n",
      "2015-03-05: Hillary Clinton Responds To Email Controversy: 'I Want The Public To See My ...\n",
      "2015-03-05: Hillary Clinton Email Mystery Man: What We Know About Eric Hoteham\n",
      "2015-03-05: Clinton used personal email – but ousted ambassador was chastised for doing the same\n",
      "2015-03-05: Hillary Clinton asks State to release emails: What you need to know\n",
      "2015-03-05: Clinton private email violated 'clear-cut' State Dept. rules\n",
      "2015-03-05: Aide tied to past Clinton scandals surfaces in controversy over emails\n",
      "2015-03-05: Exclusive: Internal cable from Clinton State Department office barred use of personal email\n",
      "2015-03-05: Hillary's Email Escapade\n",
      "2015-03-05: Review of Hillary Clinton emails to take months: official\n",
      "2015-03-05: Lupica: Emails show Hillary Clinton can self-inflict woes\n",
      "2015-03-05: Exclusive: Internal cable from Clinton State Department office barred use of personal email\n",
      "2015-03-06: Review of Hillary Clinton emails to take months -US official\n",
      "2015-03-06: Hillary Clinton: 'I want the public to see my email'\n",
      "2015-03-06: It could be very long time before Hillary Clinton's State Department e-mails see ...\n",
      "2015-03-06: Ousted ambassador sounds off on Hillary email flap\n",
      "2015-03-06: Email Controversy Creates Two Lasting Issues for Hillary Clinton\n",
      "2015-03-06: Clinton's personal email use – despite clear rules – raises double-standard ...\n",
      "2015-03-06: Hillary Clinton emails: What's a 'homebrew' email server?\n",
      "2015-03-06: Clinton Email Flap Could Signal Political Trouble Ahead\n",
      "2015-03-06: Former ambassador under fire for private email use 'Very surprised' to learn that Clinton was doing same thing\n",
      "2015-03-06: Hillary Clinton Emails: A Timeline of What Rules Were Allegedly Ignored\n",
      "2015-03-06: 'How secure could it have been?' IT crowd questions if Hillary email could have ...\n",
      "2015-03-06: State Department Warned Against Private E-Mail Such as Clinton's\n",
      "2015-03-06: Clinton's emails: Secrets, security and the law\n",
      "2015-03-06: White House scrambles to answer when they learned of Clinton email habits\n",
      "2015-03-06: Clinton's emails: Secrets, security and the law\n",
      "2015-03-06: Bush finds Hillary Clinton's e-mail practice 'baffling'\n",
      "2015-03-06: White House defers questions on Hillary Clinton's private email use\n",
      "2015-03-07: White House scrambles to answer when they learned of Clinton email habits\n",
      "2015-03-07: Emails show Clinton aides running interference during Benghazi attack\n",
      "2015-03-07: What we know about Hillary Clinton's private email account\n",
      "2015-03-07: What we know about Hillary Clinton's private email account\n",
      "2015-03-07: Hillary?s Secret Email Was a Cyberspy?s Dream Weapon\n",
      "2015-03-07: Are Clinton's e-mails scandal or mere controversy? New evidence.\n",
      "2015-03-07: Are Hillary Clinton's e-mails scandal or mere controversy? New evidence.\n",
      "2015-03-07: Beyond Clinton, many 2016 hopefuls have used private email\n",
      "2015-03-07: Beyond Clinton, many 2016 hopefuls have used private email\n",
      "2015-03-07: Clinton's Private Email Account at Odds With State Department Policy\n",
      "2015-03-07: Best of the worst of exposed e-mails: Clinton, Ferguson and more\n",
      "2015-03-07: Obama Says Hillary's Private Email Account Was News To Him\n",
      "2015-03-07: Are Hillary Clinton's e-mails scandal or mere controversy? New evidence. (+video)\n",
      "2015-03-07: Hillary Clinton's email scandal sure fits the 'Bill'\n",
      "2015-03-08: Obama says he was not aware Clinton used private email\n",
      "2015-03-08: Hillary Clinton's email scandal certainly fits the 'Bill'\n",
      "2015-03-08: Obama praises Clinton for asking State Department to disclose emails\n",
      "2015-03-08: Obama Says He's 'Glad' Hillary Clinton Asked for Release of Emails\n",
      "2015-03-08: Obama says he learned of Clinton using private email through news reports\n",
      "2015-03-08: Top Clinton White House lawyer defends Hillary emails, but says probe OK\n",
      "2015-03-08: How Obama learned about Hillary Rodham Clinton's peculiar e-mail\n",
      "2015-03-08: Clinton possibly broke laws with personal email account: pol\n"
     ]
    }
   ],
   "source": [
    "'''\n",
    "Print associated news titles\n",
    "'''\n",
    "if 1 == 1:\n",
    "    print('TOPIC: {}; KEYWORDS: {}'.format(topic['name'], topic['keywords_lst']))\n",
    "    \n",
    "    # limit to first 100 news\n",
    "    news_native_ids_lst = topic['news_native_ids_lst'][:100]\n",
    "    \n",
    "    query_news = '''\n",
    "    select news_title, news_collected_time from news\n",
    "    where news_native_id = :news_native_id\n",
    "    order by news_native_id asc;'''\n",
    "\n",
    "    with sqlite3.connect(config.NEWS_TWEETS_DB_FILE) as conn:\n",
    "        conn.row_factory = sqlite3.Row\n",
    "        cursor = conn.cursor()\n",
    "        for news_native_id in news_native_ids_lst:\n",
    "            cursor.execute(query_news, {'news_native_id': news_native_id})\n",
    "            for row in cursor.fetchall():\n",
    "                print('{}: {}'.format(row['news_collected_time'], row['news_title']))"
   ]
  },
  {
   "cell_type": "code",
   "execution_count": 12,
   "metadata": {
    "run_control": {
     "frozen": false,
     "read_only": false
    },
    "scrolled": true
   },
   "outputs": [
    {
     "name": "stdout",
     "output_type": "stream",
     "text": [
      "TOPIC: Hillary_Clinton_email_controversy; KEYWORDS: [('email', 'e-mail'), ('Hillary', 'Clinton')]\n",
      "2015-03-02: Crazy .. Hillary Clinton used private email account for State Department business - Politico: PoliticoHil... http://t.co/uNtOqTyFAd wt f\n",
      "2015-03-02: Crazy .. Hillary Clinton used private email account for State Department business - Politico: PoliticoHil... http://t.co/XfNyZyVXNA wt f\n",
      "2015-03-02: Crazy .. Hillary Clinton used private email account for State Department business - Politico: PoliticoHil... http://t.co/ILy6p3ZAq1 wt f\n",
      "2015-03-02: Hillary Clinton used private email account for State Department business http://t.co/DQxkuxwXNn\n",
      "2015-03-02: Crazy .. Hillary Clinton used private email account for State Department business - Politico: PoliticoHil... http://t.co/LhYJ3vVmzx wt f\n",
      "2015-03-02: Hillary Clinton used private email for State Department business http://t.co/QzZeLpQ8EA #hashtag\n",
      "2015-03-02: Crazy .. Hillary Clinton used private email account for State Department business - Politico: PoliticoHil... http://t.co/vEpzARNaie wt f\n",
      "2015-03-02: Crazy .. Hillary Clinton used private email account for State Department business - Politico: PoliticoHil... http://t.co/pBajPl143U wt f\n",
      "2015-03-02: Crazy .. Hillary Clinton used private email account for State Department business - Politico: PoliticoHil... http://t.co/sc42K2nAe6 wt f\n",
      "2015-03-02: Crazy .. Hillary Clinton used private email account for State Department business - Politico: PoliticoHil... http://t.co/u7q1XGnX2e wt f\n",
      "2015-03-02: Hillary Clinton Used Private Email Account for State Department Business (Update) http://t.co/0HVNEB732g\n",
      "2015-03-02: Crazy .. Hillary Clinton used private email account for State Department business - Politico: PoliticoHil... http://t.co/B55SSWp3YD wt f\n",
      "2015-03-02: Hillary Clinton Used Private Email Account for State Department Business (Update) http://t.co/eLaQV0eH7G\n",
      "2015-03-02: Hillary Clinton used private email account for State Department business - http://t.co/ZMqtphNC7H via #cbsnews\n",
      "2015-03-02: Crazy .. Hillary Clinton used private email account for State Department business - Politico: PoliticoHil... http://t.co/4ICqiab0Lz wt f\n",
      "2015-03-02: Hillary Clinton used private email account for State Department business http://t.co/oGyTv8wZAA\n",
      "2015-03-02: Crazy .. Hillary Clinton used private email account for State Department business - Politico: PoliticoHil... http://t.co/QtlMEKGKxC wt f\n",
      "2015-03-02: Crazy .. Hillary Clinton used private email account for State Department business - Politico: PoliticoHil... http://t.co/8JfAYoxz1p wt f\n",
      "2015-03-02: Crazy .. Hillary Clinton used private email account for State Department business - Politico: PoliticoHil... http://t.co/1iS0XSBiwb wt f\n",
      "2015-03-02: Hillary Clinton used private email account for State Department business http://t.co/bbUaXfvDEQ\n",
      "2015-03-02: Hillary Clinton used private email account for State Department business http://t.co/9xZxqgKgdI\n",
      "2015-03-02: Hillary Clinton used private email account for State Department business http://t.co/hSpEPDRYwA\n",
      "2015-03-02: Crazy .. Hillary Clinton used private email account for State Department business - Politico: PoliticoHil... http://t.co/7T3YR8FPoM wt f\n",
      "2015-03-02: Crazy .. Hillary Clinton used private email account for State Department business - Politico: PoliticoHil... http://t.co/FXjvmuuamT wt f\n",
      "2015-03-02: Hillary Clinton used private email account for State Department business http://t.co/VCPJqjK3v6\n",
      "2015-03-02: Crazy .. Hillary Clinton used private email account for State Department business - Politico: PoliticoHil... http://t.co/U0V1X1fT6P wt f\n",
      "2015-03-02: Crazy .. Hillary Clinton used private email account for State Department business - Politico: PoliticoHil... http://t.co/sJD7qNftWK wt f\n",
      "2015-03-02: Crazy .. Hillary Clinton used private email account for State Department business - Politico: PoliticoHil... http://t.co/luWMlac6wl wt f\n",
      "2015-03-02: #Hillary has some explaining to do\" Hillary Clinton used private email account for State Department business http://t.co/AzVUxWjC3x\n",
      "2015-03-02: Hillary Clinton used private email account for State Department business http://t.co/1Gn0Jpdxy6\n",
      "2015-03-02: Hillary Clinton used private email account for State Department business http://t.co/tsNSum1XRl\n",
      "2015-03-02: Hillary Clinton used private email account for State Department business http://t.co/s2JOlvsvzM\n",
      "2015-03-02: #Newsupdate Hillary Clinton used private email account for State Department business - Politico: Poli... http://t.co/3D6JvJO2gg #Retweet\n",
      "2015-03-02: Hillary Clinton used private email account for State Department business http://t.co/4xQrnwHYIk\n",
      "2015-03-02: check this out Hillary Clinton used private email account for State Department business - Pol... http://t.co/t6SrXSQ6Qe #online #twitter\n",
      "2015-03-02: check this out Hillary Clinton used private email account for State Department business - Pol... http://t.co/t6SrXSQ6Qe #online #twitter\n",
      "2015-03-02: yare Hillary Clinton used private email account for State Department business - Politico: PoliticoHillary... http://t.co/DbWkhWwbaL yare\n",
      "2015-03-02: Hillary Clinton used private email account for State Department business - Politico: PoliticoHillary Clinton u... http://t.co/XEjsGaPlcj\n",
      "2015-03-02: Hillary Clinton used private email account for State Department business - Politico: PoliticoHillary Clinton u... http://t.co/lvmfItFjAS\n",
      "2015-03-02: Hillary Clinton used private email account for State Department business http://t.co/PFKnUDb8U9\n",
      "2015-03-02: Hillary Clinton used private email account for State Department business - Politico http://t.co/dtDWa22pvZ\n",
      "2015-03-02: Hillary Clinton used private email account for State Department business - Politico http://t.co/wrdxLR1agh\n",
      "2015-03-02: Hillary Clinton used private email account for State Department business - Politico: PoliticoHillary Clinton u... http://t.co/7JbBiQHP7a\n",
      "2015-03-02: Hillary Clinton used private email account for State Department business - Politico: PoliticoHillary Clinton u... http://t.co/qLjRle8WBW\n",
      "2015-03-02: Hillary Clinton used private email account for State Department business - Politico: PoliticoHillary Clinton u... http://t.co/DqVqIWGoDg\n",
      "2015-03-02: Hillary Clinton used private email account for State Department business - Politico: PoliticoHillary Clinton u... http://t.co/c9ZZxESlKF\n",
      "2015-03-02: PoliticoHillary Clinton used private email account for State Department businessPoliticoAP Photo. Hillary Clin... http://t.co/E773mgsYXt\n",
      "2015-03-02: Hillary Clinton used private email account for State Department business - Politico http://t.co/b8bJI6MSQs\n",
      "2015-03-02: Hillary Clinton used private email account for State Department business - Politico: PoliticoHillary Clinton u... http://t.co/bCny7ih1vM\n",
      "2015-03-02: Hillary Clinton used private email account for State Department business - Politico: PoliticoHillary Clinton u... http://t.co/MXlWogLm4b\n",
      "2015-03-02: Hillary Clinton used private email account for State Department business - Politico http://t.co/oZXUgb4Apl mAt global jp\n",
      "2015-03-02: Hillary Clinton used private email account for State Department business http://t.co/RUvvX5yv2n\n",
      "2015-03-02: PoliticoHillary Clinton used private email account for State Department businessPoliticoAP Photo. Hillary Clin... http://t.co/DUQLWoen2C\n",
      "2015-03-02: PoliticoHillary Clinton used private email account for State Department businessPoliticoAP Photo. Hillary Clin... http://t.co/EwLkDDp0AF\n",
      "2015-03-02: Hillary Clinton used private email account for State Department business - Politico: PoliticoHil... http://t.co/I7j7lZIbku RT @rawgistng\n",
      "2015-03-02: Hillary Clinton used private email account for State Department business - Politico: PoliticoHil... http://t.co/T4GTpLVOZb RT @rawgistng\n",
      "2015-03-02: Hillary Clinton used private email account for State Department business - Politico: PoliticoHil... http://t.co/933vWTljcj RT @rawgistng\n",
      "2015-03-02: Hillary Clinton used private email account for State Department business – Politico http://t.co/AMgWLrqzRt\n",
      "2015-03-02: Did Hillary intentionally seek to keep state business secret by using private emaiil? #p2 http://t.co/AYqQ9FAQNp\n",
      "2015-03-02: Hillary Clinton used private email account for State Department business http://t.co/6RFU5d3fcC via @POLITICO\n",
      "2015-03-02: Hillary Clinton used private email account for State Department business - Politico http://t.co/SDNs1udBao #news\n",
      "2015-03-02: http://t.co/ly82TWy8Sd Hillary Clinton used private email account for State Department business #allPolitics\n",
      "2015-03-02: http://t.co/D2tasZzjt6 Hillary Clinton used private email account for State Department business #HeadlinesApp\n",
      "2015-03-02: Hillary Clinton used private email account for State Department business - Politico: PoliticoHillary Clinton u... http://t.co/VWkuKfcCjo\n",
      "2015-03-02: Hillary Clinton used private email account for State Department business http://t.co/l7NoOX2xuN\n",
      "2015-03-02: Hillary used private email for State Dept business http://t.co/GkezHqA5ey  I wonder how many kids went hungry today. Oh wait. We don't care!\n",
      "2015-03-02: Hillary Clinton used personal email address for State Department business: report... http://t.co/6pOFkdkp7b\n",
      "2015-03-02: Hillary Clinton used private email for State Department business http://t.co/uLTfdZ9yAA\n",
      "2015-03-02: Hillary Clinton used private email for State Department business: Hillary Rodham Clinton exclusively used a pe... http://t.co/2NdU2YpBRc\n",
      "2015-03-02: Hillary Clinton used personal email address for State Department business http://t.co/rXRqrKxylK http://t.co/75BTIbdEQo\n",
      "2015-03-02: Hillary Clinton used personal email address for State Department business http://t.co/rXRqrKxylK http://t.co/75BTIbdEQo\n",
      "2015-03-02: Hillary Clinton used pri'ate email account fer State Department business: AP Photo Emails… http://t.co/aN5i66iZSV\n",
      "2015-03-02: Hillary Clinton used private email account for State Department business http://t.co/3t9h4XZ1NQ http://t.co/9gP1vpbbP1\n",
      "2015-03-02: Hillary Clinton used private email account for State Department business http://t.co/3t9h4XZ1NQ http://t.co/9gP1vpbbP1\n",
      "2015-03-02: Hillary Clinton used private email account for State Department business http://t.co/QWcxzqSpTU http://t.co/VK6erQetWN\n",
      "2015-03-02: Hillary Clinton used private email account for State Department business http://t.co/QWcxzqSpTU http://t.co/VK6erQetWN\n",
      "2015-03-02: Hillary Clinton used private email account for State Department business http://t.co/hUrowbEc9l http://t.co/VDXfhs29Yc\n",
      "2015-03-02: Hillary Clinton used private email account for State Department business http://t.co/hUrowbEc9l http://t.co/VDXfhs29Yc\n",
      "2015-03-02: Hillary Clinton used private email account for State Department business http://t.co/CPbyVK5KXs #Politics #News\n",
      "2015-03-02: Hillary Clinton used private email account for State Department business http://t.co/Y0k1jf4UfM\n",
      "2015-03-02: Hillary Clinton used private email account for State Department business: Those emails weren't archived in off... http://t.co/w0L9JfVcYZ\n",
      "2015-03-02: http://t.co/ICKjYfWegT  Hillary is done now.  I'd be shocked if she still announced her candidacy.  FYI this is against federal law.\n",
      "2015-03-02: Hillary Clinton used private email account for State Department business http://t.co/DhTF9C4Nfx via @politico\n",
      "2015-03-02: Politico &gt; Hillary Clinton used private email account for State Department business http://t.co/DThDDfDmc0 #photojournalism\n",
      "2015-03-02: Hillary Clinton used private email account for State Department business http://t.co/AD2kk5UaXe\n",
      "2015-03-02: Hillary Clinton used private email account for State Department business http://t.co/1AnT6nGAcy\n",
      "2015-03-02: BREAKING: Hillary Clinton used private email account for State Department business - Politi... http://t.co/YZXYZGzlGK #Khaatumo #Khatumo\n",
      "2015-03-02: Hillary Clinton used private email account for State Department business: Those emails weren't archived in off... http://t.co/O17goCARPT\n",
      "2015-03-02: Hillary Clinton used private email account for State Department business: Those emails wer... http://t.co/yZCT4bWFc0 #politics #dem #gop\n",
      "2015-03-02: Hillary Clinton used private email account for State Department business: Those emails weren't archived in off... http://t.co/sN8X42F9qr\n",
      "2015-03-02: Hillary Clinton used private email account for State Department business: Those emails weren't archived in off... http://t.co/rJQHdMdWo3\n",
      "2015-03-02: Hillary Clinton used private email account for State Department business: Those emails weren't archived in off... http://t.co/aVu28Q5mz9\n",
      "2015-03-02: Hillary Clinton used private email account for State Department business: Those emails weren't archived in off... http://t.co/LI2lDi5ALO\n",
      "2015-03-02: Hillary Clinton used private email account for State Department business: Those emails weren't archived in off... http://t.co/TxJkYuYoEH\n",
      "2015-03-02: Hillary Clinton used private email account for State Department business: Those emails weren't archived in off... http://t.co/p4ZkZZVIeS\n",
      "2015-03-02: Hillary Clinton used private email account for State Department business: Those emails weren't archived in off... http://t.co/ZIXRv5T5AR\n",
      "2015-03-02: Hillary Clinton used private email account for State Department business: Those emails weren't archived in off... http://t.co/fKHDZa5pO6\n",
      "2015-03-02: Hillary Clinton used private email account for State Department business: Those emails weren't archived in off... http://t.co/2XDh904zkD\n",
      "2015-03-02: Hillary Clinton used private email account for State Department business: Those emails weren't archived in off... http://t.co/e2QJCXdMOB\n",
      "2015-03-02: Hillary Clinton used private email account for State Department business: Those emails weren't archived in off... http://t.co/fK7zwwT0aG\n",
      "2015-03-02: #TopNews Hillary Clinton used private email account for State Department business - Politico http://t.co/ujkyhdXuw3\n",
      "2015-03-02: Hillary Clinton used private email account for State Department business http://t.co/rIwfN740dT\n",
      "2015-03-02: #TopNews Hillary Clinton used private email account for State Department business - Politico http://t.co/dudl09u1nY\n",
      "2015-03-02: Hillary Clinton used private email account for State Department business http://t.co/rq5zYAUAxE #UniteBlue\n",
      "2015-03-02: #Politico Hillary Clinton used private email account for State Department business http://t.co/VBebEuVwas\n"
     ]
    }
   ],
   "source": [
    "'''\n",
    "Print associated tweets\n",
    "'''\n",
    "if 1 == 1:\n",
    "    print('TOPIC: {}; KEYWORDS: {}'.format(topic['name'], topic['keywords_lst']))\n",
    "    \n",
    "    # limit to first 100 tweets\n",
    "    tweets_native_ids_lst = topic['tweets_native_ids_lst'][:100]\n",
    "    \n",
    "    query_tweets = '''\n",
    "    select tweet_text, tweet_collected_time from tweets\n",
    "    where tweet_native_id = :tweet_native_id\n",
    "    order by tweet_native_id asc;'''\n",
    "\n",
    "    with sqlite3.connect(config.NEWS_TWEETS_DB_FILE) as conn:\n",
    "        conn.row_factory = sqlite3.Row\n",
    "        cursor = conn.cursor()\n",
    "        for tweet_native_id in tweets_native_ids_lst:\n",
    "            cursor.execute(query_tweets, {'tweet_native_id': tweet_native_id})\n",
    "            for row in cursor.fetchall():\n",
    "                print('{}: {}'.format(row['tweet_collected_time'], row['tweet_text']))"
   ]
  }
 ],
 "metadata": {
  "kernelspec": {
   "display_name": "Python 3",
   "language": "python",
   "name": "python3"
  },
  "language_info": {
   "codemirror_mode": {
    "name": "ipython",
    "version": 3
   },
   "file_extension": ".py",
   "mimetype": "text/x-python",
   "name": "python",
   "nbconvert_exporter": "python",
   "pygments_lexer": "ipython3",
   "version": "3.6.2"
  },
  "toc": {
   "colors": {
    "hover_highlight": "#DAA520",
    "running_highlight": "#FF0000",
    "selected_highlight": "#FFD700"
   },
   "moveMenuLeft": true,
   "nav_menu": {
    "height": "12px",
    "width": "252px"
   },
   "navigate_menu": true,
   "number_sections": true,
   "sideBar": true,
   "threshold": "3",
   "toc_cell": false,
   "toc_section_display": "block",
   "toc_window_display": false,
   "widenNotebook": true
  }
 },
 "nbformat": 4,
 "nbformat_minor": 2
}
