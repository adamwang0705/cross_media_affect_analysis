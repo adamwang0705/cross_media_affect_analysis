{
 "cells": [
  {
   "cell_type": "markdown",
   "metadata": {
    "run_control": {
     "frozen": false,
     "read_only": false
    }
   },
   "source": [
    "# Prepare tweets and news data for IBM topic\n",
    "Last modifed: 2017-10-24"
   ]
  },
  {
   "cell_type": "markdown",
   "metadata": {
    "run_control": {
     "frozen": false,
     "read_only": false
    }
   },
   "source": [
    "# Roadmap\n",
    "1. Prepare multiprocessing and MongoDB scripts available in ibm_tweets_analysis project\n",
    "2. Filter out tweets with keyword 'ibm' in tweet_text field from MongoDB db\n",
    "3. Check basic statistics of embedded URL link in tweet_text to external news article\n",
    "4. Manually collect external news articles\n",
    "5. Check ibm_news basic statistics"
   ]
  },
  {
   "cell_type": "markdown",
   "metadata": {
    "run_control": {
     "frozen": false,
     "read_only": false
    }
   },
   "source": [
    "# Steps"
   ]
  },
  {
   "cell_type": "code",
   "execution_count": 1,
   "metadata": {
    "collapsed": true,
    "run_control": {
     "frozen": false,
     "read_only": false
    }
   },
   "outputs": [],
   "source": [
    "\"\"\"\n",
    "Initialization\n",
    "\"\"\"\n",
    "\n",
    "'''\n",
    "Standard modules\n",
    "'''\n",
    "import os\n",
    "import pickle\n",
    "import csv\n",
    "import time\n",
    "from pprint import pprint\n",
    "import json\n",
    "import pymongo\n",
    "import multiprocessing\n",
    "import logging\n",
    "import collections\n",
    "\n",
    "'''\n",
    "Analysis modules\n",
    "'''\n",
    "import pandas as pd\n",
    "\n",
    "\n",
    "'''\n",
    "Custom modules\n",
    "'''\n",
    "import config\n",
    "import utilities\n",
    "import mongodb\n",
    "import multiprocessing_workers\n",
    "\n",
    "'''\n",
    "Misc\n",
    "'''\n",
    "nb_name = '20171024-daheng-prepare_ibm_tweets_news_data'\n",
    "\n",
    "# all tweets with keywork 'ibm' in tweet_text field from ND IBM dataset\n",
    "ibm_tweets_file = os.path.join(config.IBM_TWEETS_NEWS_DIR, 'ibm_tweets.json')\n",
    "\n",
    "# based on ibm_tweets_file. Duplicate tweets with the same or similar tweet_text are removed\n",
    "ibm_unique_tweets_file = os.path.join(config.IBM_TWEETS_NEWS_DIR, 'ibm_unique_tweets.json')\n",
    "\n",
    "# manually selected news sources list by examing most common news sources of valid urls embedded in ibm unique tweets \n",
    "# selected_news_sources_lst = ['www.forbes.com', 'finance.yahoo.com', 'venturebeat.com', \n",
    "#                              'medium.com', 'www.engadget.com', 'alltheinternetofthings.com',\n",
    "#                              'www.zdnet.com', 'www.wsj.com', 'www.cnbc.com']\n",
    "selected_news_sources_lst = ['venturebeat', 'engadget', 'wsj', 'cnbc']\n",
    "\n",
    "# manually collected ibm news data\n",
    "ibm_news_file = os.path.join(config.IBM_TWEETS_NEWS_DIR, 'selected_ibm_news.csv')"
   ]
  },
  {
   "cell_type": "markdown",
   "metadata": {
    "run_control": {
     "frozen": false,
     "read_only": false
    }
   },
   "source": [
    "## Prepare multiprocessing and MongoDB scripts available in ibm_tweets_analysis project"
   ]
  },
  {
   "cell_type": "markdown",
   "metadata": {
    "run_control": {
     "frozen": false,
     "read_only": false
    }
   },
   "source": [
    "Copy `mongodb.py` and `multiprocessing_workers.py` files to the project root dir.  \n",
    " - `mongodb.py` can be used to get connection to local MongoDB database.\n",
    " - `multiprocessing_workers.py` can be used to query MongoDB database in multiple processes to save time (need modifications)\n",
    "\n",
    "Native tweets are stored in `tweets_ek-2` db and `tw_nt` table."
   ]
  },
  {
   "cell_type": "markdown",
   "metadata": {
    "run_control": {
     "frozen": false,
     "read_only": false
    }
   },
   "source": [
    "## Filter out tweets with keyword 'ibm' in tweet_text field from MongoDB db"
   ]
  },
  {
   "cell_type": "markdown",
   "metadata": {
    "run_control": {
     "frozen": false,
     "read_only": false
    }
   },
   "source": [
    "### Query tweets from MongoDB db"
   ]
  },
  {
   "cell_type": "code",
   "execution_count": 2,
   "metadata": {
    "run_control": {
     "frozen": true,
     "read_only": true
    },
    "scrolled": true
   },
   "outputs": [
    {
     "name": "stderr",
     "output_type": "stream",
     "text": [
      "[INFO/Process-0/11] child process calling self.run()\n",
      "[INFO/Process-1/11] child process calling self.run()\n"
     ]
    },
    {
     "name": "stdout",
     "output_type": "stream",
     "text": [
      "MongoDB on localhost:27017/tweets_ek-2.tw_nt connected successfully!\n"
     ]
    },
    {
     "name": "stderr",
     "output_type": "stream",
     "text": [
      "[INFO/Process-2/11] child process calling self.run()\n",
      "[INFO/Process-4/11] child process calling self.run()\n",
      "[INFO/Process-5/11] child process calling self.run()\n",
      "[INFO/Process-3/11] child process calling self.run()\n"
     ]
    },
    {
     "name": "stdout",
     "output_type": "stream",
     "text": [
      "MongoDB on localhost:27017/tweets_ek-2.tw_nt connected successfully!\n",
      "MongoDB on localhost:27017/tweets_ek-2.tw_nt connected successfully!\n"
     ]
    },
    {
     "name": "stderr",
     "output_type": "stream",
     "text": [
      "[INFO/Process-6/11] child process calling self.run()\n"
     ]
    },
    {
     "name": "stdout",
     "output_type": "stream",
     "text": [
      "MongoDB on localhost:27017/tweets_ek-2.tw_nt connected successfully!\n",
      "Process-0/11 handling documents 0 to 528437...\n"
     ]
    },
    {
     "name": "stderr",
     "output_type": "stream",
     "text": [
      "[INFO/Process-7/11] child process calling self.run()\n"
     ]
    },
    {
     "name": "stdout",
     "output_type": "stream",
     "text": [
      "MongoDB on localhost:27017/tweets_ek-2.tw_nt connected successfully!\n",
      "MongoDB on localhost:27017/tweets_ek-2.tw_nt connected successfully!\n",
      "MongoDB on localhost:27017/tweets_ek-2.tw_nt connected successfully!\n"
     ]
    },
    {
     "name": "stderr",
     "output_type": "stream",
     "text": [
      "[INFO/Process-8/11] child process calling self.run()\n"
     ]
    },
    {
     "name": "stdout",
     "output_type": "stream",
     "text": [
      "MongoDB on localhost:27017/tweets_ek-2.tw_nt connected successfully!\n"
     ]
    },
    {
     "name": "stderr",
     "output_type": "stream",
     "text": [
      "[INFO/Process-9/11] child process calling self.run()\n"
     ]
    },
    {
     "name": "stdout",
     "output_type": "stream",
     "text": [
      "MongoDB on localhost:27017/tweets_ek-2.tw_nt connected successfully!\n",
      "MongoDB on localhost:27017/tweets_ek-2.tw_nt connected successfully!\n"
     ]
    },
    {
     "name": "stderr",
     "output_type": "stream",
     "text": [
      "[INFO/Process-10/11] child process calling self.run()\n"
     ]
    },
    {
     "name": "stdout",
     "output_type": "stream",
     "text": [
      "MongoDB on localhost:27017/tweets_ek-2.tw_nt connected successfully!\n",
      "Process-1/11 handling documents 528438 to 1056875...\n",
      "Process-2/11 handling documents 1056876 to 1585313...\n",
      "Process-3/11 handling documents 1585314 to 2113751...\n",
      "Process-4/11 handling documents 2113752 to 2642189...\n",
      "Process-5/11 handling documents 2642190 to 3170627...\n",
      "Process-6/11 handling documents 3170628 to 3699065...\n",
      "Process-7/11 handling documents 3699066 to 4227503...\n",
      "Process-8/11 handling documents 4227504 to 4755941...\n",
      "Process-9/11 handling documents 4755942 to 5284379...\n",
      "Process-10/11 handling documents 5284380 to 5812824...\n"
     ]
    },
    {
     "name": "stderr",
     "output_type": "stream",
     "text": [
      "[INFO/Process-0/11] process shutting down\n",
      "[DEBUG/Process-0/11] running all \"atexit\" finalizers with priority >= 0\n",
      "[DEBUG/Process-0/11] running the remaining \"atexit\" finalizers\n",
      "[INFO/Process-0/11] process exiting with exitcode 0\n",
      "[INFO/Process-1/11] process shutting down\n",
      "[DEBUG/Process-1/11] running all \"atexit\" finalizers with priority >= 0\n",
      "[DEBUG/Process-1/11] running the remaining \"atexit\" finalizers\n",
      "[INFO/Process-1/11] process exiting with exitcode 0\n",
      "[INFO/Process-2/11] process shutting down\n",
      "[DEBUG/Process-2/11] running all \"atexit\" finalizers with priority >= 0\n",
      "[DEBUG/Process-2/11] running the remaining \"atexit\" finalizers\n",
      "[INFO/Process-2/11] process exiting with exitcode 0\n",
      "[INFO/Process-3/11] process shutting down\n",
      "[DEBUG/Process-3/11] running all \"atexit\" finalizers with priority >= 0\n",
      "[DEBUG/Process-3/11] running the remaining \"atexit\" finalizers\n",
      "[INFO/Process-3/11] process exiting with exitcode 0\n",
      "[INFO/Process-4/11] process shutting down\n",
      "[DEBUG/Process-4/11] running all \"atexit\" finalizers with priority >= 0\n",
      "[DEBUG/Process-4/11] running the remaining \"atexit\" finalizers\n",
      "[INFO/Process-4/11] process exiting with exitcode 0\n",
      "[INFO/Process-5/11] process shutting down\n",
      "[DEBUG/Process-5/11] running all \"atexit\" finalizers with priority >= 0\n",
      "[DEBUG/Process-5/11] running the remaining \"atexit\" finalizers\n",
      "[INFO/Process-5/11] process exiting with exitcode 0\n",
      "[INFO/Process-6/11] process shutting down\n",
      "[DEBUG/Process-6/11] running all \"atexit\" finalizers with priority >= 0\n",
      "[DEBUG/Process-6/11] running the remaining \"atexit\" finalizers\n",
      "[INFO/Process-6/11] process exiting with exitcode 0\n",
      "[INFO/Process-7/11] process shutting down\n",
      "[DEBUG/Process-7/11] running all \"atexit\" finalizers with priority >= 0\n",
      "[DEBUG/Process-7/11] running the remaining \"atexit\" finalizers\n",
      "[INFO/Process-7/11] process exiting with exitcode 0\n",
      "[INFO/Process-8/11] process shutting down\n",
      "[DEBUG/Process-8/11] running all \"atexit\" finalizers with priority >= 0\n",
      "[DEBUG/Process-8/11] running the remaining \"atexit\" finalizers\n",
      "[INFO/Process-8/11] process exiting with exitcode 0\n",
      "[INFO/Process-9/11] process shutting down\n",
      "[DEBUG/Process-9/11] running all \"atexit\" finalizers with priority >= 0\n",
      "[DEBUG/Process-9/11] running the remaining \"atexit\" finalizers\n",
      "[INFO/Process-9/11] process exiting with exitcode 0\n",
      "[INFO/Process-10/11] process shutting down\n",
      "[DEBUG/Process-10/11] running all \"atexit\" finalizers with priority >= 0\n",
      "[DEBUG/Process-10/11] running the remaining \"atexit\" finalizers\n",
      "[INFO/Process-10/11] process exiting with exitcode 0\n"
     ]
    },
    {
     "name": "stdout",
     "output_type": "stream",
     "text": [
      "CPU times: user 136 ms, sys: 152 ms, total: 288 ms\n",
      "Wall time: 14min 45s\n"
     ]
    }
   ],
   "source": [
    "%%time\n",
    "\"\"\"\n",
    "Register\n",
    "    IBM_TWEETS_NEWS_DIR = os.path.join(DATA_DIR, 'ibm_tweets_news')\n",
    "in config\n",
    "\"\"\"\n",
    "DB_NAME  = 'tweets_ek-2'\n",
    "COL_NAME = 'tw_nt'\n",
    "\n",
    "if 0 == 1:\n",
    "    multiprocessing.log_to_stderr(logging.DEBUG)\n",
    "    '''\n",
    "    Use multiprocessing to parse tweet_text field for \"ibm\" keyword\n",
    "    '''\n",
    "    procedure_name = 'tag_native_tweets_text_ibm'\n",
    "    \n",
    "    # set processes number to CPU numbers minus 1\n",
    "    process_num = multiprocessing.cpu_count() - 1\n",
    "    process_file_names_lst = ['{}-{}.json'.format(process_ind, procedure_name)\n",
    "                              for process_ind in range(process_num)]\n",
    "    process_files_lst = [os.path.join(config.IBM_TWEETS_NEWS_DIR, process_file_name) \n",
    "                         for process_file_name in process_file_names_lst]\n",
    "    \n",
    "    jobs = []\n",
    "    for process_ind in range(process_num):\n",
    "        p = multiprocessing.Process(target=multiprocessing_workers.find_keywords_in_tweet_text,\n",
    "                                    args=(DB_NAME, COL_NAME, process_ind, process_num, process_files_lst[process_ind], ['ibm']),\n",
    "                                    name='Process-{}/{}'.format(process_ind, process_num))\n",
    "        jobs.append(p)\n",
    "    \n",
    "    for job in jobs:\n",
    "        job.start()\n",
    "        \n",
    "    for job in jobs:\n",
    "        job.join()"
   ]
  },
  {
   "cell_type": "markdown",
   "metadata": {
    "run_control": {
     "frozen": false,
     "read_only": false
    }
   },
   "source": [
    "### Merge process files"
   ]
  },
  {
   "cell_type": "code",
   "execution_count": 2,
   "metadata": {
    "run_control": {
     "frozen": true,
     "read_only": true
    }
   },
   "outputs": [
    {
     "name": "stdout",
     "output_type": "stream",
     "text": [
      "CPU times: user 1.43 s, sys: 2.04 s, total: 3.47 s\n",
      "Wall time: 3.5 s\n"
     ]
    }
   ],
   "source": [
    "%%time\n",
    "\"\"\"\n",
    "Merger all process files into a single file\n",
    "\n",
    "Register\n",
    "    ibm_tweets_file = os.path.join(config.IBM_TWEETS_NEWS_DIR, 'ibm_tweets.json')\n",
    "in Initialization section.\n",
    "\"\"\"\n",
    "if 0 == 1:\n",
    "    '''\n",
    "    Re-generate process file names\n",
    "    '''\n",
    "    procedure_name = 'tag_native_tweets_text_ibm'\n",
    "    process_num = multiprocessing.cpu_count() - 1\n",
    "    process_file_names_lst = ['{}-{}.json'.format(process_ind, procedure_name)\n",
    "                              for process_ind in range(process_num)]\n",
    "    process_files_lst = [os.path.join(config.IBM_TWEETS_NEWS_DIR, process_file_name) \n",
    "                         for process_file_name in process_file_names_lst]\n",
    "    \n",
    "    with open(ibm_tweets_file, 'w') as output_f:\n",
    "        for process_file in process_files_lst:\n",
    "            with open(process_file, 'r') as input_f:\n",
    "                for line in input_f:\n",
    "                    output_f.write(line)"
   ]
  },
  {
   "cell_type": "markdown",
   "metadata": {
    "run_control": {
     "frozen": false,
     "read_only": false
    }
   },
   "source": [
    "### Remove duplicate tweets"
   ]
  },
  {
   "cell_type": "code",
   "execution_count": 3,
   "metadata": {
    "run_control": {
     "frozen": true,
     "read_only": true
    }
   },
   "outputs": [
    {
     "name": "stdout",
     "output_type": "stream",
     "text": [
      "CPU times: user 17.1 s, sys: 1.27 s, total: 18.4 s\n",
      "Wall time: 18.7 s\n"
     ]
    }
   ],
   "source": [
    "%%time\n",
    "\"\"\"\n",
    "Remove tweets with the same or silimar tweet_text field\n",
    "\n",
    "Register\n",
    "    ibm_unique_tweets_file = os.path.join(config.IBM_TWEETS_NEWS_DIR, 'ibm_unique_tweets.json')\n",
    "in Initialization section.\n",
    "\"\"\"\n",
    "if 0 == 1:\n",
    "    with open(ibm_unique_tweets_file, 'w') as output_f:\n",
    "        with open(ibm_tweets_file, 'r') as input_f:\n",
    "            uniqe_tweet_text_field = set()\n",
    "            \n",
    "            for line in input_f:\n",
    "                tweet_json = json.loads(line)\n",
    "                tweet_text = tweet_json['text']\n",
    "                cleaned_tweet_text = utilities.clean_tweet_text(tweet_text)\n",
    "                \n",
    "                if cleaned_tweet_text not in uniqe_tweet_text_field:\n",
    "                    uniqe_tweet_text_field.add(cleaned_tweet_text)\n",
    "                    output_f.write(line)"
   ]
  },
  {
   "cell_type": "markdown",
   "metadata": {
    "run_control": {
     "frozen": false,
     "read_only": false
    }
   },
   "source": [
    "## Check basic statistics of embedded URL link in tweet_text to external news article"
   ]
  },
  {
   "cell_type": "code",
   "execution_count": 2,
   "metadata": {
    "run_control": {
     "frozen": false,
     "read_only": false
    }
   },
   "outputs": [
    {
     "name": "stdout",
     "output_type": "stream",
     "text": [
      "Number of ibm tweets: 152526\n",
      "Number of unique ibm tweets: 84462\n"
     ]
    }
   ],
   "source": [
    "\"\"\"\n",
    "Check number of ibm tweets and number of ibm unique tweets\n",
    "\"\"\"\n",
    "if 1 == 1:\n",
    "    with open(ibm_tweets_file, 'r') as f:\n",
    "        ibm_tweets_num = sum([1 for line in f])\n",
    "    print('Number of ibm tweets: {}'.format(ibm_tweets_num))\n",
    "        \n",
    "    with open(ibm_unique_tweets_file, 'r') as f:\n",
    "         ibm_unique_tweets_num = sum([1 for line in f])\n",
    "    print('Number of unique ibm tweets: {}'.format(ibm_unique_tweets_num))"
   ]
  },
  {
   "cell_type": "code",
   "execution_count": 4,
   "metadata": {
    "run_control": {
     "frozen": false,
     "read_only": false
    }
   },
   "outputs": [
    {
     "name": "stdout",
     "output_type": "stream",
     "text": [
      "Number of unique ibm tweets with URL: 68338\n"
     ]
    }
   ],
   "source": [
    "\"\"\"\n",
    "Check number of ibm unique tweets with URL\n",
    "\"\"\"\n",
    "if 1 == 1:\n",
    "    with open(ibm_unique_tweets_file, 'r') as f:\n",
    "        \n",
    "        # if entities.urls field is not empty\n",
    "        ibm_unique_tweets_url_num = sum([1 for line in f \n",
    "                                         if json.loads(line)['entities']['urls']])\n",
    "    print('Number of unique ibm tweets with URL: {}'.format(ibm_unique_tweets_url_num))"
   ]
  },
  {
   "cell_type": "code",
   "execution_count": 6,
   "metadata": {
    "run_control": {
     "frozen": false,
     "read_only": false
    },
    "scrolled": true
   },
   "outputs": [
    {
     "name": "stdout",
     "output_type": "stream",
     "text": [
      "[('twitter.com', 19499),\n",
      " ('bit.ly', 5717),\n",
      " ('ow.ly', 3380),\n",
      " ('ift.tt', 3110),\n",
      " ('ibm.co', 2618),\n",
      " ('buff.ly', 2214),\n",
      " ('paper.li', 2106),\n",
      " ('www.ibm.com', 1939),\n",
      " ('dlvr.it', 1605),\n",
      " ('lnkd.in', 1473),\n",
      " ('goo.gl', 1427),\n",
      " ('ibm.biz', 1425),\n",
      " ('youtu.be', 1316),\n",
      " ('fb.me', 1024),\n",
      " ('ln.is', 837),\n",
      " ('trap.it', 600),\n",
      " ('www.youtube.com', 597),\n",
      " ('www.forbes.com', 430),\n",
      " ('shar.es', 408),\n",
      " ('tweetedtimes.com', 353),\n",
      " ('klou.tt', 262),\n",
      " ('tek.io', 260),\n",
      " ('owler.us', 253),\n",
      " ('hubs.ly', 246),\n",
      " ('www.linkedin.com', 241),\n",
      " ('www.amazon.com', 238),\n",
      " ('finance.yahoo.com', 221),\n",
      " ('www.instagram.com', 219),\n",
      " ('crwd.fr', 204),\n",
      " ('venturebeat.com', 198),\n",
      " ('sco.lt', 193),\n",
      " ('xing.com', 193),\n",
      " ('zd.net', 192),\n",
      " ('tinyurl.com', 177),\n",
      " ('developer.ibm.com', 176),\n",
      " ('spr.ly', 164),\n",
      " ('flip.it', 161),\n",
      " ('eventbrite.com', 161),\n",
      " ('medium.com', 149),\n",
      " ('www-03.ibm.com', 144),\n",
      " ('www.lemonde.fr', 141),\n",
      " ('tcrn.ch', 137),\n",
      " ('www.engadget.com', 128),\n",
      " ('adweek.it', 121),\n",
      " ('www.zdnet.com', 118),\n",
      " ('www.geekwire.com', 116),\n",
      " ('alltheinternetofthings.com', 113),\n",
      " ('www.techrepublic.com', 109),\n",
      " ('cnb.cx', 104),\n",
      " ('www.wsj.com', 103)]\n",
      "CPU times: user 9.26 s, sys: 120 ms, total: 9.38 s\n",
      "Wall time: 9.38 s\n"
     ]
    }
   ],
   "source": [
    "%%time\n",
    "\"\"\"\n",
    "Check most popular domain names in URLs embedded in ibm unique tweets\n",
    "\"\"\"\n",
    "if 1 == 1:\n",
    "    url_domain_names_counter = collections.Counter()\n",
    "    with open(ibm_unique_tweets_file, 'r') as f:\n",
    "        for line in f:\n",
    "            tweet_json = json.loads(line)\n",
    "            \n",
    "            # if tweet contains at least one url, entities.urls is not empty\n",
    "            entities_urls = tweet_json['entities']['urls']\n",
    "            if entities_urls:\n",
    "                for entities_url in entities_urls:\n",
    "                    # expanded_url field may contain full unshortened url\n",
    "                    expanded_url = entities_url['expanded_url']\n",
    "                    \n",
    "                    url_domain_name = expanded_url.split('/')[2]\n",
    "                    url_domain_names_counter.update([url_domain_name])\n",
    "    \n",
    "    pprint(url_domain_names_counter.most_common(50))"
   ]
  },
  {
   "cell_type": "code",
   "execution_count": 7,
   "metadata": {
    "run_control": {
     "frozen": true,
     "read_only": true
    },
    "scrolled": true
   },
   "outputs": [
    {
     "name": "stdout",
     "output_type": "stream",
     "text": [
      "[('www.forbes.com', 424),\n",
      " ('tweetedtimes.com', 294),\n",
      " ('finance.yahoo.com', 216),\n",
      " ('xing.com', 193),\n",
      " ('venturebeat.com', 192),\n",
      " ('eventbrite.com', 155),\n",
      " ('www.lemonde.fr', 140),\n",
      " ('medium.com', 136),\n",
      " ('www.engadget.com', 127),\n",
      " ('alltheinternetofthings.com', 113),\n",
      " ('www.zdnet.com', 105),\n",
      " ('www.wsj.com', 101),\n",
      " ('www.cnbc.com', 101),\n",
      " ('www.fool.com', 95),\n",
      " ('www.techrepublic.com', 94),\n",
      " ('www.fastcompany.com', 88),\n",
      " ('www.ibmbigdatahub.com', 81),\n",
      " ('www.siliconrepublic.com', 74),\n",
      " ('www.slideshare.net', 73),\n",
      " ('www.adweek.com', 73),\n",
      " ('www.journaldunet.com', 73),\n",
      " ('www.networkworld.com', 71),\n",
      " ('your-celebrity-match.mybluemix.net', 71),\n",
      " ('techcrunch.com', 60),\n",
      " ('www.prnewswire.com', 57),\n",
      " ('japan.zdnet.com', 54),\n",
      " ('www.meetup.com', 54),\n",
      " ('www.StockNewsWires.com', 54),\n",
      " ('www.cbronline.com', 52),\n",
      " ('www.cloudcomputing-news.net', 51),\n",
      " ('www.cio.com', 49),\n",
      " ('drumup.io', 48),\n",
      " ('www.facebook.com', 47),\n",
      " ('www.4-traders.com', 47),\n",
      " ('itpro.nikkeibp.co.jp', 47),\n",
      " ('twib.in', 47),\n",
      " ('siliconangle.com', 46),\n",
      " ('mashable.com', 46),\n",
      " ('www.silicon.co.uk', 46),\n",
      " ('www.bloomberg.com', 43),\n",
      " ('www.cetrixcloudservices.com', 43),\n",
      " ('abizy.com', 40),\n",
      " ('www.digitaltrends.com', 40),\n",
      " ('cio.economictimes.indiatimes.com', 39),\n",
      " ('www.inc.com', 39),\n",
      " ('feedproxy.google.com', 38),\n",
      " ('www.huffingtonpost.com', 38),\n",
      " ('www.thedrum.com', 38),\n",
      " ('www.swarmapp.com', 36),\n",
      " ('www.dub.io', 36)]\n",
      "CPU times: user 8.95 s, sys: 132 ms, total: 9.08 s\n",
      "Wall time: 9.08 s\n"
     ]
    }
   ],
   "source": [
    "%%time\n",
    "\"\"\"\n",
    "Re-compute most popular domain names in URLs embedded in ibm unique tweets\n",
    " - ignore misc irrelevant website domain names\n",
    " - ignore all shortened urls\n",
    " \n",
    "Register\n",
    "    selected_news_sources_lst\n",
    "in Initialization section.\n",
    "\"\"\"\n",
    "misc_irrelevant_websites_lst = ['twitter', 'youtube', 'youtu.be', 'amazon', 'paper.li', 'linkedin', 'lnkd.in', 'instagram']\n",
    "\n",
    "shortened_url_identifiers_lst = ['bit.ly', 'ift.tt', 'dlvr.it', 'ow.ly', 'buff.ly', 'oal.lu', 'goo.gl', 'ln.is', 'gag.gl', 'fb.me', 'trap.it', 'ibm.co',\n",
    "                                 'ibm.biz', 'shar.es', 'crwd.fr', 'klou.tt', 'tek.io', 'owler.us', 'upflow.co', 'hubs.ly', 'zd.net', 'spr.ly', 'flip.it']\n",
    "                                 \n",
    "if 0 == 1:\n",
    "    valid_url_domain_names_counter = collections.Counter()\n",
    "    \n",
    "    ignore_lst = misc_irrelevant_websites_lst + shortened_url_identifiers_lst\n",
    "    with open(ibm_unique_tweets_file, 'r') as f:\n",
    "        for line in f:\n",
    "            tweet_json = json.loads(line)\n",
    "            \n",
    "            # if tweet contains at least one url, entities.urls is not empty\n",
    "            entities_urls = tweet_json['entities']['urls']\n",
    "            if entities_urls:\n",
    "                for entities_url in entities_urls:\n",
    "                    # expanded_url field may contain full unshortened url\n",
    "                    expanded_url = entities_url['expanded_url']\n",
    "                    \n",
    "                    # ignore all urls with manually selected tokens\n",
    "                    if not any(token in expanded_url for token in ignore_lst):\n",
    "                        # ignore all shortned urls by HEURISTIC\n",
    "                        if len(expanded_url.split('/')) > 4:\n",
    "                            valid_url_domain_name = expanded_url.split('/')[2]\n",
    "                            valid_url_domain_names_counter.update([valid_url_domain_name])\n",
    "\n",
    "    pprint(valid_url_domain_names_counter.most_common(50))"
   ]
  },
  {
   "cell_type": "code",
   "execution_count": 2,
   "metadata": {
    "run_control": {
     "frozen": true,
     "read_only": true
    },
    "scrolled": true
   },
   "outputs": [
    {
     "name": "stdout",
     "output_type": "stream",
     "text": [
      "[('http://www.lemonde.fr/pixels/article/2017/03/12/a-la-rencontre-de-watson-l-intelligence-artificielle-star-d-ibm_5093342_4408996.html',\n",
      "  104),\n",
      " ('http://tweetedtimes.com/v/13070?s=tnp', 67),\n",
      " ('http://www.cnbc.com/2017/05/08/ibms-watson-is-a-joke-says-social-capital-ceo-palihapitiya.html',\n",
      "  52),\n",
      " ('http://www.journaldunet.com/economie/finance/1194465-ibm-watson-et-les-banques/',\n",
      "  47),\n",
      " ('https://www.fastcompany.com/3068600/ibms-new-cmo-michelle-peluso-talks-watson-the-cloud-and-ethics-of-ai',\n",
      "  42),\n",
      " ('http://tweetedtimes.com/v/442?s=tnp', 41),\n",
      " ('https://www.engadget.com/2017/04/07/ibm-watson-tech-support-round-the-clock/',\n",
      "  38),\n",
      " ('https://www.siliconrepublic.com/companies/ibm-ix-marketing-transformation-watson',\n",
      "  36),\n",
      " ('https://www.thestar.com/news/insight/2017/04/15/can-watson-the-jeopardy-champion-solve-parkinsons.html',\n",
      "  30),\n",
      " ('https://www.theverge.com/2017/5/11/15621930/star-trek-bridge-crew-voice-commands-ibm-watson',\n",
      "  29),\n",
      " ('https://www.wsj.com/articles/ibm-tests-watson-technology-to-keep-eye-on-traders-1493055558',\n",
      "  28),\n",
      " ('https://www.engadget.com/2017/04/25/ibm-watson-cognitive-photo-booth/', 27),\n",
      " ('http://venturebeat.com/2017/03/10/10-ways-you-may-have-already-used-ibm-watson/',\n",
      "  26),\n",
      " ('http://venturebeat.com/2017/03/19/playfab-taps-ibms-watson-ai-for-deeper-insights-into-gamer-behavior/',\n",
      "  26),\n",
      " ('http://dx.doi.org/10.1017/S0890060416000524', 26),\n",
      " ('http://www.digitaltrends.com/music/ibm-watson-beat-ai-music-composer-phony-ppl/',\n",
      "  25),\n",
      " ('https://www.inc.com/kevin-j-ryan/masters-golf-artificial-intelligence-ibm-watson.html',\n",
      "  25),\n",
      " ('https://www.cetrixcloudservices.com/blog/startups-protect-and-maximize-your-roi-with-salesforce',\n",
      "  24),\n",
      " ('https://venturebeat.com/2017/04/04/ibm-watson-ai-will-help-spot-great-shots-at-the-masters-golf-tournament/',\n",
      "  23),\n",
      " ('https://venturebeat.com/2017/05/11/ibm-watson-enables-voice-commands-in-ubisofts-star-trek-bridge-crew-virtual-reality-game/',\n",
      "  23),\n",
      " ('http://video.cnbc.com/gallery/?video=3000616728', 22),\n",
      " ('https://www.fool.com/investing/2017/03/19/ibms-watson-is-tackling-healthcare-with-artificial.aspx',\n",
      "  21),\n",
      " ('https://www.fool.com/investing/2017/03/21/ibms-watson-is-tackling-medicines-most-complex-pro.aspx',\n",
      "  21),\n",
      " ('https://venturebeat.com/2017/03/27/intel-just-painted-a-target-on-ibm-watsons-back/',\n",
      "  20),\n",
      " ('https://iot-analytics.com/top-20-companies-enabling-predictive-maintenance/',\n",
      "  20),\n",
      " ('https://www.edsurge.com/news/2017-04-06-ibm-watson-s-chief-architect-talks-democratizing-ai-starting-with-fifth-graders',\n",
      "  20),\n",
      " ('http://wwd.com/business-news/technology/ibm-watson-fashion-week-analysis-10842213/',\n",
      "  19),\n",
      " ('http://www.ioti.com/iot-trends-and-analysis/ibm-s-munich-monument-iot-aims-kickstart-revolution',\n",
      "  19),\n",
      " ('http://pdwhomeautomation.blogspot.com/2017/03/using-ibm-bluemix-watson-apis-to.html',\n",
      "  19),\n",
      " ('http://nymag.com/daily/intelligencer/2017/04/art-with-watson.html', 18),\n",
      " ('http://www.startrek.com/article/ibms-watson-to-power-bridge-crew-vr-interactive-speech-experience',\n",
      "  18),\n",
      " ('https://gigaom.com/2017/03/13/unleashing-a-i-powered-conversation-with-ibm-watson/',\n",
      "  17),\n",
      " ('http://www.networkworld.com/article/3182989/cloud-computing/ibm-red-hat-an-open-source-hybrid-cloud.html',\n",
      "  17),\n",
      " ('http://www.techrepublic.com/article/the-future-of-ai-10-scenarios-ibm-is-already-working-on/',\n",
      "  17),\n",
      " ('http://www.adweek.com/creativity/ibm-watsons-new-job-as-art-museum-guide-could-hint-at-lots-of-future-roles-with-brands/',\n",
      "  17),\n",
      " ('http://www.lemonde.fr/entreprises/article/2017/04/20/le-credit-mutuel-deploie-le-robot-d-intelligence-artificielle-watson-dans-son-reseau_5114032_1656994.html',\n",
      "  17),\n",
      " ('https://www.engadget.com/2017/05/03/147-teams-will-compete-for-5-million-in-the-ibm-watson-xprize/',\n",
      "  17),\n",
      " ('http://www.afr.com/technology/ibms-watson-supercomputer-leading-charge-into-early-melanoma-detection-20170307-gut5j8',\n",
      "  16),\n",
      " ('https://www.siliconrepublic.com/machines/ibm-cybersecurity-ai-watson', 16),\n",
      " ('http://www.zdnet.com/article/ibm-and-red-hat-aim-to-boost-hybrid-cloud-computing-openstack-usage/',\n",
      "  16),\n",
      " ('https://blogs.wsj.com/cio/2017/05/08/staples-to-launch-ai-powered-office-assistant/',\n",
      "  16),\n",
      " ('https://www.engadget.com/2017/05/11/ibm-watson-voice-commands-to-star-trek-bridge-crew/',\n",
      "  16),\n",
      " ('http://www.golf.com/tour-news/2017/04/04/masters-highlights-getting-artificial-intelligence-treatment-ibms-watson-computer',\n",
      "  15),\n",
      " ('http://eventbrite.com/e/deep-learning-of-pb-scale-ai-big-data-cloud-boot-camp-build-operate-data-pipeline-data-lake-tickets-33340514331',\n",
      "  15),\n",
      " ('http://wired.jp/2017/04/30/open-the-pod-bay-doors-watson-ibm-introduces-cognitive-rooms/',\n",
      "  15),\n",
      " ('https://venturebeat.com/2017/05/09/ibm-watson-to-help-pebble-beach-create-a-virtual-concierge-for-guests/',\n",
      "  15),\n",
      " ('https://www.wsj.com/articles/ibm-salesforce-agree-to-partner-on-artificial-intelligence-1488834910',\n",
      "  14),\n",
      " ('http://www.techrepublic.com/article/why-ibms-speech-recognition-breakthrough-matters-for-ai-and-iot/',\n",
      "  14),\n",
      " ('http://www.infoworld.com/article/3182807/cloud-computing/ibm-chases-google-microsoft-with-kubernetes-in-the-cloud.html',\n",
      "  14),\n",
      " ('http://www.journaldunet.com/solutions/cloud-computing/1193986-ibm-s-envole-vers-les-18-milliards-de-chiffre-d-affaires-dans-le-cloud/',\n",
      "  14)]\n",
      "CPU times: user 9.02 s, sys: 188 ms, total: 9.2 s\n",
      "Wall time: 9.2 s\n"
     ]
    }
   ],
   "source": [
    "%%time\n",
    "\"\"\"\n",
    "Check most common valid links\n",
    "\"\"\"\n",
    "misc_irrelevant_websites_lst = ['twitter', 'youtube', 'youtu.be', 'amazon', 'paper.li', 'linkedin', 'lnkd.in', 'instagram']\n",
    "\n",
    "shortened_url_identifiers_lst = ['bit.ly', 'ift.tt', 'dlvr.it', 'ow.ly', 'buff.ly', 'oal.lu', 'goo.gl', 'ln.is', 'gag.gl', 'fb.me', 'trap.it', 'ibm.co',\n",
    "                                 'ibm.biz', 'shar.es', 'crwd.fr', 'klou.tt', 'tek.io', 'owler.us', 'upflow.co', 'hubs.ly', 'zd.net', 'spr.ly', 'flip.it']\n",
    "\n",
    "if 0 == 1:\n",
    "    urls_counter = collections.Counter()\n",
    "    \n",
    "    ignore_lst = misc_irrelevant_websites_lst + shortened_url_identifiers_lst\n",
    "    with open(ibm_unique_tweets_file, 'r') as f:\n",
    "        for line in f:\n",
    "            tweet_json = json.loads(line)\n",
    "            \n",
    "            # if tweet contains at least one url, entities.urls is not empty\n",
    "            entities_urls = tweet_json['entities']['urls']\n",
    "            if entities_urls:\n",
    "                for entities_url in entities_urls:\n",
    "                    # expanded_url field may contain full unshortened url\n",
    "                    expanded_url = entities_url['expanded_url']\n",
    "                    \n",
    "                    # ignore all urls with manually selected tokens\n",
    "                    if not any(token in expanded_url for token in ignore_lst):\n",
    "                        # ignore all shortned urls by HEURISTIC\n",
    "                        if len(expanded_url.split('/')) > 4:\n",
    "                            urls_counter.update([expanded_url])\n",
    "    \n",
    "    pprint(urls_counter.most_common(50))"
   ]
  },
  {
   "cell_type": "code",
   "execution_count": 2,
   "metadata": {
    "run_control": {
     "frozen": true,
     "read_only": true
    },
    "scrolled": true
   },
   "outputs": [
    {
     "name": "stdout",
     "output_type": "stream",
     "text": [
      "[('https://www.engadget.com/2017/04/07/ibm-watson-tech-support-round-the-clock/',\n",
      "  131),\n",
      " ('https://www.engadget.com/2017/04/25/ibm-watson-cognitive-photo-booth/', 93),\n",
      " ('http://www.cnbc.com/2017/05/08/ibms-watson-is-a-joke-says-social-capital-ceo-palihapitiya.html',\n",
      "  77),\n",
      " ('http://venturebeat.com/2017/03/19/playfab-taps-ibms-watson-ai-for-deeper-insights-into-gamer-behavior/',\n",
      "  61),\n",
      " ('https://www.wsj.com/articles/ibm-tests-watson-technology-to-keep-eye-on-traders-1493055558',\n",
      "  60),\n",
      " ('https://venturebeat.com/2017/05/11/ibm-watson-enables-voice-commands-in-ubisofts-star-trek-bridge-crew-virtual-reality-game/',\n",
      "  59),\n",
      " ('https://venturebeat.com/2017/04/04/ibm-watson-ai-will-help-spot-great-shots-at-the-masters-golf-tournament/',\n",
      "  56),\n",
      " ('https://www.engadget.com/2017/05/11/ibm-watson-voice-commands-to-star-trek-bridge-crew/',\n",
      "  52),\n",
      " ('http://venturebeat.com/2017/03/10/10-ways-you-may-have-already-used-ibm-watson/',\n",
      "  51),\n",
      " ('https://www.engadget.com/2017/05/03/147-teams-will-compete-for-5-million-in-the-ibm-watson-xprize/',\n",
      "  42),\n",
      " ('https://venturebeat.com/2017/03/27/intel-just-painted-a-target-on-ibm-watsons-back/',\n",
      "  41),\n",
      " ('https://venturebeat.com/2017/05/09/ibm-watson-to-help-pebble-beach-create-a-virtual-concierge-for-guests/',\n",
      "  39),\n",
      " ('https://www.wsj.com/articles/ibm-salesforce-agree-to-partner-on-artificial-intelligence-1488834910',\n",
      "  34),\n",
      " ('http://video.cnbc.com/gallery/?video=3000616728', 31),\n",
      " ('http://on.wsj.com/2mn71xk', 27),\n",
      " ('http://www.cnbc.com/2017/05/17/ibm-powerful-supercomputer-watson-quantum-computer.html',\n",
      "  24),\n",
      " ('http://www.cnbc.com/id/104454843', 21),\n",
      " ('http://on.wsj.com/2n0rczp', 19),\n",
      " ('https://www.wsj.com/articles/ibm-profit-falls-13-despite-gains-from-cloud-services-watson-1492547508',\n",
      "  19),\n",
      " ('https://blogs.wsj.com/cio/2017/05/08/staples-to-launch-ai-powered-office-assistant/',\n",
      "  19),\n",
      " ('http://on.wsj.com/2pXeXF4', 15),\n",
      " ('https://www.wsj.com/articles/hospital-stumbles-in-bid-to-teach-a-computer-to-treat-cancer-1488969011',\n",
      "  14),\n",
      " ('https://venturebeat.com/2017/02/16/ibm-watson-opens-200-million-iot-headquarters-in-munich/',\n",
      "  13),\n",
      " ('http://on.wsj.com/2qTqJnm', 13),\n",
      " ('https://www.engadget.com/2017/03/10/ibm-speech-recognition-accuracy-record/',\n",
      "  11),\n",
      " ('https://www.engadget.com/2017/05/11/ibm-watson-voice-commands-to-star-trek-bridge-crew/?utm_source=dlvr.it&utm_medium=twitter',\n",
      "  11),\n",
      " ('https://venturebeat.com/2017/03/19/playfab-taps-ibms-watson-ai-for-deeper-insights-into-gamer-behavior/',\n",
      "  8),\n",
      " ('http://www.cnbc.com/2017/05/08/buffett-says-ibms-watson-will-have-greatest-value-when-it-replaces-human-labor.html',\n",
      "  8),\n",
      " ('https://venturebeat.com/2017/05/09/ibm-watson-to-help-pebble-beach-create-a-virtual-concierge-for-guests/view-all/',\n",
      "  8),\n",
      " ('http://video.cnbc.com/gallery/?video=3000598832', 7),\n",
      " ('http://www.cnbc.com/2017/03/06/ibm-and-salesforce-shake-hands-on-artificial-intelligence.html',\n",
      "  7),\n",
      " ('http://on.wsj.com/2oIdot1', 7),\n",
      " ('https://www.wsj.com/articles/learning-to-love-intelligent-machines-1492174086',\n",
      "  6),\n",
      " ('http://on.wsj.com/2oEe96s', 6),\n",
      " ('https://www.cnbc.com/amp/2017/05/08/ibms-watson-is-a-joke-says-social-capital-ceo-palihapitiya.html',\n",
      "  6),\n",
      " ('https://www.google.com/amp/www.cnbc.com/amp/2017/05/08/ibms-watson-is-a-joke-says-social-capital-ceo-palihapitiya.html',\n",
      "  6),\n",
      " ('http://venturebeat.com/2017/03/13/5-tech-firms-racing-to-invest-in-ai-startups/',\n",
      "  5),\n",
      " ('http://venturebeat.stfi.re/2017/03/18/ai-is-going-to-kill-seat-based-saas-models/?sf=wxndpbo',\n",
      "  5),\n",
      " ('http://venturebeat.stfi.re/2017/03/27/intel-just-painted-a-target-on-ibm-watsons-back/?sf=oebodkp',\n",
      "  5),\n",
      " ('https://www.wsj.com/articles/ibm-profit-falls-13-despite-gains-from-cloud-services-watson-1492547508?mod=pls_whats_news_us_business_f',\n",
      "  5),\n",
      " ('https://venturebeat.com/2017/04/18/chatbots-evolve-from-greeting-tool-to-customer-service-must-have/',\n",
      "  5),\n",
      " ('http://venturebeat.stfi.re/2017/03/10/10-ways-you-may-have-already-used-ibm-watson/?sf=pgxlyxw',\n",
      "  4),\n",
      " ('http://venturebeat.com/2017/03/10/10-ways-you-may-have-already-used-ibm-watson/?bt_ee=mP7FFHIJMYgapNwIpqzeY29ZmpJfLWFvLlHr1hkRk/IoMceJkIgB9E4wRGJcQZ+U&bt_ts=1489678259203',\n",
      "  4),\n",
      " ('http://on.wsj.com/2c9F2gA', 4),\n",
      " ('https://www.engadget.com/2017/04/07/ibm-watson-tech-support-round-the-clock/?utm_source=dlvr.it&utm_medium=twitter',\n",
      "  4),\n",
      " ('https://www.engadget.com/2017/04/07/ibm-watson-tech-support-round-the-clock/?sr_source=Twitter',\n",
      "  4),\n",
      " ('http://on.wsj.com/2pYoIFW', 4),\n",
      " ('http://ibm.biz/ibmwsjp-17-think', 4),\n",
      " ('http://www.cnbc.com/2017/05/09/no-joke-id-like-to-see-my-firm-go-head-to-head-with-ibm-on-a-i-palihapitiya.html',\n",
      "  4),\n",
      " ('https://www.engadget.com/2016/09/03/ibm-watson-smart-earphone-partnership/',\n",
      "  3)]\n",
      "CPU times: user 14.7 s, sys: 304 ms, total: 15 s\n",
      "Wall time: 15 s\n"
     ]
    }
   ],
   "source": [
    "%%time\n",
    "\"\"\"\n",
    "Check most common links to selected news sources\n",
    "\"\"\"\n",
    "if 0 == 1:\n",
    "    selected_news_sources_urls_counter = collections.Counter()\n",
    "    \n",
    "    with open(ibm_tweets_file, 'r') as f:\n",
    "        for line in f:\n",
    "            tweet_json = json.loads(line)\n",
    "            \n",
    "            # if tweet contains at least one url, entities.urls is not empty\n",
    "            entities_urls = tweet_json['entities']['urls']\n",
    "            if entities_urls:\n",
    "                for entities_url in entities_urls:\n",
    "                    # expanded_url field may contain full unshortened url\n",
    "                    expanded_url = entities_url['expanded_url']\n",
    "                    \n",
    "                    # filter out only url links to selected news sources\n",
    "                    if any(selected_news_source in expanded_url for selected_news_source in selected_news_sources_lst):\n",
    "                        selected_news_sources_urls_counter.update([expanded_url])\n",
    "    \n",
    "    pprint(selected_news_sources_urls_counter.most_common(50))"
   ]
  },
  {
   "cell_type": "markdown",
   "metadata": {
    "run_control": {
     "frozen": false,
     "read_only": false
    }
   },
   "source": [
    "## Manually collect external news articles"
   ]
  },
  {
   "cell_type": "markdown",
   "metadata": {
    "run_control": {
     "frozen": false,
     "read_only": false
    }
   },
   "source": [
    "After examining\n",
    " - most common valid links\n",
    " - most common links to selected news sources\n",
    "manually collect external news articles.\n",
    "\n",
    "__Note__:\n",
    " - single news article may have multiple links (shortened by different services; picture/video materials; trivial parameters)"
   ]
  },
  {
   "cell_type": "code",
   "execution_count": null,
   "metadata": {
    "collapsed": true,
    "run_control": {
     "frozen": false,
     "read_only": false
    }
   },
   "outputs": [],
   "source": [
    "\"\"\"\n",
    "Register\n",
    "    ibm_news_file\n",
    "in Initialization section.\n",
    "\"\"\""
   ]
  },
  {
   "cell_type": "markdown",
   "metadata": {
    "run_control": {
     "frozen": false,
     "read_only": false
    }
   },
   "source": [
    "## Check ibm_news basic statistics"
   ]
  },
  {
   "cell_type": "code",
   "execution_count": 2,
   "metadata": {
    "collapsed": true,
    "run_control": {
     "frozen": false,
     "read_only": false
    }
   },
   "outputs": [],
   "source": [
    "\"\"\"\n",
    "Load in csv file\n",
    "\"\"\"\n",
    "if 1 == 1:\n",
    "    ibm_news_df = pd.read_csv(filepath_or_buffer=ibm_news_file, sep='\\t')"
   ]
  },
  {
   "cell_type": "code",
   "execution_count": 3,
   "metadata": {
    "run_control": {
     "frozen": false,
     "read_only": false
    },
    "scrolled": false
   },
   "outputs": [
    {
     "data": {
      "text/html": [
       "<div>\n",
       "<style>\n",
       "    .dataframe thead tr:only-child th {\n",
       "        text-align: right;\n",
       "    }\n",
       "\n",
       "    .dataframe thead th {\n",
       "        text-align: left;\n",
       "    }\n",
       "\n",
       "    .dataframe tbody tr th {\n",
       "        vertical-align: top;\n",
       "    }\n",
       "</style>\n",
       "<table border=\"1\" class=\"dataframe\">\n",
       "  <thead>\n",
       "    <tr style=\"text-align: right;\">\n",
       "      <th></th>\n",
       "      <th>NEWS_DATE</th>\n",
       "      <th>NEWS_NAME</th>\n",
       "      <th>NEWS_DOC</th>\n",
       "    </tr>\n",
       "  </thead>\n",
       "  <tbody>\n",
       "    <tr>\n",
       "      <th>0</th>\n",
       "      <td>2017-04-07</td>\n",
       "      <td>ibm_watson_tech_support_round_the_clock</td>\n",
       "      <td>If your company uses IBM's helpdesk services, don't be surprised if you find yourself talking to...</td>\n",
       "    </tr>\n",
       "    <tr>\n",
       "      <th>1</th>\n",
       "      <td>2017-04-25</td>\n",
       "      <td>ibm_watson_cognitive_photo_booth</td>\n",
       "      <td>Since its introduction to the world in 2009, IBM's Watson supercomputer has been crushing humans...</td>\n",
       "    </tr>\n",
       "    <tr>\n",
       "      <th>2</th>\n",
       "      <td>2017-05-03</td>\n",
       "      <td>147_teams_will_compete_for_5_million_in_the_ibm_watson_xprize</td>\n",
       "      <td>The XPrize program is no stranger to moon shots. From capturing carbon to cleaning water -- even...</td>\n",
       "    </tr>\n",
       "    <tr>\n",
       "      <th>3</th>\n",
       "      <td>2017-05-11</td>\n",
       "      <td>ibm_watson_voice_commands_to_star_trek_bridge_crew</td>\n",
       "      <td>Ubisoft's Star Trek: Bridge Crew won't just put you in a VR starship when it finally launches. I...</td>\n",
       "    </tr>\n",
       "    <tr>\n",
       "      <th>4</th>\n",
       "      <td>2017-02-16</td>\n",
       "      <td>ibm_watson_opens_200_million_iot_headquarters_in_munich</td>\n",
       "      <td>IBM Watson Group opened a $200 million Internet of Things (IoT) headquarters today in Munich, Ge...</td>\n",
       "    </tr>\n",
       "    <tr>\n",
       "      <th>5</th>\n",
       "      <td>2017-03-10</td>\n",
       "      <td>10_ways_you_may_have_already_used_ibm_watson</td>\n",
       "      <td>Watson captured the public imagination about artificial intelligence after defeating two world c...</td>\n",
       "    </tr>\n",
       "    <tr>\n",
       "      <th>6</th>\n",
       "      <td>2017-03-19</td>\n",
       "      <td>playfab_taps_ibms_watson_ai_for_deeper_insights_into_gamer_behavior</td>\n",
       "      <td>IBM and PlayFab are teaming up to deliver better insights about gamers based on analysis from IB...</td>\n",
       "    </tr>\n",
       "    <tr>\n",
       "      <th>7</th>\n",
       "      <td>2017-03-27</td>\n",
       "      <td>intel_just_painted_a_target_on_ibm_watsons_back</td>\n",
       "      <td>Intel announced late last week that it has formed a new AI group to consolidate a number of its ...</td>\n",
       "    </tr>\n",
       "    <tr>\n",
       "      <th>8</th>\n",
       "      <td>2017-04-04</td>\n",
       "      <td>ibm_watson_ai_will_help_spot_great_shots_at_the_masters_golf_tournament</td>\n",
       "      <td>It isn’t easy to capture the best shots in a golf tournament that is being televised. And that’s...</td>\n",
       "    </tr>\n",
       "    <tr>\n",
       "      <th>9</th>\n",
       "      <td>2017-05-09</td>\n",
       "      <td>ibm_watson_to_help_pebble_beach_create_a_virtual_concierge_for_guests</td>\n",
       "      <td>Watson, where did I hit my golf ball?::::::::IBM and the Pebble Beach Company have partnered to ...</td>\n",
       "    </tr>\n",
       "    <tr>\n",
       "      <th>10</th>\n",
       "      <td>2017-05-11</td>\n",
       "      <td>ibm_watson_enables_voice_commands_in_ubisofts_star_trek_bridge_crew_virtual_reality_game</td>\n",
       "      <td>IBM Watson‘s artificial intelligence platform will enable voice commands in Ubisoft‘s Star Trek:...</td>\n",
       "    </tr>\n",
       "    <tr>\n",
       "      <th>11</th>\n",
       "      <td>2017-03-06</td>\n",
       "      <td>ibm_and_salesforce_shake_hands_on_artificial_intelligence</td>\n",
       "      <td>IBM is teaming up with Salesforce to make it easier for Salesforce customers to use data from IB...</td>\n",
       "    </tr>\n",
       "    <tr>\n",
       "      <th>12</th>\n",
       "      <td>2017-05-08</td>\n",
       "      <td>ibms_watson_is_a_joke_says_social_capital_ceo_palihapitiya</td>\n",
       "      <td>IBM isn't at the forefront of artificial intelligence, Social Capital CEO and founder Chamath Pa...</td>\n",
       "    </tr>\n",
       "    <tr>\n",
       "      <th>13</th>\n",
       "      <td>2017-05-09</td>\n",
       "      <td>no_joke_id_like_to_see_my_firm_go_head_to_head_with_ibm_on_a_i_palihapitiya</td>\n",
       "      <td>Venture capitalist Chamath Palihapitiya backed away on Tuesday from his comment that IBM's Watso...</td>\n",
       "    </tr>\n",
       "    <tr>\n",
       "      <th>14</th>\n",
       "      <td>2017-05-17</td>\n",
       "      <td>ibm_powerful_supercomputer_watson_quantum_computer</td>\n",
       "      <td>IBM said it has successfully tested its two most powerful quantum computers ever with both holdi...</td>\n",
       "    </tr>\n",
       "    <tr>\n",
       "      <th>15</th>\n",
       "      <td>2017-03-06</td>\n",
       "      <td>ibm_salesforce_agree_to_partner_on_artificial_intelligence</td>\n",
       "      <td>International Business Machines Corp. IBM 0.07% and Salesforce.com Inc. CRM 0.46% agreed to ming...</td>\n",
       "    </tr>\n",
       "    <tr>\n",
       "      <th>16</th>\n",
       "      <td>2017-03-08</td>\n",
       "      <td>hospital_stumbles_in_bid_to_teach_a_computer_to_treat_cancer</td>\n",
       "      <td>In 2012, the University of Texas MD Anderson Cancer Center launched an ambitious project with In...</td>\n",
       "    </tr>\n",
       "    <tr>\n",
       "      <th>17</th>\n",
       "      <td>2017-04-18</td>\n",
       "      <td>ibm_profit_falls_13_despite_gains_from_cloud_services_watson</td>\n",
       "      <td>International Business Machines Corp. IBM 0.07% on Tuesday reported a 13% drop in quarterly earn...</td>\n",
       "    </tr>\n",
       "    <tr>\n",
       "      <th>18</th>\n",
       "      <td>2017-04-24</td>\n",
       "      <td>ibm_tests_watson_technology_to_keep_eye_on_traders</td>\n",
       "      <td>NEW YORK— International Business Machines Corp. IBM 0.07% is piloting its Jeopardy-winning Watso...</td>\n",
       "    </tr>\n",
       "    <tr>\n",
       "      <th>19</th>\n",
       "      <td>2017-05-08</td>\n",
       "      <td>staples_to_launch_ai_powered_office_assistant</td>\n",
       "      <td>Staples Inc.’s chief technology officer wants the company’s iconic red “easy” button to act as a...</td>\n",
       "    </tr>\n",
       "  </tbody>\n",
       "</table>\n",
       "</div>"
      ],
      "text/plain": [
       "     NEWS_DATE                                                                                 NEWS_NAME                                                                                             NEWS_DOC\n",
       "0   2017-04-07                                                   ibm_watson_tech_support_round_the_clock  If your company uses IBM's helpdesk services, don't be surprised if you find yourself talking to...\n",
       "1   2017-04-25                                                          ibm_watson_cognitive_photo_booth  Since its introduction to the world in 2009, IBM's Watson supercomputer has been crushing humans...\n",
       "2   2017-05-03                             147_teams_will_compete_for_5_million_in_the_ibm_watson_xprize  The XPrize program is no stranger to moon shots. From capturing carbon to cleaning water -- even...\n",
       "3   2017-05-11                                        ibm_watson_voice_commands_to_star_trek_bridge_crew  Ubisoft's Star Trek: Bridge Crew won't just put you in a VR starship when it finally launches. I...\n",
       "4   2017-02-16                                   ibm_watson_opens_200_million_iot_headquarters_in_munich  IBM Watson Group opened a $200 million Internet of Things (IoT) headquarters today in Munich, Ge...\n",
       "5   2017-03-10                                              10_ways_you_may_have_already_used_ibm_watson  Watson captured the public imagination about artificial intelligence after defeating two world c...\n",
       "6   2017-03-19                       playfab_taps_ibms_watson_ai_for_deeper_insights_into_gamer_behavior  IBM and PlayFab are teaming up to deliver better insights about gamers based on analysis from IB...\n",
       "7   2017-03-27                                           intel_just_painted_a_target_on_ibm_watsons_back  Intel announced late last week that it has formed a new AI group to consolidate a number of its ...\n",
       "8   2017-04-04                   ibm_watson_ai_will_help_spot_great_shots_at_the_masters_golf_tournament  It isn’t easy to capture the best shots in a golf tournament that is being televised. And that’s...\n",
       "9   2017-05-09                     ibm_watson_to_help_pebble_beach_create_a_virtual_concierge_for_guests  Watson, where did I hit my golf ball?::::::::IBM and the Pebble Beach Company have partnered to ...\n",
       "10  2017-05-11  ibm_watson_enables_voice_commands_in_ubisofts_star_trek_bridge_crew_virtual_reality_game  IBM Watson‘s artificial intelligence platform will enable voice commands in Ubisoft‘s Star Trek:...\n",
       "11  2017-03-06                                 ibm_and_salesforce_shake_hands_on_artificial_intelligence  IBM is teaming up with Salesforce to make it easier for Salesforce customers to use data from IB...\n",
       "12  2017-05-08                                ibms_watson_is_a_joke_says_social_capital_ceo_palihapitiya  IBM isn't at the forefront of artificial intelligence, Social Capital CEO and founder Chamath Pa...\n",
       "13  2017-05-09               no_joke_id_like_to_see_my_firm_go_head_to_head_with_ibm_on_a_i_palihapitiya  Venture capitalist Chamath Palihapitiya backed away on Tuesday from his comment that IBM's Watso...\n",
       "14  2017-05-17                                        ibm_powerful_supercomputer_watson_quantum_computer  IBM said it has successfully tested its two most powerful quantum computers ever with both holdi...\n",
       "15  2017-03-06                                ibm_salesforce_agree_to_partner_on_artificial_intelligence  International Business Machines Corp. IBM 0.07% and Salesforce.com Inc. CRM 0.46% agreed to ming...\n",
       "16  2017-03-08                              hospital_stumbles_in_bid_to_teach_a_computer_to_treat_cancer  In 2012, the University of Texas MD Anderson Cancer Center launched an ambitious project with In...\n",
       "17  2017-04-18                              ibm_profit_falls_13_despite_gains_from_cloud_services_watson  International Business Machines Corp. IBM 0.07% on Tuesday reported a 13% drop in quarterly earn...\n",
       "18  2017-04-24                                        ibm_tests_watson_technology_to_keep_eye_on_traders  NEW YORK— International Business Machines Corp. IBM 0.07% is piloting its Jeopardy-winning Watso...\n",
       "19  2017-05-08                                             staples_to_launch_ai_powered_office_assistant  Staples Inc.’s chief technology officer wants the company’s iconic red “easy” button to act as a..."
      ]
     },
     "metadata": {},
     "output_type": "display_data"
    }
   ],
   "source": [
    "with pd.option_context('display.max_colwidth', 100, 'expand_frame_repr', False):\n",
    "    display(ibm_news_df[['NEWS_DATE', 'NEWS_NAME', 'NEWS_DOC']])"
   ]
  },
  {
   "cell_type": "code",
   "execution_count": 4,
   "metadata": {
    "run_control": {
     "frozen": false,
     "read_only": false
    }
   },
   "outputs": [
    {
     "name": "stdout",
     "output_type": "stream",
     "text": [
      "(1)\n",
      "NEW YORK— International Business Machines Corp. IBM 0.07% is piloting its Jeopardy-winning Watson technology as a tool for catching rogue traders at large financial institutions, executives said in an interview Monday.\n",
      "(2)\n",
      "The company’s Watson Financial Services product looks for patterns in traders’ chats and emails while also analyzing numerical trading data. The surveillance tool is being piloted with a handful, or fewer than 10, financial-industry clients, said Bridget van Kralingen, senior vice president of IBM Industry Platforms.\n",
      "(3)\n",
      "The company is also developing other capabilities for the technology, Ms. van Kralingen said. One analyzes regulatory text to identify obligations that companies might face and to help assess whether the company’s compliance programs are sufficient to comply with the rules. Another would assist banks in detecting suspicious customers or transactions.\n",
      "(4)\n",
      "The services are a new foray for IBM as it seeks to win a larger slice of the multibillion-dollar business of helping banks comply with regulations. The project is one of many efforts to make the Watson artificial intelligence computer program bear fruit six years after its debut besting human contestants on the Jeopardy game show.\n",
      "(5)\n",
      "In September, IBM agreed to buy financial consultancy Promontory Financial Group, a move executives said was designed to help train Watson in the Byzantine business of bank rules.\n",
      "(6)\n",
      "When it went on Jeopardy, Watson was a generalist, answering trivia questions about a range of topics. IBM has since been working to beef up its expertise in specific fields, such as treating cancer.\n",
      "(7)\n",
      "The trader-surveillance capability is Watson’s most advanced in the financial-services realm, said Ms. Van Kralingen and Eugene Ludwig, who founded Promontory and continues to run it as part of IBM, in a joint interview Monday.\n",
      "(8)\n",
      "They likened their effort to Watson’s application for medical diagnoses. In that context, Watson will read medical literature and consider patient histories and symptoms before offering a potential diagnosis. At a financial firm, Watson might analyze trader chats, emails, trading data, market data and other inputs to flag cases where a bank employee might be engaging in insider trading or market manipulation.\n",
      "(9)\n",
      "The pitch is that banks need Watson because compliance officers alone can’t analyze all that information, and because other technology relies on more rudimentary tools such as searching emails for words that might raise red flags. Watson, IBM says, analyzes more data and is more sophisticated in identifying patterns.\n",
      "(10)\n",
      "“I think about it like a detective that can do problem solving, rather than just a search. And that is the difference that many risk and compliance officers are desperate for,” said Ms. Van Kralingen.\n",
      "(11)\n",
      "She said Watson is learning how to move beyond its ability to process language, which was the basis for its competition on Jeopardy, to work with numerical financial data.\n",
      "(12)\n",
      "The capability for Watson to analyze regulatory text and banks’ own compliance systems is still under construction, she said. That project is relying both on Promontory’s stable of expert former regulators and on data that Promontory has created identifying individual obligations for banks among thousands of pages of federal rules, the executives said.\n",
      "(13)\n",
      "In the anti-money-laundering arena, IBM is trying to create a tool that would be better than existing technology at identifying suspicious transactions, they said. The goal is for the technology to generate fewer “false positives”—transaction alerts that banks spend time investigating, only to find out later that they are innocuous.\n",
      "(14)\n",
      "Mr. Ludwig said that “the enthusiasm is unbelievable” among potential clients for the anti-money-laundering tool.\n",
      "(15)\n",
      "To be sure, the learning process for Watson can be a long road. Previous projects have run into hurdles. One attempt to use it in cancer treatment at a Texas hospital stalled due in part to challenges of integrating the technology with the hospital’s data systems, even though IBM said Watson itself was working effectively in that context.\n"
     ]
    }
   ],
   "source": [
    "\"\"\"\n",
    "Print any news_doc by paragraphs\n",
    "\"\"\"\n",
    "test_lst = ibm_news_df.iloc[18]['NEWS_DOC'].split('::::::::')\n",
    "for ind, item in enumerate(test_lst):\n",
    "    print('({})'.format(ind+1))\n",
    "    print(item)"
   ]
  }
 ],
 "metadata": {
  "kernelspec": {
   "display_name": "Python 3",
   "language": "python",
   "name": "python3"
  },
  "language_info": {
   "codemirror_mode": {
    "name": "ipython",
    "version": 3
   },
   "file_extension": ".py",
   "mimetype": "text/x-python",
   "name": "python",
   "nbconvert_exporter": "python",
   "pygments_lexer": "ipython3",
   "version": "3.6.2"
  },
  "toc": {
   "colors": {
    "hover_highlight": "#DAA520",
    "running_highlight": "#FF0000",
    "selected_highlight": "#FFD700"
   },
   "moveMenuLeft": true,
   "nav_menu": {
    "height": "12px",
    "width": "252px"
   },
   "navigate_menu": true,
   "number_sections": true,
   "sideBar": true,
   "threshold": "3",
   "toc_cell": false,
   "toc_section_display": "block",
   "toc_window_display": false,
   "widenNotebook": true
  }
 },
 "nbformat": 4,
 "nbformat_minor": 2
}
