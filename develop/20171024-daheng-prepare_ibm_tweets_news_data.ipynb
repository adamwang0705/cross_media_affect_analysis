{
 "cells": [
  {
   "cell_type": "markdown",
   "metadata": {
    "run_control": {
     "frozen": false,
     "read_only": false
    }
   },
   "source": [
    "# Prepare tweets and news data for IBM topic\n",
    "Last modifed: 2017-10-24"
   ]
  },
  {
   "cell_type": "markdown",
   "metadata": {
    "run_control": {
     "frozen": false,
     "read_only": false
    }
   },
   "source": [
    "# Roadmap\n",
    "1. Prepare multiprocessing and MongoDB scripts available in ibm_tweets_analysis project\n",
    "2. Filter out tweets with keyword 'ibm' in tweet_text field from MongoDB db\n",
    "3. Check basic statistics of embedded URL link in tweet_text to external news article\n",
    "4. Collect external news articles manually\n",
    "5. Check basic statistics"
   ]
  },
  {
   "cell_type": "markdown",
   "metadata": {
    "run_control": {
     "frozen": false,
     "read_only": false
    }
   },
   "source": [
    "# Steps"
   ]
  },
  {
   "cell_type": "code",
   "execution_count": 1,
   "metadata": {
    "collapsed": true,
    "run_control": {
     "frozen": false,
     "read_only": false
    }
   },
   "outputs": [],
   "source": [
    "\"\"\"\n",
    "Initialization\n",
    "\"\"\"\n",
    "\n",
    "'''\n",
    "Standard modules\n",
    "'''\n",
    "import os\n",
    "import pickle\n",
    "import csv\n",
    "import time\n",
    "from pprint import pprint\n",
    "import json\n",
    "import pymongo\n",
    "import multiprocessing\n",
    "import logging\n",
    "import collections\n",
    "\n",
    "'''\n",
    "Analysis modules\n",
    "'''\n",
    "import pandas as pd\n",
    "\n",
    "\n",
    "'''\n",
    "Custom modules\n",
    "'''\n",
    "import config\n",
    "import utilities\n",
    "import mongodb\n",
    "import multiprocessing_workers\n",
    "\n",
    "'''\n",
    "Misc\n",
    "'''\n",
    "nb_name = '20171024-daheng-prepare_ibm_tweets_news_data'\n",
    "\n",
    "# all tweets with keywork 'ibm' in tweet_text field from ND IBM dataset\n",
    "ibm_tweets_file = os.path.join(config.IBM_TWEETS_NEWS_DIR, 'ibm_tweets.json')\n",
    "\n",
    "# based on ibm_tweets_file. Duplicate tweets with the same or similar tweet_text are removed\n",
    "ibm_unique_tweets_file = os.path.join(config.IBM_TWEETS_NEWS_DIR, 'ibm_unique_tweets.json')\n",
    "\n",
    "# manually selected news sources list by examing most common news sources of valid urls embedded in ibm unique tweets \n",
    "selected_news_sources_lst = ['www.forbes.com', 'finance.yahoo.com', 'venturebeat.com', \n",
    "                             'medium.com', 'www.engadget.com', 'alltheinternetofthings.com',\n",
    "                             'www.zdnet.com', 'www.wsj.com', 'www.cnbc.com']"
   ]
  },
  {
   "cell_type": "markdown",
   "metadata": {
    "run_control": {
     "frozen": false,
     "read_only": false
    }
   },
   "source": [
    "## Prepare multiprocessing and MongoDB scripts available in ibm_tweets_analysis project"
   ]
  },
  {
   "cell_type": "markdown",
   "metadata": {
    "run_control": {
     "frozen": false,
     "read_only": false
    }
   },
   "source": [
    "Copy `mongodb.py` and `multiprocessing_workers.py` files to the project root dir.  \n",
    " - `mongodb.py` can be used to get connection to local MongoDB database.\n",
    " - `multiprocessing_workers.py` can be used to query MongoDB database in multiple processes to save time (need modifications)\n",
    "\n",
    "Native tweets are stored in `tweets_ek-2` db and `tw_nt` table."
   ]
  },
  {
   "cell_type": "markdown",
   "metadata": {
    "run_control": {
     "frozen": false,
     "read_only": false
    }
   },
   "source": [
    "## Filter out tweets with keyword 'ibm' in tweet_text field from MongoDB db"
   ]
  },
  {
   "cell_type": "markdown",
   "metadata": {
    "run_control": {
     "frozen": false,
     "read_only": false
    }
   },
   "source": [
    "### Query tweets from MongoDB db"
   ]
  },
  {
   "cell_type": "code",
   "execution_count": 2,
   "metadata": {
    "run_control": {
     "frozen": true,
     "read_only": true
    },
    "scrolled": true
   },
   "outputs": [
    {
     "name": "stderr",
     "output_type": "stream",
     "text": [
      "[INFO/Process-0/11] child process calling self.run()\n",
      "[INFO/Process-1/11] child process calling self.run()\n"
     ]
    },
    {
     "name": "stdout",
     "output_type": "stream",
     "text": [
      "MongoDB on localhost:27017/tweets_ek-2.tw_nt connected successfully!\n"
     ]
    },
    {
     "name": "stderr",
     "output_type": "stream",
     "text": [
      "[INFO/Process-2/11] child process calling self.run()\n",
      "[INFO/Process-4/11] child process calling self.run()\n",
      "[INFO/Process-5/11] child process calling self.run()\n",
      "[INFO/Process-3/11] child process calling self.run()\n"
     ]
    },
    {
     "name": "stdout",
     "output_type": "stream",
     "text": [
      "MongoDB on localhost:27017/tweets_ek-2.tw_nt connected successfully!\n",
      "MongoDB on localhost:27017/tweets_ek-2.tw_nt connected successfully!\n"
     ]
    },
    {
     "name": "stderr",
     "output_type": "stream",
     "text": [
      "[INFO/Process-6/11] child process calling self.run()\n"
     ]
    },
    {
     "name": "stdout",
     "output_type": "stream",
     "text": [
      "MongoDB on localhost:27017/tweets_ek-2.tw_nt connected successfully!\n",
      "Process-0/11 handling documents 0 to 528437...\n"
     ]
    },
    {
     "name": "stderr",
     "output_type": "stream",
     "text": [
      "[INFO/Process-7/11] child process calling self.run()\n"
     ]
    },
    {
     "name": "stdout",
     "output_type": "stream",
     "text": [
      "MongoDB on localhost:27017/tweets_ek-2.tw_nt connected successfully!\n",
      "MongoDB on localhost:27017/tweets_ek-2.tw_nt connected successfully!\n",
      "MongoDB on localhost:27017/tweets_ek-2.tw_nt connected successfully!\n"
     ]
    },
    {
     "name": "stderr",
     "output_type": "stream",
     "text": [
      "[INFO/Process-8/11] child process calling self.run()\n"
     ]
    },
    {
     "name": "stdout",
     "output_type": "stream",
     "text": [
      "MongoDB on localhost:27017/tweets_ek-2.tw_nt connected successfully!\n"
     ]
    },
    {
     "name": "stderr",
     "output_type": "stream",
     "text": [
      "[INFO/Process-9/11] child process calling self.run()\n"
     ]
    },
    {
     "name": "stdout",
     "output_type": "stream",
     "text": [
      "MongoDB on localhost:27017/tweets_ek-2.tw_nt connected successfully!\n",
      "MongoDB on localhost:27017/tweets_ek-2.tw_nt connected successfully!\n"
     ]
    },
    {
     "name": "stderr",
     "output_type": "stream",
     "text": [
      "[INFO/Process-10/11] child process calling self.run()\n"
     ]
    },
    {
     "name": "stdout",
     "output_type": "stream",
     "text": [
      "MongoDB on localhost:27017/tweets_ek-2.tw_nt connected successfully!\n",
      "Process-1/11 handling documents 528438 to 1056875...\n",
      "Process-2/11 handling documents 1056876 to 1585313...\n",
      "Process-3/11 handling documents 1585314 to 2113751...\n",
      "Process-4/11 handling documents 2113752 to 2642189...\n",
      "Process-5/11 handling documents 2642190 to 3170627...\n",
      "Process-6/11 handling documents 3170628 to 3699065...\n",
      "Process-7/11 handling documents 3699066 to 4227503...\n",
      "Process-8/11 handling documents 4227504 to 4755941...\n",
      "Process-9/11 handling documents 4755942 to 5284379...\n",
      "Process-10/11 handling documents 5284380 to 5812824...\n"
     ]
    },
    {
     "name": "stderr",
     "output_type": "stream",
     "text": [
      "[INFO/Process-0/11] process shutting down\n",
      "[DEBUG/Process-0/11] running all \"atexit\" finalizers with priority >= 0\n",
      "[DEBUG/Process-0/11] running the remaining \"atexit\" finalizers\n",
      "[INFO/Process-0/11] process exiting with exitcode 0\n",
      "[INFO/Process-1/11] process shutting down\n",
      "[DEBUG/Process-1/11] running all \"atexit\" finalizers with priority >= 0\n",
      "[DEBUG/Process-1/11] running the remaining \"atexit\" finalizers\n",
      "[INFO/Process-1/11] process exiting with exitcode 0\n",
      "[INFO/Process-2/11] process shutting down\n",
      "[DEBUG/Process-2/11] running all \"atexit\" finalizers with priority >= 0\n",
      "[DEBUG/Process-2/11] running the remaining \"atexit\" finalizers\n",
      "[INFO/Process-2/11] process exiting with exitcode 0\n",
      "[INFO/Process-3/11] process shutting down\n",
      "[DEBUG/Process-3/11] running all \"atexit\" finalizers with priority >= 0\n",
      "[DEBUG/Process-3/11] running the remaining \"atexit\" finalizers\n",
      "[INFO/Process-3/11] process exiting with exitcode 0\n",
      "[INFO/Process-4/11] process shutting down\n",
      "[DEBUG/Process-4/11] running all \"atexit\" finalizers with priority >= 0\n",
      "[DEBUG/Process-4/11] running the remaining \"atexit\" finalizers\n",
      "[INFO/Process-4/11] process exiting with exitcode 0\n",
      "[INFO/Process-5/11] process shutting down\n",
      "[DEBUG/Process-5/11] running all \"atexit\" finalizers with priority >= 0\n",
      "[DEBUG/Process-5/11] running the remaining \"atexit\" finalizers\n",
      "[INFO/Process-5/11] process exiting with exitcode 0\n",
      "[INFO/Process-6/11] process shutting down\n",
      "[DEBUG/Process-6/11] running all \"atexit\" finalizers with priority >= 0\n",
      "[DEBUG/Process-6/11] running the remaining \"atexit\" finalizers\n",
      "[INFO/Process-6/11] process exiting with exitcode 0\n",
      "[INFO/Process-7/11] process shutting down\n",
      "[DEBUG/Process-7/11] running all \"atexit\" finalizers with priority >= 0\n",
      "[DEBUG/Process-7/11] running the remaining \"atexit\" finalizers\n",
      "[INFO/Process-7/11] process exiting with exitcode 0\n",
      "[INFO/Process-8/11] process shutting down\n",
      "[DEBUG/Process-8/11] running all \"atexit\" finalizers with priority >= 0\n",
      "[DEBUG/Process-8/11] running the remaining \"atexit\" finalizers\n",
      "[INFO/Process-8/11] process exiting with exitcode 0\n",
      "[INFO/Process-9/11] process shutting down\n",
      "[DEBUG/Process-9/11] running all \"atexit\" finalizers with priority >= 0\n",
      "[DEBUG/Process-9/11] running the remaining \"atexit\" finalizers\n",
      "[INFO/Process-9/11] process exiting with exitcode 0\n",
      "[INFO/Process-10/11] process shutting down\n",
      "[DEBUG/Process-10/11] running all \"atexit\" finalizers with priority >= 0\n",
      "[DEBUG/Process-10/11] running the remaining \"atexit\" finalizers\n",
      "[INFO/Process-10/11] process exiting with exitcode 0\n"
     ]
    },
    {
     "name": "stdout",
     "output_type": "stream",
     "text": [
      "CPU times: user 136 ms, sys: 152 ms, total: 288 ms\n",
      "Wall time: 14min 45s\n"
     ]
    }
   ],
   "source": [
    "%%time\n",
    "\"\"\"\n",
    "Register\n",
    "    IBM_TWEETS_NEWS_DIR = os.path.join(DATA_DIR, 'ibm_tweets_news')\n",
    "in config\n",
    "\"\"\"\n",
    "DB_NAME  = 'tweets_ek-2'\n",
    "COL_NAME = 'tw_nt'\n",
    "\n",
    "if 0 == 1:\n",
    "    multiprocessing.log_to_stderr(logging.DEBUG)\n",
    "    '''\n",
    "    Use multiprocessing to parse tweet_text field for \"ibm\" keyword\n",
    "    '''\n",
    "    procedure_name = 'tag_native_tweets_text_ibm'\n",
    "    \n",
    "    # set processes number to CPU numbers minus 1\n",
    "    process_num = multiprocessing.cpu_count() - 1\n",
    "    process_file_names_lst = ['{}-{}.json'.format(process_ind, procedure_name)\n",
    "                              for process_ind in range(process_num)]\n",
    "    process_files_lst = [os.path.join(config.IBM_TWEETS_NEWS_DIR, process_file_name) \n",
    "                         for process_file_name in process_file_names_lst]\n",
    "    \n",
    "    jobs = []\n",
    "    for process_ind in range(process_num):\n",
    "        p = multiprocessing.Process(target=multiprocessing_workers.find_keywords_in_tweet_text,\n",
    "                                    args=(DB_NAME, COL_NAME, process_ind, process_num, process_files_lst[process_ind], ['ibm']),\n",
    "                                    name='Process-{}/{}'.format(process_ind, process_num))\n",
    "        jobs.append(p)\n",
    "    \n",
    "    for job in jobs:\n",
    "        job.start()\n",
    "        \n",
    "    for job in jobs:\n",
    "        job.join()"
   ]
  },
  {
   "cell_type": "markdown",
   "metadata": {
    "run_control": {
     "frozen": false,
     "read_only": false
    }
   },
   "source": [
    "### Merge process files"
   ]
  },
  {
   "cell_type": "code",
   "execution_count": 2,
   "metadata": {
    "run_control": {
     "frozen": true,
     "read_only": true
    }
   },
   "outputs": [
    {
     "name": "stdout",
     "output_type": "stream",
     "text": [
      "CPU times: user 1.43 s, sys: 2.04 s, total: 3.47 s\n",
      "Wall time: 3.5 s\n"
     ]
    }
   ],
   "source": [
    "%%time\n",
    "\"\"\"\n",
    "Merger all process files into a single file\n",
    "\n",
    "Register\n",
    "    ibm_tweets_file = os.path.join(config.IBM_TWEETS_NEWS_DIR, 'ibm_tweets.json')\n",
    "in Initialization section.\n",
    "\"\"\"\n",
    "if 0 == 1:\n",
    "    '''\n",
    "    Re-generate process file names\n",
    "    '''\n",
    "    procedure_name = 'tag_native_tweets_text_ibm'\n",
    "    process_num = multiprocessing.cpu_count() - 1\n",
    "    process_file_names_lst = ['{}-{}.json'.format(process_ind, procedure_name)\n",
    "                              for process_ind in range(process_num)]\n",
    "    process_files_lst = [os.path.join(config.IBM_TWEETS_NEWS_DIR, process_file_name) \n",
    "                         for process_file_name in process_file_names_lst]\n",
    "    \n",
    "    with open(ibm_tweets_file, 'w') as output_f:\n",
    "        for process_file in process_files_lst:\n",
    "            with open(process_file, 'r') as input_f:\n",
    "                for line in input_f:\n",
    "                    output_f.write(line)"
   ]
  },
  {
   "cell_type": "markdown",
   "metadata": {
    "run_control": {
     "frozen": false,
     "read_only": false
    }
   },
   "source": [
    "### Remove duplicate tweets"
   ]
  },
  {
   "cell_type": "code",
   "execution_count": 3,
   "metadata": {
    "run_control": {
     "frozen": true,
     "read_only": true
    }
   },
   "outputs": [
    {
     "name": "stdout",
     "output_type": "stream",
     "text": [
      "CPU times: user 17.1 s, sys: 1.27 s, total: 18.4 s\n",
      "Wall time: 18.7 s\n"
     ]
    }
   ],
   "source": [
    "%%time\n",
    "\"\"\"\n",
    "Remove tweets with the same or silimar tweet_text field\n",
    "\n",
    "Register\n",
    "    ibm_unique_tweets_file = os.path.join(config.IBM_TWEETS_NEWS_DIR, 'ibm_unique_tweets.json')\n",
    "in Initialization section.\n",
    "\"\"\"\n",
    "if 0 == 1:\n",
    "    with open(ibm_unique_tweets_file, 'w') as output_f:\n",
    "        with open(ibm_tweets_file, 'r') as input_f:\n",
    "            uniqe_tweet_text_field = set()\n",
    "            \n",
    "            for line in input_f:\n",
    "                tweet_json = json.loads(line)\n",
    "                tweet_text = tweet_json['text']\n",
    "                cleaned_tweet_text = utilities.clean_tweet_text(tweet_text)\n",
    "                \n",
    "                if cleaned_tweet_text not in uniqe_tweet_text_field:\n",
    "                    uniqe_tweet_text_field.add(cleaned_tweet_text)\n",
    "                    output_f.write(line)"
   ]
  },
  {
   "cell_type": "markdown",
   "metadata": {
    "run_control": {
     "frozen": false,
     "read_only": false
    }
   },
   "source": [
    "## Check basic statistics of embedded URL link in tweet_text to external news article"
   ]
  },
  {
   "cell_type": "code",
   "execution_count": 2,
   "metadata": {},
   "outputs": [
    {
     "name": "stdout",
     "output_type": "stream",
     "text": [
      "Number of ibm tweets: 152526\n",
      "Number of unique ibm tweets: 84462\n"
     ]
    }
   ],
   "source": [
    "\"\"\"\n",
    "Check number of ibm tweets and number of ibm unique tweets\n",
    "\"\"\"\n",
    "if 1 == 1:\n",
    "    with open(ibm_tweets_file, 'r') as f:\n",
    "        ibm_tweets_num = sum([1 for line in f])\n",
    "    print('Number of ibm tweets: {}'.format(ibm_tweets_num))\n",
    "        \n",
    "    with open(ibm_unique_tweets_file, 'r') as f:\n",
    "         ibm_unique_tweets_num = sum([1 for line in f])\n",
    "    print('Number of unique ibm tweets: {}'.format(ibm_unique_tweets_num))"
   ]
  },
  {
   "cell_type": "code",
   "execution_count": 4,
   "metadata": {},
   "outputs": [
    {
     "name": "stdout",
     "output_type": "stream",
     "text": [
      "Number of unique ibm tweets with URL: 68338\n"
     ]
    }
   ],
   "source": [
    "\"\"\"\n",
    "Check number of ibm unique tweets with URL\n",
    "\"\"\"\n",
    "if 1 == 1:\n",
    "    with open(ibm_unique_tweets_file, 'r') as f:\n",
    "        \n",
    "        # if entities.urls field is not empty\n",
    "        ibm_unique_tweets_url_num = sum([1 for line in f \n",
    "                                         if json.loads(line)['entities']['urls']])\n",
    "    print('Number of unique ibm tweets with URL: {}'.format(ibm_unique_tweets_url_num))"
   ]
  },
  {
   "cell_type": "code",
   "execution_count": 6,
   "metadata": {
    "scrolled": true
   },
   "outputs": [
    {
     "name": "stdout",
     "output_type": "stream",
     "text": [
      "[('twitter.com', 19499),\n",
      " ('bit.ly', 5717),\n",
      " ('ow.ly', 3380),\n",
      " ('ift.tt', 3110),\n",
      " ('ibm.co', 2618),\n",
      " ('buff.ly', 2214),\n",
      " ('paper.li', 2106),\n",
      " ('www.ibm.com', 1939),\n",
      " ('dlvr.it', 1605),\n",
      " ('lnkd.in', 1473),\n",
      " ('goo.gl', 1427),\n",
      " ('ibm.biz', 1425),\n",
      " ('youtu.be', 1316),\n",
      " ('fb.me', 1024),\n",
      " ('ln.is', 837),\n",
      " ('trap.it', 600),\n",
      " ('www.youtube.com', 597),\n",
      " ('www.forbes.com', 430),\n",
      " ('shar.es', 408),\n",
      " ('tweetedtimes.com', 353),\n",
      " ('klou.tt', 262),\n",
      " ('tek.io', 260),\n",
      " ('owler.us', 253),\n",
      " ('hubs.ly', 246),\n",
      " ('www.linkedin.com', 241),\n",
      " ('www.amazon.com', 238),\n",
      " ('finance.yahoo.com', 221),\n",
      " ('www.instagram.com', 219),\n",
      " ('crwd.fr', 204),\n",
      " ('venturebeat.com', 198),\n",
      " ('sco.lt', 193),\n",
      " ('xing.com', 193),\n",
      " ('zd.net', 192),\n",
      " ('tinyurl.com', 177),\n",
      " ('developer.ibm.com', 176),\n",
      " ('spr.ly', 164),\n",
      " ('flip.it', 161),\n",
      " ('eventbrite.com', 161),\n",
      " ('medium.com', 149),\n",
      " ('www-03.ibm.com', 144),\n",
      " ('www.lemonde.fr', 141),\n",
      " ('tcrn.ch', 137),\n",
      " ('www.engadget.com', 128),\n",
      " ('adweek.it', 121),\n",
      " ('www.zdnet.com', 118),\n",
      " ('www.geekwire.com', 116),\n",
      " ('alltheinternetofthings.com', 113),\n",
      " ('www.techrepublic.com', 109),\n",
      " ('cnb.cx', 104),\n",
      " ('www.wsj.com', 103)]\n",
      "CPU times: user 9.26 s, sys: 120 ms, total: 9.38 s\n",
      "Wall time: 9.38 s\n"
     ]
    }
   ],
   "source": [
    "%%time\n",
    "\"\"\"\n",
    "Check most popular domain names in URLs embedded in ibm unique tweets\n",
    "\"\"\"\n",
    "if 1 == 1:\n",
    "    url_domain_names_counter = collections.Counter()\n",
    "    with open(ibm_unique_tweets_file, 'r') as f:\n",
    "        for line in f:\n",
    "            tweet_json = json.loads(line)\n",
    "            \n",
    "            # if tweet contains at least one url, entities.urls is not empty\n",
    "            entities_urls = tweet_json['entities']['urls']\n",
    "            if entities_urls:\n",
    "                for entities_url in entities_urls:\n",
    "                    # expanded_url field may contain full unshortened url\n",
    "                    expanded_url = entities_url['expanded_url']\n",
    "                    \n",
    "                    url_domain_name = expanded_url.split('/')[2]\n",
    "                    url_domain_names_counter.update([url_domain_name])\n",
    "    \n",
    "    pprint(url_domain_names_counter.most_common(50))"
   ]
  },
  {
   "cell_type": "code",
   "execution_count": 7,
   "metadata": {
    "run_control": {
     "frozen": true,
     "read_only": true
    },
    "scrolled": true
   },
   "outputs": [
    {
     "name": "stdout",
     "output_type": "stream",
     "text": [
      "[('www.forbes.com', 424),\n",
      " ('tweetedtimes.com', 294),\n",
      " ('finance.yahoo.com', 216),\n",
      " ('xing.com', 193),\n",
      " ('venturebeat.com', 192),\n",
      " ('eventbrite.com', 155),\n",
      " ('www.lemonde.fr', 140),\n",
      " ('medium.com', 136),\n",
      " ('www.engadget.com', 127),\n",
      " ('alltheinternetofthings.com', 113),\n",
      " ('www.zdnet.com', 105),\n",
      " ('www.wsj.com', 101),\n",
      " ('www.cnbc.com', 101),\n",
      " ('www.fool.com', 95),\n",
      " ('www.techrepublic.com', 94),\n",
      " ('www.fastcompany.com', 88),\n",
      " ('www.ibmbigdatahub.com', 81),\n",
      " ('www.siliconrepublic.com', 74),\n",
      " ('www.slideshare.net', 73),\n",
      " ('www.adweek.com', 73),\n",
      " ('www.journaldunet.com', 73),\n",
      " ('www.networkworld.com', 71),\n",
      " ('your-celebrity-match.mybluemix.net', 71),\n",
      " ('techcrunch.com', 60),\n",
      " ('www.prnewswire.com', 57),\n",
      " ('japan.zdnet.com', 54),\n",
      " ('www.meetup.com', 54),\n",
      " ('www.StockNewsWires.com', 54),\n",
      " ('www.cbronline.com', 52),\n",
      " ('www.cloudcomputing-news.net', 51),\n",
      " ('www.cio.com', 49),\n",
      " ('drumup.io', 48),\n",
      " ('www.facebook.com', 47),\n",
      " ('www.4-traders.com', 47),\n",
      " ('itpro.nikkeibp.co.jp', 47),\n",
      " ('twib.in', 47),\n",
      " ('siliconangle.com', 46),\n",
      " ('mashable.com', 46),\n",
      " ('www.silicon.co.uk', 46),\n",
      " ('www.bloomberg.com', 43),\n",
      " ('www.cetrixcloudservices.com', 43),\n",
      " ('abizy.com', 40),\n",
      " ('www.digitaltrends.com', 40),\n",
      " ('cio.economictimes.indiatimes.com', 39),\n",
      " ('www.inc.com', 39),\n",
      " ('feedproxy.google.com', 38),\n",
      " ('www.huffingtonpost.com', 38),\n",
      " ('www.thedrum.com', 38),\n",
      " ('www.swarmapp.com', 36),\n",
      " ('www.dub.io', 36)]\n",
      "CPU times: user 8.95 s, sys: 132 ms, total: 9.08 s\n",
      "Wall time: 9.08 s\n"
     ]
    }
   ],
   "source": [
    "%%time\n",
    "\"\"\"\n",
    "Re-compute most popular domain names in URLs embedded in ibm unique tweets\n",
    " - ignore misc irrelevant website domain names\n",
    " - ignore all shortened urls\n",
    " \n",
    "Register\n",
    "    selected_news_sources_lst\n",
    "in Initialization section.\n",
    "\"\"\"\n",
    "misc_irrelevant_websites_lst = ['twitter', 'youtube', 'youtu.be', 'amazon', 'paper.li', 'linkedin', 'lnkd.in', 'instagram']\n",
    "\n",
    "shortened_url_identifiers_lst = ['bit.ly', 'ift.tt', 'dlvr.it', 'ow.ly', 'buff.ly', 'oal.lu', 'goo.gl', 'ln.is', 'gag.gl', 'fb.me', 'trap.it', 'ibm.co',\n",
    "                                 'ibm.biz', 'shar.es', 'crwd.fr', 'klou.tt', 'tek.io', 'owler.us', 'upflow.co', 'hubs.ly', 'zd.net', 'spr.ly', 'flip.it']\n",
    "                                 \n",
    "if 0 == 1:\n",
    "    valid_url_domain_names_counter = collections.Counter()\n",
    "    \n",
    "    ignore_lst = misc_irrelevant_websites_lst + shortened_url_identifiers_lst\n",
    "    with open(ibm_unique_tweets_file, 'r') as f:\n",
    "        for line in f:\n",
    "            tweet_json = json.loads(line)\n",
    "            \n",
    "            # if tweet contains at least one url, entities.urls is not empty\n",
    "            entities_urls = tweet_json['entities']['urls']\n",
    "            if entities_urls:\n",
    "                for entities_url in entities_urls:\n",
    "                    # expanded_url field may contain full unshortened url\n",
    "                    expanded_url = entities_url['expanded_url']\n",
    "                    \n",
    "                    # ignore all urls with manually selected tokens\n",
    "                    if not any(token in expanded_url for token in ignore_lst):\n",
    "                        # ignore all shortned urls by HEURISTIC\n",
    "                        if len(expanded_url.split('/')) > 4:\n",
    "                            valid_url_domain_name = expanded_url.split('/')[2]\n",
    "                            valid_url_domain_names_counter.update([valid_url_domain_name])\n",
    "\n",
    "    pprint(valid_url_domain_names_counter.most_common(50))"
   ]
  },
  {
   "cell_type": "code",
   "execution_count": 2,
   "metadata": {
    "run_control": {
     "frozen": true,
     "read_only": true
    },
    "scrolled": true
   },
   "outputs": [
    {
     "name": "stdout",
     "output_type": "stream",
     "text": [
      "[('http://www.lemonde.fr/pixels/article/2017/03/12/a-la-rencontre-de-watson-l-intelligence-artificielle-star-d-ibm_5093342_4408996.html',\n",
      "  104),\n",
      " ('http://tweetedtimes.com/v/13070?s=tnp', 67),\n",
      " ('http://www.cnbc.com/2017/05/08/ibms-watson-is-a-joke-says-social-capital-ceo-palihapitiya.html',\n",
      "  52),\n",
      " ('http://www.journaldunet.com/economie/finance/1194465-ibm-watson-et-les-banques/',\n",
      "  47),\n",
      " ('https://www.fastcompany.com/3068600/ibms-new-cmo-michelle-peluso-talks-watson-the-cloud-and-ethics-of-ai',\n",
      "  42),\n",
      " ('http://tweetedtimes.com/v/442?s=tnp', 41),\n",
      " ('https://www.engadget.com/2017/04/07/ibm-watson-tech-support-round-the-clock/',\n",
      "  38),\n",
      " ('https://www.siliconrepublic.com/companies/ibm-ix-marketing-transformation-watson',\n",
      "  36),\n",
      " ('https://www.thestar.com/news/insight/2017/04/15/can-watson-the-jeopardy-champion-solve-parkinsons.html',\n",
      "  30),\n",
      " ('https://www.theverge.com/2017/5/11/15621930/star-trek-bridge-crew-voice-commands-ibm-watson',\n",
      "  29),\n",
      " ('https://www.wsj.com/articles/ibm-tests-watson-technology-to-keep-eye-on-traders-1493055558',\n",
      "  28),\n",
      " ('https://www.engadget.com/2017/04/25/ibm-watson-cognitive-photo-booth/', 27),\n",
      " ('http://venturebeat.com/2017/03/10/10-ways-you-may-have-already-used-ibm-watson/',\n",
      "  26),\n",
      " ('http://venturebeat.com/2017/03/19/playfab-taps-ibms-watson-ai-for-deeper-insights-into-gamer-behavior/',\n",
      "  26),\n",
      " ('http://dx.doi.org/10.1017/S0890060416000524', 26),\n",
      " ('http://www.digitaltrends.com/music/ibm-watson-beat-ai-music-composer-phony-ppl/',\n",
      "  25),\n",
      " ('https://www.inc.com/kevin-j-ryan/masters-golf-artificial-intelligence-ibm-watson.html',\n",
      "  25),\n",
      " ('https://www.cetrixcloudservices.com/blog/startups-protect-and-maximize-your-roi-with-salesforce',\n",
      "  24),\n",
      " ('https://venturebeat.com/2017/04/04/ibm-watson-ai-will-help-spot-great-shots-at-the-masters-golf-tournament/',\n",
      "  23),\n",
      " ('https://venturebeat.com/2017/05/11/ibm-watson-enables-voice-commands-in-ubisofts-star-trek-bridge-crew-virtual-reality-game/',\n",
      "  23),\n",
      " ('http://video.cnbc.com/gallery/?video=3000616728', 22),\n",
      " ('https://www.fool.com/investing/2017/03/19/ibms-watson-is-tackling-healthcare-with-artificial.aspx',\n",
      "  21),\n",
      " ('https://www.fool.com/investing/2017/03/21/ibms-watson-is-tackling-medicines-most-complex-pro.aspx',\n",
      "  21),\n",
      " ('https://venturebeat.com/2017/03/27/intel-just-painted-a-target-on-ibm-watsons-back/',\n",
      "  20),\n",
      " ('https://iot-analytics.com/top-20-companies-enabling-predictive-maintenance/',\n",
      "  20),\n",
      " ('https://www.edsurge.com/news/2017-04-06-ibm-watson-s-chief-architect-talks-democratizing-ai-starting-with-fifth-graders',\n",
      "  20),\n",
      " ('http://wwd.com/business-news/technology/ibm-watson-fashion-week-analysis-10842213/',\n",
      "  19),\n",
      " ('http://www.ioti.com/iot-trends-and-analysis/ibm-s-munich-monument-iot-aims-kickstart-revolution',\n",
      "  19),\n",
      " ('http://pdwhomeautomation.blogspot.com/2017/03/using-ibm-bluemix-watson-apis-to.html',\n",
      "  19),\n",
      " ('http://nymag.com/daily/intelligencer/2017/04/art-with-watson.html', 18),\n",
      " ('http://www.startrek.com/article/ibms-watson-to-power-bridge-crew-vr-interactive-speech-experience',\n",
      "  18),\n",
      " ('https://gigaom.com/2017/03/13/unleashing-a-i-powered-conversation-with-ibm-watson/',\n",
      "  17),\n",
      " ('http://www.networkworld.com/article/3182989/cloud-computing/ibm-red-hat-an-open-source-hybrid-cloud.html',\n",
      "  17),\n",
      " ('http://www.techrepublic.com/article/the-future-of-ai-10-scenarios-ibm-is-already-working-on/',\n",
      "  17),\n",
      " ('http://www.adweek.com/creativity/ibm-watsons-new-job-as-art-museum-guide-could-hint-at-lots-of-future-roles-with-brands/',\n",
      "  17),\n",
      " ('http://www.lemonde.fr/entreprises/article/2017/04/20/le-credit-mutuel-deploie-le-robot-d-intelligence-artificielle-watson-dans-son-reseau_5114032_1656994.html',\n",
      "  17),\n",
      " ('https://www.engadget.com/2017/05/03/147-teams-will-compete-for-5-million-in-the-ibm-watson-xprize/',\n",
      "  17),\n",
      " ('http://www.afr.com/technology/ibms-watson-supercomputer-leading-charge-into-early-melanoma-detection-20170307-gut5j8',\n",
      "  16),\n",
      " ('https://www.siliconrepublic.com/machines/ibm-cybersecurity-ai-watson', 16),\n",
      " ('http://www.zdnet.com/article/ibm-and-red-hat-aim-to-boost-hybrid-cloud-computing-openstack-usage/',\n",
      "  16),\n",
      " ('https://blogs.wsj.com/cio/2017/05/08/staples-to-launch-ai-powered-office-assistant/',\n",
      "  16),\n",
      " ('https://www.engadget.com/2017/05/11/ibm-watson-voice-commands-to-star-trek-bridge-crew/',\n",
      "  16),\n",
      " ('http://www.golf.com/tour-news/2017/04/04/masters-highlights-getting-artificial-intelligence-treatment-ibms-watson-computer',\n",
      "  15),\n",
      " ('http://eventbrite.com/e/deep-learning-of-pb-scale-ai-big-data-cloud-boot-camp-build-operate-data-pipeline-data-lake-tickets-33340514331',\n",
      "  15),\n",
      " ('http://wired.jp/2017/04/30/open-the-pod-bay-doors-watson-ibm-introduces-cognitive-rooms/',\n",
      "  15),\n",
      " ('https://venturebeat.com/2017/05/09/ibm-watson-to-help-pebble-beach-create-a-virtual-concierge-for-guests/',\n",
      "  15),\n",
      " ('https://www.wsj.com/articles/ibm-salesforce-agree-to-partner-on-artificial-intelligence-1488834910',\n",
      "  14),\n",
      " ('http://www.techrepublic.com/article/why-ibms-speech-recognition-breakthrough-matters-for-ai-and-iot/',\n",
      "  14),\n",
      " ('http://www.infoworld.com/article/3182807/cloud-computing/ibm-chases-google-microsoft-with-kubernetes-in-the-cloud.html',\n",
      "  14),\n",
      " ('http://www.journaldunet.com/solutions/cloud-computing/1193986-ibm-s-envole-vers-les-18-milliards-de-chiffre-d-affaires-dans-le-cloud/',\n",
      "  14)]\n",
      "CPU times: user 8.86 s, sys: 276 ms, total: 9.14 s\n",
      "Wall time: 9.13 s\n"
     ]
    }
   ],
   "source": [
    "%%time\n",
    "\"\"\"\n",
    "Check most common valid links\n",
    "\"\"\"\n",
    "misc_irrelevant_websites_lst = ['twitter', 'youtube', 'youtu.be', 'amazon', 'paper.li', 'linkedin', 'lnkd.in', 'instagram']\n",
    "\n",
    "shortened_url_identifiers_lst = ['bit.ly', 'ift.tt', 'dlvr.it', 'ow.ly', 'buff.ly', 'oal.lu', 'goo.gl', 'ln.is', 'gag.gl', 'fb.me', 'trap.it', 'ibm.co',\n",
    "                                 'ibm.biz', 'shar.es', 'crwd.fr', 'klou.tt', 'tek.io', 'owler.us', 'upflow.co', 'hubs.ly', 'zd.net', 'spr.ly', 'flip.it']\n",
    "\n",
    "if 0 == 1:\n",
    "    urls_counter = collections.Counter()\n",
    "    \n",
    "    ignore_lst = misc_irrelevant_websites_lst + shortened_url_identifiers_lst\n",
    "    with open(ibm_unique_tweets_file, 'r') as f:\n",
    "        for line in f:\n",
    "            tweet_json = json.loads(line)\n",
    "            \n",
    "            # if tweet contains at least one url, entities.urls is not empty\n",
    "            entities_urls = tweet_json['entities']['urls']\n",
    "            if entities_urls:\n",
    "                for entities_url in entities_urls:\n",
    "                    # expanded_url field may contain full unshortened url\n",
    "                    expanded_url = entities_url['expanded_url']\n",
    "                    \n",
    "                    # ignore all urls with manually selected tokens\n",
    "                    if not any(token in expanded_url for token in ignore_lst):\n",
    "                        # ignore all shortned urls by HEURISTIC\n",
    "                        if len(expanded_url.split('/')) > 4:\n",
    "                            urls_counter.update([expanded_url])\n",
    "    \n",
    "    pprint(urls_counter.most_common(50))"
   ]
  },
  {
   "cell_type": "code",
   "execution_count": 2,
   "metadata": {
    "run_control": {
     "frozen": true,
     "read_only": true
    },
    "scrolled": true
   },
   "outputs": [
    {
     "name": "stdout",
     "output_type": "stream",
     "text": [
      "[('http://www.cnbc.com/2017/05/08/ibms-watson-is-a-joke-says-social-capital-ceo-palihapitiya.html',\n",
      "  52),\n",
      " ('https://www.engadget.com/2017/04/07/ibm-watson-tech-support-round-the-clock/',\n",
      "  38),\n",
      " ('https://www.wsj.com/articles/ibm-tests-watson-technology-to-keep-eye-on-traders-1493055558',\n",
      "  28),\n",
      " ('https://www.engadget.com/2017/04/25/ibm-watson-cognitive-photo-booth/', 27),\n",
      " ('http://venturebeat.com/2017/03/10/10-ways-you-may-have-already-used-ibm-watson/',\n",
      "  26),\n",
      " ('http://venturebeat.com/2017/03/19/playfab-taps-ibms-watson-ai-for-deeper-insights-into-gamer-behavior/',\n",
      "  26),\n",
      " ('https://venturebeat.com/2017/04/04/ibm-watson-ai-will-help-spot-great-shots-at-the-masters-golf-tournament/',\n",
      "  23),\n",
      " ('https://venturebeat.com/2017/05/11/ibm-watson-enables-voice-commands-in-ubisofts-star-trek-bridge-crew-virtual-reality-game/',\n",
      "  23),\n",
      " ('https://venturebeat.com/2017/03/27/intel-just-painted-a-target-on-ibm-watsons-back/',\n",
      "  20),\n",
      " ('https://www.engadget.com/2017/05/03/147-teams-will-compete-for-5-million-in-the-ibm-watson-xprize/',\n",
      "  17),\n",
      " ('http://www.zdnet.com/article/ibm-and-red-hat-aim-to-boost-hybrid-cloud-computing-openstack-usage/',\n",
      "  16),\n",
      " ('https://www.engadget.com/2017/05/11/ibm-watson-voice-commands-to-star-trek-bridge-crew/',\n",
      "  16),\n",
      " ('https://venturebeat.com/2017/05/09/ibm-watson-to-help-pebble-beach-create-a-virtual-concierge-for-guests/',\n",
      "  15),\n",
      " ('https://www.wsj.com/articles/ibm-salesforce-agree-to-partner-on-artificial-intelligence-1488834910',\n",
      "  14),\n",
      " ('https://www.wsj.com/articles/hospital-stumbles-in-bid-to-teach-a-computer-to-treat-cancer-1488969011',\n",
      "  13),\n",
      " ('https://www.forbes.com/sites/robertszczerba/2017/03/07/ibm-watson-takes-on-autism/',\n",
      "  12),\n",
      " ('http://www.cnbc.com/2017/05/17/ibm-powerful-supercomputer-watson-quantum-computer.html',\n",
      "  12),\n",
      " ('http://www.zdnet.com/article/ibm-uses-deep-learning-to-better-detect-a-leading-cause-of-blindness/',\n",
      "  11),\n",
      " ('http://www.zdnet.com/article/ibm-updates-powerai-to-make-deep-learning-more-accessible/',\n",
      "  11),\n",
      " ('https://www.forbes.com/sites/jasonbloomberg/2017/03/22/ibm-bets-the-company-on-cloud-ai-and-blockchain/',\n",
      "  10),\n",
      " ('https://www.wsj.com/articles/ibm-profit-falls-13-despite-gains-from-cloud-services-watson-1492547508',\n",
      "  10),\n",
      " ('http://www.zdnet.com/article/ibm-launches-watson-cognitive-marketing-service/',\n",
      "  10),\n",
      " ('http://www.zdnet.com/article/ibm-watson-meets-sap-leonardo-for-cognitive-procurement/',\n",
      "  9),\n",
      " ('https://www.engadget.com/2017/03/10/ibm-speech-recognition-accuracy-record/',\n",
      "  8),\n",
      " ('https://venturebeat.com/2017/02/16/ibm-watson-opens-200-million-iot-headquarters-in-munich/',\n",
      "  7),\n",
      " ('https://www.forbes.com/sites/laurencoleman/2017/03/14/why-whats-going-on-inside-ibms-big-new-iot-center-could-deeply-change-our-lives/',\n",
      "  6),\n",
      " ('http://finance.yahoo.com/news/ibm-watson-takes-autism-100700474.html?soc_src=social-sh&soc_trk=tw',\n",
      "  5),\n",
      " ('http://venturebeat.com/2017/03/13/5-tech-firms-racing-to-invest-in-ai-startups/',\n",
      "  5),\n",
      " ('https://medium.com/inside-machine-learning/how-to-decide-machine-learning-and-the-science-of-choosing-7a0d70059079',\n",
      "  5),\n",
      " ('http://www.forbes.com/sites/laurencoleman/2017/03/14/why-whats-going-on-inside-ibms-big-new-iot-center-could-deeply-change-our-lives/#1c17f3356578',\n",
      "  5),\n",
      " ('https://www.forbes.com/sites/aarontilley/2017/03/06/ibm-quantum-computing-cloud/',\n",
      "  5),\n",
      " ('https://www.wsj.com/articles/learning-to-love-intelligent-machines-1492174086',\n",
      "  5),\n",
      " ('https://venturebeat.com/2017/04/18/chatbots-evolve-from-greeting-tool-to-customer-service-must-have/',\n",
      "  5),\n",
      " ('http://www.cnbc.com/2017/05/08/buffett-says-ibms-watson-will-have-greatest-value-when-it-replaces-human-labor.html',\n",
      "  5),\n",
      " ('http://www.cnbc.com/id/104454843', 5),\n",
      " ('https://www.google.com/amp/www.cnbc.com/amp/2017/05/08/ibms-watson-is-a-joke-says-social-capital-ceo-palihapitiya.html',\n",
      "  5),\n",
      " ('https://venturebeat.com/2017/05/09/ibm-watson-to-help-pebble-beach-create-a-virtual-concierge-for-guests/view-all/',\n",
      "  5),\n",
      " ('http://finance.yahoo.com/news/ibm-breaks-industry-record-conversational-212800586.html?soc_src=social-sh&soc_trk=tw',\n",
      "  4),\n",
      " ('http://finance.yahoo.com/news/arthritis-research-uk-introduces-ibm-000100919.html',\n",
      "  4),\n",
      " ('https://www.forbes.com/sites/matthewherper/2017/02/19/md-anderson-benches-ibm-watson-in-setback-for-artificial-intelligence-in-medicine/',\n",
      "  4),\n",
      " ('https://www.forbes.com/sites/janakirammsv/2017/03/26/how-ibm-has-become-a-serious-contender-in-the-enterprise-cloud-services-market/',\n",
      "  4),\n",
      " ('http://www.zdnet.com/article/ibm-watson-is-creating-highlight-reels-at-the-masters/',\n",
      "  4),\n",
      " ('https://medium.com/atomico/google-facebook-microsoft-ibm-baidu-and-others-just-invested-80m-into-every-ai-company-95dfcbe1ce11',\n",
      "  4),\n",
      " ('http://finance.yahoo.com/news/ibm-puts-watson-hands-marketing-123200782.html?soc_src=social-sh&soc_trk=tw',\n",
      "  4),\n",
      " ('https://alltheinternetofthings.com/entries/133447', 4),\n",
      " ('http://finance.yahoo.com/news/five9-taps-ibm-watson-customers-050000912.html',\n",
      "  4),\n",
      " ('https://medium.com/buzzy-blog/geek-preview-create-a-custom-voice-activated-coffee-ordering-app-in-10-20-mins-cb1881c25a4f',\n",
      "  4),\n",
      " ('https://alltheinternetofthings.com/entries/151777', 4),\n",
      " ('https://finance.yahoo.com/news/ibm-watson-cyber-security-powers-110000082.html?soc_src=social-sh&soc_trk=tw',\n",
      "  4),\n",
      " ('https://www.forbes.com/sites/louiscolumbus/2017/05/13/ibm-predicts-demand-for-data-scientists-will-soar-28-by-2020/',\n",
      "  4)]\n",
      "CPU times: user 8.6 s, sys: 136 ms, total: 8.73 s\n",
      "Wall time: 8.73 s\n"
     ]
    }
   ],
   "source": [
    "%%time\n",
    "\"\"\"\n",
    "Check most common links to selected news sources\n",
    "\"\"\"\n",
    "if 0 == 1:\n",
    "    selected_news_sources_urls_counter = collections.Counter()\n",
    "    \n",
    "    with open(ibm_unique_tweets_file, 'r') as f:\n",
    "        for line in f:\n",
    "            tweet_json = json.loads(line)\n",
    "            \n",
    "            # if tweet contains at least one url, entities.urls is not empty\n",
    "            entities_urls = tweet_json['entities']['urls']\n",
    "            if entities_urls:\n",
    "                for entities_url in entities_urls:\n",
    "                    # expanded_url field may contain full unshortened url\n",
    "                    expanded_url = entities_url['expanded_url']\n",
    "                    \n",
    "                    # filter out only url links to selected news sources\n",
    "                    if any(selected_news_source in expanded_url for selected_news_source in selected_news_sources_lst):\n",
    "                        selected_news_sources_urls_counter.update([expanded_url])\n",
    "    \n",
    "    pprint(selected_news_sources_urls_counter.most_common(50))"
   ]
  }
 ],
 "metadata": {
  "kernelspec": {
   "display_name": "Python 3",
   "language": "python",
   "name": "python3"
  },
  "language_info": {
   "codemirror_mode": {
    "name": "ipython",
    "version": 3
   },
   "file_extension": ".py",
   "mimetype": "text/x-python",
   "name": "python",
   "nbconvert_exporter": "python",
   "pygments_lexer": "ipython3",
   "version": "3.6.2"
  },
  "toc": {
   "colors": {
    "hover_highlight": "#DAA520",
    "running_highlight": "#FF0000",
    "selected_highlight": "#FFD700"
   },
   "moveMenuLeft": true,
   "nav_menu": {
    "height": "12px",
    "width": "252px"
   },
   "navigate_menu": true,
   "number_sections": true,
   "sideBar": true,
   "threshold": "3",
   "toc_cell": false,
   "toc_section_display": "block",
   "toc_window_display": false,
   "widenNotebook": true
  }
 },
 "nbformat": 4,
 "nbformat_minor": 2
}
