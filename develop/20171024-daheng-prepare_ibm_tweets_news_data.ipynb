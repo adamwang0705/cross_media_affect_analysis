{
 "cells": [
  {
   "cell_type": "markdown",
   "metadata": {
    "run_control": {
     "frozen": false,
     "read_only": false
    }
   },
   "source": [
    "# Prepare tweets and news data for IBM topic\n",
    "Last modifed: 2017-10-24"
   ]
  },
  {
   "cell_type": "markdown",
   "metadata": {
    "run_control": {
     "frozen": false,
     "read_only": false
    }
   },
   "source": [
    "# Roadmap\n",
    "1. Prepare multiprocessing and MongoDB scripts available in ibm_tweets_analysis project\n",
    "2. Filter out tweets with keyword 'ibm' in tweet_text field\n",
    "3. Select out all tweets with URL link to external news article\n",
    "4. Collect external news articles manually\n",
    "5. Check basic statistics"
   ]
  },
  {
   "cell_type": "markdown",
   "metadata": {
    "run_control": {
     "frozen": false,
     "read_only": false
    }
   },
   "source": [
    "# Steps"
   ]
  },
  {
   "cell_type": "code",
   "execution_count": 1,
   "metadata": {
    "collapsed": true,
    "run_control": {
     "frozen": false,
     "read_only": false
    }
   },
   "outputs": [],
   "source": [
    "\"\"\"\n",
    "Initialization\n",
    "\"\"\"\n",
    "\n",
    "'''\n",
    "Standard modules\n",
    "'''\n",
    "import os\n",
    "import pickle\n",
    "import csv\n",
    "import time\n",
    "from pprint import pprint\n",
    "import json\n",
    "import pymongo\n",
    "import multiprocessing\n",
    "import logging\n",
    "import collections\n",
    "\n",
    "'''\n",
    "Analysis modules\n",
    "'''\n",
    "import pandas as pd\n",
    "\n",
    "\n",
    "'''\n",
    "Custom modules\n",
    "'''\n",
    "import config\n",
    "import utilities\n",
    "import mongodb\n",
    "import multiprocessing_workers\n",
    "\n",
    "'''\n",
    "Misc\n",
    "'''\n",
    "nb_name = '20171024-daheng-prepare_ibm_tweets_news_data'"
   ]
  },
  {
   "cell_type": "markdown",
   "metadata": {
    "run_control": {
     "frozen": false,
     "read_only": false
    }
   },
   "source": [
    "## Prepare multiprocessing and MongoDB scripts available in ibm_tweets_analysis project"
   ]
  },
  {
   "cell_type": "markdown",
   "metadata": {
    "run_control": {
     "frozen": false,
     "read_only": false
    }
   },
   "source": [
    "Copy `mongodb.py` and `multiprocessing_workers.py` files to the project root dir.  \n",
    " - `mongodb.py` can be used to get connection to local MongoDB database.\n",
    " - `multiprocessing_workers.py` can be used to query MongoDB database in multiple processes to save time (need modifications)\n",
    "\n",
    "Native tweets are stored in `tweets_ek-2` db and `tw_nt` table."
   ]
  },
  {
   "cell_type": "markdown",
   "metadata": {
    "run_control": {
     "frozen": false,
     "read_only": false
    }
   },
   "source": [
    "## Filter out tweets with keyword 'ibm' in tweet_text field"
   ]
  },
  {
   "cell_type": "code",
   "execution_count": 2,
   "metadata": {
    "run_control": {
     "frozen": true,
     "read_only": true
    },
    "scrolled": true
   },
   "outputs": [
    {
     "name": "stderr",
     "output_type": "stream",
     "text": [
      "[INFO/Process-0/11] child process calling self.run()\n",
      "[INFO/Process-1/11] child process calling self.run()\n"
     ]
    },
    {
     "name": "stdout",
     "output_type": "stream",
     "text": [
      "MongoDB on localhost:27017/tweets_ek-2.tw_nt connected successfully!\n"
     ]
    },
    {
     "name": "stderr",
     "output_type": "stream",
     "text": [
      "[INFO/Process-2/11] child process calling self.run()\n",
      "[INFO/Process-4/11] child process calling self.run()\n",
      "[INFO/Process-5/11] child process calling self.run()\n",
      "[INFO/Process-3/11] child process calling self.run()\n"
     ]
    },
    {
     "name": "stdout",
     "output_type": "stream",
     "text": [
      "MongoDB on localhost:27017/tweets_ek-2.tw_nt connected successfully!\n",
      "MongoDB on localhost:27017/tweets_ek-2.tw_nt connected successfully!\n"
     ]
    },
    {
     "name": "stderr",
     "output_type": "stream",
     "text": [
      "[INFO/Process-6/11] child process calling self.run()\n"
     ]
    },
    {
     "name": "stdout",
     "output_type": "stream",
     "text": [
      "MongoDB on localhost:27017/tweets_ek-2.tw_nt connected successfully!\n",
      "Process-0/11 handling documents 0 to 528437...\n"
     ]
    },
    {
     "name": "stderr",
     "output_type": "stream",
     "text": [
      "[INFO/Process-7/11] child process calling self.run()\n"
     ]
    },
    {
     "name": "stdout",
     "output_type": "stream",
     "text": [
      "MongoDB on localhost:27017/tweets_ek-2.tw_nt connected successfully!\n",
      "MongoDB on localhost:27017/tweets_ek-2.tw_nt connected successfully!\n",
      "MongoDB on localhost:27017/tweets_ek-2.tw_nt connected successfully!\n"
     ]
    },
    {
     "name": "stderr",
     "output_type": "stream",
     "text": [
      "[INFO/Process-8/11] child process calling self.run()\n"
     ]
    },
    {
     "name": "stdout",
     "output_type": "stream",
     "text": [
      "MongoDB on localhost:27017/tweets_ek-2.tw_nt connected successfully!\n"
     ]
    },
    {
     "name": "stderr",
     "output_type": "stream",
     "text": [
      "[INFO/Process-9/11] child process calling self.run()\n"
     ]
    },
    {
     "name": "stdout",
     "output_type": "stream",
     "text": [
      "MongoDB on localhost:27017/tweets_ek-2.tw_nt connected successfully!\n",
      "MongoDB on localhost:27017/tweets_ek-2.tw_nt connected successfully!\n"
     ]
    },
    {
     "name": "stderr",
     "output_type": "stream",
     "text": [
      "[INFO/Process-10/11] child process calling self.run()\n"
     ]
    },
    {
     "name": "stdout",
     "output_type": "stream",
     "text": [
      "MongoDB on localhost:27017/tweets_ek-2.tw_nt connected successfully!\n",
      "Process-1/11 handling documents 528438 to 1056875...\n",
      "Process-2/11 handling documents 1056876 to 1585313...\n",
      "Process-3/11 handling documents 1585314 to 2113751...\n",
      "Process-4/11 handling documents 2113752 to 2642189...\n",
      "Process-5/11 handling documents 2642190 to 3170627...\n",
      "Process-6/11 handling documents 3170628 to 3699065...\n",
      "Process-7/11 handling documents 3699066 to 4227503...\n",
      "Process-8/11 handling documents 4227504 to 4755941...\n",
      "Process-9/11 handling documents 4755942 to 5284379...\n",
      "Process-10/11 handling documents 5284380 to 5812824...\n"
     ]
    },
    {
     "name": "stderr",
     "output_type": "stream",
     "text": [
      "[INFO/Process-0/11] process shutting down\n",
      "[DEBUG/Process-0/11] running all \"atexit\" finalizers with priority >= 0\n",
      "[DEBUG/Process-0/11] running the remaining \"atexit\" finalizers\n",
      "[INFO/Process-0/11] process exiting with exitcode 0\n",
      "[INFO/Process-1/11] process shutting down\n",
      "[DEBUG/Process-1/11] running all \"atexit\" finalizers with priority >= 0\n",
      "[DEBUG/Process-1/11] running the remaining \"atexit\" finalizers\n",
      "[INFO/Process-1/11] process exiting with exitcode 0\n",
      "[INFO/Process-2/11] process shutting down\n",
      "[DEBUG/Process-2/11] running all \"atexit\" finalizers with priority >= 0\n",
      "[DEBUG/Process-2/11] running the remaining \"atexit\" finalizers\n",
      "[INFO/Process-2/11] process exiting with exitcode 0\n",
      "[INFO/Process-3/11] process shutting down\n",
      "[DEBUG/Process-3/11] running all \"atexit\" finalizers with priority >= 0\n",
      "[DEBUG/Process-3/11] running the remaining \"atexit\" finalizers\n",
      "[INFO/Process-3/11] process exiting with exitcode 0\n",
      "[INFO/Process-4/11] process shutting down\n",
      "[DEBUG/Process-4/11] running all \"atexit\" finalizers with priority >= 0\n",
      "[DEBUG/Process-4/11] running the remaining \"atexit\" finalizers\n",
      "[INFO/Process-4/11] process exiting with exitcode 0\n",
      "[INFO/Process-5/11] process shutting down\n",
      "[DEBUG/Process-5/11] running all \"atexit\" finalizers with priority >= 0\n",
      "[DEBUG/Process-5/11] running the remaining \"atexit\" finalizers\n",
      "[INFO/Process-5/11] process exiting with exitcode 0\n",
      "[INFO/Process-6/11] process shutting down\n",
      "[DEBUG/Process-6/11] running all \"atexit\" finalizers with priority >= 0\n",
      "[DEBUG/Process-6/11] running the remaining \"atexit\" finalizers\n",
      "[INFO/Process-6/11] process exiting with exitcode 0\n",
      "[INFO/Process-7/11] process shutting down\n",
      "[DEBUG/Process-7/11] running all \"atexit\" finalizers with priority >= 0\n",
      "[DEBUG/Process-7/11] running the remaining \"atexit\" finalizers\n",
      "[INFO/Process-7/11] process exiting with exitcode 0\n",
      "[INFO/Process-8/11] process shutting down\n",
      "[DEBUG/Process-8/11] running all \"atexit\" finalizers with priority >= 0\n",
      "[DEBUG/Process-8/11] running the remaining \"atexit\" finalizers\n",
      "[INFO/Process-8/11] process exiting with exitcode 0\n",
      "[INFO/Process-9/11] process shutting down\n",
      "[DEBUG/Process-9/11] running all \"atexit\" finalizers with priority >= 0\n",
      "[DEBUG/Process-9/11] running the remaining \"atexit\" finalizers\n",
      "[INFO/Process-9/11] process exiting with exitcode 0\n",
      "[INFO/Process-10/11] process shutting down\n",
      "[DEBUG/Process-10/11] running all \"atexit\" finalizers with priority >= 0\n",
      "[DEBUG/Process-10/11] running the remaining \"atexit\" finalizers\n",
      "[INFO/Process-10/11] process exiting with exitcode 0\n"
     ]
    },
    {
     "name": "stdout",
     "output_type": "stream",
     "text": [
      "CPU times: user 136 ms, sys: 152 ms, total: 288 ms\n",
      "Wall time: 14min 45s\n"
     ]
    }
   ],
   "source": [
    "%%time\n",
    "\"\"\"\n",
    "Register\n",
    "    IBM_TWEETS_NEWS_DIR = os.path.join(DATA_DIR, 'ibm_tweets_news')\n",
    "in config\n",
    "\"\"\"\n",
    "DB_NAME  = 'tweets_ek-2'\n",
    "COL_NAME = 'tw_nt'\n",
    "\n",
    "if 0 == 1:\n",
    "    multiprocessing.log_to_stderr(logging.DEBUG)\n",
    "    '''\n",
    "    Use multiprocessing to parse tweet_text field for \"ibm\" keyword\n",
    "    '''\n",
    "    procedure_name = 'tag_native_tweets_text_ibm'\n",
    "    \n",
    "    # set processes number to CPU numbers minus 1\n",
    "    process_num = multiprocessing.cpu_count() - 1\n",
    "    process_file_names_lst = ['{}-{}.json'.format(process_ind, procedure_name)\n",
    "                              for process_ind in range(process_num)]\n",
    "    process_files_lst = [os.path.join(config.IBM_TWEETS_NEWS_DIR, process_file_name) \n",
    "                         for process_file_name in process_file_names_lst]\n",
    "    \n",
    "    jobs = []\n",
    "    for process_ind in range(process_num):\n",
    "        p = multiprocessing.Process(target=multiprocessing_workers.find_keywords_in_tweet_text,\n",
    "                                    args=(DB_NAME, COL_NAME, process_ind, process_num, process_files_lst[process_ind], ['ibm']),\n",
    "                                    name='Process-{}/{}'.format(process_ind, process_num))\n",
    "        jobs.append(p)\n",
    "    \n",
    "    for job in jobs:\n",
    "        job.start()\n",
    "        \n",
    "    for job in jobs:\n",
    "        job.join()"
   ]
  },
  {
   "cell_type": "markdown",
   "metadata": {},
   "source": [
    "# Select out all tweets with URL link to external news article"
   ]
  },
  {
   "cell_type": "code",
   "execution_count": 5,
   "metadata": {
    "scrolled": true
   },
   "outputs": [
    {
     "name": "stdout",
     "output_type": "stream",
     "text": [
      "Number of tweets: 152526\n",
      "Number of tweets with URL: 130747\n",
      "Number of shortened URL: 10297\n",
      "Number of valid URLs: 15793\n",
      "[('www.optimalalgotrading.com', 1375),\n",
      " ('www.forbes.com', 776),\n",
      " ('tweetedtimes.com', 516),\n",
      " ('www.lemonde.fr', 414),\n",
      " ('venturebeat.com', 403),\n",
      " ('www.ironbcg.com', 397),\n",
      " ('finance.yahoo.com', 373),\n",
      " ('www.engadget.com', 368),\n",
      " ('www.ibmchefwatson.com', 363),\n",
      " ('tinyurl.com', 306),\n",
      " ('tcrn.ch', 296),\n",
      " ('sco.lt', 295),\n",
      " ('www.linkedin.com', 283),\n",
      " ('dld.bz', 269),\n",
      " ('adweek.it', 265),\n",
      " ('xing.com', 252),\n",
      " ('www.instagram.com', 238),\n",
      " ('cnb.cx', 236),\n",
      " ('alltheinternetofthings.com', 224),\n",
      " ('www.zdnet.com', 191),\n",
      " ('medium.com', 179),\n",
      " ('mklnd.com', 178),\n",
      " ('www.wsj.com', 174),\n",
      " ('ctt.ec', 173),\n",
      " ('www.cnbc.com', 169),\n",
      " ('engt.co', 169),\n",
      " ('www.journaldunet.com', 166),\n",
      " ('www.techrepublic.com', 160),\n",
      " ('binaryloom.com', 159),\n",
      " ('www.fastcompany.com', 159),\n",
      " ('eventbrite.com', 158),\n",
      " ('twib.in', 154),\n",
      " ('www.fool.com', 152),\n",
      " ('zpr.io', 152),\n",
      " ('japan.zdnet.com', 151),\n",
      " ('techcrunch.com', 146),\n",
      " ('ht.ly', 145),\n",
      " ('for.tn', 142),\n",
      " ('j.mp', 137),\n",
      " ('reut.rs', 137),\n",
      " ('read.bi', 134),\n",
      " ('wp.me', 132),\n",
      " ('www.inc.com', 132),\n",
      " ('www.siliconrepublic.com', 129),\n",
      " ('on.forbes.com', 128),\n",
      " ('on.wsj.com', 124),\n",
      " ('apple.news', 121),\n",
      " ('drumup.io', 120),\n",
      " ('okt.to', 115),\n",
      " ('www.ibmbigdatahub.com', 114)]\n",
      "CPU times: user 16.6 s, sys: 688 ms, total: 17.3 s\n",
      "Wall time: 17.3 s\n"
     ]
    }
   ],
   "source": [
    "%%time\n",
    "\"\"\"\n",
    "Check number of filtered tweets and number of tweets with URL\n",
    "\"\"\"\n",
    "if 1 == 1:\n",
    "    procedure_name = 'tag_native_tweets_text_ibm'\n",
    "    \n",
    "    # set processes number to CPU numbers minus 1\n",
    "    process_num = multiprocessing.cpu_count() - 1\n",
    "    process_file_names_lst = ['{}-{}.json'.format(process_ind, procedure_name)\n",
    "                              for process_ind in range(process_num)]\n",
    "    process_files_lst = [os.path.join(config.IBM_TWEETS_NEWS_DIR, process_file_name) \n",
    "                         for process_file_name in process_file_names_lst]\n",
    "    \n",
    "#     process_files_lst = ['data/ibm_tweets_news/3-tag_native_tweets_text_ibm.json']\n",
    "    \n",
    "    tweets_num = 0\n",
    "    url_tweets_num = 0\n",
    "    shortened_urls_num = 0\n",
    "    \n",
    "    valid_urls_set = set()\n",
    "    \n",
    "    valid_urls_counter = collections.Counter()\n",
    "    valid_url_domain_names_counter = collections.Counter()\n",
    "    \n",
    "    for process_file in process_files_lst:\n",
    "        with open(process_file) as f:\n",
    "            for line in f:\n",
    "                tweets_num += 1\n",
    "                tweet_json = json.loads(line)\n",
    "                entities_urls = tweet_json['entities']['urls']\n",
    "                if entities_urls:\n",
    "                    url_tweets_num += 1\n",
    "                    for entities_url in entities_urls:\n",
    "                        expanded_url = entities_url['expanded_url']\n",
    "                        \n",
    "                        misc_websites_lst = ['twitter', 'youtube', 'youtu.be', 'amazon', 'paper.li', 'lnkd.in']\n",
    "                        if not any(word in expanded_url for word in misc_websites_lst):\n",
    "                            \n",
    "                            shortened_url_identifiers_lst = ['bit.ly', 'ift.tt', 'dlvr.it', 'ow.ly', 'buff.ly', 'oal.lu', 'goo.gl', 'ln.is', 'gag.gl', 'fb.me', 'trap.it',\n",
    "                                                            'ibm.co', 'ibm.biz', 'shar.es', 'crwd.fr', 'klou.tt', 'tek.io', 'owler.us', 'upflow.co', 'hubs.ly', 'zd.net', \n",
    "                                                            'spr.ly', 'flip.it']\n",
    "                            if not any(word in expanded_url for word in shortened_url_identifiers_lst):\n",
    "                                # discard all shortened URLs\n",
    "                                if len(expanded_url.split('/')) > 1:\n",
    "                                    valid_urls_set.add(expanded_url)\n",
    "                                    valid_urls_counter.update([expanded_url])\n",
    "                                    valid_url_domain_name = expanded_url.split('/')[2]\n",
    "                                    valid_url_domain_names_counter.update([valid_url_domain_name])\n",
    "                                    if len(expanded_url.split('/')) == 4:\n",
    "                                        shortened_urls_num += 1\n",
    "    \n",
    "    print('Number of tweets: {}'.format(tweets_num))\n",
    "    print('Number of tweets with URL: {}'.format(url_tweets_num))\n",
    "    print('Number of shortened URL: {}'.format(shortened_urls_num))\n",
    "    print('Number of valid URLs: {}'.format(len(valid_urls_set)))\n",
    "    pprint(valid_url_domain_names_counter.most_common(50))"
   ]
  },
  {
   "cell_type": "code",
   "execution_count": 4,
   "metadata": {
    "scrolled": true
   },
   "outputs": [
    {
     "name": "stdout",
     "output_type": "stream",
     "text": [
      "[('http://www.optimalalgotrading.com/', 1375),\n",
      " ('http://www.ironbcg.com', 397),\n",
      " ('http://www.lemonde.fr/pixels/article/2017/03/12/a-la-rencontre-de-watson-l-intelligence-artificielle-star-d-ibm_5093342_4408996.html',\n",
      "  371),\n",
      " ('https://www.engadget.com/2017/04/07/ibm-watson-tech-support-round-the-clock/',\n",
      "  131),\n",
      " ('http://worldnewslatestsummary.blogspot.com/2017/05/move-over-watson-ibm-unveils-its-most.html',\n",
      "  99),\n",
      " ('https://www.engadget.com/2017/04/25/ibm-watson-cognitive-photo-booth/', 93),\n",
      " ('https://www.fastcompany.com/3068600/ibms-new-cmo-michelle-peluso-talks-watson-the-cloud-and-ethics-of-ai',\n",
      "  92),\n",
      " ('http://binaryloom.com/bmw-invites-watson-onboard-to-make-it-smarter/', 90),\n",
      " ('http://fb.com/FashionWeekNews', 81),\n",
      " ('http://adweek.it/2omXqEs', 79),\n",
      " ('http://www.journaldunet.com/economie/finance/1194465-ibm-watson-et-les-banques/',\n",
      "  78),\n",
      " ('http://www.cnbc.com/2017/05/08/ibms-watson-is-a-joke-says-social-capital-ceo-palihapitiya.html',\n",
      "  77),\n",
      " ('http://tcrn.ch/2n5h0aO', 76),\n",
      " ('http://cnb.cx/2qTPtZ6', 74),\n",
      " ('http://tweetedtimes.com/v/13070?s=tnp', 73),\n",
      " ('http://binaryloom.com/hello-olli-3d-printed-self-driving-ibm-watson-powered-bus-hits-the-road/',\n",
      "  67),\n",
      " ('https://www.siliconrepublic.com/companies/ibm-ix-marketing-transformation-watson',\n",
      "  67),\n",
      " ('http://www.inc.com/travis-wright/ibm-watson-competitor-releases-api-to-help-improve-your-personality.html',\n",
      "  65),\n",
      " ('http://www.journaldunet.com/solutions/cloud-computing/1193986-ibm-s-envole-vers-les-18-milliards-de-chiffre-d-affaires-dans-le-cloud/',\n",
      "  65),\n",
      " ('https://www.theverge.com/2017/5/11/15621930/star-trek-bridge-crew-voice-commands-ibm-watson',\n",
      "  63),\n",
      " ('https://www.forbes.com/sites/robertszczerba/2017/03/07/ibm-watson-takes-on-autism/',\n",
      "  62),\n",
      " ('http://venturebeat.com/2017/03/19/playfab-taps-ibms-watson-ai-for-deeper-insights-into-gamer-behavior/',\n",
      "  61),\n",
      " ('http://adweek.it/2rrEE1k', 61),\n",
      " ('https://www.wsj.com/articles/ibm-tests-watson-technology-to-keep-eye-on-traders-1493055558',\n",
      "  60),\n",
      " ('https://venturebeat.com/2017/05/11/ibm-watson-enables-voice-commands-in-ubisofts-star-trek-bridge-crew-virtual-reality-game/',\n",
      "  59),\n",
      " ('https://venturebeat.com/2017/04/04/ibm-watson-ai-will-help-spot-great-shots-at-the-masters-golf-tournament/',\n",
      "  56),\n",
      " ('http://tcrn.ch/2ncrXrM', 55),\n",
      " ('https://www.inc.com/kevin-j-ryan/masters-golf-artificial-intelligence-ibm-watson.html',\n",
      "  53),\n",
      " ('http://adweek.it/2ozvgKw', 52),\n",
      " ('https://www.engadget.com/2017/05/11/ibm-watson-voice-commands-to-star-trek-bridge-crew/',\n",
      "  52),\n",
      " ('http://venturebeat.com/2017/03/10/10-ways-you-may-have-already-used-ibm-watson/',\n",
      "  51),\n",
      " ('http://www.digitaltrends.com/music/ibm-watson-beat-ai-music-composer-phony-ppl/',\n",
      "  50),\n",
      " ('http://thndr.me/GTsa5w', 49),\n",
      " ('http://tweetedtimes.com/media/forbes/all?s=tnp', 48),\n",
      " ('https://www.fool.com/investing/2017/03/19/ibms-watson-is-tackling-healthcare-with-artificial.aspx',\n",
      "  45),\n",
      " ('https://techcrunch.com/2017/03/19/galvanize-will-teach-students-how-to-use-ibm-watson-apis-with-new-machine-learning-course/',\n",
      "  45),\n",
      " ('http://reut.rs/2pcCySn', 45),\n",
      " ('http://www.ioturls.com', 44),\n",
      " ('http://tweetedtimes.com/v/442?s=tnp', 44),\n",
      " ('http://www.zdnet.com/article/ibm-and-red-hat-aim-to-boost-hybrid-cloud-computing-openstack-usage/',\n",
      "  44),\n",
      " ('https://www.cetrixcloudservices.com/blog/startups-protect-and-maximize-your-roi-with-salesforce',\n",
      "  44),\n",
      " ('http://variety.com/2017/digital/news/tribeca-ibm-watson-artificial-intelligence-storytellers-1202032294/',\n",
      "  42),\n",
      " ('https://www.engadget.com/2017/05/03/147-teams-will-compete-for-5-million-in-the-ibm-watson-xprize/',\n",
      "  42),\n",
      " ('https://gigaom.com/2017/03/13/unleashing-a-i-powered-conversation-with-ibm-watson/',\n",
      "  41),\n",
      " ('https://venturebeat.com/2017/03/27/intel-just-painted-a-target-on-ibm-watsons-back/',\n",
      "  41),\n",
      " ('http://on.forbes.com/60148j6kK', 41),\n",
      " ('https://ctt.ec/VGNS6+', 41),\n",
      " ('http://www.thesundaily.my/news/2041436', 40),\n",
      " ('https://is.gd/Cgwzx4', 40),\n",
      " ('https://venturebeat.com/2017/05/09/ibm-watson-to-help-pebble-beach-create-a-virtual-concierge-for-guests/',\n",
      "  39)]\n"
     ]
    }
   ],
   "source": [
    "pprint(valid_urls_counter.most_common(50))"
   ]
  },
  {
   "cell_type": "code",
   "execution_count": null,
   "metadata": {
    "collapsed": true
   },
   "outputs": [],
   "source": [
    "\"\"\"\n",
    "Test expand shortened URLs\n",
    "\"\"\"\n",
    "if 1 == 1:\n",
    "    "
   ]
  },
  {
   "cell_type": "code",
   "execution_count": null,
   "metadata": {
    "collapsed": true
   },
   "outputs": [],
   "source": [
    "\"\"\"\n",
    "Check number of tweets contains URL\n",
    "\"\"\"\n"
   ]
  }
 ],
 "metadata": {
  "kernelspec": {
   "display_name": "Python 3",
   "language": "python",
   "name": "python3"
  },
  "language_info": {
   "codemirror_mode": {
    "name": "ipython",
    "version": 3
   },
   "file_extension": ".py",
   "mimetype": "text/x-python",
   "name": "python",
   "nbconvert_exporter": "python",
   "pygments_lexer": "ipython3",
   "version": "3.6.2"
  },
  "toc": {
   "colors": {
    "hover_highlight": "#DAA520",
    "running_highlight": "#FF0000",
    "selected_highlight": "#FFD700"
   },
   "moveMenuLeft": true,
   "nav_menu": {
    "height": "12px",
    "width": "252px"
   },
   "navigate_menu": true,
   "number_sections": true,
   "sideBar": true,
   "threshold": "3",
   "toc_cell": false,
   "toc_section_display": "block",
   "toc_window_display": false,
   "widenNotebook": true
  }
 },
 "nbformat": 4,
 "nbformat_minor": 2
}
